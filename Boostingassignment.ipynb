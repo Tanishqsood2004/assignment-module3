{
  "nbformat": 4,
  "nbformat_minor": 0,
  "metadata": {
    "colab": {
      "provenance": []
    },
    "kernelspec": {
      "name": "python3",
      "display_name": "Python 3"
    },
    "language_info": {
      "name": "python"
    }
  },
  "cells": [
    {
      "cell_type": "markdown",
      "source": [
        "# Assignment"
      ],
      "metadata": {
        "id": "2aM702wtcdnF"
      }
    },
    {
      "cell_type": "markdown",
      "source": [
        "#1. What is Boosting in Machine Learning?\n",
        "\n",
        "Boosting is an ensemble learning technique that combines multiple weak learners (typically decision trees) to form a strong predictive model. Unlike bagging, where models are trained independently, boosting trains models sequentially, with each new model focusing more on the errors made by the previous ones.\n",
        "\n",
        "#2. How does Boosting differ from Bagging?\n",
        "\n",
        "Boosting: Trains models sequentially, with each model improving upon the mistakes of the previous one. Aims to reduce bias.\n",
        "Bagging: Trains models independently and aggregates their results. Aims to reduce variance.\n",
        "\n",
        "\n",
        "#3. What is the key idea behind AdaBoost?\n",
        "\n",
        "The key idea behind AdaBoost (Adaptive Boosting) is to iteratively train weak learners on the training data, focusing more on samples that were incorrectly classified in previous iterations. The final model is a weighted sum of all weak learners.\n",
        "\n",
        "#4. Explain the working of AdaBoost with an example.\n",
        "\n",
        "Initialize Weights: All samples are given equal weights.\n",
        "Train Weak Learner: A weak learner is trained on the data.\n",
        "Evaluate Error: The weighted error rate is calculated.\n",
        "Update Weights: Misclassified samples are given higher weights to focus the next weak learner on harder cases.\n",
        "Combine Learners: Combine all weak learners with weighted contributions to form a strong model.\n",
        "Example: If a decision stump misclassifies certain samples, their weights are increased, making them more important for the next stump to focus on.\n",
        "\n",
        "\n",
        "#5. What is Gradient Boosting, and how is it different from AdaBoost?\n",
        "\n",
        "Gradient Boosting: An ensemble technique where weak learners are added sequentially, with each learner trying to minimize the residual errors (loss function) of the previous model by using gradient descent.\n",
        "\n",
        "Difference from AdaBoost:\n",
        "\n",
        "AdaBoost: Focuses on modifying sample weights.\n",
        "Gradient Boosting: Focuses on minimizing errors directly through gradient descent."
      ],
      "metadata": {
        "id": "kCoswKpjcdQd"
      }
    },
    {
      "cell_type": "markdown",
      "source": [
        "#6. What is the loss function in Gradient Boosting?\n",
        "\n",
        "The loss function measures the difference between the predicted values and actual values. Common loss functions include:\n",
        "\n",
        "Mean Squared Error (MSE): For regression.\n",
        "Logarithmic Loss (LogLoss): For classification.\n",
        "\n",
        "#7. How does XGBoost improve over traditional Gradient Boosting?\n",
        "\n",
        "Regularization: L1 & L2 regularization to prevent overfitting.\n",
        "Parallel Processing: Utilizes hardware resources effectively.\n",
        "Tree Pruning: Uses max depth instead of pre-pruning.\n",
        "Handling Missing Data: Inbuilt handling of missing data.\n",
        "Sparsity Awareness: Efficient handling of sparse data."
      ],
      "metadata": {
        "id": "T1xmtxxUctv-"
      }
    },
    {
      "cell_type": "markdown",
      "source": [
        "# 8. What is the difference between XGBoost and CatBoost?"
      ],
      "metadata": {
        "id": "WpnQ8Brcc0Oe"
      }
    },
    {
      "cell_type": "markdown",
      "source": [
        "![image.png](data:image/png;base64,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)"
      ],
      "metadata": {
        "id": "dncYQYUuc5zk"
      }
    },
    {
      "cell_type": "markdown",
      "source": [
        "#9. What are some real-world applications of Boosting techniques?\n",
        "\n",
        "Fraud Detection: Identifying fraudulent transactions.\n",
        "Customer Churn Prediction: Predicting user retention or loss.\n",
        "Ad Click Prediction: Improving advertising targeting.\n",
        "Image Classification: Enhancing classification accuracy.\n",
        "Credit Scoring: Evaluating loan risks.\n",
        "\n",
        "#10. How does regularization help in XGBoost?\n",
        "\n",
        "\n",
        "Regularization techniques (L1 and L2) help:\n",
        "\n",
        "Prevent overfitting.\n",
        "Improve generalization by penalizing complex models.\n",
        "Make the model robust to noise.\n",
        "\n",
        "#11. What are some hyperparameters to tune in Gradient Boosting models?\n",
        "\n",
        "Learning Rate: Controls the contribution of each tree.\n",
        "Number of Estimators: The number of weak learners to combine.\n",
        "Max Depth: Limits the depth of individual trees.\n",
        "Subsample: Fraction of samples used for training each tree.\n",
        "Colsample_bytree: Fraction of features considered per tree.\n",
        "Regularization Parameters: L1 (alpha) and L2 (lambda).\n",
        "\n",
        "\n",
        "#12. What is the concept of Feature Importance in Boosting?\n",
        "\n",
        "Feature importance indicates how useful or valuable each feature is in constructing the model. In decision tree-based models (like XGBoost, CatBoost), it's often calculated by:\n",
        "\n",
        "Gain: Improvement brought by a feature to the branches.\n",
        "Cover: The number of samples affected by splits.\n",
        "Frequency: How often a feature is used in splitting.\n",
        "\n",
        "#13. Why is CatBoost efficient for categorical data?\n",
        "\n",
        "Ordinal Encoding & One-Hot Encoding: CatBoost uses techniques to handle categorical features without the need for explicit preprocessing.\n",
        "Ordered Boosting: Ensures better generalization by using past data for training to avoid label leakage.\n",
        "Fast Processing: Efficient handling of categorical data improves both training speed and accuracy."
      ],
      "metadata": {
        "id": "HW6GQqq_c9yZ"
      }
    },
    {
      "cell_type": "markdown",
      "source": [
        "practical"
      ],
      "metadata": {
        "id": "qYGELBW8dt7Z"
      }
    },
    {
      "cell_type": "markdown",
      "source": [
        "# Q 14 14. Train an AdaBoost Classifier on a sample dataset and print model accuracy."
      ],
      "metadata": {
        "id": "6SQKwEITdvkL"
      }
    },
    {
      "cell_type": "code",
      "execution_count": 1,
      "metadata": {
        "colab": {
          "base_uri": "https://localhost:8080/"
        },
        "id": "k64iAyNWcFXc",
        "outputId": "cab5ea68-02ea-4aed-93af-3f1a32a02fca"
      },
      "outputs": [
        {
          "output_type": "stream",
          "name": "stdout",
          "text": [
            "AdaBoost Classifier Accuracy: 0.9333\n"
          ]
        }
      ],
      "source": [
        "from sklearn.ensemble import AdaBoostClassifier\n",
        "from sklearn.datasets import load_iris\n",
        "from sklearn.model_selection import train_test_split\n",
        "from sklearn.metrics import accuracy_score\n",
        "\n",
        "# Load dataset\n",
        "X, y = load_iris(return_X_y=True)\n",
        "X_train, X_test, y_train, y_test = train_test_split(X, y, test_size=0.2, random_state=42)\n",
        "\n",
        "# Train AdaBoost Classifier\n",
        "model = AdaBoostClassifier(n_estimators=100, random_state=42)\n",
        "model.fit(X_train, y_train)\n",
        "\n",
        "# Predict and evaluate\n",
        "y_pred = model.predict(X_test)\n",
        "accuracy = accuracy_score(y_test, y_pred)\n",
        "print(f\"AdaBoost Classifier Accuracy: {accuracy:.4f}\")\n"
      ]
    },
    {
      "cell_type": "markdown",
      "source": [
        "# 15. Train an AdaBoost Regressor and evaluate performance using Mean Absolute Error (MAE).\n"
      ],
      "metadata": {
        "id": "NYXfslZjd8HP"
      }
    },
    {
      "cell_type": "code",
      "source": [
        "from sklearn.ensemble import AdaBoostRegressor\n",
        "from sklearn.datasets import load_boston\n",
        "from sklearn.model_selection import train_test_split\n",
        "from sklearn.metrics import mean_absolute_error\n",
        "import warnings\n",
        "warnings.filterwarnings(\"ignore\", category=FutureWarning)\n",
        "\n",
        "# Load dataset\n",
        "X, y = load_boston(return_X_y=True)\n",
        "X_train, X_test, y_train, y_test = train_test_split(X, y, test_size=0.2, random_state=42)\n",
        "\n",
        "# Train AdaBoost Regressor\n",
        "model = AdaBoostRegressor(n_estimators=100, random_state=42)\n",
        "model.fit(X_train, y_train)\n",
        "\n",
        "# Predict and evaluate\n",
        "y_pred = model.predict(X_test)\n",
        "mae = mean_absolute_error(y_test, y_pred)\n",
        "print(f\"AdaBoost Regressor MAE: {mae:.4f}\")\n"
      ],
      "metadata": {
        "colab": {
          "base_uri": "https://localhost:8080/",
          "height": 1000
        },
        "id": "136GdXfDd3QL",
        "outputId": "ad9e40cc-6a37-4a25-de01-2e82f8becd1e"
      },
      "execution_count": 2,
      "outputs": [
        {
          "output_type": "error",
          "ename": "ImportError",
          "evalue": "\n`load_boston` has been removed from scikit-learn since version 1.2.\n\nThe Boston housing prices dataset has an ethical problem: as\ninvestigated in [1], the authors of this dataset engineered a\nnon-invertible variable \"B\" assuming that racial self-segregation had a\npositive impact on house prices [2]. Furthermore the goal of the\nresearch that led to the creation of this dataset was to study the\nimpact of air quality but it did not give adequate demonstration of the\nvalidity of this assumption.\n\nThe scikit-learn maintainers therefore strongly discourage the use of\nthis dataset unless the purpose of the code is to study and educate\nabout ethical issues in data science and machine learning.\n\nIn this special case, you can fetch the dataset from the original\nsource::\n\n    import pandas as pd\n    import numpy as np\n\n    data_url = \"http://lib.stat.cmu.edu/datasets/boston\"\n    raw_df = pd.read_csv(data_url, sep=\"\\s+\", skiprows=22, header=None)\n    data = np.hstack([raw_df.values[::2, :], raw_df.values[1::2, :2]])\n    target = raw_df.values[1::2, 2]\n\nAlternative datasets include the California housing dataset and the\nAmes housing dataset. You can load the datasets as follows::\n\n    from sklearn.datasets import fetch_california_housing\n    housing = fetch_california_housing()\n\nfor the California housing dataset and::\n\n    from sklearn.datasets import fetch_openml\n    housing = fetch_openml(name=\"house_prices\", as_frame=True)\n\nfor the Ames housing dataset.\n\n[1] M Carlisle.\n\"Racist data destruction?\"\n<https://medium.com/@docintangible/racist-data-destruction-113e3eff54a8>\n\n[2] Harrison Jr, David, and Daniel L. Rubinfeld.\n\"Hedonic housing prices and the demand for clean air.\"\nJournal of environmental economics and management 5.1 (1978): 81-102.\n<https://www.researchgate.net/publication/4974606_Hedonic_housing_prices_and_the_demand_for_clean_air>\n",
          "traceback": [
            "\u001b[0;31m---------------------------------------------------------------------------\u001b[0m",
            "\u001b[0;31mImportError\u001b[0m                               Traceback (most recent call last)",
            "\u001b[0;32m<ipython-input-2-608df9fbe720>\u001b[0m in \u001b[0;36m<cell line: 0>\u001b[0;34m()\u001b[0m\n\u001b[1;32m      1\u001b[0m \u001b[0;32mfrom\u001b[0m \u001b[0msklearn\u001b[0m\u001b[0;34m.\u001b[0m\u001b[0mensemble\u001b[0m \u001b[0;32mimport\u001b[0m \u001b[0mAdaBoostRegressor\u001b[0m\u001b[0;34m\u001b[0m\u001b[0;34m\u001b[0m\u001b[0m\n\u001b[0;32m----> 2\u001b[0;31m \u001b[0;32mfrom\u001b[0m \u001b[0msklearn\u001b[0m\u001b[0;34m.\u001b[0m\u001b[0mdatasets\u001b[0m \u001b[0;32mimport\u001b[0m \u001b[0mload_boston\u001b[0m\u001b[0;34m\u001b[0m\u001b[0;34m\u001b[0m\u001b[0m\n\u001b[0m\u001b[1;32m      3\u001b[0m \u001b[0;32mfrom\u001b[0m \u001b[0msklearn\u001b[0m\u001b[0;34m.\u001b[0m\u001b[0mmodel_selection\u001b[0m \u001b[0;32mimport\u001b[0m \u001b[0mtrain_test_split\u001b[0m\u001b[0;34m\u001b[0m\u001b[0;34m\u001b[0m\u001b[0m\n\u001b[1;32m      4\u001b[0m \u001b[0;32mfrom\u001b[0m \u001b[0msklearn\u001b[0m\u001b[0;34m.\u001b[0m\u001b[0mmetrics\u001b[0m \u001b[0;32mimport\u001b[0m \u001b[0mmean_absolute_error\u001b[0m\u001b[0;34m\u001b[0m\u001b[0;34m\u001b[0m\u001b[0m\n\u001b[1;32m      5\u001b[0m \u001b[0;32mimport\u001b[0m \u001b[0mwarnings\u001b[0m\u001b[0;34m\u001b[0m\u001b[0;34m\u001b[0m\u001b[0m\n",
            "\u001b[0;32m/usr/local/lib/python3.11/dist-packages/sklearn/datasets/__init__.py\u001b[0m in \u001b[0;36m__getattr__\u001b[0;34m(name)\u001b[0m\n\u001b[1;32m    159\u001b[0m             \"\"\"\n\u001b[1;32m    160\u001b[0m         )\n\u001b[0;32m--> 161\u001b[0;31m         \u001b[0;32mraise\u001b[0m \u001b[0mImportError\u001b[0m\u001b[0;34m(\u001b[0m\u001b[0mmsg\u001b[0m\u001b[0;34m)\u001b[0m\u001b[0;34m\u001b[0m\u001b[0;34m\u001b[0m\u001b[0m\n\u001b[0m\u001b[1;32m    162\u001b[0m     \u001b[0;32mtry\u001b[0m\u001b[0;34m:\u001b[0m\u001b[0;34m\u001b[0m\u001b[0;34m\u001b[0m\u001b[0m\n\u001b[1;32m    163\u001b[0m         \u001b[0;32mreturn\u001b[0m \u001b[0mglobals\u001b[0m\u001b[0;34m(\u001b[0m\u001b[0;34m)\u001b[0m\u001b[0;34m[\u001b[0m\u001b[0mname\u001b[0m\u001b[0;34m]\u001b[0m\u001b[0;34m\u001b[0m\u001b[0;34m\u001b[0m\u001b[0m\n",
            "\u001b[0;31mImportError\u001b[0m: \n`load_boston` has been removed from scikit-learn since version 1.2.\n\nThe Boston housing prices dataset has an ethical problem: as\ninvestigated in [1], the authors of this dataset engineered a\nnon-invertible variable \"B\" assuming that racial self-segregation had a\npositive impact on house prices [2]. Furthermore the goal of the\nresearch that led to the creation of this dataset was to study the\nimpact of air quality but it did not give adequate demonstration of the\nvalidity of this assumption.\n\nThe scikit-learn maintainers therefore strongly discourage the use of\nthis dataset unless the purpose of the code is to study and educate\nabout ethical issues in data science and machine learning.\n\nIn this special case, you can fetch the dataset from the original\nsource::\n\n    import pandas as pd\n    import numpy as np\n\n    data_url = \"http://lib.stat.cmu.edu/datasets/boston\"\n    raw_df = pd.read_csv(data_url, sep=\"\\s+\", skiprows=22, header=None)\n    data = np.hstack([raw_df.values[::2, :], raw_df.values[1::2, :2]])\n    target = raw_df.values[1::2, 2]\n\nAlternative datasets include the California housing dataset and the\nAmes housing dataset. You can load the datasets as follows::\n\n    from sklearn.datasets import fetch_california_housing\n    housing = fetch_california_housing()\n\nfor the California housing dataset and::\n\n    from sklearn.datasets import fetch_openml\n    housing = fetch_openml(name=\"house_prices\", as_frame=True)\n\nfor the Ames housing dataset.\n\n[1] M Carlisle.\n\"Racist data destruction?\"\n<https://medium.com/@docintangible/racist-data-destruction-113e3eff54a8>\n\n[2] Harrison Jr, David, and Daniel L. Rubinfeld.\n\"Hedonic housing prices and the demand for clean air.\"\nJournal of environmental economics and management 5.1 (1978): 81-102.\n<https://www.researchgate.net/publication/4974606_Hedonic_housing_prices_and_the_demand_for_clean_air>\n",
            "",
            "\u001b[0;31m---------------------------------------------------------------------------\u001b[0;32m\nNOTE: If your import is failing due to a missing package, you can\nmanually install dependencies using either !pip or !apt.\n\nTo view examples of installing some common dependencies, click the\n\"Open Examples\" button below.\n\u001b[0;31m---------------------------------------------------------------------------\u001b[0m\n"
          ],
          "errorDetails": {
            "actions": [
              {
                "action": "open_url",
                "actionText": "Open Examples",
                "url": "/notebooks/snippets/importing_libraries.ipynb"
              }
            ]
          }
        }
      ]
    },
    {
      "cell_type": "markdown",
      "source": [
        "16. Train a Gradient Boosting Classifier on the Breast Cancer dataset and print feature importance."
      ],
      "metadata": {
        "id": "ckFaKWZceF9M"
      }
    },
    {
      "cell_type": "code",
      "source": [
        "from sklearn.ensemble import GradientBoostingClassifier\n",
        "from sklearn.datasets import load_breast_cancer\n",
        "import matplotlib.pyplot as plt\n",
        "\n",
        "# Load dataset\n",
        "X, y = load_breast_cancer(return_X_y=True)\n",
        "\n",
        "# Train Gradient Boosting Classifier\n",
        "model = GradientBoostingClassifier(n_estimators=100, random_state=42)\n",
        "model.fit(X, y)\n",
        "\n",
        "# Plot feature importance\n",
        "importances = model.feature_importances_\n",
        "plt.figure(figsize=(10, 6))\n",
        "plt.bar(range(X.shape[1]), importances)\n",
        "plt.title('Feature Importances')\n",
        "plt.xlabel('Feature Index')\n",
        "plt.ylabel('Importance Score')\n",
        "plt.show()\n"
      ],
      "metadata": {
        "colab": {
          "base_uri": "https://localhost:8080/",
          "height": 564
        },
        "id": "aziAflwEeBdD",
        "outputId": "96d36f97-26bf-4582-f185-ff4cfbf77e5a"
      },
      "execution_count": 3,
      "outputs": [
        {
          "output_type": "display_data",
          "data": {
            "text/plain": [
              "<Figure size 1000x600 with 1 Axes>"
            ],
            "image/png": "[encoded data removed]"
          },
          "metadata": {}
        }
      ]
    },
    {
      "cell_type": "markdown",
      "source": [
        "17. Train a Gradient Boosting Regressor and evaluate using R-Squared Score."
      ],
      "metadata": {
        "id": "deEOjqgHeK13"
      }
    },
    {
      "cell_type": "code",
      "source": [
        "from sklearn.ensemble import GradientBoostingRegressor\n",
        "from sklearn.datasets import load_diabetes\n",
        "from sklearn.metrics import r2_score\n",
        "\n",
        "# Load dataset\n",
        "X, y = load_diabetes(return_X_y=True)\n",
        "X_train, X_test, y_train, y_test = train_test_split(X, y, test_size=0.2, random_state=42)\n",
        "\n",
        "# Train Gradient Boosting Regressor\n",
        "model = GradientBoostingRegressor(n_estimators=100, random_state=42)\n",
        "model.fit(X_train, y_train)\n",
        "\n",
        "# Predict and evaluate\n",
        "y_pred = model.predict(X_test)\n",
        "r2 = r2_score(y_test, y_pred)\n",
        "print(f\"Gradient Boosting Regressor R² Score: {r2:.4f}\")\n"
      ],
      "metadata": {
        "colab": {
          "base_uri": "https://localhost:8080/"
        },
        "id": "Y-c9s4BIeHjb",
        "outputId": "55fcb433-5104-4021-dcc7-1e40f91324c8"
      },
      "execution_count": 4,
      "outputs": [
        {
          "output_type": "stream",
          "name": "stdout",
          "text": [
            "Gradient Boosting Regressor R² Score: 0.4529\n"
          ]
        }
      ]
    },
    {
      "cell_type": "markdown",
      "source": [
        "18. Train an XGBoost Classifier on a dataset and compare accuracy with Gradient Boosting."
      ],
      "metadata": {
        "id": "bCwdglbdePlw"
      }
    },
    {
      "cell_type": "code",
      "source": [
        "from xgboost import XGBClassifier\n",
        "from sklearn.ensemble import GradientBoostingClassifier\n",
        "\n",
        "# Load dataset\n",
        "X, y = load_breast_cancer(return_X_y=True)\n",
        "X_train, X_test, y_train, y_test = train_test_split(X, y, test_size=0.2, random_state=42)\n",
        "\n",
        "# XGBoost Classifier\n",
        "xgb_model = XGBClassifier(n_estimators=100, random_state=42)\n",
        "xgb_model.fit(X_train, y_train)\n",
        "xgb_accuracy = accuracy_score(y_test, xgb_model.predict(X_test))\n",
        "\n",
        "# Gradient Boosting Classifier\n",
        "gb_model = GradientBoostingClassifier(n_estimators=100, random_state=42)\n",
        "gb_model.fit(X_train, y_train)\n",
        "gb_accuracy = accuracy_score(y_test, gb_model.predict(X_test))\n",
        "\n",
        "print(f\"XGBoost Classifier Accuracy: {xgb_accuracy:.4f}\")\n",
        "print(f\"Gradient Boosting Classifier Accuracy: {gb_accuracy:.4f}\")\n"
      ],
      "metadata": {
        "colab": {
          "base_uri": "https://localhost:8080/"
        },
        "id": "4nJxUX93eMyC",
        "outputId": "60a0af59-901b-42d8-af06-69fa7ae4da9b"
      },
      "execution_count": 5,
      "outputs": [
        {
          "output_type": "stream",
          "name": "stdout",
          "text": [
            "XGBoost Classifier Accuracy: 0.9561\n",
            "Gradient Boosting Classifier Accuracy: 0.9561\n"
          ]
        }
      ]
    },
    {
      "cell_type": "markdown",
      "source": [
        "19. Train a CatBoost Classifier and evaluate using F1-Score."
      ],
      "metadata": {
        "id": "sGqK5iXqeUU8"
      }
    },
    {
      "cell_type": "code",
      "source": [
        "from catboost import CatBoostClassifier\n",
        "from sklearn.metrics import f1_score\n",
        "\n",
        "# Load dataset\n",
        "X, y = load_breast_cancer(return_X_y=True)\n",
        "X_train, X_test, y_train, y_test = train_test_split(X, y, test_size=0.2, random_state=42)\n",
        "\n",
        "# Train CatBoost Classifier\n",
        "model = CatBoostClassifier(iterations=100, verbose=0)\n",
        "model.fit(X_train, y_train)\n",
        "\n",
        "# Predict and evaluate\n",
        "y_pred = model.predict(X_test)\n",
        "f1 = f1_score(y_test, y_pred)\n",
        "print(f\"CatBoost Classifier F1-Score: {f1:.4f}\")\n"
      ],
      "metadata": {
        "colab": {
          "base_uri": "https://localhost:8080/",
          "height": 383
        },
        "id": "82IOG2xoeRlZ",
        "outputId": "c6fe09c4-b338-4743-c9ab-ca79c6721e99"
      },
      "execution_count": 6,
      "outputs": [
        {
          "output_type": "error",
          "ename": "ModuleNotFoundError",
          "evalue": "No module named 'catboost'",
          "traceback": [
            "\u001b[0;31m---------------------------------------------------------------------------\u001b[0m",
            "\u001b[0;31mModuleNotFoundError\u001b[0m                       Traceback (most recent call last)",
            "\u001b[0;32m<ipython-input-6-0b13f6f65648>\u001b[0m in \u001b[0;36m<cell line: 0>\u001b[0;34m()\u001b[0m\n\u001b[0;32m----> 1\u001b[0;31m \u001b[0;32mfrom\u001b[0m \u001b[0mcatboost\u001b[0m \u001b[0;32mimport\u001b[0m \u001b[0mCatBoostClassifier\u001b[0m\u001b[0;34m\u001b[0m\u001b[0;34m\u001b[0m\u001b[0m\n\u001b[0m\u001b[1;32m      2\u001b[0m \u001b[0;32mfrom\u001b[0m \u001b[0msklearn\u001b[0m\u001b[0;34m.\u001b[0m\u001b[0mmetrics\u001b[0m \u001b[0;32mimport\u001b[0m \u001b[0mf1_score\u001b[0m\u001b[0;34m\u001b[0m\u001b[0;34m\u001b[0m\u001b[0m\n\u001b[1;32m      3\u001b[0m \u001b[0;34m\u001b[0m\u001b[0m\n\u001b[1;32m      4\u001b[0m \u001b[0;31m# Load dataset\u001b[0m\u001b[0;34m\u001b[0m\u001b[0;34m\u001b[0m\u001b[0m\n\u001b[1;32m      5\u001b[0m \u001b[0mX\u001b[0m\u001b[0;34m,\u001b[0m \u001b[0my\u001b[0m \u001b[0;34m=\u001b[0m \u001b[0mload_breast_cancer\u001b[0m\u001b[0;34m(\u001b[0m\u001b[0mreturn_X_y\u001b[0m\u001b[0;34m=\u001b[0m\u001b[0;32mTrue\u001b[0m\u001b[0;34m)\u001b[0m\u001b[0;34m\u001b[0m\u001b[0;34m\u001b[0m\u001b[0m\n",
            "\u001b[0;31mModuleNotFoundError\u001b[0m: No module named 'catboost'",
            "",
            "\u001b[0;31m---------------------------------------------------------------------------\u001b[0;32m\nNOTE: If your import is failing due to a missing package, you can\nmanually install dependencies using either !pip or !apt.\n\nTo view examples of installing some common dependencies, click the\n\"Open Examples\" button below.\n\u001b[0;31m---------------------------------------------------------------------------\u001b[0m\n"
          ],
          "errorDetails": {
            "actions": [
              {
                "action": "open_url",
                "actionText": "Open Examples",
                "url": "/notebooks/snippets/importing_libraries.ipynb"
              }
            ]
          }
        }
      ]
    },
    {
      "cell_type": "markdown",
      "source": [
        "20. Train an XGBoost Regressor and evaluate using Mean Squared Error (MSE)."
      ],
      "metadata": {
        "id": "_WFT59TBeYox"
      }
    },
    {
      "cell_type": "code",
      "source": [
        "from xgboost import XGBRegressor\n",
        "from sklearn.metrics import mean_squared_error\n",
        "\n",
        "# Load dataset\n",
        "X, y = load_diabetes(return_X_y=True)\n",
        "X_train, X_test, y_train, y_test = train_test_split(X, y, test_size=0.2, random_state=42)\n",
        "\n",
        "# Train XGBoost Regressor\n",
        "model = XGBRegressor(n_estimators=100, random_state=42)\n",
        "model.fit(X_train, y_train)\n",
        "\n",
        "# Predict and evaluate\n",
        "y_pred = model.predict(X_test)\n",
        "mse = mean_squared_error(y_test, y_pred)\n",
        "print(f\"XGBoost Regressor MSE: {mse:.4f}\")\n"
      ],
      "metadata": {
        "colab": {
          "base_uri": "https://localhost:8080/"
        },
        "id": "xKx-6MCfeWYq",
        "outputId": "f35ab5a5-14ce-4d3b-cb71-c2846c4c2119"
      },
      "execution_count": 7,
      "outputs": [
        {
          "output_type": "stream",
          "name": "stdout",
          "text": [
            "XGBoost Regressor MSE: 3351.0016\n"
          ]
        }
      ]
    },
    {
      "cell_type": "markdown",
      "source": [
        "21. Train an AdaBoost Classifier and visualize feature importance."
      ],
      "metadata": {
        "id": "B_3cuqNSeo2G"
      }
    },
    {
      "cell_type": "code",
      "source": [
        "import numpy as np\n",
        "import matplotlib.pyplot as plt\n",
        "from sklearn.ensemble import AdaBoostClassifier\n",
        "from sklearn.datasets import load_breast_cancer\n",
        "from sklearn.model_selection import train_test_split\n",
        "\n",
        "# Load dataset\n",
        "X, y = load_breast_cancer(return_X_y=True)\n",
        "X_train, X_test, y_train, y_test = train_test_split(X, y, test_size=0.2, random_state=42)\n",
        "\n",
        "# Train AdaBoost Classifier\n",
        "model = AdaBoostClassifier(n_estimators=100, random_state=42)\n",
        "model.fit(X_train, y_train)\n",
        "\n",
        "# Plot feature importances\n",
        "plt.figure(figsize=(10, 6))\n",
        "plt.bar(range(X.shape[1]), model.feature_importances_)\n",
        "plt.title('AdaBoost Feature Importance')\n",
        "plt.xlabel('Feature Index')\n",
        "plt.ylabel('Importance Score')\n",
        "plt.show()\n"
      ],
      "metadata": {
        "colab": {
          "base_uri": "https://localhost:8080/",
          "height": 564
        },
        "id": "M7YgPb_VeaD5",
        "outputId": "c506ba1e-b9bd-4b0c-97e3-6682b994d9de"
      },
      "execution_count": 8,
      "outputs": [
        {
          "output_type": "display_data",
          "data": {
            "text/plain": [
              "<Figure size 1000x600 with 1 Axes>"
            ],
            "image/png": "[encoded data removed]"
          },
          "metadata": {}
        }
      ]
    },
    {
      "cell_type": "markdown",
      "source": [
        "22. Train a Gradient Boosting Regressor and plot learning curves.\n"
      ],
      "metadata": {
        "id": "eOLH-W9aes3l"
      }
    },
    {
      "cell_type": "code",
      "source": [
        "from sklearn.ensemble import GradientBoostingRegressor\n",
        "from sklearn.datasets import load_diabetes\n",
        "from sklearn.model_selection import train_test_split\n",
        "from sklearn.metrics import mean_squared_error\n",
        "import matplotlib.pyplot as plt\n",
        "\n",
        "# Load dataset\n",
        "X, y = load_diabetes(return_X_y=True)\n",
        "X_train, X_test, y_train, y_test = train_test_split(X, y, test_size=0.2, random_state=42)\n",
        "\n",
        "# Train model and plot learning curve\n",
        "model = GradientBoostingRegressor(n_estimators=200, random_state=42)\n",
        "train_errors, test_errors = [], []\n",
        "\n",
        "for i, y_pred in enumerate(model.staged_predict(X_test)):\n",
        "    test_errors.append(mean_squared_error(y_test, y_pred))\n",
        "\n",
        "plt.figure(figsize=(10, 6))\n",
        "plt.plot(test_errors, label=\"Test Error\")\n",
        "plt.title(\"Gradient Boosting Learning Curve\")\n",
        "plt.xlabel(\"Number of Estimators\")\n",
        "plt.ylabel(\"MSE\")\n",
        "plt.legend()\n",
        "plt.show()\n"
      ],
      "metadata": {
        "colab": {
          "base_uri": "https://localhost:8080/",
          "height": 356
        },
        "id": "yLuJ0NpHeqsM",
        "outputId": "e7faefd8-4024-4520-cd18-b4ec0d2e3e20"
      },
      "execution_count": 9,
      "outputs": [
        {
          "output_type": "error",
          "ename": "NotFittedError",
          "evalue": "This GradientBoostingRegressor instance is not fitted yet. Call 'fit' with appropriate arguments before using this estimator.",
          "traceback": [
            "\u001b[0;31m---------------------------------------------------------------------------\u001b[0m",
            "\u001b[0;31mNotFittedError\u001b[0m                            Traceback (most recent call last)",
            "\u001b[0;32m<ipython-input-9-a4d115f5b839>\u001b[0m in \u001b[0;36m<cell line: 0>\u001b[0;34m()\u001b[0m\n\u001b[1;32m     13\u001b[0m \u001b[0mtrain_errors\u001b[0m\u001b[0;34m,\u001b[0m \u001b[0mtest_errors\u001b[0m \u001b[0;34m=\u001b[0m \u001b[0;34m[\u001b[0m\u001b[0;34m]\u001b[0m\u001b[0;34m,\u001b[0m \u001b[0;34m[\u001b[0m\u001b[0;34m]\u001b[0m\u001b[0;34m\u001b[0m\u001b[0;34m\u001b[0m\u001b[0m\n\u001b[1;32m     14\u001b[0m \u001b[0;34m\u001b[0m\u001b[0m\n\u001b[0;32m---> 15\u001b[0;31m \u001b[0;32mfor\u001b[0m \u001b[0mi\u001b[0m\u001b[0;34m,\u001b[0m \u001b[0my_pred\u001b[0m \u001b[0;32min\u001b[0m \u001b[0menumerate\u001b[0m\u001b[0;34m(\u001b[0m\u001b[0mmodel\u001b[0m\u001b[0;34m.\u001b[0m\u001b[0mstaged_predict\u001b[0m\u001b[0;34m(\u001b[0m\u001b[0mX_test\u001b[0m\u001b[0;34m)\u001b[0m\u001b[0;34m)\u001b[0m\u001b[0;34m:\u001b[0m\u001b[0;34m\u001b[0m\u001b[0;34m\u001b[0m\u001b[0m\n\u001b[0m\u001b[1;32m     16\u001b[0m     \u001b[0mtest_errors\u001b[0m\u001b[0;34m.\u001b[0m\u001b[0mappend\u001b[0m\u001b[0;34m(\u001b[0m\u001b[0mmean_squared_error\u001b[0m\u001b[0;34m(\u001b[0m\u001b[0my_test\u001b[0m\u001b[0;34m,\u001b[0m \u001b[0my_pred\u001b[0m\u001b[0;34m)\u001b[0m\u001b[0;34m)\u001b[0m\u001b[0;34m\u001b[0m\u001b[0;34m\u001b[0m\u001b[0m\n\u001b[1;32m     17\u001b[0m \u001b[0;34m\u001b[0m\u001b[0m\n",
            "\u001b[0;32m/usr/local/lib/python3.11/dist-packages/sklearn/ensemble/_gb.py\u001b[0m in \u001b[0;36mstaged_predict\u001b[0;34m(self, X)\u001b[0m\n\u001b[1;32m   2166\u001b[0m             \u001b[0mThe\u001b[0m \u001b[0mpredicted\u001b[0m \u001b[0mvalue\u001b[0m \u001b[0mof\u001b[0m \u001b[0mthe\u001b[0m \u001b[0minput\u001b[0m \u001b[0msamples\u001b[0m\u001b[0;34m.\u001b[0m\u001b[0;34m\u001b[0m\u001b[0;34m\u001b[0m\u001b[0m\n\u001b[1;32m   2167\u001b[0m         \"\"\"\n\u001b[0;32m-> 2168\u001b[0;31m         \u001b[0;32mfor\u001b[0m \u001b[0mraw_predictions\u001b[0m \u001b[0;32min\u001b[0m \u001b[0mself\u001b[0m\u001b[0;34m.\u001b[0m\u001b[0m_staged_raw_predict\u001b[0m\u001b[0;34m(\u001b[0m\u001b[0mX\u001b[0m\u001b[0;34m)\u001b[0m\u001b[0;34m:\u001b[0m\u001b[0;34m\u001b[0m\u001b[0;34m\u001b[0m\u001b[0m\n\u001b[0m\u001b[1;32m   2169\u001b[0m             \u001b[0;32myield\u001b[0m \u001b[0mraw_predictions\u001b[0m\u001b[0;34m.\u001b[0m\u001b[0mravel\u001b[0m\u001b[0;34m(\u001b[0m\u001b[0;34m)\u001b[0m\u001b[0;34m\u001b[0m\u001b[0;34m\u001b[0m\u001b[0m\n\u001b[1;32m   2170\u001b[0m \u001b[0;34m\u001b[0m\u001b[0m\n",
            "\u001b[0;32m/usr/local/lib/python3.11/dist-packages/sklearn/ensemble/_gb.py\u001b[0m in \u001b[0;36m_staged_raw_predict\u001b[0;34m(self, X, check_input)\u001b[0m\n\u001b[1;32m    995\u001b[0m                 \u001b[0mself\u001b[0m\u001b[0;34m,\u001b[0m \u001b[0mX\u001b[0m\u001b[0;34m,\u001b[0m \u001b[0mdtype\u001b[0m\u001b[0;34m=\u001b[0m\u001b[0mDTYPE\u001b[0m\u001b[0;34m,\u001b[0m \u001b[0morder\u001b[0m\u001b[0;34m=\u001b[0m\u001b[0;34m\"C\"\u001b[0m\u001b[0;34m,\u001b[0m \u001b[0maccept_sparse\u001b[0m\u001b[0;34m=\u001b[0m\u001b[0;34m\"csr\"\u001b[0m\u001b[0;34m,\u001b[0m \u001b[0mreset\u001b[0m\u001b[0;34m=\u001b[0m\u001b[0;32mFalse\u001b[0m\u001b[0;34m\u001b[0m\u001b[0;34m\u001b[0m\u001b[0m\n\u001b[1;32m    996\u001b[0m             )\n\u001b[0;32m--> 997\u001b[0;31m         \u001b[0mraw_predictions\u001b[0m \u001b[0;34m=\u001b[0m \u001b[0mself\u001b[0m\u001b[0;34m.\u001b[0m\u001b[0m_raw_predict_init\u001b[0m\u001b[0;34m(\u001b[0m\u001b[0mX\u001b[0m\u001b[0;34m)\u001b[0m\u001b[0;34m\u001b[0m\u001b[0;34m\u001b[0m\u001b[0m\n\u001b[0m\u001b[1;32m    998\u001b[0m         \u001b[0;32mfor\u001b[0m \u001b[0mi\u001b[0m \u001b[0;32min\u001b[0m \u001b[0mrange\u001b[0m\u001b[0;34m(\u001b[0m\u001b[0mself\u001b[0m\u001b[0;34m.\u001b[0m\u001b[0mestimators_\u001b[0m\u001b[0;34m.\u001b[0m\u001b[0mshape\u001b[0m\u001b[0;34m[\u001b[0m\u001b[0;36m0\u001b[0m\u001b[0;34m]\u001b[0m\u001b[0;34m)\u001b[0m\u001b[0;34m:\u001b[0m\u001b[0;34m\u001b[0m\u001b[0;34m\u001b[0m\u001b[0m\n\u001b[1;32m    999\u001b[0m             \u001b[0mpredict_stage\u001b[0m\u001b[0;34m(\u001b[0m\u001b[0mself\u001b[0m\u001b[0;34m.\u001b[0m\u001b[0mestimators_\u001b[0m\u001b[0;34m,\u001b[0m \u001b[0mi\u001b[0m\u001b[0;34m,\u001b[0m \u001b[0mX\u001b[0m\u001b[0;34m,\u001b[0m \u001b[0mself\u001b[0m\u001b[0;34m.\u001b[0m\u001b[0mlearning_rate\u001b[0m\u001b[0;34m,\u001b[0m \u001b[0mraw_predictions\u001b[0m\u001b[0;34m)\u001b[0m\u001b[0;34m\u001b[0m\u001b[0;34m\u001b[0m\u001b[0m\n",
            "\u001b[0;32m/usr/local/lib/python3.11/dist-packages/sklearn/ensemble/_gb.py\u001b[0m in \u001b[0;36m_raw_predict_init\u001b[0;34m(self, X)\u001b[0m\n\u001b[1;32m    948\u001b[0m     \u001b[0;32mdef\u001b[0m \u001b[0m_raw_predict_init\u001b[0m\u001b[0;34m(\u001b[0m\u001b[0mself\u001b[0m\u001b[0;34m,\u001b[0m \u001b[0mX\u001b[0m\u001b[0;34m)\u001b[0m\u001b[0;34m:\u001b[0m\u001b[0;34m\u001b[0m\u001b[0;34m\u001b[0m\u001b[0m\n\u001b[1;32m    949\u001b[0m         \u001b[0;34m\"\"\"Check input and compute raw predictions of the init estimator.\"\"\"\u001b[0m\u001b[0;34m\u001b[0m\u001b[0;34m\u001b[0m\u001b[0m\n\u001b[0;32m--> 950\u001b[0;31m         \u001b[0mself\u001b[0m\u001b[0;34m.\u001b[0m\u001b[0m_check_initialized\u001b[0m\u001b[0;34m(\u001b[0m\u001b[0;34m)\u001b[0m\u001b[0;34m\u001b[0m\u001b[0;34m\u001b[0m\u001b[0m\n\u001b[0m\u001b[1;32m    951\u001b[0m         \u001b[0mX\u001b[0m \u001b[0;34m=\u001b[0m \u001b[0mself\u001b[0m\u001b[0;34m.\u001b[0m\u001b[0mestimators_\u001b[0m\u001b[0;34m[\u001b[0m\u001b[0;36m0\u001b[0m\u001b[0;34m,\u001b[0m \u001b[0;36m0\u001b[0m\u001b[0;34m]\u001b[0m\u001b[0;34m.\u001b[0m\u001b[0m_validate_X_predict\u001b[0m\u001b[0;34m(\u001b[0m\u001b[0mX\u001b[0m\u001b[0;34m,\u001b[0m \u001b[0mcheck_input\u001b[0m\u001b[0;34m=\u001b[0m\u001b[0;32mTrue\u001b[0m\u001b[0;34m)\u001b[0m\u001b[0;34m\u001b[0m\u001b[0;34m\u001b[0m\u001b[0m\n\u001b[1;32m    952\u001b[0m         \u001b[0;32mif\u001b[0m \u001b[0mself\u001b[0m\u001b[0;34m.\u001b[0m\u001b[0minit_\u001b[0m \u001b[0;34m==\u001b[0m \u001b[0;34m\"zero\"\u001b[0m\u001b[0;34m:\u001b[0m\u001b[0;34m\u001b[0m\u001b[0;34m\u001b[0m\u001b[0m\n",
            "\u001b[0;32m/usr/local/lib/python3.11/dist-packages/sklearn/ensemble/_gb.py\u001b[0m in \u001b[0;36m_check_initialized\u001b[0;34m(self)\u001b[0m\n\u001b[1;32m    607\u001b[0m     \u001b[0;32mdef\u001b[0m \u001b[0m_check_initialized\u001b[0m\u001b[0;34m(\u001b[0m\u001b[0mself\u001b[0m\u001b[0;34m)\u001b[0m\u001b[0;34m:\u001b[0m\u001b[0;34m\u001b[0m\u001b[0;34m\u001b[0m\u001b[0m\n\u001b[1;32m    608\u001b[0m         \u001b[0;34m\"\"\"Check that the estimator is initialized, raising an error if not.\"\"\"\u001b[0m\u001b[0;34m\u001b[0m\u001b[0;34m\u001b[0m\u001b[0m\n\u001b[0;32m--> 609\u001b[0;31m         \u001b[0mcheck_is_fitted\u001b[0m\u001b[0;34m(\u001b[0m\u001b[0mself\u001b[0m\u001b[0;34m)\u001b[0m\u001b[0;34m\u001b[0m\u001b[0;34m\u001b[0m\u001b[0m\n\u001b[0m\u001b[1;32m    610\u001b[0m \u001b[0;34m\u001b[0m\u001b[0m\n\u001b[1;32m    611\u001b[0m     @_fit_context(\n",
            "\u001b[0;32m/usr/local/lib/python3.11/dist-packages/sklearn/utils/validation.py\u001b[0m in \u001b[0;36mcheck_is_fitted\u001b[0;34m(estimator, attributes, msg, all_or_any)\u001b[0m\n\u001b[1;32m   1755\u001b[0m \u001b[0;34m\u001b[0m\u001b[0m\n\u001b[1;32m   1756\u001b[0m     \u001b[0;32mif\u001b[0m \u001b[0;32mnot\u001b[0m \u001b[0m_is_fitted\u001b[0m\u001b[0;34m(\u001b[0m\u001b[0mestimator\u001b[0m\u001b[0;34m,\u001b[0m \u001b[0mattributes\u001b[0m\u001b[0;34m,\u001b[0m \u001b[0mall_or_any\u001b[0m\u001b[0;34m)\u001b[0m\u001b[0;34m:\u001b[0m\u001b[0;34m\u001b[0m\u001b[0;34m\u001b[0m\u001b[0m\n\u001b[0;32m-> 1757\u001b[0;31m         \u001b[0;32mraise\u001b[0m \u001b[0mNotFittedError\u001b[0m\u001b[0;34m(\u001b[0m\u001b[0mmsg\u001b[0m \u001b[0;34m%\u001b[0m \u001b[0;34m{\u001b[0m\u001b[0;34m\"name\"\u001b[0m\u001b[0;34m:\u001b[0m \u001b[0mtype\u001b[0m\u001b[0;34m(\u001b[0m\u001b[0mestimator\u001b[0m\u001b[0;34m)\u001b[0m\u001b[0;34m.\u001b[0m\u001b[0m__name__\u001b[0m\u001b[0;34m}\u001b[0m\u001b[0;34m)\u001b[0m\u001b[0;34m\u001b[0m\u001b[0;34m\u001b[0m\u001b[0m\n\u001b[0m\u001b[1;32m   1758\u001b[0m \u001b[0;34m\u001b[0m\u001b[0m\n\u001b[1;32m   1759\u001b[0m \u001b[0;34m\u001b[0m\u001b[0m\n",
            "\u001b[0;31mNotFittedError\u001b[0m: This GradientBoostingRegressor instance is not fitted yet. Call 'fit' with appropriate arguments before using this estimator."
          ]
        }
      ]
    },
    {
      "cell_type": "markdown",
      "source": [
        "23. Train an XGBoost Classifier and visualize feature importance."
      ],
      "metadata": {
        "id": "CtW46MBpe0If"
      }
    },
    {
      "cell_type": "code",
      "source": [
        "from xgboost import XGBClassifier\n",
        "import matplotlib.pyplot as plt\n",
        "\n",
        "# Train model\n",
        "model = XGBClassifier(n_estimators=100, random_state=42)\n",
        "model.fit(X_train, y_train)\n",
        "\n",
        "# Plot feature importances\n",
        "plt.figure(figsize=(10, 6))\n",
        "plt.bar(range(X.shape[1]), model.feature_importances_)\n",
        "plt.title('XGBoost Feature Importance')\n",
        "plt.xlabel('Feature Index')\n",
        "plt.ylabel('Importance Score')\n",
        "plt.show()\n"
      ],
      "metadata": {
        "colab": {
          "base_uri": "https://localhost:8080/",
          "height": 790
        },
        "id": "W_TBKsChewPx",
        "outputId": "fac28b9c-1e81-4763-985d-e4f3300971ea"
      },
      "execution_count": 10,
      "outputs": [
        {
          "output_type": "error",
          "ename": "ValueError",
          "evalue": "Invalid classes inferred from unique values of `y`.  Expected: [  0   1   2   3   4   5   6   7   8   9  10  11  12  13  14  15  16  17\n  18  19  20  21  22  23  24  25  26  27  28  29  30  31  32  33  34  35\n  36  37  38  39  40  41  42  43  44  45  46  47  48  49  50  51  52  53\n  54  55  56  57  58  59  60  61  62  63  64  65  66  67  68  69  70  71\n  72  73  74  75  76  77  78  79  80  81  82  83  84  85  86  87  88  89\n  90  91  92  93  94  95  96  97  98  99 100 101 102 103 104 105 106 107\n 108 109 110 111 112 113 114 115 116 117 118 119 120 121 122 123 124 125\n 126 127 128 129 130 131 132 133 134 135 136 137 138 139 140 141 142 143\n 144 145 146 147 148 149 150 151 152 153 154 155 156 157 158 159 160 161\n 162 163 164 165 166 167 168 169 170 171 172 173 174 175 176 177 178 179\n 180 181 182 183 184 185 186 187 188 189 190 191 192 193 194 195 196 197\n 198], got [ 25.  31.  39.  40.  42.  43.  44.  45.  47.  48.  49.  50.  51.  52.\n  53.  54.  55.  57.  58.  59.  60.  61.  63.  64.  65.  66.  67.  68.\n  69.  70.  71.  72.  73.  74.  75.  77.  78.  79.  80.  81.  83.  84.\n  85.  86.  87.  88.  89.  90.  91.  92.  93.  94.  95.  96.  97.  99.\n 100. 101. 102. 103. 104. 107. 109. 110. 111. 113. 114. 115. 116. 118.\n 120. 121. 122. 123. 124. 125. 126. 127. 128. 129. 131. 132. 134. 135.\n 137. 138. 139. 141. 142. 143. 144. 145. 146. 147. 148. 150. 151. 152.\n 154. 155. 158. 160. 161. 162. 163. 164. 166. 167. 168. 170. 172. 173.\n 174. 175. 177. 178. 179. 180. 181. 182. 183. 185. 189. 190. 191. 192.\n 195. 196. 197. 198. 199. 200. 201. 202. 206. 208. 209. 210. 212. 214.\n 215. 216. 217. 219. 220. 221. 225. 229. 230. 232. 233. 235. 236. 237.\n 241. 242. 243. 244. 245. 246. 248. 249. 252. 253. 257. 258. 259. 261.\n 262. 263. 265. 268. 270. 272. 273. 274. 275. 276. 277. 279. 280. 281.\n 283. 288. 292. 293. 296. 302. 303. 306. 308. 310. 311. 317. 321. 332.\n 336. 341. 346.]",
          "traceback": [
            "\u001b[0;31m---------------------------------------------------------------------------\u001b[0m",
            "\u001b[0;31mValueError\u001b[0m                                Traceback (most recent call last)",
            "\u001b[0;32m<ipython-input-10-00801924ad9f>\u001b[0m in \u001b[0;36m<cell line: 0>\u001b[0;34m()\u001b[0m\n\u001b[1;32m      4\u001b[0m \u001b[0;31m# Train model\u001b[0m\u001b[0;34m\u001b[0m\u001b[0;34m\u001b[0m\u001b[0m\n\u001b[1;32m      5\u001b[0m \u001b[0mmodel\u001b[0m \u001b[0;34m=\u001b[0m \u001b[0mXGBClassifier\u001b[0m\u001b[0;34m(\u001b[0m\u001b[0mn_estimators\u001b[0m\u001b[0;34m=\u001b[0m\u001b[0;36m100\u001b[0m\u001b[0;34m,\u001b[0m \u001b[0mrandom_state\u001b[0m\u001b[0;34m=\u001b[0m\u001b[0;36m42\u001b[0m\u001b[0;34m)\u001b[0m\u001b[0;34m\u001b[0m\u001b[0;34m\u001b[0m\u001b[0m\n\u001b[0;32m----> 6\u001b[0;31m \u001b[0mmodel\u001b[0m\u001b[0;34m.\u001b[0m\u001b[0mfit\u001b[0m\u001b[0;34m(\u001b[0m\u001b[0mX_train\u001b[0m\u001b[0;34m,\u001b[0m \u001b[0my_train\u001b[0m\u001b[0;34m)\u001b[0m\u001b[0;34m\u001b[0m\u001b[0;34m\u001b[0m\u001b[0m\n\u001b[0m\u001b[1;32m      7\u001b[0m \u001b[0;34m\u001b[0m\u001b[0m\n\u001b[1;32m      8\u001b[0m \u001b[0;31m# Plot feature importances\u001b[0m\u001b[0;34m\u001b[0m\u001b[0;34m\u001b[0m\u001b[0m\n",
            "\u001b[0;32m/usr/local/lib/python3.11/dist-packages/xgboost/core.py\u001b[0m in \u001b[0;36minner_f\u001b[0;34m(*args, **kwargs)\u001b[0m\n\u001b[1;32m    724\u001b[0m             \u001b[0;32mfor\u001b[0m \u001b[0mk\u001b[0m\u001b[0;34m,\u001b[0m \u001b[0marg\u001b[0m \u001b[0;32min\u001b[0m \u001b[0mzip\u001b[0m\u001b[0;34m(\u001b[0m\u001b[0msig\u001b[0m\u001b[0;34m.\u001b[0m\u001b[0mparameters\u001b[0m\u001b[0;34m,\u001b[0m \u001b[0margs\u001b[0m\u001b[0;34m)\u001b[0m\u001b[0;34m:\u001b[0m\u001b[0;34m\u001b[0m\u001b[0;34m\u001b[0m\u001b[0m\n\u001b[1;32m    725\u001b[0m                 \u001b[0mkwargs\u001b[0m\u001b[0;34m[\u001b[0m\u001b[0mk\u001b[0m\u001b[0;34m]\u001b[0m \u001b[0;34m=\u001b[0m \u001b[0marg\u001b[0m\u001b[0;34m\u001b[0m\u001b[0;34m\u001b[0m\u001b[0m\n\u001b[0;32m--> 726\u001b[0;31m             \u001b[0;32mreturn\u001b[0m \u001b[0mfunc\u001b[0m\u001b[0;34m(\u001b[0m\u001b[0;34m**\u001b[0m\u001b[0mkwargs\u001b[0m\u001b[0;34m)\u001b[0m\u001b[0;34m\u001b[0m\u001b[0;34m\u001b[0m\u001b[0m\n\u001b[0m\u001b[1;32m    727\u001b[0m \u001b[0;34m\u001b[0m\u001b[0m\n\u001b[1;32m    728\u001b[0m         \u001b[0;32mreturn\u001b[0m \u001b[0minner_f\u001b[0m\u001b[0;34m\u001b[0m\u001b[0;34m\u001b[0m\u001b[0m\n",
            "\u001b[0;32m/usr/local/lib/python3.11/dist-packages/xgboost/sklearn.py\u001b[0m in \u001b[0;36mfit\u001b[0;34m(self, X, y, sample_weight, base_margin, eval_set, verbose, xgb_model, sample_weight_eval_set, base_margin_eval_set, feature_weights)\u001b[0m\n\u001b[1;32m   1557\u001b[0m                 \u001b[0;32mor\u001b[0m \u001b[0;32mnot\u001b[0m \u001b[0;34m(\u001b[0m\u001b[0mclasses\u001b[0m \u001b[0;34m==\u001b[0m \u001b[0mexpected_classes\u001b[0m\u001b[0;34m)\u001b[0m\u001b[0;34m.\u001b[0m\u001b[0mall\u001b[0m\u001b[0;34m(\u001b[0m\u001b[0;34m)\u001b[0m\u001b[0;34m\u001b[0m\u001b[0;34m\u001b[0m\u001b[0m\n\u001b[1;32m   1558\u001b[0m             ):\n\u001b[0;32m-> 1559\u001b[0;31m                 raise ValueError(\n\u001b[0m\u001b[1;32m   1560\u001b[0m                     \u001b[0;34mf\"Invalid classes inferred from unique values of `y`.  \"\u001b[0m\u001b[0;34m\u001b[0m\u001b[0;34m\u001b[0m\u001b[0m\n\u001b[1;32m   1561\u001b[0m                     \u001b[0;34mf\"Expected: {expected_classes}, got {classes}\"\u001b[0m\u001b[0;34m\u001b[0m\u001b[0;34m\u001b[0m\u001b[0m\n",
            "\u001b[0;31mValueError\u001b[0m: Invalid classes inferred from unique values of `y`.  Expected: [  0   1   2   3   4   5   6   7   8   9  10  11  12  13  14  15  16  17\n  18  19  20  21  22  23  24  25  26  27  28  29  30  31  32  33  34  35\n  36  37  38  39  40  41  42  43  44  45  46  47  48  49  50  51  52  53\n  54  55  56  57  58  59  60  61  62  63  64  65  66  67  68  69  70  71\n  72  73  74  75  76  77  78  79  80  81  82  83  84  85  86  87  88  89\n  90  91  92  93  94  95  96  97  98  99 100 101 102 103 104 105 106 107\n 108 109 110 111 112 113 114 115 116 117 118 119 120 121 122 123 124 125\n 126 127 128 129 130 131 132 133 134 135 136 137 138 139 140 141 142 143\n 144 145 146 147 148 149 150 151 152 153 154 155 156 157 158 159 160 161\n 162 163 164 165 166 167 168 169 170 171 172 173 174 175 176 177 178 179\n 180 181 182 183 184 185 186 187 188 189 190 191 192 193 194 195 196 197\n 198], got [ 25.  31.  39.  40.  42.  43.  44.  45.  47.  48.  49.  50.  51.  52.\n  53.  54.  55.  57.  58.  59.  60.  61.  63.  64.  65.  66.  67.  68.\n  69.  70.  71.  72.  73.  74.  75.  77.  78.  79.  80.  81.  83.  84.\n  85.  86.  87.  88.  89.  90.  91.  92.  93.  94.  95.  96.  97.  99.\n 100. 101. 102. 103. 104. 107. 109. 110. 111. 113. 114. 115. 116. 118.\n 120. 121. 122. 123. 124. 125. 126. 127. 128. 129. 131. 132. 134. 135.\n 137. 138. 139. 141. 142. 143. 144. 145. 146. 147. 148. 150. 151. 152.\n 154. 155. 158. 160. 161. 162. 163. 164. 166. 167. 168. 170. 172. 173.\n 174. 175. 177. 178. 179. 180. 181. 182. 183. 185. 189. 190. 191. 192.\n 195. 196. 197. 198. 199. 200. 201. 202. 206. 208. 209. 210. 212. 214.\n 215. 216. 217. 219. 220. 221. 225. 229. 230. 232. 233. 235. 236. 237.\n 241. 242. 243. 244. 245. 246. 248. 249. 252. 253. 257. 258. 259. 261.\n 262. 263. 265. 268. 270. 272. 273. 274. 275. 276. 277. 279. 280. 281.\n 283. 288. 292. 293. 296. 302. 303. 306. 308. 310. 311. 317. 321. 332.\n 336. 341. 346.]"
          ]
        }
      ]
    },
    {
      "cell_type": "markdown",
      "source": [
        "24. Train a CatBoost Classifier and plot the confusion matri"
      ],
      "metadata": {
        "id": "W1MQKMi-e4vJ"
      }
    },
    {
      "cell_type": "code",
      "source": [
        "from catboost import CatBoostClassifier\n",
        "from sklearn.metrics import confusion_matrix, ConfusionMatrixDisplay\n",
        "\n",
        "# Train model\n",
        "model = CatBoostClassifier(iterations=100, verbose=0)\n",
        "model.fit(X_train, y_train)\n",
        "\n",
        "# Predict and plot confusion matrix\n",
        "y_pred = model.predict(X_test)\n",
        "cm = confusion_matrix(y_test, y_pred)\n",
        "ConfusionMatrixDisplay(confusion_matrix=cm).plot()\n",
        "plt.title(\"CatBoost Confusion Matrix\")\n",
        "plt.show()\n"
      ],
      "metadata": {
        "colab": {
          "base_uri": "https://localhost:8080/",
          "height": 383
        },
        "id": "zmGPzaAke2gq",
        "outputId": "5e7c01e7-ae15-4e9c-f43c-3e0e650bb5af"
      },
      "execution_count": 11,
      "outputs": [
        {
          "output_type": "error",
          "ename": "ModuleNotFoundError",
          "evalue": "No module named 'catboost'",
          "traceback": [
            "\u001b[0;31m---------------------------------------------------------------------------\u001b[0m",
            "\u001b[0;31mModuleNotFoundError\u001b[0m                       Traceback (most recent call last)",
            "\u001b[0;32m<ipython-input-11-32295403c544>\u001b[0m in \u001b[0;36m<cell line: 0>\u001b[0;34m()\u001b[0m\n\u001b[0;32m----> 1\u001b[0;31m \u001b[0;32mfrom\u001b[0m \u001b[0mcatboost\u001b[0m \u001b[0;32mimport\u001b[0m \u001b[0mCatBoostClassifier\u001b[0m\u001b[0;34m\u001b[0m\u001b[0;34m\u001b[0m\u001b[0m\n\u001b[0m\u001b[1;32m      2\u001b[0m \u001b[0;32mfrom\u001b[0m \u001b[0msklearn\u001b[0m\u001b[0;34m.\u001b[0m\u001b[0mmetrics\u001b[0m \u001b[0;32mimport\u001b[0m \u001b[0mconfusion_matrix\u001b[0m\u001b[0;34m,\u001b[0m \u001b[0mConfusionMatrixDisplay\u001b[0m\u001b[0;34m\u001b[0m\u001b[0;34m\u001b[0m\u001b[0m\n\u001b[1;32m      3\u001b[0m \u001b[0;34m\u001b[0m\u001b[0m\n\u001b[1;32m      4\u001b[0m \u001b[0;31m# Train model\u001b[0m\u001b[0;34m\u001b[0m\u001b[0;34m\u001b[0m\u001b[0m\n\u001b[1;32m      5\u001b[0m \u001b[0mmodel\u001b[0m \u001b[0;34m=\u001b[0m \u001b[0mCatBoostClassifier\u001b[0m\u001b[0;34m(\u001b[0m\u001b[0miterations\u001b[0m\u001b[0;34m=\u001b[0m\u001b[0;36m100\u001b[0m\u001b[0;34m,\u001b[0m \u001b[0mverbose\u001b[0m\u001b[0;34m=\u001b[0m\u001b[0;36m0\u001b[0m\u001b[0;34m)\u001b[0m\u001b[0;34m\u001b[0m\u001b[0;34m\u001b[0m\u001b[0m\n",
            "\u001b[0;31mModuleNotFoundError\u001b[0m: No module named 'catboost'",
            "",
            "\u001b[0;31m---------------------------------------------------------------------------\u001b[0;32m\nNOTE: If your import is failing due to a missing package, you can\nmanually install dependencies using either !pip or !apt.\n\nTo view examples of installing some common dependencies, click the\n\"Open Examples\" button below.\n\u001b[0;31m---------------------------------------------------------------------------\u001b[0m\n"
          ],
          "errorDetails": {
            "actions": [
              {
                "action": "open_url",
                "actionText": "Open Examples",
                "url": "/notebooks/snippets/importing_libraries.ipynb"
              }
            ]
          }
        }
      ]
    },
    {
      "cell_type": "markdown",
      "source": [
        "25. Train an AdaBoost Classifier with different numbers of estimators and compare accuracy.\n",
        "python\n",
        "Copy\n",
        "Edit\n"
      ],
      "metadata": {
        "id": "E_YdiB-Me9aO"
      }
    },
    {
      "cell_type": "code",
      "source": [
        "estimators = [10, 50, 100, 200]\n",
        "for n in estimators:\n",
        "    model = AdaBoostClassifier(n_estimators=n, random_state=42)\n",
        "    model.fit(X_train, y_train)\n",
        "    accuracy = model.score(X_test, y_test)\n",
        "    print(f\"AdaBoost Accuracy with {n} estimators: {accuracy:.4f}\")\n"
      ],
      "metadata": {
        "colab": {
          "base_uri": "https://localhost:8080/"
        },
        "id": "FiLqeW6de7Rv",
        "outputId": "0bece159-e8e9-4830-821d-f9bb8795632f"
      },
      "execution_count": 12,
      "outputs": [
        {
          "output_type": "stream",
          "name": "stdout",
          "text": [
            "AdaBoost Accuracy with 10 estimators: 0.0000\n",
            "AdaBoost Accuracy with 50 estimators: 0.0000\n",
            "AdaBoost Accuracy with 100 estimators: 0.0000\n",
            "AdaBoost Accuracy with 200 estimators: 0.0000\n"
          ]
        }
      ]
    },
    {
      "cell_type": "markdown",
      "source": [
        "26. Train a Gradient Boosting Classifier and visualize the ROC curve."
      ],
      "metadata": {
        "id": "F7QwbtazfA8o"
      }
    },
    {
      "cell_type": "code",
      "source": [
        "from sklearn.ensemble import GradientBoostingClassifier\n",
        "from sklearn.metrics import roc_curve, auc\n",
        "\n",
        "# Train model\n",
        "model = GradientBoostingClassifier(n_estimators=100, random_state=42)\n",
        "model.fit(X_train, y_train)\n",
        "\n",
        "# Plot ROC curve\n",
        "y_prob = model.predict_proba(X_test)[:, 1]\n",
        "fpr, tpr, _ = roc_curve(y_test, y_prob)\n",
        "roc_auc = auc(fpr, tpr)\n",
        "\n",
        "plt.figure(figsize=(10, 6))\n",
        "plt.plot(fpr, tpr, label=f'ROC Curve (AUC = {roc_auc:.4f})')\n",
        "plt.plot([0, 1], [0, 1], linestyle='--')\n",
        "plt.title('Gradient Boosting ROC Curve')\n",
        "plt.xlabel('False Positive Rate')\n",
        "plt.ylabel('True Positive Rate')\n",
        "plt.legend()\n",
        "plt.show()\n"
      ],
      "metadata": {
        "colab": {
          "base_uri": "https://localhost:8080/",
          "height": 356
        },
        "id": "ualeoMQSe-7h",
        "outputId": "63f0ef34-ccb1-42fa-927d-d449daf57a79"
      },
      "execution_count": 13,
      "outputs": [
        {
          "output_type": "error",
          "ename": "ValueError",
          "evalue": "multiclass format is not supported",
          "traceback": [
            "\u001b[0;31m---------------------------------------------------------------------------\u001b[0m",
            "\u001b[0;31mValueError\u001b[0m                                Traceback (most recent call last)",
            "\u001b[0;32m<ipython-input-13-741a1c1672f8>\u001b[0m in \u001b[0;36m<cell line: 0>\u001b[0;34m()\u001b[0m\n\u001b[1;32m      8\u001b[0m \u001b[0;31m# Plot ROC curve\u001b[0m\u001b[0;34m\u001b[0m\u001b[0;34m\u001b[0m\u001b[0m\n\u001b[1;32m      9\u001b[0m \u001b[0my_prob\u001b[0m \u001b[0;34m=\u001b[0m \u001b[0mmodel\u001b[0m\u001b[0;34m.\u001b[0m\u001b[0mpredict_proba\u001b[0m\u001b[0;34m(\u001b[0m\u001b[0mX_test\u001b[0m\u001b[0;34m)\u001b[0m\u001b[0;34m[\u001b[0m\u001b[0;34m:\u001b[0m\u001b[0;34m,\u001b[0m \u001b[0;36m1\u001b[0m\u001b[0;34m]\u001b[0m\u001b[0;34m\u001b[0m\u001b[0;34m\u001b[0m\u001b[0m\n\u001b[0;32m---> 10\u001b[0;31m \u001b[0mfpr\u001b[0m\u001b[0;34m,\u001b[0m \u001b[0mtpr\u001b[0m\u001b[0;34m,\u001b[0m \u001b[0m_\u001b[0m \u001b[0;34m=\u001b[0m \u001b[0mroc_curve\u001b[0m\u001b[0;34m(\u001b[0m\u001b[0my_test\u001b[0m\u001b[0;34m,\u001b[0m \u001b[0my_prob\u001b[0m\u001b[0;34m)\u001b[0m\u001b[0;34m\u001b[0m\u001b[0;34m\u001b[0m\u001b[0m\n\u001b[0m\u001b[1;32m     11\u001b[0m \u001b[0mroc_auc\u001b[0m \u001b[0;34m=\u001b[0m \u001b[0mauc\u001b[0m\u001b[0;34m(\u001b[0m\u001b[0mfpr\u001b[0m\u001b[0;34m,\u001b[0m \u001b[0mtpr\u001b[0m\u001b[0;34m)\u001b[0m\u001b[0;34m\u001b[0m\u001b[0;34m\u001b[0m\u001b[0m\n\u001b[1;32m     12\u001b[0m \u001b[0;34m\u001b[0m\u001b[0m\n",
            "\u001b[0;32m/usr/local/lib/python3.11/dist-packages/sklearn/utils/_param_validation.py\u001b[0m in \u001b[0;36mwrapper\u001b[0;34m(*args, **kwargs)\u001b[0m\n\u001b[1;32m    214\u001b[0m                     )\n\u001b[1;32m    215\u001b[0m                 ):\n\u001b[0;32m--> 216\u001b[0;31m                     \u001b[0;32mreturn\u001b[0m \u001b[0mfunc\u001b[0m\u001b[0;34m(\u001b[0m\u001b[0;34m*\u001b[0m\u001b[0margs\u001b[0m\u001b[0;34m,\u001b[0m \u001b[0;34m**\u001b[0m\u001b[0mkwargs\u001b[0m\u001b[0;34m)\u001b[0m\u001b[0;34m\u001b[0m\u001b[0;34m\u001b[0m\u001b[0m\n\u001b[0m\u001b[1;32m    217\u001b[0m             \u001b[0;32mexcept\u001b[0m \u001b[0mInvalidParameterError\u001b[0m \u001b[0;32mas\u001b[0m \u001b[0me\u001b[0m\u001b[0;34m:\u001b[0m\u001b[0;34m\u001b[0m\u001b[0;34m\u001b[0m\u001b[0m\n\u001b[1;32m    218\u001b[0m                 \u001b[0;31m# When the function is just a wrapper around an estimator, we allow\u001b[0m\u001b[0;34m\u001b[0m\u001b[0;34m\u001b[0m\u001b[0m\n",
            "\u001b[0;32m/usr/local/lib/python3.11/dist-packages/sklearn/metrics/_ranking.py\u001b[0m in \u001b[0;36mroc_curve\u001b[0;34m(y_true, y_score, pos_label, sample_weight, drop_intermediate)\u001b[0m\n\u001b[1;32m   1148\u001b[0m     \u001b[0marray\u001b[0m\u001b[0;34m(\u001b[0m\u001b[0;34m[\u001b[0m \u001b[0minf\u001b[0m\u001b[0;34m,\u001b[0m \u001b[0;36m0.8\u001b[0m \u001b[0;34m,\u001b[0m \u001b[0;36m0.4\u001b[0m \u001b[0;34m,\u001b[0m \u001b[0;36m0.35\u001b[0m\u001b[0;34m,\u001b[0m \u001b[0;36m0.1\u001b[0m \u001b[0;34m]\u001b[0m\u001b[0;34m)\u001b[0m\u001b[0;34m\u001b[0m\u001b[0;34m\u001b[0m\u001b[0m\n\u001b[1;32m   1149\u001b[0m     \"\"\"\n\u001b[0;32m-> 1150\u001b[0;31m     fps, tps, thresholds = _binary_clf_curve(\n\u001b[0m\u001b[1;32m   1151\u001b[0m         \u001b[0my_true\u001b[0m\u001b[0;34m,\u001b[0m \u001b[0my_score\u001b[0m\u001b[0;34m,\u001b[0m \u001b[0mpos_label\u001b[0m\u001b[0;34m=\u001b[0m\u001b[0mpos_label\u001b[0m\u001b[0;34m,\u001b[0m \u001b[0msample_weight\u001b[0m\u001b[0;34m=\u001b[0m\u001b[0msample_weight\u001b[0m\u001b[0;34m\u001b[0m\u001b[0;34m\u001b[0m\u001b[0m\n\u001b[1;32m   1152\u001b[0m     )\n",
            "\u001b[0;32m/usr/local/lib/python3.11/dist-packages/sklearn/metrics/_ranking.py\u001b[0m in \u001b[0;36m_binary_clf_curve\u001b[0;34m(y_true, y_score, pos_label, sample_weight)\u001b[0m\n\u001b[1;32m    816\u001b[0m     \u001b[0my_type\u001b[0m \u001b[0;34m=\u001b[0m \u001b[0mtype_of_target\u001b[0m\u001b[0;34m(\u001b[0m\u001b[0my_true\u001b[0m\u001b[0;34m,\u001b[0m \u001b[0minput_name\u001b[0m\u001b[0;34m=\u001b[0m\u001b[0;34m\"y_true\"\u001b[0m\u001b[0;34m)\u001b[0m\u001b[0;34m\u001b[0m\u001b[0;34m\u001b[0m\u001b[0m\n\u001b[1;32m    817\u001b[0m     \u001b[0;32mif\u001b[0m \u001b[0;32mnot\u001b[0m \u001b[0;34m(\u001b[0m\u001b[0my_type\u001b[0m \u001b[0;34m==\u001b[0m \u001b[0;34m\"binary\"\u001b[0m \u001b[0;32mor\u001b[0m \u001b[0;34m(\u001b[0m\u001b[0my_type\u001b[0m \u001b[0;34m==\u001b[0m \u001b[0;34m\"multiclass\"\u001b[0m \u001b[0;32mand\u001b[0m \u001b[0mpos_label\u001b[0m \u001b[0;32mis\u001b[0m \u001b[0;32mnot\u001b[0m \u001b[0;32mNone\u001b[0m\u001b[0;34m)\u001b[0m\u001b[0;34m)\u001b[0m\u001b[0;34m:\u001b[0m\u001b[0;34m\u001b[0m\u001b[0;34m\u001b[0m\u001b[0m\n\u001b[0;32m--> 818\u001b[0;31m         \u001b[0;32mraise\u001b[0m \u001b[0mValueError\u001b[0m\u001b[0;34m(\u001b[0m\u001b[0;34m\"{0} format is not supported\"\u001b[0m\u001b[0;34m.\u001b[0m\u001b[0mformat\u001b[0m\u001b[0;34m(\u001b[0m\u001b[0my_type\u001b[0m\u001b[0;34m)\u001b[0m\u001b[0;34m)\u001b[0m\u001b[0;34m\u001b[0m\u001b[0;34m\u001b[0m\u001b[0m\n\u001b[0m\u001b[1;32m    819\u001b[0m \u001b[0;34m\u001b[0m\u001b[0m\n\u001b[1;32m    820\u001b[0m     \u001b[0mcheck_consistent_length\u001b[0m\u001b[0;34m(\u001b[0m\u001b[0my_true\u001b[0m\u001b[0;34m,\u001b[0m \u001b[0my_score\u001b[0m\u001b[0;34m,\u001b[0m \u001b[0msample_weight\u001b[0m\u001b[0;34m)\u001b[0m\u001b[0;34m\u001b[0m\u001b[0;34m\u001b[0m\u001b[0m\n",
            "\u001b[0;31mValueError\u001b[0m: multiclass format is not supported"
          ]
        }
      ]
    },
    {
      "cell_type": "markdown",
      "source": [
        "27. Train an XGBoost Regressor and tune the learning rate using GridSearchCV."
      ],
      "metadata": {
        "id": "9lRBM5O3fEgD"
      }
    },
    {
      "cell_type": "code",
      "source": [
        "from sklearn.model_selection import GridSearchCV\n",
        "from xgboost import XGBRegressor\n",
        "\n",
        "# Define model and parameter grid\n",
        "model = XGBRegressor(n_estimators=100)\n",
        "param_grid = {'learning_rate': [0.01, 0.05, 0.1, 0.2]}\n",
        "grid_search = GridSearchCV(model, param_grid, cv=3, scoring='neg_mean_squared_error')\n",
        "grid_search.fit(X_train, y_train)\n",
        "\n",
        "# Best learning rate\n",
        "print(f\"Best Learning Rate: {grid_search.best_params_['learning_rate']}\")\n"
      ],
      "metadata": {
        "id": "KN1rRheDfCbn"
      },
      "execution_count": null,
      "outputs": []
    },
    {
      "cell_type": "markdown",
      "source": [
        "28. Train a CatBoost Classifier on an imbalanced dataset and compare performance with class weights.\n",
        "python\n",
        "Copy\n",
        "Edit\n"
      ],
      "metadata": {
        "id": "FBragv3NfIWV"
      }
    },
    {
      "cell_type": "code",
      "source": [
        "from sklearn.datasets import make_classification\n",
        "from sklearn.metrics import f1_score\n",
        "\n",
        "# Generate imbalanced dataset\n",
        "X, y = make_classification(n_samples=1000, n_classes=2, weights=[0.9, 0.1], random_state=42)\n",
        "\n",
        "# Train without class weights\n",
        "model = CatBoostClassifier(iterations=100, verbose=0)\n",
        "model.fit(X, y)\n",
        "y_pred = model.predict(X)\n",
        "f1_no_weights = f1_score(y, y_pred)\n",
        "\n",
        "# Train with class weights\n",
        "model_weighted = CatBoostClassifier(iterations=100, class_weights=[1, 9], verbose=0)\n",
        "model_weighted.fit(X, y)\n",
        "y_pred_weighted = model_weighted.predict(X)\n",
        "f1_with_weights = f1_score(y, y_pred_weighted)\n",
        "\n",
        "print(f\"F1 Score without class weights: {f1_no_weights:.4f}\")\n",
        "print(f\"F1 Score with class weights: {f1_with_weights:.4f}\")\n"
      ],
      "metadata": {
        "id": "CkPcFdbAfF_p"
      },
      "execution_count": null,
      "outputs": []
    },
    {
      "cell_type": "markdown",
      "source": [
        "29. Train an AdaBoost Classifier and analyze the effect of different learning rates."
      ],
      "metadata": {
        "id": "vl2F5pzCfL7V"
      }
    },
    {
      "cell_type": "markdown",
      "source": [],
      "metadata": {
        "id": "1BlbpU1zfL35"
      }
    },
    {
      "cell_type": "code",
      "source": [
        "learning_rates = [0.01, 0.1, 0.5, 1.0]\n",
        "for lr in learning_rates:\n",
        "    model = AdaBoostClassifier(n_estimators=100, learning_rate=lr, random_state=42)\n",
        "    model.fit(X_train, y_train)\n",
        "    accuracy = model.score(X_test, y_test)\n",
        "    print(f\"AdaBoost Accuracy with learning rate {lr}: {accuracy:.4f}\")\n"
      ],
      "metadata": {
        "colab": {
          "base_uri": "https://localhost:8080/"
        },
        "id": "MqbGZG2EfJ5z",
        "outputId": "683c6442-abb8-41f9-954f-fdb329d04fad"
      },
      "execution_count": 14,
      "outputs": [
        {
          "output_type": "stream",
          "name": "stdout",
          "text": [
            "AdaBoost Accuracy with learning rate 0.01: 0.0000\n",
            "AdaBoost Accuracy with learning rate 0.1: 0.0000\n",
            "AdaBoost Accuracy with learning rate 0.5: 0.0000\n",
            "AdaBoost Accuracy with learning rate 1.0: 0.0000\n"
          ]
        }
      ]
    },
    {
      "cell_type": "markdown",
      "source": [
        "30 Train an XGBoost Classifier for multi-class classification and evaluate using log-loss."
      ],
      "metadata": {
        "id": "5PtXhtELfUL0"
      }
    },
    {
      "cell_type": "code",
      "source": [
        "from xgboost import XGBClassifier\n",
        "from sklearn.datasets import load_iris\n",
        "from sklearn.model_selection import train_test_split\n",
        "from sklearn.metrics import log_loss\n",
        "\n",
        "# Load dataset (Iris dataset - multi-class problem)\n",
        "X, y = load_iris(return_X_y=True)\n",
        "X_train, X_test, y_train, y_test = train_test_split(X, y, test_size=0.2, random_state=42)\n",
        "\n",
        "# Train XGBoost Classifier\n",
        "model = XGBClassifier(objective='multi:softprob', num_class=3, n_estimators=100, random_state=42)\n",
        "model.fit(X_train, y_train)\n",
        "\n",
        "# Predict probabilities\n",
        "y_pred_prob = model.predict_proba(X_test)\n",
        "\n",
        "# Calculate Log-Loss\n",
        "loss = log_loss(y_test, y_pred_prob)\n",
        "print(f\"Log-Loss: {loss:.4f}\")\n"
      ],
      "metadata": {
        "colab": {
          "base_uri": "https://localhost:8080/"
        },
        "id": "bSZ9ivOCfPDU",
        "outputId": "e8fa3160-26b5-4aec-9cca-3f74bb34608e"
      },
      "execution_count": 15,
      "outputs": [
        {
          "output_type": "stream",
          "name": "stdout",
          "text": [
            "Log-Loss: 0.0093\n"
          ]
        }
      ]
    },
    {
      "cell_type": "code",
      "source": [],
      "metadata": {
        "id": "vkd1hLbwfZvD"
      },
      "execution_count": null,
      "outputs": []
    }
  ]
}