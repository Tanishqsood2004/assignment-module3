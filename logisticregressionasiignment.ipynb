{
  "nbformat": 4,
  "nbformat_minor": 0,
  "metadata": {
    "colab": {
      "provenance": []
    },
    "kernelspec": {
      "name": "python3",
      "display_name": "Python 3"
    },
    "language_info": {
      "name": "python"
    }
  },
  "cells": [
    {
      "cell_type": "markdown",
      "source": [
        "# By Tanishq Sood\n"
      ],
      "metadata": {
        "id": "N35s6PLWN0_x"
      }
    },
    {
      "cell_type": "markdown",
      "source": [
        "# Theoratical"
      ],
      "metadata": {
        "id": "iImrNZ9cN4iQ"
      }
    },
    {
      "cell_type": "markdown",
      "source": [
        "# Q 1What is Logistic Regression, and how does it differ from Linear Regression"
      ],
      "metadata": {
        "id": "94yGAyJoN_lO"
      }
    },
    {
      "cell_type": "markdown",
      "source": [
        "\n",
        "Logistic Regression is a supervised learning algorithm used for classification tasks. Unlike Linear Regression, which predicts continuous values, Logistic Regression predicts the probability of a class label (like 0 or 1). It uses the sigmoid function to map predicted values between 0 and 1."
      ],
      "metadata": {
        "id": "eSgNvPOeOGAM"
      }
    },
    {
      "cell_type": "markdown",
      "source": [
        "# Q 2 What is the mathematical equation of Logistic Regression?\n"
      ],
      "metadata": {
        "id": "YQEmIY4HOKM8"
      }
    },
    {
      "cell_type": "markdown",
      "source": [
        "![image.png](data:image/png;base64,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)"
      ],
      "metadata": {
        "id": "zyq7f-wfOP0G"
      }
    },
    {
      "cell_type": "markdown",
      "source": [
        "where  is the intercZept,  are the coefficients, and X is the input feature."
      ],
      "metadata": {
        "id": "tuMlcvmjOSin"
      }
    },
    {
      "cell_type": "markdown",
      "source": [
        "# Why do we use the Sigmoid function in Logistic Regression?\n",
        "\n",
        "The sigmoid function maps any real-valued number into a range between 0 and 1, making it suitable for binary classification. It helps interpret outputs as probabilities."
      ],
      "metadata": {
        "id": "JPOjTXWTOWey"
      }
    },
    {
      "cell_type": "markdown",
      "source": [
        "# Q 4 What is the cost function of Logistic Regression?\n",
        "\n",
        "Logistic Regression uses the log-loss (binary cross-entropy) cost function:"
      ],
      "metadata": {
        "id": "0XOQ5p2sOcho"
      }
    },
    {
      "cell_type": "markdown",
      "source": [
        "![image.png](data:image/png;base64,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)"
      ],
      "metadata": {
        "id": "_UNDHcLVOgeC"
      }
    },
    {
      "cell_type": "markdown",
      "source": [
        "# Q 5 What is Regularization in Logistic Regression? Why is it needed?\n",
        "\n",
        "\n",
        "Regularization prevents overfitting by adding a penalty term to the cost function. L1 (Lasso) adds the absolute value of coefficients, and L2 (Ridge) adds the squared value of coefficients.\n",
        "\n"
      ],
      "metadata": {
        "id": "TMONg9AzOlhF"
      }
    },
    {
      "cell_type": "markdown",
      "source": [
        "# Q 6 Explain the difference between Lasso, Ridge, and Elastic Net regression.\n",
        "\n",
        "Lasso (L1): Shrinks coefficients to zero, enabling feature selection.\n",
        "\n",
        "Ridge (L2): Shrinks coefficients but keeps them small without making them zero.\n",
        "\n",
        "Elastic Net: Combines L1 and L2, balancing between feature selection and regularization.\n",
        "\n"
      ],
      "metadata": {
        "id": "c0MdBZYgOtMQ"
      }
    },
    {
      "cell_type": "markdown",
      "source": [
        "# Q 7 When should we use Elastic Net instead of Lasso or Ridge?\n",
        "\n",
        "Use Elastic Net when there is multicollinearity and when you need both regularization and feature selection."
      ],
      "metadata": {
        "id": "C15rF2iXO1MU"
      }
    },
    {
      "cell_type": "markdown",
      "source": [
        "# Q 8 What is the impact of the regularization parameter (λ) in Logistic Regression?\n",
        "\n",
        "A higher λ increases regularization strength, reducing overfitting but risking underfitting. A lower λ reduces regularization, increasing the risk of overfitting."
      ],
      "metadata": {
        "id": "Q0p6vloNO7Al"
      }
    },
    {
      "cell_type": "markdown",
      "source": [
        "# Q 9 What are the key assumptions of Logistic Regression?\n",
        "\n",
        "Linearity between independent variables and log-odds.\n",
        "\n",
        "Independence of observations.\n",
        "\n",
        "Absence of multicollinearity.\n",
        "\n",
        "Large sample size."
      ],
      "metadata": {
        "id": "b4V8bxkAPAzF"
      }
    },
    {
      "cell_type": "markdown",
      "source": [
        "# Q 10 What are some alternatives to Logistic Regression for classification tasks?\n",
        "\n",
        "Decision Trees\n",
        "\n",
        "Random Forest\n",
        "\n",
        "Support Vector Machines\n",
        "\n",
        "K-Nearest Neighbors\n",
        "\n",
        "Neural Networks"
      ],
      "metadata": {
        "id": "joqP532KPLYu"
      }
    },
    {
      "cell_type": "markdown",
      "source": [
        "# Q 11 What are Classification Evaluation Metrics?\n",
        "Classification evaluation metrics help assess the performance of a model. Common metrics include:\n",
        "\n",
        "Accuracy: The ratio of correctly predicted observations to the total observations.\n",
        "\n",
        "Precision: The ratio of correctly predicted positive observations to the total predicted positives.\n",
        "\n",
        "Recall (Sensitivity): The ratio of correctly predicted positive observations to all actual positives.\n",
        "\n",
        "F1 Score: The harmonic mean of precision and recall.\n",
        "\n",
        "ROC-AUC Curve: A graphical representation of the model’s ability to distinguish between classes."
      ],
      "metadata": {
        "id": "l4UYvRYAPZGS"
      }
    },
    {
      "cell_type": "markdown",
      "source": [
        "# Q 12 How does class imbalance affect Logistic Regression?\n",
        "\n",
        "Logistic Regression can become biased toward the majority class, leading to poor predictive performance for the minority class."
      ],
      "metadata": {
        "id": "Qz-eNSlTPmNZ"
      }
    },
    {
      "cell_type": "markdown",
      "source": [
        "# Q 13 What is Hyperparameter Tuning in Logistic Regression?\n",
        "\n",
        "Hyperparameter tuning involves adjusting parameters like the regularization strength (λ) and solver type to improve model performance."
      ],
      "metadata": {
        "id": "SLCkRNwdPtDg"
      }
    },
    {
      "cell_type": "markdown",
      "source": [
        "# Q 14 What are different solvers in Logistic Regression? Which one should be used?\n",
        "\n",
        "'liblinear' for small datasets\n",
        "\n",
        "'saga' for large datasets and L1 regularization\n",
        "\n",
        "'lbfgs' for default performance with L2 regularization\n",
        "\n"
      ],
      "metadata": {
        "id": "RR6dYSNlPyki"
      }
    },
    {
      "cell_type": "markdown",
      "source": [
        "# Q 15 How is Logistic Regression extended for multiclass classification?\n",
        "Using techniques like:\n",
        "\n",
        "One-vs-Rest (OvR)\n",
        "\n",
        "Softmax (Multinomial)"
      ],
      "metadata": {
        "id": "8SsvH69sP8pL"
      }
    },
    {
      "cell_type": "markdown",
      "source": [
        "# Q 16 What are the advantages and disadvantages of Logistic Regression?\n",
        "\n",
        "Advantages: Simple, interpretable, efficient.\n",
        "\n",
        "Disadvantages: Assumes linearity, sensitive to outliers."
      ],
      "metadata": {
        "id": "kSsgdqycQCq1"
      }
    },
    {
      "cell_type": "markdown",
      "source": [
        "# Q 17 What are some use cases of Logistic Regression?\n",
        "\n",
        "Spam email detection\n",
        "\n",
        "Disease diagnosis\n",
        "\n",
        "Credit risk assessment"
      ],
      "metadata": {
        "id": "uwkMcRleQJou"
      }
    },
    {
      "cell_type": "markdown",
      "source": [
        "# Q 18 What is the difference between Softmax Regression and Logistic Regression?\n",
        "Logistic Regression is for binary classification; Softmax Regression is for multiclass classification.\n",
        "\n",
        "# Q 19 How do we choose between One-vs-Rest (OvR) and Softmax for multiclass classification?\n",
        "\n",
        "OvR for smaller datasets.\n",
        "\n",
        "Softmax for better efficiency with larger datasets.\n",
        "\n",
        "# Q 20How do we interpret coefficients in Logistic Regression?\n",
        "Coefficients represent the log-odds change for a one-unit increase in the feature, holding other features constant.\n",
        "\n"
      ],
      "metadata": {
        "id": "DDC6PI_NQPRE"
      }
    },
    {
      "cell_type": "markdown",
      "source": [
        "# **Practical**"
      ],
      "metadata": {
        "id": "X4bhgygeQ5-z"
      }
    },
    {
      "cell_type": "markdown",
      "source": [
        "# Q 11. Write a Python program that loads a dataset, splits it into training and testing sets, applies Logistic Regression, and prints the model accuracy."
      ],
      "metadata": {
        "id": "SfOmwg3yRKpY"
      }
    },
    {
      "cell_type": "code",
      "execution_count": 15,
      "metadata": {
        "colab": {
          "base_uri": "https://localhost:8080/"
        },
        "id": "rS50T8NtNgr3",
        "outputId": "f1272a6e-b76e-4650-f957-cc9ff0afc6e2"
      },
      "outputs": [
        {
          "output_type": "stream",
          "name": "stdout",
          "text": [
            "Model Accuracy: 92.78%\n"
          ]
        },
        {
          "output_type": "stream",
          "name": "stderr",
          "text": [
            "/usr/local/lib/python3.11/dist-packages/sklearn/linear_model/_logistic.py:465: ConvergenceWarning: lbfgs failed to converge (status=1):\n",
            "STOP: TOTAL NO. of ITERATIONS REACHED LIMIT.\n",
            "\n",
            "Increase the number of iterations (max_iter) or scale the data as shown in:\n",
            "    https://scikit-learn.org/stable/modules/preprocessing.html\n",
            "Please also refer to the documentation for alternative solver options:\n",
            "    https://scikit-learn.org/stable/modules/linear_model.html#logistic-regression\n",
            "  n_iter_i = _check_optimize_result(\n"
          ]
        }
      ],
      "source": [
        "import pandas as pd\n",
        "from sklearn.model_selection import train_test_split\n",
        "from sklearn.linear_model import LogisticRegression\n",
        "from sklearn.metrics import accuracy_score\n",
        "\n",
        "# Load the dataset\n",
        "data = pd.read_csv('/content/drive/MyDrive/qr_features.csv')\n",
        "\n",
        "# Assuming the target column is named 'target' and the rest are features\n",
        "X = data.drop(columns=['Label'])\n",
        "y = data['Label']\n",
        "\n",
        "# Split the data into training and testing sets\n",
        "X_train, X_test, y_train, y_test = train_test_split(X, y, test_size=0.2, random_state=42)\n",
        "\n",
        "# Apply Logistic Regression\n",
        "model = LogisticRegression()\n",
        "model.fit(X_train, y_train)\n",
        "\n",
        "# Make predictions\n",
        "y_pred = model.predict(X_test)\n",
        "\n",
        "# Print the model accuracy\n",
        "accuracy = accuracy_score(y_test, y_pred)\n",
        "print(f'Model Accuracy: {accuracy * 100:.2f}%')\n"
      ]
    },
    {
      "cell_type": "markdown",
      "source": [
        "# Q 2 Write a Python program to apply L1 regularization (Lasso) on a dataset using LogisticRegression(penalty='l1') and print the model accuracy.\n"
      ],
      "metadata": {
        "id": "xmIU3-BcScWc"
      }
    },
    {
      "cell_type": "code",
      "source": [
        "from sklearn.linear_model import LogisticRegression\n",
        "\n",
        "# Apply Logistic Regression with L1 regularization (Lasso)\n",
        "model = LogisticRegression(penalty='l1', solver='liblinear')\n",
        "model.fit(X_train, y_train)\n",
        "\n",
        "# Make predictions\n",
        "y_pred = model.predict(X_test)\n",
        "\n",
        "# Print the model accuracy\n",
        "accuracy = accuracy_score(y_test, y_pred)\n",
        "print(f'L1 Regularization Model Accuracy: {accuracy * 100:.2f}%')\n"
      ],
      "metadata": {
        "colab": {
          "base_uri": "https://localhost:8080/"
        },
        "id": "Mhfe6VX-R_kb",
        "outputId": "fe973b00-db00-4056-ee1f-530b797235ec"
      },
      "execution_count": 16,
      "outputs": [
        {
          "output_type": "stream",
          "name": "stdout",
          "text": [
            "L1 Regularization Model Accuracy: 92.90%\n"
          ]
        }
      ]
    },
    {
      "cell_type": "markdown",
      "source": [
        ". Write a Python program to train Logistic Regression with L2 regularization (Ridge) using LogisticRegression(penalty='l2'). Print model accuracy and coefficients."
      ],
      "metadata": {
        "id": "quGNZ6i4SiK7"
      }
    },
    {
      "cell_type": "code",
      "source": [
        "# Apply Logistic Regression with L2 regularization (Ridge)\n",
        "model = LogisticRegression(penalty='l2')\n",
        "model.fit(X_train, y_train)\n",
        "\n",
        "# Make predictions\n",
        "y_pred = model.predict(X_test)\n",
        "\n",
        "# Print the model accuracy\n",
        "accuracy = accuracy_score(y_test, y_pred)\n",
        "print(f'L2 Regularization Model Accuracy: {accuracy * 100:.2f}%')\n",
        "\n",
        "# Print the coefficients\n",
        "print('Model Coefficients:', model.coef_)\n"
      ],
      "metadata": {
        "colab": {
          "base_uri": "https://localhost:8080/"
        },
        "id": "F4zuR5oRSflh",
        "outputId": "f138b360-6e54-4b31-e650-92b9ee70acb7"
      },
      "execution_count": 17,
      "outputs": [
        {
          "output_type": "stream",
          "name": "stdout",
          "text": [
            "L2 Regularization Model Accuracy: 92.78%\n",
            "Model Coefficients: [[ 0.00000000e+00 -2.91298555e-03  1.71035997e-01 -7.45352646e-01\n",
            "  -3.09848850e-02 -7.27458566e+00  1.94878687e+00  0.00000000e+00\n",
            "  -3.09848850e-02 -3.09848850e-02  0.00000000e+00  0.00000000e+00\n",
            "   0.00000000e+00  0.00000000e+00  0.00000000e+00  0.00000000e+00]]\n"
          ]
        },
        {
          "output_type": "stream",
          "name": "stderr",
          "text": [
            "/usr/local/lib/python3.11/dist-packages/sklearn/linear_model/_logistic.py:465: ConvergenceWarning: lbfgs failed to converge (status=1):\n",
            "STOP: TOTAL NO. of ITERATIONS REACHED LIMIT.\n",
            "\n",
            "Increase the number of iterations (max_iter) or scale the data as shown in:\n",
            "    https://scikit-learn.org/stable/modules/preprocessing.html\n",
            "Please also refer to the documentation for alternative solver options:\n",
            "    https://scikit-learn.org/stable/modules/linear_model.html#logistic-regression\n",
            "  n_iter_i = _check_optimize_result(\n"
          ]
        }
      ]
    },
    {
      "cell_type": "markdown",
      "source": [
        "# Q 4 . Write a Python program to train Logistic Regression with Elastic Net Regularization (penalty='elasticnet')."
      ],
      "metadata": {
        "id": "nbNAG_4hSncI"
      }
    },
    {
      "cell_type": "code",
      "source": [
        "# Apply Logistic Regression with Elastic Net regularization\n",
        "model = LogisticRegression(penalty='elasticnet', l1_ratio=0.5, solver='saga')\n",
        "model.fit(X_train, y_train)\n",
        "\n",
        "# Make predictions\n",
        "y_pred = model.predict(X_test)\n",
        "\n",
        "# Print the model accuracy\n",
        "accuracy = accuracy_score(y_test, y_pred)\n",
        "print(f'Elastic Net Model Accuracy: {accuracy * 100:.2f}%')\n"
      ],
      "metadata": {
        "colab": {
          "base_uri": "https://localhost:8080/"
        },
        "id": "SkXviypcSj6L",
        "outputId": "ab823b59-fba3-4e1a-e892-6fa576cc6a3b"
      },
      "execution_count": 18,
      "outputs": [
        {
          "output_type": "stream",
          "name": "stdout",
          "text": [
            "Elastic Net Model Accuracy: 85.93%\n"
          ]
        },
        {
          "output_type": "stream",
          "name": "stderr",
          "text": [
            "/usr/local/lib/python3.11/dist-packages/sklearn/linear_model/_sag.py:348: ConvergenceWarning: The max_iter was reached which means the coef_ did not converge\n",
            "  warnings.warn(\n"
          ]
        }
      ]
    },
    {
      "cell_type": "markdown",
      "source": [
        "# Q 5 5. Write a Python program to train a Logistic Regression model for multiclass classification using multi_class='ovr'."
      ],
      "metadata": {
        "id": "ToVUaeB7SuNj"
      }
    },
    {
      "cell_type": "code",
      "source": [
        "# Apply Logistic Regression for multiclass classification with 'ovr'\n",
        "model = LogisticRegression(multi_class='ovr')\n",
        "model.fit(X_train, y_train)\n",
        "\n",
        "# Make predictions\n",
        "y_pred = model.predict(X_test)\n",
        "\n",
        "# Print the model accuracy\n",
        "accuracy = accuracy_score(y_test, y_pred)\n",
        "print(f'Multiclass OVR Model Accuracy: {accuracy * 100:.2f}%')\n"
      ],
      "metadata": {
        "colab": {
          "base_uri": "https://localhost:8080/"
        },
        "id": "qcwK4OkASqRp",
        "outputId": "a5807d6b-ab6c-40cb-94c3-62785da26537"
      },
      "execution_count": 19,
      "outputs": [
        {
          "output_type": "stream",
          "name": "stdout",
          "text": [
            "Multiclass OVR Model Accuracy: 92.78%\n"
          ]
        },
        {
          "output_type": "stream",
          "name": "stderr",
          "text": [
            "/usr/local/lib/python3.11/dist-packages/sklearn/linear_model/_logistic.py:1256: FutureWarning: 'multi_class' was deprecated in version 1.5 and will be removed in 1.7. Use OneVsRestClassifier(LogisticRegression(..)) instead. Leave it to its default value to avoid this warning.\n",
            "  warnings.warn(\n",
            "/usr/local/lib/python3.11/dist-packages/sklearn/linear_model/_logistic.py:465: ConvergenceWarning: lbfgs failed to converge (status=1):\n",
            "STOP: TOTAL NO. of ITERATIONS REACHED LIMIT.\n",
            "\n",
            "Increase the number of iterations (max_iter) or scale the data as shown in:\n",
            "    https://scikit-learn.org/stable/modules/preprocessing.html\n",
            "Please also refer to the documentation for alternative solver options:\n",
            "    https://scikit-learn.org/stable/modules/linear_model.html#logistic-regression\n",
            "  n_iter_i = _check_optimize_result(\n"
          ]
        }
      ]
    },
    {
      "cell_type": "markdown",
      "source": [
        "# Q 6 6. Write a Python program to apply GridSearchCV to tune the hyperparameters (C and penalty) of Logistic Regression. Print the best parameters and accuracy."
      ],
      "metadata": {
        "id": "ZsInAluLS2pD"
      }
    },
    {
      "cell_type": "code",
      "source": [
        "from sklearn.model_selection import GridSearchCV\n",
        "\n",
        "# Define the parameter grid\n",
        "param_grid = {\n",
        "    'C': [0.1, 1, 10],\n",
        "    'penalty': ['l1', 'l2'],\n",
        "    'solver': ['liblinear']\n",
        "}\n",
        "\n",
        "# Apply GridSearchCV\n",
        "grid = GridSearchCV(LogisticRegression(), param_grid, cv=5, scoring='accuracy')\n",
        "grid.fit(X_train, y_train)\n",
        "\n",
        "# Print the best parameters and accuracy\n",
        "print(f'Best Parameters: {grid.best_params_}')\n",
        "print(f'Best Accuracy: {grid.best_score_ * 100:.2f}%')\n"
      ],
      "metadata": {
        "colab": {
          "base_uri": "https://localhost:8080/"
        },
        "id": "yAKvBMy6Sx4b",
        "outputId": "3ce90850-33db-4555-ff51-a0ff1fea5f72"
      },
      "execution_count": 20,
      "outputs": [
        {
          "output_type": "stream",
          "name": "stdout",
          "text": [
            "Best Parameters: {'C': 10, 'penalty': 'l1', 'solver': 'liblinear'}\n",
            "Best Accuracy: 93.27%\n"
          ]
        }
      ]
    },
    {
      "cell_type": "markdown",
      "source": [
        "# Q 7 7. Write a Python program to evaluate Logistic Regression using Stratified K-Fold Cross-Validation. Print the average accuracy."
      ],
      "metadata": {
        "id": "5f6h3cMdS98r"
      }
    },
    {
      "cell_type": "code",
      "source": [
        "from sklearn.model_selection import StratifiedKFold, cross_val_score\n",
        "\n",
        "# Define the Stratified K-Fold cross-validation\n",
        "skf = StratifiedKFold(n_splits=5, shuffle=True, random_state=42)\n",
        "\n",
        "# Apply cross-validation\n",
        "scores = cross_val_score(LogisticRegression(), X, y, cv=skf, scoring='accuracy')\n",
        "\n",
        "# Print the average accuracy\n",
        "print(f'Average Accuracy: {scores.mean() * 100:.2f}%')\n"
      ],
      "metadata": {
        "colab": {
          "base_uri": "https://localhost:8080/"
        },
        "id": "XIkDS3iDS7cF",
        "outputId": "b144a792-5001-4aab-cd06-def0d5a526ca"
      },
      "execution_count": 21,
      "outputs": [
        {
          "output_type": "stream",
          "name": "stdout",
          "text": [
            "Average Accuracy: 93.15%\n"
          ]
        },
        {
          "output_type": "stream",
          "name": "stderr",
          "text": [
            "/usr/local/lib/python3.11/dist-packages/sklearn/linear_model/_logistic.py:465: ConvergenceWarning: lbfgs failed to converge (status=1):\n",
            "STOP: TOTAL NO. of ITERATIONS REACHED LIMIT.\n",
            "\n",
            "Increase the number of iterations (max_iter) or scale the data as shown in:\n",
            "    https://scikit-learn.org/stable/modules/preprocessing.html\n",
            "Please also refer to the documentation for alternative solver options:\n",
            "    https://scikit-learn.org/stable/modules/linear_model.html#logistic-regression\n",
            "  n_iter_i = _check_optimize_result(\n"
          ]
        }
      ]
    },
    {
      "cell_type": "markdown",
      "source": [
        "# Q 8. Write a Python program to load a dataset from a CSV file, apply Logistic Regression, and evaluate its accuracy."
      ],
      "metadata": {
        "id": "TQMchWcZTEL5"
      }
    },
    {
      "cell_type": "code",
      "source": [
        "# Load the dataset\n",
        "data = pd.read_csv('/content/drive/MyDrive/qr_features.csv')\n",
        "\n",
        "# Define features and target\n",
        "X = data.drop(columns=['Label'])\n",
        "y = data['Label']\n",
        "\n",
        "# Split the data\n",
        "X_train, X_test, y_train, y_test = train_test_split(X, y, test_size=0.2, random_state=42)\n",
        "\n",
        "# Apply Logistic Regression\n",
        "model = LogisticRegression()\n",
        "model.fit(X_train, y_train)\n",
        "\n",
        "# Make predictions\n",
        "y_pred = model.predict(X_test)\n",
        "\n",
        "# Evaluate accuracy\n",
        "accuracy = accuracy_score(y_test, y_pred)\n",
        "print(f'Dataset Model Accuracy: {accuracy * 100:.2f}%')\n"
      ],
      "metadata": {
        "colab": {
          "base_uri": "https://localhost:8080/"
        },
        "id": "dISA_I7ZTB1w",
        "outputId": "50d7f1e6-2471-43e5-cfed-1eb9926afc38"
      },
      "execution_count": 23,
      "outputs": [
        {
          "output_type": "stream",
          "name": "stdout",
          "text": [
            "Dataset Model Accuracy: 92.78%\n"
          ]
        },
        {
          "output_type": "stream",
          "name": "stderr",
          "text": [
            "/usr/local/lib/python3.11/dist-packages/sklearn/linear_model/_logistic.py:465: ConvergenceWarning: lbfgs failed to converge (status=1):\n",
            "STOP: TOTAL NO. of ITERATIONS REACHED LIMIT.\n",
            "\n",
            "Increase the number of iterations (max_iter) or scale the data as shown in:\n",
            "    https://scikit-learn.org/stable/modules/preprocessing.html\n",
            "Please also refer to the documentation for alternative solver options:\n",
            "    https://scikit-learn.org/stable/modules/linear_model.html#logistic-regression\n",
            "  n_iter_i = _check_optimize_result(\n"
          ]
        }
      ]
    },
    {
      "cell_type": "markdown",
      "source": [
        "# Q 9 9. Write a Python program to apply RandomizedSearchCV to tune hyperparameters (C, penalty, solver) in Logistic Regression. Print the best parameters and accuracy.\n",
        "\n"
      ],
      "metadata": {
        "id": "PpSw1uGWThm6"
      }
    },
    {
      "cell_type": "code",
      "source": [
        "from sklearn.model_selection import RandomizedSearchCV\n",
        "from sklearn.linear_model import LogisticRegression\n",
        "\n",
        "# Define the parameter grid\n",
        "param_dist = {\n",
        "    'C': [0.01, 0.1, 1, 10, 100],\n",
        "    'penalty': ['l1', 'l2'],\n",
        "    'solver': ['liblinear', 'saga']\n",
        "}\n",
        "\n",
        "# Apply RandomizedSearchCV\n",
        "random_search = RandomizedSearchCV(LogisticRegression(), param_distributions=param_dist, cv=5, scoring='accuracy', n_iter=10, random_state=42)\n",
        "random_search.fit(X_train, y_train)\n",
        "\n",
        "# Print the best parameters and accuracy\n",
        "print(f'Best Parameters: {random_search.best_params_}')\n",
        "print(f'Best Accuracy: {random_search.best_score_ * 100:.2f}%')\n"
      ],
      "metadata": {
        "colab": {
          "base_uri": "https://localhost:8080/"
        },
        "id": "NcX7P6JjTHkP",
        "outputId": "52f4e290-7aea-4d10-810a-3c153f0fdc45"
      },
      "execution_count": 24,
      "outputs": [
        {
          "output_type": "stream",
          "name": "stderr",
          "text": [
            "/usr/local/lib/python3.11/dist-packages/sklearn/linear_model/_sag.py:348: ConvergenceWarning: The max_iter was reached which means the coef_ did not converge\n",
            "  warnings.warn(\n",
            "/usr/local/lib/python3.11/dist-packages/sklearn/linear_model/_sag.py:348: ConvergenceWarning: The max_iter was reached which means the coef_ did not converge\n",
            "  warnings.warn(\n",
            "/usr/local/lib/python3.11/dist-packages/sklearn/linear_model/_sag.py:348: ConvergenceWarning: The max_iter was reached which means the coef_ did not converge\n",
            "  warnings.warn(\n",
            "/usr/local/lib/python3.11/dist-packages/sklearn/linear_model/_sag.py:348: ConvergenceWarning: The max_iter was reached which means the coef_ did not converge\n",
            "  warnings.warn(\n",
            "/usr/local/lib/python3.11/dist-packages/sklearn/linear_model/_sag.py:348: ConvergenceWarning: The max_iter was reached which means the coef_ did not converge\n",
            "  warnings.warn(\n",
            "/usr/local/lib/python3.11/dist-packages/sklearn/linear_model/_sag.py:348: ConvergenceWarning: The max_iter was reached which means the coef_ did not converge\n",
            "  warnings.warn(\n",
            "/usr/local/lib/python3.11/dist-packages/sklearn/linear_model/_sag.py:348: ConvergenceWarning: The max_iter was reached which means the coef_ did not converge\n",
            "  warnings.warn(\n",
            "/usr/local/lib/python3.11/dist-packages/sklearn/linear_model/_sag.py:348: ConvergenceWarning: The max_iter was reached which means the coef_ did not converge\n",
            "  warnings.warn(\n",
            "/usr/local/lib/python3.11/dist-packages/sklearn/linear_model/_sag.py:348: ConvergenceWarning: The max_iter was reached which means the coef_ did not converge\n",
            "  warnings.warn(\n",
            "/usr/local/lib/python3.11/dist-packages/sklearn/linear_model/_sag.py:348: ConvergenceWarning: The max_iter was reached which means the coef_ did not converge\n",
            "  warnings.warn(\n",
            "/usr/local/lib/python3.11/dist-packages/sklearn/linear_model/_sag.py:348: ConvergenceWarning: The max_iter was reached which means the coef_ did not converge\n",
            "  warnings.warn(\n",
            "/usr/local/lib/python3.11/dist-packages/sklearn/linear_model/_sag.py:348: ConvergenceWarning: The max_iter was reached which means the coef_ did not converge\n",
            "  warnings.warn(\n",
            "/usr/local/lib/python3.11/dist-packages/sklearn/linear_model/_sag.py:348: ConvergenceWarning: The max_iter was reached which means the coef_ did not converge\n",
            "  warnings.warn(\n",
            "/usr/local/lib/python3.11/dist-packages/sklearn/linear_model/_sag.py:348: ConvergenceWarning: The max_iter was reached which means the coef_ did not converge\n",
            "  warnings.warn(\n",
            "/usr/local/lib/python3.11/dist-packages/sklearn/linear_model/_sag.py:348: ConvergenceWarning: The max_iter was reached which means the coef_ did not converge\n",
            "  warnings.warn(\n",
            "/usr/local/lib/python3.11/dist-packages/sklearn/linear_model/_sag.py:348: ConvergenceWarning: The max_iter was reached which means the coef_ did not converge\n",
            "  warnings.warn(\n",
            "/usr/local/lib/python3.11/dist-packages/sklearn/linear_model/_sag.py:348: ConvergenceWarning: The max_iter was reached which means the coef_ did not converge\n",
            "  warnings.warn(\n",
            "/usr/local/lib/python3.11/dist-packages/sklearn/linear_model/_sag.py:348: ConvergenceWarning: The max_iter was reached which means the coef_ did not converge\n",
            "  warnings.warn(\n",
            "/usr/local/lib/python3.11/dist-packages/sklearn/linear_model/_sag.py:348: ConvergenceWarning: The max_iter was reached which means the coef_ did not converge\n",
            "  warnings.warn(\n",
            "/usr/local/lib/python3.11/dist-packages/sklearn/linear_model/_sag.py:348: ConvergenceWarning: The max_iter was reached which means the coef_ did not converge\n",
            "  warnings.warn(\n",
            "/usr/local/lib/python3.11/dist-packages/sklearn/linear_model/_sag.py:348: ConvergenceWarning: The max_iter was reached which means the coef_ did not converge\n",
            "  warnings.warn(\n",
            "/usr/local/lib/python3.11/dist-packages/sklearn/linear_model/_sag.py:348: ConvergenceWarning: The max_iter was reached which means the coef_ did not converge\n",
            "  warnings.warn(\n",
            "/usr/local/lib/python3.11/dist-packages/sklearn/linear_model/_sag.py:348: ConvergenceWarning: The max_iter was reached which means the coef_ did not converge\n",
            "  warnings.warn(\n",
            "/usr/local/lib/python3.11/dist-packages/sklearn/linear_model/_sag.py:348: ConvergenceWarning: The max_iter was reached which means the coef_ did not converge\n",
            "  warnings.warn(\n",
            "/usr/local/lib/python3.11/dist-packages/sklearn/linear_model/_sag.py:348: ConvergenceWarning: The max_iter was reached which means the coef_ did not converge\n",
            "  warnings.warn(\n",
            "/usr/local/lib/python3.11/dist-packages/sklearn/linear_model/_sag.py:348: ConvergenceWarning: The max_iter was reached which means the coef_ did not converge\n",
            "  warnings.warn(\n",
            "/usr/local/lib/python3.11/dist-packages/sklearn/linear_model/_sag.py:348: ConvergenceWarning: The max_iter was reached which means the coef_ did not converge\n",
            "  warnings.warn(\n",
            "/usr/local/lib/python3.11/dist-packages/sklearn/linear_model/_sag.py:348: ConvergenceWarning: The max_iter was reached which means the coef_ did not converge\n",
            "  warnings.warn(\n",
            "/usr/local/lib/python3.11/dist-packages/sklearn/linear_model/_sag.py:348: ConvergenceWarning: The max_iter was reached which means the coef_ did not converge\n",
            "  warnings.warn(\n",
            "/usr/local/lib/python3.11/dist-packages/sklearn/linear_model/_sag.py:348: ConvergenceWarning: The max_iter was reached which means the coef_ did not converge\n",
            "  warnings.warn(\n"
          ]
        },
        {
          "output_type": "stream",
          "name": "stdout",
          "text": [
            "Best Parameters: {'solver': 'liblinear', 'penalty': 'l2', 'C': 100}\n",
            "Best Accuracy: 93.27%\n"
          ]
        }
      ]
    },
    {
      "cell_type": "markdown",
      "source": [
        "# Q 10 10. Write a Python program to implement One-vs-One (OvO) Multiclass Logistic Regression and print accuracy."
      ],
      "metadata": {
        "id": "UZafja7oTnic"
      }
    },
    {
      "cell_type": "code",
      "source": [
        "from sklearn.multiclass import OneVsOneClassifier\n",
        "\n",
        "# Apply One-vs-One Logistic Regression\n",
        "ovo_model = OneVsOneClassifier(LogisticRegression())\n",
        "ovo_model.fit(X_train, y_train)\n",
        "\n",
        "# Predict and evaluate\n",
        "y_pred = ovo_model.predict(X_test)\n",
        "accuracy = accuracy_score(y_test, y_pred)\n",
        "print(f'OvO Model Accuracy: {accuracy * 100:.2f}%')\n"
      ],
      "metadata": {
        "colab": {
          "base_uri": "https://localhost:8080/"
        },
        "id": "GOiqk25QTepE",
        "outputId": "9ba935ab-173e-4102-e1ac-37bf53f3b061"
      },
      "execution_count": 25,
      "outputs": [
        {
          "output_type": "stream",
          "name": "stdout",
          "text": [
            "OvO Model Accuracy: 92.78%\n"
          ]
        },
        {
          "output_type": "stream",
          "name": "stderr",
          "text": [
            "/usr/local/lib/python3.11/dist-packages/sklearn/linear_model/_logistic.py:465: ConvergenceWarning: lbfgs failed to converge (status=1):\n",
            "STOP: TOTAL NO. of ITERATIONS REACHED LIMIT.\n",
            "\n",
            "Increase the number of iterations (max_iter) or scale the data as shown in:\n",
            "    https://scikit-learn.org/stable/modules/preprocessing.html\n",
            "Please also refer to the documentation for alternative solver options:\n",
            "    https://scikit-learn.org/stable/modules/linear_model.html#logistic-regression\n",
            "  n_iter_i = _check_optimize_result(\n"
          ]
        }
      ]
    },
    {
      "cell_type": "markdown",
      "source": [
        "# Q 11 11. Write a Python program to train a Logistic Regression model and visualize the confusion matrix for binary classification.\n",
        "\n"
      ],
      "metadata": {
        "id": "nrdbwk7vTtKx"
      }
    },
    {
      "cell_type": "code",
      "source": [
        "from sklearn.metrics import confusion_matrix, ConfusionMatrixDisplay\n",
        "\n",
        "# Train Logistic Regression\n",
        "model = LogisticRegression()\n",
        "model.fit(X_train, y_train)\n",
        "\n",
        "# Predict\n",
        "y_pred = model.predict(X_test)\n",
        "\n",
        "# Compute and display confusion matrix\n",
        "cm = confusion_matrix(y_test, y_pred)\n",
        "ConfusionMatrixDisplay(cm).plot()\n"
      ],
      "metadata": {
        "colab": {
          "base_uri": "https://localhost:8080/",
          "height": 625
        },
        "id": "a-jaPuBaTqZ2",
        "outputId": "ad36a1a8-dd81-4a2b-bea1-4d3d30215787"
      },
      "execution_count": 26,
      "outputs": [
        {
          "output_type": "stream",
          "name": "stderr",
          "text": [
            "/usr/local/lib/python3.11/dist-packages/sklearn/linear_model/_logistic.py:465: ConvergenceWarning: lbfgs failed to converge (status=1):\n",
            "STOP: TOTAL NO. of ITERATIONS REACHED LIMIT.\n",
            "\n",
            "Increase the number of iterations (max_iter) or scale the data as shown in:\n",
            "    https://scikit-learn.org/stable/modules/preprocessing.html\n",
            "Please also refer to the documentation for alternative solver options:\n",
            "    https://scikit-learn.org/stable/modules/linear_model.html#logistic-regression\n",
            "  n_iter_i = _check_optimize_result(\n"
          ]
        },
        {
          "output_type": "execute_result",
          "data": {
            "text/plain": [
              "<sklearn.metrics._plot.confusion_matrix.ConfusionMatrixDisplay at 0x79db67687910>"
            ]
          },
          "metadata": {},
          "execution_count": 26
        },
        {
          "output_type": "display_data",
          "data": {
            "text/plain": [
              "<Figure size 640x480 with 2 Axes>"
            ],
            "image/png": "[encoded data removed]"
          },
          "metadata": {}
        }
      ]
    },
    {
      "cell_type": "markdown",
      "source": [
        "# Q 12 12. Write a Python program to train a Logistic Regression model and evaluate its performance using Precision, Recall, and F1-Score."
      ],
      "metadata": {
        "id": "doWGTi02T4SC"
      }
    },
    {
      "cell_type": "code",
      "source": [
        "from sklearn.metrics import precision_score, recall_score, f1_score\n",
        "\n",
        "# Predict\n",
        "y_pred = model.predict(X_test)\n",
        "\n",
        "# Calculate and print metrics\n",
        "precision = precision_score(y_test, y_pred)\n",
        "recall = recall_score(y_test, y_pred)\n",
        "f1 = f1_score(y_test, y_pred)\n",
        "\n",
        "print(f'Precision: {precision:.2f}')\n",
        "print(f'Recall: {recall:.2f}')\n",
        "print(f'F1 Score: {f1:.2f}')\n"
      ],
      "metadata": {
        "colab": {
          "base_uri": "https://localhost:8080/"
        },
        "id": "IZAL3MdoTzPK",
        "outputId": "8de737af-a361-4321-8a9c-14758194618e"
      },
      "execution_count": 27,
      "outputs": [
        {
          "output_type": "stream",
          "name": "stdout",
          "text": [
            "Precision: 1.00\n",
            "Recall: 0.86\n",
            "F1 Score: 0.93\n"
          ]
        }
      ]
    },
    {
      "cell_type": "markdown",
      "source": [
        "# Q 13. Write a Python program to train a Logistic Regression model on imbalanced data and apply class weights to improve model performance.\n",
        "\n",
        "python\n",
        "Copy\n",
        "Edit\n"
      ],
      "metadata": {
        "id": "lIWvTS2kT9ga"
      }
    },
    {
      "cell_type": "code",
      "source": [
        "# Train Logistic Regression with class weights\n",
        "model = LogisticRegression(class_weight='balanced')\n",
        "model.fit(X_train, y_train)\n",
        "\n",
        "# Predict and evaluate\n",
        "y_pred = model.predict(X_test)\n",
        "accuracy = accuracy_score(y_test, y_pred)\n",
        "print(f'Balanced Class Weight Model Accuracy: {accuracy * 100:.2f}%')\n"
      ],
      "metadata": {
        "colab": {
          "base_uri": "https://localhost:8080/"
        },
        "id": "a-bjpVlcT7Wr",
        "outputId": "3f35c067-caab-4585-bcb4-997e30ff54e2"
      },
      "execution_count": 28,
      "outputs": [
        {
          "output_type": "stream",
          "name": "stdout",
          "text": [
            "Balanced Class Weight Model Accuracy: 92.78%\n"
          ]
        }
      ]
    },
    {
      "cell_type": "markdown",
      "source": [
        "# Q 14 14. Write a Python program to train Logistic Regression on the Titanic dataset, handle missing values, and evaluate performance.\n",
        "\n",
        "python\n",
        "Copy\n",
        "Edit\n"
      ],
      "metadata": {
        "id": "nDKAbMXKUBIF"
      }
    },
    {
      "cell_type": "code",
      "source": [
        "import seaborn as sns\n",
        "from sklearn.impute import SimpleImputer\n",
        "\n",
        "# Load the Titanic dataset\n",
        "titanic = sns.load_dataset('titanic')\n",
        "\n",
        "# Preprocess data\n",
        "titanic.dropna(subset=['embarked', 'survived'], inplace=True)\n",
        "X = titanic[['age', 'fare', 'pclass']].fillna(titanic[['age', 'fare']].median())\n",
        "y = titanic['survived']\n",
        "\n",
        "# Split the data\n",
        "X_train, X_test, y_train, y_test = train_test_split(X, y, test_size=0.2, random_state=42)\n",
        "\n",
        "# Train the model\n",
        "model = LogisticRegression()\n",
        "model.fit(X_train, y_train)\n",
        "\n",
        "# Predict and evaluate\n",
        "y_pred = model.predict(X_test)\n",
        "accuracy = accuracy_score(y_test, y_pred)\n",
        "print(f'Titanic Model Accuracy: {accuracy * 100:.2f}%')\n"
      ],
      "metadata": {
        "colab": {
          "base_uri": "https://localhost:8080/"
        },
        "id": "cvxfdQLWUAfD",
        "outputId": "446a9a28-6612-439d-c769-d79f2692f730"
      },
      "execution_count": 29,
      "outputs": [
        {
          "output_type": "stream",
          "name": "stdout",
          "text": [
            "Titanic Model Accuracy: 72.47%\n"
          ]
        }
      ]
    },
    {
      "cell_type": "markdown",
      "source": [
        "# Q 15 15. Write a Python program to apply feature scaling (Standardization) before training a Logistic Regression model. Evaluate its accuracy and compare results with and without scaling."
      ],
      "metadata": {
        "id": "eLIuCdfyUKru"
      }
    },
    {
      "cell_type": "code",
      "source": [
        "from sklearn.preprocessing import StandardScaler\n",
        "\n",
        "# Standardize the features\n",
        "scaler = StandardScaler()\n",
        "X_train_scaled = scaler.fit_transform(X_train)\n",
        "X_test_scaled = scaler.transform(X_test)\n",
        "\n",
        "# Train and evaluate without scaling\n",
        "model = LogisticRegression()\n",
        "model.fit(X_train, y_train)\n",
        "y_pred = model.predict(X_test)\n",
        "print(f'Accuracy without Scaling: {accuracy_score(y_test, y_pred) * 100:.2f}%')\n",
        "\n",
        "# Train and evaluate with scaling\n",
        "model.fit(X_train_scaled, y_train)\n",
        "y_pred_scaled = model.predict(X_test_scaled)\n",
        "print(f'Accuracy with Scaling: {accuracy_score(y_test, y_pred_scaled) * 100:.2f}%')\n"
      ],
      "metadata": {
        "colab": {
          "base_uri": "https://localhost:8080/"
        },
        "id": "kNW7VuXeUINA",
        "outputId": "77f8de69-1e84-4584-9c6f-2540f379b950"
      },
      "execution_count": 31,
      "outputs": [
        {
          "output_type": "stream",
          "name": "stdout",
          "text": [
            "Accuracy without Scaling: 72.47%\n",
            "Accuracy with Scaling: 72.47%\n"
          ]
        }
      ]
    },
    {
      "cell_type": "markdown",
      "source": [
        "# 16. Write a Python program to train Logistic Regression and evaluate its performance using ROC-AUC score.\n",
        "\n",
        "python\n",
        "Copy\n",
        "Edit\n"
      ],
      "metadata": {
        "id": "K_nhZ_4IUlt1"
      }
    },
    {
      "cell_type": "code",
      "source": [
        "from sklearn.metrics import roc_auc_score\n",
        "\n",
        "# Train the Logistic Regression model\n",
        "model = LogisticRegression()\n",
        "model.fit(X_train, y_train)\n",
        "\n",
        "# Predict probabilities\n",
        "y_probs = model.predict_proba(X_test)[:, 1]\n",
        "\n",
        "# Calculate ROC-AUC score\n",
        "roc_auc = roc_auc_score(y_test, y_probs)\n",
        "print(f'ROC-AUC Score: {roc_auc:.2f}')\n"
      ],
      "metadata": {
        "colab": {
          "base_uri": "https://localhost:8080/"
        },
        "id": "jtTc8mCuUOKf",
        "outputId": "da7e969e-1099-4e52-d3b0-68ed40ba1ebf"
      },
      "execution_count": 32,
      "outputs": [
        {
          "output_type": "stream",
          "name": "stdout",
          "text": [
            "ROC-AUC Score: 0.73\n"
          ]
        }
      ]
    },
    {
      "cell_type": "markdown",
      "source": [
        "# 17 . Write a Python program to train Logistic Regression using a custom learning rate (C=0.5) and evaluate accuracy."
      ],
      "metadata": {
        "id": "VWlVvJoDUpb7"
      }
    },
    {
      "cell_type": "code",
      "source": [
        "# Train Logistic Regression with custom regularization strength\n",
        "model = LogisticRegression(C=0.5)\n",
        "model.fit(X_train, y_train)\n",
        "\n",
        "# Predict and evaluate\n",
        "y_pred = model.predict(X_test)\n",
        "accuracy = accuracy_score(y_test, y_pred)\n",
        "print(f'Accuracy with C=0.5: {accuracy * 100:.2f}%')\n",
        "/\n"
      ],
      "metadata": {
        "colab": {
          "base_uri": "https://localhost:8080/"
        },
        "id": "hEyoeh0cUo3-",
        "outputId": "26f645f1-1fc5-40ec-aa2b-46c58e1b04c5"
      },
      "execution_count": 33,
      "outputs": [
        {
          "output_type": "stream",
          "name": "stdout",
          "text": [
            "Accuracy with C=0.5: 72.47%\n"
          ]
        },
        {
          "output_type": "execute_result",
          "data": {
            "text/plain": [
              "()"
            ]
          },
          "metadata": {},
          "execution_count": 33
        }
      ]
    },
    {
      "cell_type": "markdown",
      "source": [
        "# Q 18. Write a Python program to train Logistic Regression and identify important features based on model coefficients.\n",
        "\n"
      ],
      "metadata": {
        "id": "39M2el79Uv-r"
      }
    },
    {
      "cell_type": "code",
      "source": [
        "# Train Logistic Regression\n",
        "model = LogisticRegression()\n",
        "model.fit(X_train, y_train)\n",
        "\n",
        "# Get feature importance (coefficients)\n",
        "importance = model.coef_[0]\n",
        "\n",
        "# Print feature importance\n",
        "for feature, coef in zip(X_train.columns, importance):\n",
        "    print(f'{feature}: {coef:.4f}')\n"
      ],
      "metadata": {
        "colab": {
          "base_uri": "https://localhost:8080/"
        },
        "id": "Dn47NytFUvJ4",
        "outputId": "7b8b49fc-f963-4668-e4b3-7a0b60160f2b"
      },
      "execution_count": 34,
      "outputs": [
        {
          "output_type": "stream",
          "name": "stdout",
          "text": [
            "age: -0.0349\n",
            "fare: 0.0034\n",
            "pclass: -0.9478\n"
          ]
        }
      ]
    },
    {
      "cell_type": "markdown",
      "source": [
        "# Q 19 19. Write a Python program to train Logistic Regression and evaluate its performance using Cohen’s Kappa Score."
      ],
      "metadata": {
        "id": "67cSw9UDU5NW"
      }
    },
    {
      "cell_type": "code",
      "source": [
        "from sklearn.metrics import cohen_kappa_score\n",
        "\n",
        "# Predict\n",
        "y_pred = model.predict(X_test)\n",
        "\n",
        "# Calculate Cohen's Kappa Score\n",
        "kappa = cohen_kappa_score(y_test, y_pred)\n",
        "print(f'Cohen\\'s Kappa Score: {kappa:.2f}')\n"
      ],
      "metadata": {
        "colab": {
          "base_uri": "https://localhost:8080/"
        },
        "id": "CtlzHL0oU3EY",
        "outputId": "96868182-e242-42bd-dbe6-478dd8137d26"
      },
      "execution_count": 35,
      "outputs": [
        {
          "output_type": "stream",
          "name": "stdout",
          "text": [
            "Cohen's Kappa Score: 0.39\n"
          ]
        }
      ]
    },
    {
      "cell_type": "markdown",
      "source": [
        "# 20 20. Write a Python program to train Logistic Regression and visualize the Precision-Recall Curve for binary classification."
      ],
      "metadata": {
        "id": "c7OV2ST2U_DH"
      }
    },
    {
      "cell_type": "code",
      "source": [
        "from sklearn.metrics import precision_recall_curve\n",
        "import matplotlib.pyplot as plt\n",
        "\n",
        "# Predict probabilities\n",
        "y_probs = model.predict_proba(X_test)[:, 1]\n",
        "\n",
        "# Calculate precision and recall\n",
        "precision, recall, thresholds = precision_recall_curve(y_test, y_probs)\n",
        "\n",
        "# Plot Precision-Recall curve\n",
        "plt.plot(recall, precision, marker='.')\n",
        "plt.xlabel('Recall')\n",
        "plt.ylabel('Precision')\n",
        "plt.title('Precision-Recall Curve')\n",
        "plt.show()\n"
      ],
      "metadata": {
        "colab": {
          "base_uri": "https://localhost:8080/",
          "height": 472
        },
        "id": "hnA4etRwU88y",
        "outputId": "6a6f2a78-685e-426a-8a6d-a04d8bfdb6b0"
      },
      "execution_count": 36,
      "outputs": [
        {
          "output_type": "display_data",
          "data": {
            "text/plain": [
              "<Figure size 640x480 with 1 Axes>"
            ],
            "image/png": "[encoded data removed]"
          },
          "metadata": {}
        }
      ]
    },
    {
      "cell_type": "markdown",
      "source": [
        "# 21 21. Write a Python program to train Logistic Regression with different solvers ('liblinear', 'saga', 'lbfgs') and compare their accuracy.\n",
        "\n",
        "\n"
      ],
      "metadata": {
        "id": "tIaYqH9tVD3O"
      }
    },
    {
      "cell_type": "code",
      "source": [
        "solvers = ['liblinear', 'saga', 'lbfgs']\n",
        "\n",
        "for solver in solvers:\n",
        "    model = LogisticRegression(solver=solver, max_iter=5000)\n",
        "    model.fit(X_train, y_train)\n",
        "    y_pred = model.predict(X_test)\n",
        "    accuracy = accuracy_score(y_test, y_pred)\n",
        "    print(f'{solver} Solver Accuracy: {accuracy * 100:.2f}%')\n"
      ],
      "metadata": {
        "colab": {
          "base_uri": "https://localhost:8080/"
        },
        "id": "47cmy_BrVBsG",
        "outputId": "1f02e233-eb60-43fe-99f9-06bc547524d3"
      },
      "execution_count": 37,
      "outputs": [
        {
          "output_type": "stream",
          "name": "stdout",
          "text": [
            "liblinear Solver Accuracy: 72.47%\n",
            "saga Solver Accuracy: 71.91%\n",
            "lbfgs Solver Accuracy: 72.47%\n"
          ]
        }
      ]
    },
    {
      "cell_type": "markdown",
      "source": [
        "# 22. Write a Python program to train Logistic Regression and evaluate its performance using Matthews Correlation Coefficient (MCC)."
      ],
      "metadata": {
        "id": "2eGtKaynVKK4"
      }
    },
    {
      "cell_type": "code",
      "source": [
        "from sklearn.metrics import matthews_corrcoef\n",
        "\n",
        "# Predict\n",
        "y_pred = model.predict(X_test)\n",
        "\n",
        "# Calculate MCC\n",
        "mcc = matthews_corrcoef(y_test, y_pred)\n",
        "print(f'Matthews Correlation Coefficient: {mcc:.2f}')\n"
      ],
      "metadata": {
        "colab": {
          "base_uri": "https://localhost:8080/"
        },
        "id": "fE-Qj6bGVIRE",
        "outputId": "550de915-c38b-4e33-c428-8b6b6cbb04d4"
      },
      "execution_count": 38,
      "outputs": [
        {
          "output_type": "stream",
          "name": "stdout",
          "text": [
            "Matthews Correlation Coefficient: 0.40\n"
          ]
        }
      ]
    },
    {
      "cell_type": "markdown",
      "source": [
        "# 23. Write a Python program to train Logistic Regression on both raw and standardized data. Compare their accuracy to see the impact of feature scaling."
      ],
      "metadata": {
        "id": "z6yJma5WVOcE"
      }
    },
    {
      "cell_type": "code",
      "source": [
        "# Train on raw data\n",
        "model_raw = LogisticRegression()\n",
        "model_raw.fit(X_train, y_train)\n",
        "y_pred_raw = model_raw.predict(X_test)\n",
        "accuracy_raw = accuracy_score(y_test, y_pred_raw)\n",
        "\n",
        "# Train on standardized data\n",
        "scaler = StandardScaler()\n",
        "X_train_scaled = scaler.fit_transform(X_train)\n",
        "X_test_scaled = scaler.transform(X_test)\n",
        "\n",
        "model_scaled = LogisticRegression()\n",
        "model_scaled.fit(X_train_scaled, y_train)\n",
        "y_pred_scaled = model_scaled.predict(X_test_scaled)\n",
        "accuracy_scaled = accuracy_score(y_test, y_pred_scaled)\n",
        "\n",
        "print(f'Accuracy on Raw Data: {accuracy_raw * 100:.2f}%')\n",
        "print(f'Accuracy on Scaled Data: {accuracy_scaled * 100:.2f}%')\n"
      ],
      "metadata": {
        "colab": {
          "base_uri": "https://localhost:8080/"
        },
        "id": "gu-iUcUzVMuI",
        "outputId": "f739ebb5-de57-43ae-9bd6-77685be5ca90"
      },
      "execution_count": 39,
      "outputs": [
        {
          "output_type": "stream",
          "name": "stdout",
          "text": [
            "Accuracy on Raw Data: 72.47%\n",
            "Accuracy on Scaled Data: 72.47%\n"
          ]
        }
      ]
    },
    {
      "cell_type": "markdown",
      "source": [
        "# 24. Write a Python program to train Logistic Regression and find the optimal C (regularization strength) using cross-validation."
      ],
      "metadata": {
        "id": "_2FXwyQ2VSug"
      }
    },
    {
      "cell_type": "code",
      "source": [
        "from sklearn.model_selection import cross_val_score\n",
        "\n",
        "# Values of C to try\n",
        "C_values = [0.01, 0.1, 1, 10, 100]\n",
        "\n",
        "best_C = 0\n",
        "best_score = 0\n",
        "\n",
        "# Cross-validation for each C value\n",
        "for C in C_values:\n",
        "    model = LogisticRegression(C=C)\n",
        "    scores = cross_val_score(model, X_train, y_train, cv=5, scoring='accuracy')\n",
        "    avg_score = scores.mean()\n",
        "    print(f'C={C}, Average Accuracy: {avg_score:.2f}')\n",
        "\n",
        "    if avg_score > best_score:\n",
        "        best_C = C\n",
        "        best_score = avg_score\n",
        "\n",
        "print(f'Best C: {best_C}, Best Cross-Validation Accuracy: {best_score:.2f}')\n"
      ],
      "metadata": {
        "colab": {
          "base_uri": "https://localhost:8080/"
        },
        "id": "VUQah7vSVQzt",
        "outputId": "1da57b3d-622c-4c7e-d1c3-5ae54c096e96"
      },
      "execution_count": 40,
      "outputs": [
        {
          "output_type": "stream",
          "name": "stdout",
          "text": [
            "C=0.01, Average Accuracy: 0.69\n",
            "C=0.1, Average Accuracy: 0.70\n",
            "C=1, Average Accuracy: 0.70\n",
            "C=10, Average Accuracy: 0.70\n",
            "C=100, Average Accuracy: 0.70\n",
            "Best C: 10, Best Cross-Validation Accuracy: 0.70\n"
          ]
        }
      ]
    },
    {
      "cell_type": "markdown",
      "source": [
        "# 25. Write a Python program to train Logistic Regression, save the trained model using joblib, and load it again to make predictions."
      ],
      "metadata": {
        "id": "7dhcl45_VXyU"
      }
    },
    {
      "cell_type": "code",
      "source": [
        "import joblib\n",
        "\n",
        "# Train and save the model\n",
        "model = LogisticRegression()\n",
        "model.fit(X_train, y_train)\n",
        "joblib.dump(model, 'logistic_model.joblib')\n",
        "\n",
        "# Load the model\n",
        "loaded_model = joblib.load('logistic_model.joblib')\n",
        "\n",
        "# Predict with the loaded model\n",
        "y_pred = loaded_model.predict(X_test)\n",
        "print(f'Accuracy with Loaded Model: {accuracy_score(y_test, y_pred) * 100:.2f}%')\n"
      ],
      "metadata": {
        "colab": {
          "base_uri": "https://localhost:8080/"
        },
        "id": "wJ2TErvOVVVF",
        "outputId": "a67785fc-0e5f-4341-9035-d7300e75cbc6"
      },
      "execution_count": 41,
      "outputs": [
        {
          "output_type": "stream",
          "name": "stdout",
          "text": [
            "Accuracy with Loaded Model: 72.47%\n"
          ]
        }
      ]
    },
    {
      "cell_type": "code",
      "source": [],
      "metadata": {
        "id": "Q5YT4OEKVaLc"
      },
      "execution_count": null,
      "outputs": []
    }
  ]
}