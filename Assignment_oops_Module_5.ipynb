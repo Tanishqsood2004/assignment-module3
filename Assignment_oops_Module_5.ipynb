{
  "nbformat": 4,
  "nbformat_minor": 0,
  "metadata": {
    "colab": {
      "provenance": []
    },
    "kernelspec": {
      "name": "python3",
      "display_name": "Python 3"
    },
    "language_info": {
      "name": "python"
    }
  },
  "cells": [
    {
      "cell_type": "markdown",
      "source": [
        "# Q 1  What are the five key concepts of Object-Oriented Programming (OOP)?"
      ],
      "metadata": {
        "id": "VnCK2qpvMeMM"
      }
    },
    {
      "cell_type": "code",
      "execution_count": null,
      "metadata": {
        "id": "Ct83AxrlL8XK"
      },
      "outputs": [],
      "source": []
    },
    {
      "cell_type": "markdown",
      "source": [
        "The five key concepts of Object-Oriented Programming (OOP) are:\n",
        "\n",
        "Encapsulation: Bundling the data (attributes) and methods (functions) that operate on the data into a single unit or class, and restricting access to some of the object's components to ensure controlled interaction.\n",
        "\n",
        "Abstraction: Hiding the complex implementation details and exposing only the necessary parts. This allows users to interact with the object at a high level without needing to understand the internal workings.\n",
        "\n",
        "Inheritance: A mechanism where one class (child class) can inherit attributes and methods from another class (parent class), promoting code reuse and creating a hierarchical relationship between classes.\n",
        "\n",
        "Polymorphism: Allowing objects to be treated as instances of their parent class, enabling one function or method to operate in different ways depending on the object it is acting upon.\n",
        "\n",
        "Classes and Objects: A class defines a blueprint for creating objects (instances), which hold the data and behavior. An object is an instance of a class and represents a real-world entity with attributes (data) and behaviors (methods).\n",
        "\n",
        "\n",
        "\n",
        "\n",
        "\n",
        "\n"
      ],
      "metadata": {
        "id": "gkKmAbdhMbFg"
      }
    },
    {
      "cell_type": "markdown",
      "source": [
        "\n",
        "# Write a Python class for a `Car` with attributes for `make`, `model`, and `year`. Include a method to display"
      ],
      "metadata": {
        "id": "jFnNZSauM02U"
      }
    },
    {
      "cell_type": "code",
      "source": [
        "class Car:\n",
        "    def __init__(self, make, model, year):\n",
        "        self.make = make\n",
        "        self.model = model\n",
        "        self.year = year\n",
        "\n",
        "    def display_info(self):\n",
        "        print(f\"Car Information: {self.year} {self.make} {self.model}\")\n",
        "\n",
        "# Example usage\n",
        "my_car = Car(\"Toyota\", \"Camry\", 2020)\n",
        "my_car.display_info()\n"
      ],
      "metadata": {
        "colab": {
          "base_uri": "https://localhost:8080/"
        },
        "id": "EC1suRulMbqW",
        "outputId": "6a373c95-6236-4e1c-bb3e-aa774f2acf4b"
      },
      "execution_count": 1,
      "outputs": [
        {
          "output_type": "stream",
          "name": "stdout",
          "text": [
            "Car Information: 2020 Toyota Camry\n"
          ]
        }
      ]
    },
    {
      "cell_type": "markdown",
      "source": [
        "# Q 3  Explain the difference between instance methods and class methods. Provide an example of each"
      ],
      "metadata": {
        "id": "QYueFUk_NGWj"
      }
    },
    {
      "cell_type": "markdown",
      "source": [
        "In Python, instance methods and class methods differ in how they interact with the class and its instances:\n",
        "\n",
        "1. Instance Methods:\n",
        "Definition: Instance methods operate on the instance (object) of the class. They can access and modify instance attributes.\n",
        "How they are called: They are called on objects (instances of a class) and use self to refer to the object they are operating on.\n",
        "2. Class Methods:\n",
        "Definition: Class methods operate on the class itself, not the instance. They can modify class-level attributes or provide functionality related to the class as a whole. They do not interact with instance-specific data but with class-wide data.\n",
        "How they are called: They are called on the class itself and use cls to refer to the class. Class methods are defined using the @classmethod decorator."
      ],
      "metadata": {
        "id": "Mj-omZ8lNi0T"
      }
    },
    {
      "cell_type": "code",
      "source": [
        "class Car:\n",
        "    # Class attribute\n",
        "    car_count = 0\n",
        "\n",
        "    def __init__(self, make, model, year):\n",
        "        # Instance attributes\n",
        "        self.make = make\n",
        "        self.model = model\n",
        "        self.year = year\n",
        "        Car.car_count += 1\n",
        "\n",
        "    # Instance method\n",
        "    def display_info(self):\n",
        "        print(f\"Car Information: {self.year} {self.make} {self.model}\")\n",
        "\n",
        "    # Class method\n",
        "    @classmethod\n",
        "    def total_cars(cls):\n",
        "        print(f\"Total number of cars: {cls.car_count}\")\n",
        "\n",
        "# Example usage\n",
        "car1 = Car(\"Toyota\", \"Camry\", 2020)\n",
        "car2 = Car(\"Honda\", \"Civic\", 2019)\n",
        "\n",
        "# Calling instance method\n",
        "car1.display_info()  # Outputs: Car Information: 2020 Toyota Camry\n",
        "\n",
        "# Calling class method\n",
        "Car.total_cars()     # Outputs: Total number of cars: 2\n"
      ],
      "metadata": {
        "colab": {
          "base_uri": "https://localhost:8080/"
        },
        "id": "d07GgviaM8qU",
        "outputId": "463ac614-f8f3-474e-c876-743fd37fec72"
      },
      "execution_count": 2,
      "outputs": [
        {
          "output_type": "stream",
          "name": "stdout",
          "text": [
            "Car Information: 2020 Toyota Camry\n",
            "Total number of cars: 2\n"
          ]
        }
      ]
    },
    {
      "cell_type": "markdown",
      "source": [
        "# Q4 . How does Python implement method overloading? Give an example."
      ],
      "metadata": {
        "id": "fKKNW1BPOOSD"
      }
    },
    {
      "cell_type": "markdown",
      "source": [
        "Python does not support traditional method overloading like other languages (e.g., Java or C++) where multiple methods with the same name but different parameters exist. In Python, a method can only have one definition with a specific name in a class. If you define the method again, it will overwrite the previous definition.\n",
        "\n",
        "However, Python achieves similar functionality through default arguments or by using *args and **kwargs to handle varying numbers of arguments. You can also check argument types within the method to simulate overloading behavior."
      ],
      "metadata": {
        "id": "p1kS3alkOdgi"
      }
    },
    {
      "cell_type": "code",
      "source": [
        "# Example using default arguments:\n",
        "class Calculator:\n",
        "    # Simulating overloading using default arguments\n",
        "    def add(self, a, b=0, c=0):\n",
        "        return a + b + c\n",
        "\n",
        "# Example usage\n",
        "calc = Calculator()\n",
        "\n",
        "print(calc.add(10))        # Outputs: 10 (using one argument)\n",
        "print(calc.add(10, 20))    # Outputs: 30 (using two arguments)\n",
        "print(calc.add(10, 20, 30))# Outputs: 60 (using three arguments)\n"
      ],
      "metadata": {
        "colab": {
          "base_uri": "https://localhost:8080/"
        },
        "id": "8mbjgK4SNvns",
        "outputId": "23ff9158-a671-45a6-f283-95f6cb219fc8"
      },
      "execution_count": 3,
      "outputs": [
        {
          "output_type": "stream",
          "name": "stdout",
          "text": [
            "10\n",
            "30\n",
            "60\n"
          ]
        }
      ]
    },
    {
      "cell_type": "code",
      "source": [
        "# Example using *args for flexibility:\n",
        "class Calculator:\n",
        "    # Simulating overloading using *args\n",
        "    def add(self, *args):\n",
        "        return sum(args)\n",
        "\n",
        "# Example usage\n",
        "calc = Calculator()\n",
        "\n",
        "print(calc.add(10))        # Outputs: 10 (with one argument)\n",
        "print(calc.add(10, 20))    # Outputs: 30 (with two arguments)\n",
        "print(calc.add(10, 20, 30))# Outputs: 60 (with three arguments)\n"
      ],
      "metadata": {
        "colab": {
          "base_uri": "https://localhost:8080/"
        },
        "id": "6F2E50JJOi7D",
        "outputId": "9854d711-738e-4d1c-af09-df2d46b1a809"
      },
      "execution_count": 4,
      "outputs": [
        {
          "output_type": "stream",
          "name": "stdout",
          "text": [
            "10\n",
            "30\n",
            "60\n"
          ]
        }
      ]
    },
    {
      "cell_type": "markdown",
      "source": [
        "In this example, the add method accepts a variable number of arguments using *args, achieving flexibility similar to method overloading.\n",
        "\n",
        "Key Points:\n",
        "Python does not support true method overloading (i.e., multiple methods with the same name but different signatures).\n",
        "Instead, use default arguments or *args and **kwargs to allow methods to accept varying numbers or types of arguments."
      ],
      "metadata": {
        "id": "WGBkhntQO6De"
      }
    },
    {
      "cell_type": "markdown",
      "source": [
        "# Q 5 What are the three types of access modifiers in Python? How are they denoted?\n",
        "\n",
        "\n"
      ],
      "metadata": {
        "id": "s0eywxidPNvI"
      }
    },
    {
      "cell_type": "markdown",
      "source": [
        "In Python, access modifiers control the accessibility of class attributes and methods. Python uses naming conventions to define these access levels, but unlike some other languages (like Java or C++), Python does not enforce strict access control. Instead, it relies on conventions to indicate how an attribute or method should be accessed.\n",
        "\n",
        "The three types of access modifiers in Python are:\n",
        "Public:\n",
        "\n",
        "Denotation: No underscores before the attribute or method name.\n",
        "Description: Public members can be accessed from anywhere, both inside and outside the class. This is the default access level in Python.\n"
      ],
      "metadata": {
        "id": "GQrFkWZXPVfc"
      }
    },
    {
      "cell_type": "code",
      "source": [
        "class MyClass:\n",
        "    def __init__(self):\n",
        "        self.public_attribute = \"I am public\"\n",
        "\n",
        "obj = MyClass()\n",
        "print(obj.public_attribute)  # Accessible\n"
      ],
      "metadata": {
        "colab": {
          "base_uri": "https://localhost:8080/"
        },
        "id": "3Ujoke8ZOxZX",
        "outputId": "c28b41e4-7449-4c4f-acb3-849a5803f636"
      },
      "execution_count": 5,
      "outputs": [
        {
          "output_type": "stream",
          "name": "stdout",
          "text": [
            "I am public\n"
          ]
        }
      ]
    },
    {
      "cell_type": "markdown",
      "source": [
        "Protected:\n",
        "\n",
        "Denotation: A single underscore (_) before the attribute or method name.\n",
        "Description: Protected members are intended to be accessed only within the class and its subclasses. This is more of a convention, as Python does not enforce it. It is still possible to access protected members from outside the class.\n"
      ],
      "metadata": {
        "id": "N9ML_KMZPZWg"
      }
    },
    {
      "cell_type": "code",
      "source": [
        "class MyClass:\n",
        "    def __init__(self):\n",
        "        self._protected_attribute = \"I am protected\"\n",
        "\n",
        "obj = MyClass()\n",
        "print(obj._protected_attribute)  # Accessible but should be treated as protected\n"
      ],
      "metadata": {
        "colab": {
          "base_uri": "https://localhost:8080/"
        },
        "id": "va0_xWbePXfB",
        "outputId": "71b5a8b4-51bd-45f5-8a77-fffec10003cf"
      },
      "execution_count": 6,
      "outputs": [
        {
          "output_type": "stream",
          "name": "stdout",
          "text": [
            "I am protected\n"
          ]
        }
      ]
    },
    {
      "cell_type": "markdown",
      "source": [
        "Private:\n",
        "\n",
        "Denotation: A double underscore (__) before the attribute or method name.\n",
        "Description: Private members are intended to be inaccessible from outside the class. Python implements name mangling, which changes the name of the private variable to include the class name, making it more difficult to access. However, it is still possible to access private members using a modified name.\n"
      ],
      "metadata": {
        "id": "-jR_n2sKPc8J"
      }
    },
    {
      "cell_type": "code",
      "source": [
        "class MyClass:\n",
        "    def __init__(self):\n",
        "        self.__private_attribute = \"I am private\"\n",
        "\n",
        "obj = MyClass()\n",
        "# print(obj.__private_attribute)  # This will raise an AttributeError\n",
        "\n",
        "# Accessing via name mangling\n",
        "print(obj._MyClass__private_attribute)  # Still accessible using name mangling\n"
      ],
      "metadata": {
        "colab": {
          "base_uri": "https://localhost:8080/"
        },
        "id": "f-_iOGwlPa5f",
        "outputId": "1f460526-fe49-47e9-9fb9-bf66626ffcad"
      },
      "execution_count": 7,
      "outputs": [
        {
          "output_type": "stream",
          "name": "stdout",
          "text": [
            "I am private\n"
          ]
        }
      ]
    },
    {
      "cell_type": "markdown",
      "source": [
        "Public: No underscore (public_var) — accessible from anywhere.\n",
        "Protected: Single underscore (_protected_var) — should be accessed only within the class and its subclasses.\n",
        "Private: Double underscore (__private_var) — intended to be inaccessible outside the class but can be accessed using name mangling."
      ],
      "metadata": {
        "id": "hxSzbNj9PgeM"
      }
    },
    {
      "cell_type": "markdown",
      "source": [
        "# Q 6  Describe the five types of inheritance in Python. Provide a simple example of multiple inheritance.\n",
        "\n",
        "\n"
      ],
      "metadata": {
        "id": "gTrUZbygPqkX"
      }
    },
    {
      "cell_type": "markdown",
      "source": [
        "In Python, inheritance allows a class to inherit attributes and methods from another class, facilitating code reuse and logical hierarchy. There are five types of inheritance:\n",
        "\n",
        "1. Single Inheritance:\n",
        "A class inherits from only one parent class.\n"
      ],
      "metadata": {
        "id": "0pA5ZprTP4tw"
      }
    },
    {
      "cell_type": "code",
      "source": [
        "class Animal:\n",
        "    def speak(self):\n",
        "        print(\"Animal speaks\")\n",
        "\n",
        "class Dog(Animal):\n",
        "    def bark(self):\n",
        "        print(\"Dog barks\")\n",
        "\n",
        "d = Dog()\n",
        "d.speak()  # Inherited from Animal class\n",
        "d.bark()\n",
        "\n"
      ],
      "metadata": {
        "colab": {
          "base_uri": "https://localhost:8080/"
        },
        "id": "zXZ-v1emPebM",
        "outputId": "a27090ab-b4b5-4736-df8b-5fc98f310696"
      },
      "execution_count": 8,
      "outputs": [
        {
          "output_type": "stream",
          "name": "stdout",
          "text": [
            "Animal speaks\n",
            "Dog barks\n"
          ]
        }
      ]
    },
    {
      "cell_type": "markdown",
      "source": [
        "2. Multiple Inheritance:\n",
        "A class can inherit from more than one parent class.\n"
      ],
      "metadata": {
        "id": "87fVjS62P8Uu"
      }
    },
    {
      "cell_type": "code",
      "source": [
        "class Father:\n",
        "    def work(self):\n",
        "        print(\"Father works\")\n",
        "\n",
        "class Mother:\n",
        "    def care(self):\n",
        "        print(\"Mother cares\")\n",
        "\n",
        "class Child(Father, Mother):\n",
        "    def play(self):\n",
        "        print(\"Child plays\")\n",
        "\n",
        "c = Child()\n",
        "c.work()  # Inherited from Father\n",
        "c.care()  # Inherited from Mother\n",
        "c.play()\n"
      ],
      "metadata": {
        "colab": {
          "base_uri": "https://localhost:8080/"
        },
        "id": "7cGobZtGP6QC",
        "outputId": "399acaa0-d03e-4593-d123-8fe3807a412a"
      },
      "execution_count": 9,
      "outputs": [
        {
          "output_type": "stream",
          "name": "stdout",
          "text": [
            "Father works\n",
            "Mother cares\n",
            "Child plays\n"
          ]
        }
      ]
    },
    {
      "cell_type": "markdown",
      "source": [
        "3. Multilevel Inheritance:\n",
        "A class inherits from a parent class, which in turn inherits from another class, forming a chain of inheritance."
      ],
      "metadata": {
        "id": "WGLQNXk4QBZV"
      }
    },
    {
      "cell_type": "code",
      "source": [
        "class Grandparent:\n",
        "    def wisdom(self):\n",
        "        print(\"Grandparent's wisdom\")\n",
        "\n",
        "class Parent(Grandparent):\n",
        "    def experience(self):\n",
        "        print(\"Parent's experience\")\n",
        "\n",
        "class Child(Parent):\n",
        "    def energy(self):\n",
        "        print(\"Child's energy\")\n",
        "\n",
        "c = Child()\n",
        "c.wisdom()      # Inherited from Grandparent\n",
        "c.experience()  # Inherited from Parent\n",
        "c.energy()\n"
      ],
      "metadata": {
        "colab": {
          "base_uri": "https://localhost:8080/"
        },
        "id": "AERbdNaRP-Iq",
        "outputId": "5b93de05-074d-4bc4-c675-ddeace3891f4"
      },
      "execution_count": 10,
      "outputs": [
        {
          "output_type": "stream",
          "name": "stdout",
          "text": [
            "Grandparent's wisdom\n",
            "Parent's experience\n",
            "Child's energy\n"
          ]
        }
      ]
    },
    {
      "cell_type": "markdown",
      "source": [
        "4. Hierarchical Inheritance:\n",
        "Multiple classes inherit from the same parent class."
      ],
      "metadata": {
        "id": "vCnIF_z8QHS2"
      }
    },
    {
      "cell_type": "code",
      "source": [
        "class Animal:\n",
        "    def eat(self):\n",
        "        print(\"Animal eats\")\n",
        "\n",
        "class Dog(Animal):\n",
        "    def bark(self):\n",
        "        print(\"Dog barks\")\n",
        "\n",
        "class Cat(Animal):\n",
        "    def meow(self):\n",
        "        print(\"Cat meows\")\n",
        "\n",
        "d = Dog()\n",
        "c = Cat()\n",
        "\n",
        "d.eat()  # Inherited from Animal\n",
        "d.bark()\n",
        "\n",
        "c.eat()  # Inherited from Animal\n",
        "c.meow()\n"
      ],
      "metadata": {
        "colab": {
          "base_uri": "https://localhost:8080/"
        },
        "id": "ecLVj5ClQDvc",
        "outputId": "f644f5ee-69da-42df-cef5-20c44614306f"
      },
      "execution_count": 11,
      "outputs": [
        {
          "output_type": "stream",
          "name": "stdout",
          "text": [
            "Animal eats\n",
            "Dog barks\n",
            "Animal eats\n",
            "Cat meows\n"
          ]
        }
      ]
    },
    {
      "cell_type": "markdown",
      "source": [
        "Hybrid Inheritance:\n",
        "A combination of two or more types of inheritance, typically a mix of hierarchical and multiple inheritance."
      ],
      "metadata": {
        "id": "7D9S0aKwQK6E"
      }
    },
    {
      "cell_type": "code",
      "source": [
        "class Animal:\n",
        "    def eat(self):\n",
        "        print(\"Animal eats\")\n",
        "\n",
        "class Dog(Animal):\n",
        "    def bark(self):\n",
        "        print(\"Dog barks\")\n",
        "\n",
        "class Cat(Animal):\n",
        "    def meow(self):\n",
        "        print(\"Cat meows\")\n",
        "\n",
        "class Pet(Dog, Cat):\n",
        "    def play(self):\n",
        "        print(\"Pet plays\")\n",
        "\n",
        "p = Pet()\n",
        "p.eat()   # Inherited from Animal\n",
        "p.bark()  # Inherited from Dog\n",
        "p.meow()  # Inherited from Cat\n",
        "p.play()\n"
      ],
      "metadata": {
        "colab": {
          "base_uri": "https://localhost:8080/"
        },
        "id": "L8y3zuMqQI67",
        "outputId": "f821cfc2-43a0-475c-c94f-345d14d5a2d3"
      },
      "execution_count": 12,
      "outputs": [
        {
          "output_type": "stream",
          "name": "stdout",
          "text": [
            "Animal eats\n",
            "Dog barks\n",
            "Cat meows\n",
            "Pet plays\n"
          ]
        }
      ]
    },
    {
      "cell_type": "markdown",
      "source": [
        "Example of Multiple Inheritance:"
      ],
      "metadata": {
        "id": "cabp2L-zQZbv"
      }
    },
    {
      "cell_type": "code",
      "source": [
        "class Father:\n",
        "    def work(self):\n",
        "        print(\"Father works\")\n",
        "\n",
        "class Mother:\n",
        "    def care(self):\n",
        "        print(\"Mother cares\")\n",
        "\n",
        "class Child(Father, Mother):\n",
        "    def play(self):\n",
        "        print(\"Child plays\")\n",
        "\n",
        "# Example usage\n",
        "c = Child()\n",
        "c.work()  # From Father\n",
        "c.care()  # From Mother\n",
        "c.play()  # From Child\n"
      ],
      "metadata": {
        "colab": {
          "base_uri": "https://localhost:8080/"
        },
        "id": "p3QWJlshQUIZ",
        "outputId": "988dbc0b-bdcd-4611-823e-f5e972a42d89"
      },
      "execution_count": 13,
      "outputs": [
        {
          "output_type": "stream",
          "name": "stdout",
          "text": [
            "Father works\n",
            "Mother cares\n",
            "Child plays\n"
          ]
        }
      ]
    },
    {
      "cell_type": "markdown",
      "source": [
        "# Q 7  What is the Method Resolution Order (MRO) in Python? How can you retrieve it programmatically?"
      ],
      "metadata": {
        "id": "2oWgsrk_QfPQ"
      }
    },
    {
      "cell_type": "markdown",
      "source": [
        "Method Resolution Order (MRO) in Python:\n",
        "The Method Resolution Order (MRO) is the order in which Python looks for a method in a hierarchy of classes. When a method is called on an instance, Python searches for the method starting from the instance's class, then moves through the parent classes in the order specified by the MRO.\n",
        "\n",
        "MRO is especially important in the context of multiple inheritance to ensure that methods are inherited from the correct classes and avoid ambiguity.\n",
        "\n",
        "Python uses the C3 Linearization (C3 superclass linearization) algorithm to determine the MRO. This ensures a consistent order when dealing with complex inheritance hierarchies.\n",
        "\n",
        "How to retrieve MRO programmatically:\n",
        "You can retrieve the MRO using the following methods:\n",
        "\n",
        "ClassName.mro(): Returns a list of the classes in the MRO.\n",
        "ClassName.__mro__: A tuple containing the MRO.\n",
        "help(ClassName): This prints detailed information about the class, including its MRO.\n",
        "Example:"
      ],
      "metadata": {
        "id": "AEiDamXRQ7W2"
      }
    },
    {
      "cell_type": "code",
      "source": [
        "class A:\n",
        "    def process(self):\n",
        "        print(\"Class A\")\n",
        "\n",
        "class B(A):\n",
        "    def process(self):\n",
        "        print(\"Class B\")\n",
        "\n",
        "class C(A):\n",
        "    def process(self):\n",
        "        print(\"Class C\")\n",
        "\n",
        "class D(B, C):\n",
        "    pass\n",
        "\n",
        "# Retrieve MRO\n",
        "print(D.mro())         # Using mro() method\n",
        "print(D.__mro__)       # Using __mro__ attribute\n",
        "\n",
        "# Calling a method to observe MRO in action\n",
        "d = D()\n",
        "d.process()  # Will follow the MRO to find the method\n"
      ],
      "metadata": {
        "colab": {
          "base_uri": "https://localhost:8080/"
        },
        "id": "nA4XGoAhQa9w",
        "outputId": "53b7eef2-ecee-429c-a818-127b0cd93345"
      },
      "execution_count": 14,
      "outputs": [
        {
          "output_type": "stream",
          "name": "stdout",
          "text": [
            "[<class '__main__.D'>, <class '__main__.B'>, <class '__main__.C'>, <class '__main__.A'>, <class 'object'>]\n",
            "(<class '__main__.D'>, <class '__main__.B'>, <class '__main__.C'>, <class '__main__.A'>, <class 'object'>)\n",
            "Class B\n"
          ]
        }
      ]
    },
    {
      "cell_type": "markdown",
      "source": [
        "In this example:\n",
        "\n",
        "The MRO for class D is: D -> B -> C -> A -> object.\n",
        "When calling d.process(), Python first looks in class D, then B, and finds the method in B before reaching C or A.\n",
        "Key points about MRO:\n",
        "Multiple inheritance: MRO ensures that Python correctly resolves method calls when multiple inheritance is used.\n",
        "C3 linearization: Python ensures that the order of method resolution is consistent with a depth-first search but respects inheritance hierarchies.\n",
        "\n",
        "\n",
        "\n",
        "\n",
        "\n"
      ],
      "metadata": {
        "id": "7bGKgmiARgF2"
      }
    },
    {
      "cell_type": "markdown",
      "source": [
        "# Q 8 Create an abstract base class `Shape` with an abstract method `area()`. Then create two subclasses\n",
        "`Circle` and `Rectangle` that implement the `area()` method."
      ],
      "metadata": {
        "id": "42YwksQ-RjNo"
      }
    },
    {
      "cell_type": "markdown",
      "source": [
        "To create an abstract base class in Python, you can use the ABC (Abstract Base Class) module from the abc package. An abstract base class is a class that contains one or more abstract methods that must be implemented by subclasses. Here's an example with Shape as the abstract base class and Circle and Rectangle as subclasses implementing the area() method."
      ],
      "metadata": {
        "id": "hXCei-PIRu7Z"
      }
    },
    {
      "cell_type": "code",
      "source": [
        "from abc import ABC, abstractmethod\n",
        "import math\n",
        "\n",
        "# Abstract base class\n",
        "class Shape(ABC):\n",
        "\n",
        "    @abstractmethod\n",
        "    def area(self):\n",
        "        pass  # Abstract method, must be implemented by subclasses\n",
        "\n",
        "# Subclass Circle\n",
        "class Circle(Shape):\n",
        "    def __init__(self, radius):\n",
        "        self.radius = radius\n",
        "\n",
        "    # Implementing the abstract method\n",
        "    def area(self):\n",
        "        return math.pi * self.radius ** 2\n",
        "\n",
        "# Subclass Rectangle\n",
        "class Rectangle(Shape):\n",
        "    def __init__(self, width, height):\n",
        "        self.width = width\n",
        "        self.height = height\n",
        "\n",
        "    # Implementing the abstract method\n",
        "    def area(self):\n",
        "        return self.width * self.height\n",
        "\n",
        "# Example usage\n",
        "circle = Circle(5)  # Circle with radius 5\n",
        "rectangle = Rectangle(4, 6)  # Rectangle with width 4 and height 6\n",
        "\n",
        "print(f\"Circle Area: {circle.area()}\")       # Outputs: Circle Area: 78.53981633974483\n",
        "print(f\"Rectangle Area: {rectangle.area()}\")  # Outputs: Rectangle Area: 24\n"
      ],
      "metadata": {
        "colab": {
          "base_uri": "https://localhost:8080/"
        },
        "id": "7cnK7FMGQ_YD",
        "outputId": "d8e8d74a-15cc-4103-e654-aff5307be152"
      },
      "execution_count": 15,
      "outputs": [
        {
          "output_type": "stream",
          "name": "stdout",
          "text": [
            "Circle Area: 78.53981633974483\n",
            "Rectangle Area: 24\n"
          ]
        }
      ]
    },
    {
      "cell_type": "markdown",
      "source": [
        "Explanation:\n",
        "Abstract Class (Shape):\n",
        "\n",
        "The Shape class is defined as an abstract base class by inheriting from ABC.\n",
        "The @abstractmethod decorator is used to define area() as an abstract method that must be implemented by any subclass of Shape.\n",
        "Subclass Circle:\n",
        "\n",
        "The Circle class implements the area() method, calculating the area using the formula for the area of a circle: π * r^2.\n",
        "Subclass Rectangle:\n",
        "\n",
        "The Rectangle class implements the area() method, calculating the area using the formula for the area of a rectangle: width * height.\n",
        "Usage:\n",
        "\n",
        "We create instances of Circle and Rectangle and call their area() methods to compute the area based on the specific shape."
      ],
      "metadata": {
        "id": "UUQsEXFeR2Ld"
      }
    },
    {
      "cell_type": "markdown",
      "source": [
        "# Q 9 . Demonstrate polymorphism by creating a function that can work with different shape objects to calculate\n",
        "and print their areas."
      ],
      "metadata": {
        "id": "-GLrXbbYR6eS"
      }
    },
    {
      "cell_type": "markdown",
      "source": [
        "Polymorphism allows a function to work with objects of different types that share a common interface. In this case, we can demonstrate polymorphism by creating a function that works with different shape objects (like Circle and Rectangle) and calculates their areas, even though the objects belong to different classes.\n",
        "\n",
        "Example:"
      ],
      "metadata": {
        "id": "rmbnLuK7SQ6u"
      }
    },
    {
      "cell_type": "code",
      "source": [
        "from abc import ABC, abstractmethod\n",
        "import math\n",
        "\n",
        "# Abstract base class\n",
        "class Shape(ABC):\n",
        "\n",
        "    @abstractmethod\n",
        "    def area(self):\n",
        "        pass\n",
        "\n",
        "# Subclass Circle\n",
        "class Circle(Shape):\n",
        "    def __init__(self, radius):\n",
        "        self.radius = radius\n",
        "\n",
        "    def area(self):\n",
        "        return math.pi * self.radius ** 2\n",
        "\n",
        "# Subclass Rectangle\n",
        "class Rectangle(Shape):\n",
        "    def __init__(self, width, height):\n",
        "        self.width = width\n",
        "        self.height = height\n",
        "\n",
        "    def area(self):\n",
        "        return self.width * self.height\n",
        "\n",
        "# Subclass Triangle\n",
        "class Triangle(Shape):\n",
        "    def __init__(self, base, height):\n",
        "        self.base = base\n",
        "        self.height = height\n",
        "\n",
        "    def area(self):\n",
        "        return 0.5 * self.base * self.height\n",
        "\n",
        "# Polymorphic function\n",
        "def print_area(shape: Shape):\n",
        "    print(f\"The area of the shape is: {shape.area()}\")\n",
        "\n",
        "# Example usage\n",
        "circle = Circle(5)        # Circle with radius 5\n",
        "rectangle = Rectangle(4, 6)  # Rectangle with width 4 and height 6\n",
        "triangle = Triangle(3, 8)  # Triangle with base 3 and height 8\n",
        "\n",
        "# Using the polymorphic function to calculate areas\n",
        "print_area(circle)    # Works with Circle\n",
        "print_area(rectangle) # Works with Rectangle\n",
        "print_area(triangle)  # Works with Triangle\n"
      ],
      "metadata": {
        "colab": {
          "base_uri": "https://localhost:8080/"
        },
        "id": "-ZA8UbShRxlw",
        "outputId": "077b91e3-c23c-4860-bed8-16e11d24ff8a"
      },
      "execution_count": 16,
      "outputs": [
        {
          "output_type": "stream",
          "name": "stdout",
          "text": [
            "The area of the shape is: 78.53981633974483\n",
            "The area of the shape is: 24\n",
            "The area of the shape is: 12.0\n"
          ]
        }
      ]
    },
    {
      "cell_type": "markdown",
      "source": [
        "Explanation:\n",
        "Polymorphism: The print_area() function demonstrates polymorphism. It accepts any object of type Shape (or its subclasses) and calls the area() method, regardless of whether the object is a Circle, Rectangle, or Triangle.\n",
        "\n",
        "Polymorphic behavior: Each shape class (Circle, Rectangle, Triangle) implements the area() method in its own way. When the print_area() function is called, the correct method for each shape is automatically executed.\n",
        "\n",
        "Reusability: This approach allows the print_area() function to be reusable for any future shape classes that implement the Shape interface, making the code flexible and extensible.\n",
        "\n",
        "By using polymorphism, the print_area() function can work with any object that is a subclass of Shape, enabling it to handle different shapes seamlessly.\n"
      ],
      "metadata": {
        "id": "oN_QIfpWSV8L"
      }
    },
    {
      "cell_type": "markdown",
      "source": [
        "# Q 10 Implement encapsulation in a `BankAccount` class with private attributes for `balance` and\n",
        "`account_number`. Include methods for deposit, withdrawal, and balance inquiry."
      ],
      "metadata": {
        "id": "Iw43dwUnSfxk"
      }
    },
    {
      "cell_type": "markdown",
      "source": [
        "To implement encapsulation in a BankAccount class, we need to define private attributes for sensitive data like balance and account_number. These private attributes will be accessible only through public methods, which control how the data is modified or accessed.\n",
        "\n",
        "We use double underscores (__) to denote private attributes, and then provide public methods for depositing money, withdrawing money, and checking the balance.\n",
        "\n",
        "Code Example:"
      ],
      "metadata": {
        "id": "ts9q6a7XTHgx"
      }
    },
    {
      "cell_type": "code",
      "source": [
        "class BankAccount:\n",
        "    def __init__(self, account_number, initial_balance=0):\n",
        "        self.__account_number = account_number  # Private attribute\n",
        "        self.__balance = initial_balance         # Private attribute\n",
        "\n",
        "    def deposit(self, amount):\n",
        "        if amount > 0:\n",
        "            self.__balance += amount\n",
        "            print(f\"Deposited: ${amount:.2f}. New balance: ${self.__balance:.2f}.\")\n",
        "        else:\n",
        "            print(\"Deposit amount must be positive.\")\n",
        "\n",
        "    def withdraw(self, amount):\n",
        "        if 0 < amount <= self.__balance:\n",
        "            self.__balance -= amount\n",
        "            print(f\"Withdrew: ${amount:.2f}. New balance: ${self.__balance:.2f}.\")\n",
        "        else:\n",
        "            print(\"Withdrawal amount must be positive and cannot exceed the balance.\")\n",
        "\n",
        "    def get_balance(self):\n",
        "        return self.__balance\n",
        "\n",
        "    def get_account_number(self):\n",
        "        return self.__account_number\n",
        "\n",
        "\n",
        "# Example usage\n",
        "account = BankAccount(\"123456789\", 1000)  # Creating an account with account number and initial balance\n",
        "\n",
        "# Perform operations\n",
        "account.deposit(500)            # Depositing money\n",
        "account.withdraw(200)           # Withdrawing money\n",
        "print(f\"Account Balance: ${account.get_balance():.2f}\")  # Checking balance\n",
        "print(f\"Account Number: {account.get_account_number()}\")  # Checking account number\n"
      ],
      "metadata": {
        "colab": {
          "base_uri": "https://localhost:8080/"
        },
        "id": "bZSj9JmDSTT9",
        "outputId": "3c7e1dc8-528a-4bf2-c813-583d7ee6df8d"
      },
      "execution_count": 17,
      "outputs": [
        {
          "output_type": "stream",
          "name": "stdout",
          "text": [
            "Deposited: $500.00. New balance: $1500.00.\n",
            "Withdrew: $200.00. New balance: $1300.00.\n",
            "Account Balance: $1300.00\n",
            "Account Number: 123456789\n"
          ]
        }
      ]
    },
    {
      "cell_type": "markdown",
      "source": [
        "Explanation:\n",
        "Private Attributes:\n",
        "\n",
        "The attributes __account_number and __balance are declared as private by prefixing them with double underscores (__). This restricts access to these attributes from outside the class.\n",
        "Public Methods:\n",
        "\n",
        "deposit(amount): Allows depositing money into the account. It checks if the amount is positive before updating the balance.\n",
        "withdraw(amount): Allows withdrawing money from the account. It checks if the amount is positive and does not exceed the current balance.\n",
        "get_balance(): Returns the current balance of the account.\n",
        "get_account_number(): Returns the account number, providing controlled access to the private attribute.\n",
        "Example Usage: The example shows how to create a BankAccount object and perform deposit and withdrawal operations, demonstrating encapsulation. Users interact with the account through methods rather than directly accessing the attributes, promoting safe and controlled access to the account's data."
      ],
      "metadata": {
        "id": "aJAgwhvsTRqX"
      }
    },
    {
      "cell_type": "markdown",
      "source": [],
      "metadata": {
        "id": "CDCt9JB-TRa_"
      }
    },
    {
      "cell_type": "markdown",
      "source": [
        "# Q 11  Write a class that overrides the `__str__` and `__add__` magic methods. What will these methods allow\n",
        "you to do?"
      ],
      "metadata": {
        "id": "VPJFOUOBTYJM"
      }
    },
    {
      "cell_type": "markdown",
      "source": [
        "In Python, magic methods (also known as dunder methods) allow you to define how your objects behave with built-in functions and operators. The __str__ method is used to define a string representation of an object, while the __add__ method allows you to define the behavior of the addition operator (+) for instances of your class.\n",
        "\n",
        "Example Class Implementation:\n",
        "Let's create a class called Vector that represents a mathematical vector in two-dimensional space. We will override the __str__ method to provide a readable string representation of the vector, and we will override the __add__ method to allow the addition of two vectors."
      ],
      "metadata": {
        "id": "qWhKelq_TmZH"
      }
    },
    {
      "cell_type": "code",
      "source": [
        "class Vector:\n",
        "    def __init__(self, x, y):\n",
        "        self.x = x\n",
        "        self.y = y\n",
        "\n",
        "    def __str__(self):\n",
        "        # This method defines the string representation of the object\n",
        "        return f\"Vector({self.x}, {self.y})\"\n",
        "\n",
        "    def __add__(self, other):\n",
        "        # This method allows the addition of two Vector objects\n",
        "        if isinstance(other, Vector):\n",
        "            return Vector(self.x + other.x, self.y + other.y)\n",
        "        return NotImplemented\n",
        "\n",
        "# Example usage\n",
        "v1 = Vector(2, 3)\n",
        "v2 = Vector(5, 7)\n",
        "\n",
        "# Using __str__ method\n",
        "print(v1)  # Outputs: Vector(2, 3)\n",
        "print(v2)  # Outputs: Vector(5, 7)\n",
        "\n",
        "# Using __add__ method\n",
        "v3 = v1 + v2\n",
        "print(v3)  # Outputs: Vector(7, 10)\n"
      ],
      "metadata": {
        "colab": {
          "base_uri": "https://localhost:8080/"
        },
        "id": "lpw7VEErTNtn",
        "outputId": "6415dab1-0f52-4bff-a80b-de8692c726b8"
      },
      "execution_count": 18,
      "outputs": [
        {
          "output_type": "stream",
          "name": "stdout",
          "text": [
            "Vector(2, 3)\n",
            "Vector(5, 7)\n",
            "Vector(7, 10)\n"
          ]
        }
      ]
    },
    {
      "cell_type": "markdown",
      "source": [
        "Explanation:\n",
        "__init__ Method: The constructor initializes the vector with x and y coordinates.\n",
        "\n",
        "__str__ Method:\n",
        "\n",
        "This method provides a user-friendly string representation of the vector. When you use the print() function on a Vector instance or convert it to a string, this method is called. In the example, calling print(v1) outputs Vector(2, 3) instead of the default representation.\n",
        "__add__ Method:\n",
        "\n",
        "This method allows the use of the + operator with Vector objects. When you add two Vector instances (e.g., v1 + v2), this method is invoked. The method checks if the other object is an instance of Vector, and if so, it returns a new Vector instance that represents the sum of the two vectors. If other is not a Vector, it returns NotImplemented, which allows Python to handle the operation gracefully (e.g., by raising a TypeError).\n",
        "Output:"
      ],
      "metadata": {
        "id": "QFI1GKLmTsfJ"
      }
    },
    {
      "cell_type": "markdown",
      "source": [
        "# Q 12 . Create a decorator that measures and prints the execution time of a function."
      ],
      "metadata": {
        "id": "SsmykM3qT1fP"
      }
    },
    {
      "cell_type": "markdown",
      "source": [
        "You can create a decorator in Python to measure and print the execution time of a function by using the time module. A decorator is a function that takes another function as an argument and extends its behavior without modifying its code.\n",
        "\n",
        "Example Decorator:\n",
        "Here's how you can implement a decorator called execution_time to measure the execution time of a function:"
      ],
      "metadata": {
        "id": "cHuGdrpxT-3g"
      }
    },
    {
      "cell_type": "code",
      "source": [
        "import time\n",
        "\n",
        "def execution_time(func):\n",
        "    def wrapper(*args, **kwargs):\n",
        "        start_time = time.time()  # Record the start time\n",
        "        result = func(*args, **kwargs)  # Call the original function\n",
        "        end_time = time.time()  # Record the end time\n",
        "        elapsed_time = end_time - start_time  # Calculate the elapsed time\n",
        "        print(f\"Execution time: {elapsed_time:.4f} seconds\")\n",
        "        return result  # Return the result of the original function\n",
        "    return wrapper\n",
        "\n",
        "# Example usage of the decorator\n",
        "@execution_time\n",
        "def slow_function():\n",
        "    time.sleep(2)  # Simulate a slow function by sleeping for 2 seconds\n",
        "    print(\"Function finished.\")\n",
        "\n",
        "# Calling the decorated function\n",
        "slow_function()\n"
      ],
      "metadata": {
        "colab": {
          "base_uri": "https://localhost:8080/"
        },
        "id": "DE8tf1CwTo3f",
        "outputId": "cd34bb3c-4377-4477-f080-328d368c1036"
      },
      "execution_count": 19,
      "outputs": [
        {
          "output_type": "stream",
          "name": "stdout",
          "text": [
            "Function finished.\n",
            "Execution time: 2.0014 seconds\n"
          ]
        }
      ]
    },
    {
      "cell_type": "markdown",
      "source": [
        "Explanation:\n",
        "Importing the Time Module: The time module is imported to measure the time.\n",
        "\n",
        "Creating the Decorator:\n",
        "\n",
        "execution_time(func) is the decorator function that takes another function (func) as an argument.\n",
        "Inside it, we define an inner function wrapper(*args, **kwargs) that will wrap the original function.\n",
        "Measuring Execution Time:\n",
        "\n",
        "The start_time is recorded before calling the original function.\n",
        "The original function is called with its arguments (*args and **kwargs).\n",
        "The end_time is recorded after the function call.\n",
        "The elapsed time is calculated as end_time - start_time, and it's printed.\n",
        "Returning the Result: The result of the original function is returned from the wrapper.\n",
        "\n",
        "Using the Decorator: The @execution_time syntax is used to decorate the slow_function. When slow_function() is called, it will now print the execution time."
      ],
      "metadata": {
        "id": "XAw-A3GjUKWm"
      }
    },
    {
      "cell_type": "markdown",
      "source": [
        "# Q 13 Explain the concept of the Diamond Problem in multiple inheritance. How does Python resolve it?"
      ],
      "metadata": {
        "id": "i_0AlezVUPap"
      }
    },
    {
      "cell_type": "markdown",
      "source": [
        "The Diamond Problem is a common issue that arises in multiple inheritance scenarios in object-oriented programming. It occurs when a class inherits from two classes that have a common ancestor, leading to ambiguity about which parent's methods or attributes should be inherited by the child class.\n",
        "\n",
        "Diamond Problem Explained:\n",
        "Here's a visual representation of the Diamond Problem:\n",
        "\n"
      ],
      "metadata": {
        "id": "cPRnTZ-oUeQM"
      }
    },
    {
      "cell_type": "markdown",
      "source": [
        "How Python Resolves the Diamond Problem:\n",
        "Python uses a method resolution order (MRO) to address the Diamond Problem. The MRO is determined using the C3 Linearization algorithm, which provides a consistent order of method resolution in cases of multiple inheritance. This ensures that the hierarchy is resolved in a way that maintains the order of inheritance and avoids ambiguity.\n",
        "\n",
        "MRO Example:\n",
        "Let's illustrate this with an example:"
      ],
      "metadata": {
        "id": "kfmxgnQkUjEE"
      }
    },
    {
      "cell_type": "code",
      "source": [
        "class A:\n",
        "    def greet(self):\n",
        "        print(\"Hello from A\")\n",
        "\n",
        "class B(A):\n",
        "    def greet(self):\n",
        "        print(\"Hello from B\")\n",
        "\n",
        "class C(A):\n",
        "    def greet(self):\n",
        "        print(\"Hello from C\")\n",
        "\n",
        "class D(B, C):\n",
        "    pass\n",
        "\n",
        "# Create an instance of D\n",
        "d = D()\n",
        "d.greet()  # Outputs: Hello from B\n"
      ],
      "metadata": {
        "colab": {
          "base_uri": "https://localhost:8080/"
        },
        "id": "6r37ZKZsUDC4",
        "outputId": "c0d39b45-c956-43b7-cf79-f8d8c22a27e8"
      },
      "execution_count": 20,
      "outputs": [
        {
          "output_type": "stream",
          "name": "stdout",
          "text": [
            "Hello from B\n"
          ]
        }
      ]
    },
    {
      "cell_type": "markdown",
      "source": [
        "MRO Resolution:\n",
        "When d.greet() is called, Python checks the MRO for class D.\n",
        "The MRO for class D is determined as D -> B -> C -> A.\n",
        "Python finds the greet() method in class B first, so it calls that method, outputting: Hello from B.\n",
        "Checking MRO Programmatically:\n",
        "You can view the MRO of a class in Python using the mro() method or the __mro__ attribute:"
      ],
      "metadata": {
        "id": "k-r4BcE2UnOe"
      }
    },
    {
      "cell_type": "code",
      "source": [
        "print(D.mro())        # Outputs: [<class '__main__.D'>, <class '__main__.B'>, <class '__main__.C'>, <class '__main__.A'>, <class 'object'>]\n",
        "print(D.__mro__)      # Same output as mro()\n"
      ],
      "metadata": {
        "colab": {
          "base_uri": "https://localhost:8080/"
        },
        "id": "RHvx6ovPUk3y",
        "outputId": "5591669f-80e4-4142-a847-e4c54a6f6777"
      },
      "execution_count": 21,
      "outputs": [
        {
          "output_type": "stream",
          "name": "stdout",
          "text": [
            "[<class '__main__.D'>, <class '__main__.B'>, <class '__main__.C'>, <class '__main__.A'>, <class 'object'>]\n",
            "(<class '__main__.D'>, <class '__main__.B'>, <class '__main__.C'>, <class '__main__.A'>, <class 'object'>)\n"
          ]
        }
      ]
    },
    {
      "cell_type": "markdown",
      "source": [
        "The Diamond Problem arises in multiple inheritance when a class inherits from two classes that share a common base class, leading to ambiguity about which method to invoke.\n",
        "Python resolves this problem using the C3 Linearization algorithm to determine the Method Resolution Order (MRO), ensuring a clear and consistent order of inheritance.\n",
        "The MRO allows Python to decide which method to call when there are multiple potential candidates from parent classes, thereby avoiding ambiguity and maintaining a predictable behavior in class hierarchies."
      ],
      "metadata": {
        "id": "rSzUgJo9Uvaw"
      }
    },
    {
      "cell_type": "markdown",
      "source": [
        "# Q 14 Write a class method that keeps track of the number of instances created from a class."
      ],
      "metadata": {
        "id": "AppVFSErU9lk"
      }
    },
    {
      "cell_type": "markdown",
      "source": [
        "To keep track of the number of instances created from a class, you can use a class variable that increments every time a new instance is created. You can implement this using a class method. Below is an example of a class called InstanceCounter that tracks the number of instances created.\n",
        "\n",
        "Example Implementation:"
      ],
      "metadata": {
        "id": "vMGAZpJ0Vgzs"
      }
    },
    {
      "cell_type": "code",
      "source": [
        "class InstanceCounter:\n",
        "    instance_count = 0  # Class variable to keep track of the number of instances\n",
        "\n",
        "    def __init__(self):\n",
        "        InstanceCounter.instance_count += 1  # Increment the count on each instance creation\n",
        "\n",
        "    @classmethod\n",
        "    def get_instance_count(cls):\n",
        "        \"\"\"Class method to get the number of instances created.\"\"\"\n",
        "        return cls.instance_count\n",
        "\n",
        "# Example usage\n",
        "if __name__ == \"__main__\":\n",
        "    obj1 = InstanceCounter()\n",
        "    obj2 = InstanceCounter()\n",
        "    obj3 = InstanceCounter()\n",
        "\n",
        "    # Retrieve the count of instances created\n",
        "    print(f\"Number of instances created: {InstanceCounter.get_instance_count()}\")  # Outputs: 3\n"
      ],
      "metadata": {
        "colab": {
          "base_uri": "https://localhost:8080/"
        },
        "id": "_ACipkBOUpGA",
        "outputId": "ee88cf86-724e-48b5-b0d8-802e8b86f12e"
      },
      "execution_count": 22,
      "outputs": [
        {
          "output_type": "stream",
          "name": "stdout",
          "text": [
            "Number of instances created: 3\n"
          ]
        }
      ]
    },
    {
      "cell_type": "markdown",
      "source": [
        "Explanation:\n",
        "Class Variable: The variable instance_count is defined as a class variable, which is shared among all instances of the class. This variable is used to keep track of the total number of instances created.\n",
        "\n",
        "__init__ Method: In the constructor (__init__), we increment the instance_count by 1 each time a new instance of InstanceCounter is created.\n",
        "\n",
        "Class Method: The method get_instance_count() is defined as a class method using the @classmethod decorator. This method returns the current value of instance_count.\n",
        "\n",
        "Example Usage: When instances of InstanceCounter are created (three instances in this case), the instance count is incremented. The final print statement retrieves and displays the total number of instances created.\n",
        "\n",
        "Output:\n",
        "When you run the example code, the output will be:\n",
        "This demonstrates that the class method successfully tracks the number of instances created from the InstanceCounter class."
      ],
      "metadata": {
        "id": "M_aLM-udVmTE"
      }
    },
    {
      "cell_type": "markdown",
      "source": [
        "# Q 15 Implement a static method in a class that checks if a given year is a leap year."
      ],
      "metadata": {
        "id": "QfLnmXx-VsdH"
      }
    },
    {
      "cell_type": "markdown",
      "source": [
        "You can implement a static method in a class to check if a given year is a leap year. A year is considered a leap year if:\n",
        "\n",
        "It is divisible by 4.\n",
        "It is not divisible by 100, unless it is also divisible by 400.\n",
        "Here's an example implementation in Python:\n",
        "\n",
        "Example Implementation:"
      ],
      "metadata": {
        "id": "masVQNVkV1XZ"
      }
    },
    {
      "cell_type": "code",
      "source": [
        "class YearUtils:\n",
        "    @staticmethod\n",
        "    def is_leap_year(year):\n",
        "        \"\"\"Check if the given year is a leap year.\"\"\"\n",
        "        if (year % 4 == 0 and year % 100 != 0) or (year % 400 == 0):\n",
        "            return True\n",
        "        return False\n",
        "\n",
        "# Example usage\n",
        "if __name__ == \"__main__\":\n",
        "    year_to_check = 2024\n",
        "    if YearUtils.is_leap_year(year_to_check):\n",
        "        print(f\"{year_to_check} is a leap year.\")\n",
        "    else:\n",
        "        print(f\"{year_to_check} is not a leap year.\")\n"
      ],
      "metadata": {
        "colab": {
          "base_uri": "https://localhost:8080/"
        },
        "id": "SstfZiLmVj6Y",
        "outputId": "b8b933fd-ec8d-4648-8d8b-447fb3bea5c9"
      },
      "execution_count": 23,
      "outputs": [
        {
          "output_type": "stream",
          "name": "stdout",
          "text": [
            "2024 is a leap year.\n"
          ]
        }
      ]
    },
    {
      "cell_type": "markdown",
      "source": [
        "Explanation:\n",
        "Static Method: The method is_leap_year(year) is defined as a static method using the @staticmethod decorator. This means it does not require an instance of the class to be called and does not have access to self or cls.\n",
        "\n",
        "Leap Year Logic: The method implements the logic to check whether the given year is a leap year:\n",
        "\n",
        "If the year is divisible by 4 and not divisible by 100, or if it is divisible by 400, it returns True.\n",
        "Otherwise, it returns False.\n",
        "Example Usage: In the main block, you can check whether a specific year (in this case, 2024) is a leap year by calling the static method directly on the class YearUtils."
      ],
      "metadata": {
        "id": "nOFC49n4V85C"
      }
    },
    {
      "cell_type": "code",
      "source": [],
      "metadata": {
        "id": "rewrIeJgV3Ks"
      },
      "execution_count": null,
      "outputs": []
    }
  ]
}