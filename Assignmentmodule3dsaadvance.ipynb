{
  "nbformat": 4,
  "nbformat_minor": 0,
  "metadata": {
    "colab": {
      "provenance": []
    },
    "kernelspec": {
      "name": "python3",
      "display_name": "Python 3"
    },
    "language_info": {
      "name": "python"
    }
  },
  "cells": [
    {
      "cell_type": "code",
      "execution_count": null,
      "metadata": {
        "id": "z7CYNFuMh7P_"
      },
      "outputs": [],
      "source": []
    },
    {
      "cell_type": "markdown",
      "source": [
        "# Q 1 Write a code to reverse a string"
      ],
      "metadata": {
        "id": "3qUk1yPLiN0Q"
      }
    },
    {
      "cell_type": "code",
      "source": [
        "# Function to reverse a string\n",
        "def reverse_string(s):\n",
        "    return s[::-1]\n",
        "\n",
        "# Example usage\n",
        "string = \"Hello, World!\"\n",
        "reversed_string = reverse_string(string)\n",
        "print(\"Reversed string:\", reversed_string)\n"
      ],
      "metadata": {
        "colab": {
          "base_uri": "https://localhost:8080/"
        },
        "id": "DBbCnq7FiR_g",
        "outputId": "f89bb951-9fa5-4795-81dd-2acd0a4d9cf2"
      },
      "execution_count": 1,
      "outputs": [
        {
          "output_type": "stream",
          "name": "stdout",
          "text": [
            "Reversed string: !dlroW ,olleH\n"
          ]
        }
      ]
    },
    {
      "cell_type": "markdown",
      "source": [
        "# New Section Q 2  Write code to count the number of vowels in  string."
      ],
      "metadata": {
        "id": "6wJYx3FjjTge"
      }
    },
    {
      "cell_type": "code",
      "source": [
        "# Function to count vowels in a string\n",
        "def count_vowels(s):\n",
        "    vowels = \"aeiouAEIOU\"  # List of vowels (both lowercase and uppercase)\n",
        "    count = 0\n",
        "    for char in s:\n",
        "        if char in vowels:\n",
        "            count += 1\n",
        "    return count\n",
        "\n",
        "# Example usage\n",
        "string = \"Hello, World!\"\n",
        "vowel_count = count_vowels(string)\n",
        "print(\"Number of vowels:\", vowel_count)\n"
      ],
      "metadata": {
        "colab": {
          "base_uri": "https://localhost:8080/"
        },
        "id": "kvql3HmpjNBC",
        "outputId": "f9cd17e6-a5f7-485b-c672-f422cc7be89e"
      },
      "execution_count": 2,
      "outputs": [
        {
          "output_type": "stream",
          "name": "stdout",
          "text": [
            "Number of vowels: 3\n"
          ]
        }
      ]
    },
    {
      "cell_type": "markdown",
      "source": [
        "# New Section Q 3 Write a code to check if a given string is palindrome or not."
      ],
      "metadata": {
        "id": "48EShFmIkEPO"
      }
    },
    {
      "cell_type": "code",
      "source": [
        "# Function to check if a string is a palindrome\n",
        "def is_palindrome(s):\n",
        "    # Convert the string to lowercase and remove non-alphanumeric characters\n",
        "    s = ''.join(char.lower() for char in s if char.isalnum())\n",
        "\n",
        "    # Check if the string is the same forwards and backwards\n",
        "    return s == s[::-1]\n",
        "\n",
        "# Example usage\n",
        "string = \"A man, a plan, a canal: Panama\"\n",
        "if is_palindrome(string):\n",
        "    print(\"The string is a palindrome.\")\n",
        "else:\n",
        "    print(\"The string is not a palindrome.\")\n"
      ],
      "metadata": {
        "colab": {
          "base_uri": "https://localhost:8080/"
        },
        "id": "bbRcZH4ej6yD",
        "outputId": "67c84e98-909d-4033-f8ae-7c65fb83a691"
      },
      "execution_count": 3,
      "outputs": [
        {
          "output_type": "stream",
          "name": "stdout",
          "text": [
            "The string is a palindrome.\n"
          ]
        }
      ]
    },
    {
      "cell_type": "markdown",
      "source": [
        "# New Section Q 4 write a code to check if two given strings are anagrams of each other"
      ],
      "metadata": {
        "id": "ujVPTZAAkx-z"
      }
    },
    {
      "cell_type": "code",
      "source": [
        "# Function to check if two strings are anagrams\n",
        "def are_anagrams(str1, str2):\n",
        "    # Remove spaces and convert to lowercase\n",
        "    str1 = ''.join(str1.lower().split())\n",
        "    str2 = ''.join(str2.lower().split())\n",
        "\n",
        "    # Check if sorted characters of both strings are equal\n",
        "    return sorted(str1) == sorted(str2)\n",
        "\n",
        "# Example usage\n",
        "string1 = \"Listen\"\n",
        "string2 = \"Silent\"\n",
        "if are_anagrams(string1, string2):\n",
        "    print(\"The strings are anagrams.\")\n",
        "else:\n",
        "    print(\"The strings are not anagrams.\")\n"
      ],
      "metadata": {
        "colab": {
          "base_uri": "https://localhost:8080/"
        },
        "id": "mVtjdl-ukVop",
        "outputId": "c01c8a42-f196-47ce-bf30-1129b14d9952"
      },
      "execution_count": 4,
      "outputs": [
        {
          "output_type": "stream",
          "name": "stdout",
          "text": [
            "The strings are anagrams.\n"
          ]
        }
      ]
    },
    {
      "cell_type": "markdown",
      "source": [
        "# New Section Q 5 Write a code to find the occurencce of a given substring within another string"
      ],
      "metadata": {
        "id": "1F4EZ_pflS6V"
      }
    },
    {
      "cell_type": "code",
      "source": [
        "# Function to count occurrences of a substring in a string\n",
        "def count_substring(main_string, substring):\n",
        "    return main_string.count(substring)\n",
        "\n",
        "# Example usage\n",
        "main_string = \"hello world, hello everyone\"\n",
        "substring = \"hello\"\n",
        "occurrences = count_substring(main_string, substring)\n",
        "print(f\"The substring '{substring}' occurs {occurrences} times in the main string.\")\n"
      ],
      "metadata": {
        "colab": {
          "base_uri": "https://localhost:8080/"
        },
        "id": "T2PC5aLplEYC",
        "outputId": "71bb2940-4fa9-45a5-a40b-668f8a4cf4f0"
      },
      "execution_count": 5,
      "outputs": [
        {
          "output_type": "stream",
          "name": "stdout",
          "text": [
            "The substring 'hello' occurs 2 times in the main string.\n"
          ]
        }
      ]
    },
    {
      "cell_type": "markdown",
      "source": [
        "# New Section Q 6 Write a code to perform basic string compression using the counts of repeated characters"
      ],
      "metadata": {
        "id": "DJw-fGosl8ai"
      }
    },
    {
      "cell_type": "code",
      "source": [
        "# Function to perform basic string compression\n",
        "def compress_string(s):\n",
        "    compressed = []\n",
        "    count = 1\n",
        "\n",
        "    for i in range(1, len(s)):\n",
        "        if s[i] == s[i - 1]:\n",
        "            count += 1\n",
        "        else:\n",
        "            compressed.append(s[i - 1] + str(count))\n",
        "            count = 1\n",
        "\n",
        "    # Adding the last character and its count\n",
        "    compressed.append(s[-1] + str(count))\n",
        "\n",
        "    # Convert the list to a string\n",
        "    compressed_string = ''.join(compressed)\n",
        "\n",
        "    # Return the compressed string if it's shorter than the original, otherwise return the original\n",
        "    return compressed_string if len(compressed_string) < len(s) else s\n",
        "\n",
        "# Example usage\n",
        "string = \"aaabcccccaaa\"\n",
        "compressed_string = compress_string(string)\n",
        "print(\"Compressed string:\", compressed_string)\n"
      ],
      "metadata": {
        "colab": {
          "base_uri": "https://localhost:8080/"
        },
        "id": "ynXAo2_olz8F",
        "outputId": "6f15d628-91e8-4f2e-b374-dd9df512722f"
      },
      "execution_count": 6,
      "outputs": [
        {
          "output_type": "stream",
          "name": "stdout",
          "text": [
            "Compressed string: a3b1c5a3\n"
          ]
        }
      ]
    },
    {
      "cell_type": "markdown",
      "source": [
        "# New Section Q 7 Write a code to determine if string has all unique characters"
      ],
      "metadata": {
        "id": "S-vNd3KWpE0k"
      }
    },
    {
      "cell_type": "markdown",
      "source": [],
      "metadata": {
        "id": "JCoVKNeipEhF"
      }
    },
    {
      "cell_type": "code",
      "source": [
        "# Function to check if all characters in a string are unique\n",
        "def has_all_unique_characters(s):\n",
        "    # Create a set of characters from the string\n",
        "    return len(set(s)) == len(s)\n",
        "\n",
        "# Example usage\n",
        "string = \"abcdefg\"\n",
        "if has_all_unique_characters(string):\n",
        "    print(\"The string has all unique characters.\")\n",
        "else:\n",
        "    print(\"The string does not have all unique characters.\")\n"
      ],
      "metadata": {
        "colab": {
          "base_uri": "https://localhost:8080/"
        },
        "id": "m02Y5Z8emiG6",
        "outputId": "c45c498a-cc62-4d0c-cfc8-44ff07ec1828"
      },
      "execution_count": 7,
      "outputs": [
        {
          "output_type": "stream",
          "name": "stdout",
          "text": [
            "The string has all unique characters.\n"
          ]
        }
      ]
    },
    {
      "cell_type": "markdown",
      "source": [
        "# New Section Q 8 Write a code to convert a given string to lowercase or uppercase"
      ],
      "metadata": {
        "id": "y-eRIEH_pitg"
      }
    },
    {
      "cell_type": "code",
      "source": [
        "# Function to convert a string to lowercase\n",
        "def to_lowercase(s):\n",
        "    return s.lower()\n",
        "\n",
        "# Example usage\n",
        "string = \"Hello, World!\"\n",
        "lowercase_string = to_lowercase(string)\n",
        "print(\"Lowercase string:\", lowercase_string)\n"
      ],
      "metadata": {
        "colab": {
          "base_uri": "https://localhost:8080/"
        },
        "id": "B2oAgoqhpdyd",
        "outputId": "aa6322e9-8d2b-4b89-dc0c-098d6c28b5aa"
      },
      "execution_count": 8,
      "outputs": [
        {
          "output_type": "stream",
          "name": "stdout",
          "text": [
            "Lowercase string: hello, world!\n"
          ]
        }
      ]
    },
    {
      "cell_type": "code",
      "source": [
        "# Function to convert a string to uppercase\n",
        "def to_uppercase(s):\n",
        "    return s.upper()\n",
        "\n",
        "# Example usage\n",
        "string = \"Hello, World!\"\n",
        "uppercase_string = to_uppercase(string)\n",
        "print(\"Uppercase string:\", uppercase_string)\n"
      ],
      "metadata": {
        "colab": {
          "base_uri": "https://localhost:8080/"
        },
        "id": "vzP1eOYrqbbB",
        "outputId": "cb9fb74a-a0ac-47a4-e09a-953ff1789539"
      },
      "execution_count": 9,
      "outputs": [
        {
          "output_type": "stream",
          "name": "stdout",
          "text": [
            "Uppercase string: HELLO, WORLD!\n"
          ]
        }
      ]
    },
    {
      "cell_type": "markdown",
      "source": [
        "# New Section Q 9 Write a code to count the numbers of words in a string.\n"
      ],
      "metadata": {
        "id": "ZkcGstjJqwJ0"
      }
    },
    {
      "cell_type": "code",
      "source": [
        "# Function to count the number of words in a string\n",
        "def count_words(s):\n",
        "    # Split the string into words based on whitespace and count the number of words\n",
        "    words = s.split()\n",
        "    return len(words)\n",
        "\n",
        "# Example usage\n",
        "string = \"Hello, how are you doing today?\"\n",
        "word_count = count_words(string)\n",
        "print(\"Number of words:\", word_count)\n"
      ],
      "metadata": {
        "colab": {
          "base_uri": "https://localhost:8080/"
        },
        "id": "Y8H_whrHqmps",
        "outputId": "62dac471-3d0f-4773-f24b-603e6bec1b56"
      },
      "execution_count": 10,
      "outputs": [
        {
          "output_type": "stream",
          "name": "stdout",
          "text": [
            "Number of words: 6\n"
          ]
        }
      ]
    },
    {
      "cell_type": "markdown",
      "source": [
        "# New Section Q 10 Write a code to concatenate two strings withput using + operators."
      ],
      "metadata": {
        "id": "o3Dp1v_irT6r"
      }
    },
    {
      "cell_type": "code",
      "source": [
        "# Function to concatenate two strings using join\n",
        "def concatenate_strings(s1, s2):\n",
        "    return ''.join([s1, s2])\n",
        "\n",
        "# Example usage\n",
        "string1 = \"Hello, \"\n",
        "string2 = \"World!\"\n",
        "concatenated_string = concatenate_strings(string1, string2)\n",
        "print(\"Concatenated string:\", concatenated_string)\n"
      ],
      "metadata": {
        "colab": {
          "base_uri": "https://localhost:8080/"
        },
        "id": "AMhKtIcZrRp5",
        "outputId": "029c80c7-4014-4401-fffd-bcaa0a2ac186"
      },
      "execution_count": 11,
      "outputs": [
        {
          "output_type": "stream",
          "name": "stdout",
          "text": [
            "Concatenated string: Hello, World!\n"
          ]
        }
      ]
    },
    {
      "cell_type": "markdown",
      "source": [
        "# New Section Q 11 Write a code to remove all occurences of a specific elements from a list"
      ],
      "metadata": {
        "id": "sE5nzm-47OXC"
      }
    },
    {
      "cell_type": "markdown",
      "source": [],
      "metadata": {
        "id": "l4Z-HJGy7OAm"
      }
    },
    {
      "cell_type": "code",
      "source": [
        "# Function to remove all occurrences of a specific element from the list\n",
        "def remove_element(lst, element):\n",
        "    return [x for x in lst if x != element]\n",
        "\n",
        "# Example usage\n",
        "my_list = [1, 2, 3, 4, 3, 5, 3, 6]\n",
        "element_to_remove = 3\n",
        "new_list = remove_element(my_list, element_to_remove)\n",
        "print(\"Updated list:\", new_list)\n"
      ],
      "metadata": {
        "colab": {
          "base_uri": "https://localhost:8080/"
        },
        "id": "SI7FQHISrxYK",
        "outputId": "b2aee4cd-9aa9-4d63-f847-e2490c36a676"
      },
      "execution_count": 1,
      "outputs": [
        {
          "output_type": "stream",
          "name": "stdout",
          "text": [
            "Updated list: [1, 2, 4, 5, 6]\n"
          ]
        }
      ]
    },
    {
      "cell_type": "markdown",
      "source": [
        "# New Section Q 12 Implement a code to find the second largest numbers in a given list of integers"
      ],
      "metadata": {
        "id": "pQQafxeM7rdE"
      }
    },
    {
      "cell_type": "code",
      "source": [
        "# Function to find the second largest number\n",
        "def second_largest(nums):\n",
        "    # Remove the largest number from the list\n",
        "    largest = max(nums)\n",
        "    nums.remove(largest)\n",
        "\n",
        "    # Find the largest number again, which is now the second largest\n",
        "    second_largest = max(nums)\n",
        "\n",
        "    return second_largest\n",
        "\n",
        "# Example usage\n",
        "nums = [12, 35, 1, 10, 34, 1, 35]\n",
        "result = second_largest(nums)\n",
        "print(\"The second largest number is:\", result)\n"
      ],
      "metadata": {
        "colab": {
          "base_uri": "https://localhost:8080/"
        },
        "id": "TeHcl6Tt7jTR",
        "outputId": "060f1796-08e4-49fb-af3e-659599b17ba8"
      },
      "execution_count": 2,
      "outputs": [
        {
          "output_type": "stream",
          "name": "stdout",
          "text": [
            "The second largest number is: 35\n"
          ]
        }
      ]
    },
    {
      "cell_type": "markdown",
      "source": [
        "# New Section Q 13 create a code to count the occurence of each element in a list and return a dictionary with elements as keys and their counts as values"
      ],
      "metadata": {
        "id": "JE3rI7an8UQZ"
      }
    },
    {
      "cell_type": "code",
      "source": [
        "# Function to count occurrences of each element in a list\n",
        "def count_occurrences(lst):\n",
        "    count_dict = {}\n",
        "    for item in lst:\n",
        "        if item in count_dict:\n",
        "            count_dict[item] += 1\n",
        "        else:\n",
        "            count_dict[item] = 1\n",
        "    return count_dict\n",
        "\n",
        "# Example usage\n",
        "my_list = [1, 2, 2, 3, 3, 3, 4, 4, 4, 4]\n",
        "result = count_occurrences(my_list)\n",
        "print(result)\n"
      ],
      "metadata": {
        "colab": {
          "base_uri": "https://localhost:8080/"
        },
        "id": "4YJmQGVa8Q8R",
        "outputId": "ce12529c-67ec-4b4e-b12d-3ac26e4fc6bf"
      },
      "execution_count": 3,
      "outputs": [
        {
          "output_type": "stream",
          "name": "stdout",
          "text": [
            "{1: 1, 2: 2, 3: 3, 4: 4}\n"
          ]
        }
      ]
    },
    {
      "cell_type": "markdown",
      "source": [
        "# New Section Q 14 Write a code to reverse a list in-place without using any built-in reverse fuunctions"
      ],
      "metadata": {
        "id": "9hWlxay_82nq"
      }
    },
    {
      "cell_type": "code",
      "source": [
        "# Function to reverse a list in-place\n",
        "def reverse_list(lst):\n",
        "    left = 0\n",
        "    right = len(lst) - 1\n",
        "\n",
        "    # Swap elements until the pointers meet in the middle\n",
        "    while left < right:\n",
        "        # Swap the elements at left and right\n",
        "        lst[left], lst[right] = lst[right], lst[left]\n",
        "        # Move the pointers towards the center\n",
        "        left += 1\n",
        "        right -= 1\n",
        "\n",
        "# Example usage\n",
        "my_list = [1, 2, 3, 4, 5]\n",
        "reverse_list(my_list)\n",
        "print(\"Reversed list:\", my_list)\n"
      ],
      "metadata": {
        "colab": {
          "base_uri": "https://localhost:8080/"
        },
        "id": "aODJhsMM80w-",
        "outputId": "a33ec590-3da0-45cb-80c0-5c42db8eec33"
      },
      "execution_count": 4,
      "outputs": [
        {
          "output_type": "stream",
          "name": "stdout",
          "text": [
            "Reversed list: [5, 4, 3, 2, 1]\n"
          ]
        }
      ]
    },
    {
      "cell_type": "markdown",
      "source": [
        "# New Section Q 15 Implement a code to find and remove duplicates from a list while preserving the original orders of elements"
      ],
      "metadata": {
        "id": "pgi5KSyD9U50"
      }
    },
    {
      "cell_type": "code",
      "source": [
        "# Function to remove duplicates while preserving order\n",
        "def remove_duplicates(lst):\n",
        "    seen = set()  # Set to store seen elements\n",
        "    result = []   # List to store the result without duplicates\n",
        "\n",
        "    for item in lst:\n",
        "        if item not in seen:\n",
        "            result.append(item)  # Add item to the result if it's not a duplicate\n",
        "            seen.add(item)       # Mark the item as seen\n",
        "\n",
        "    return result\n",
        "\n",
        "# Example usage\n",
        "my_list = [1, 2, 2, 3, 4, 3, 5, 1, 6]\n",
        "unique_list = remove_duplicates(my_list)\n",
        "print(\"List after removing duplicates:\", unique_list)\n"
      ],
      "metadata": {
        "colab": {
          "base_uri": "https://localhost:8080/"
        },
        "id": "NHCxjZMA9Q63",
        "outputId": "ce0d2f93-0df7-4f37-82b5-5797f4017661"
      },
      "execution_count": 5,
      "outputs": [
        {
          "output_type": "stream",
          "name": "stdout",
          "text": [
            "List after removing duplicates: [1, 2, 3, 4, 5, 6]\n"
          ]
        }
      ]
    },
    {
      "cell_type": "markdown",
      "source": [
        "# New Section Q 16 Create a code to check if a given list is sorted or not"
      ],
      "metadata": {
        "id": "meIWSQhz9wiz"
      }
    },
    {
      "cell_type": "code",
      "source": [
        "# Function to check if the list is sorted\n",
        "def is_sorted(lst):\n",
        "    # Iterate through the list and compare each element with the next one\n",
        "    for i in range(len(lst) - 1):\n",
        "        if lst[i] > lst[i + 1]:  # If the current element is greater than the next\n",
        "            return False\n",
        "    return True\n",
        "\n",
        "# Example usage\n",
        "my_list = [1, 2, 3, 4, 5]\n",
        "result = is_sorted(my_list)\n",
        "print(\"Is the list sorted?\", result)\n"
      ],
      "metadata": {
        "colab": {
          "base_uri": "https://localhost:8080/"
        },
        "id": "eqMxi_rO9v0v",
        "outputId": "6f77fde0-3af5-4ec7-be36-1bde78f0fd77"
      },
      "execution_count": 6,
      "outputs": [
        {
          "output_type": "stream",
          "name": "stdout",
          "text": [
            "Is the list sorted? True\n"
          ]
        }
      ]
    },
    {
      "cell_type": "markdown",
      "source": [
        "# New Section Q 17 Write a code to merge two sorted list into a single sorted list"
      ],
      "metadata": {
        "id": "sePrpSZe-FTT"
      }
    },
    {
      "cell_type": "code",
      "source": [
        "# Merge two sorted lists using built-in sorted function\n",
        "def merge_sorted_lists(list1, list2):\n",
        "    return sorted(list1 + list2)\n",
        "\n",
        "# Example usage\n",
        "list1 = [1, 3, 5, 7]\n",
        "list2 = [2, 4, 6, 8]\n",
        "result = merge_sorted_lists(list1, list2)\n",
        "print(\"Merged sorted list:\", result)\n"
      ],
      "metadata": {
        "colab": {
          "base_uri": "https://localhost:8080/"
        },
        "id": "136jwIYv-Ema",
        "outputId": "13a808f7-5140-4a3b-fd85-7fff4906b36e"
      },
      "execution_count": 7,
      "outputs": [
        {
          "output_type": "stream",
          "name": "stdout",
          "text": [
            "Merged sorted list: [1, 2, 3, 4, 5, 6, 7, 8]\n"
          ]
        }
      ]
    },
    {
      "cell_type": "markdown",
      "source": [
        "# New Section Q 18 implement a code to find the intersection of two given lists"
      ],
      "metadata": {
        "id": "gpuMrp10-dFe"
      }
    },
    {
      "cell_type": "code",
      "source": [
        "# Function to find the intersection of two lists\n",
        "def intersection(list1, list2):\n",
        "    # Convert lists to sets and find the intersection\n",
        "    return list(set(list1) & set(list2))\n",
        "\n",
        "# Example usage\n",
        "list1 = [1, 2, 3, 4, 5]\n",
        "list2 = [4, 5, 6, 7, 8]\n",
        "result = intersection(list1, list2)\n",
        "print(\"Intersection of the lists:\", result)\n"
      ],
      "metadata": {
        "colab": {
          "base_uri": "https://localhost:8080/"
        },
        "id": "VF8BVOEK-chF",
        "outputId": "c12f12d3-c544-4c61-9188-2c29c29ca262"
      },
      "execution_count": 8,
      "outputs": [
        {
          "output_type": "stream",
          "name": "stdout",
          "text": [
            "Intersection of the lists: [4, 5]\n"
          ]
        }
      ]
    },
    {
      "cell_type": "markdown",
      "source": [
        "# New Section Q 19 Create a code to find the union of two lists without duplicates"
      ],
      "metadata": {
        "id": "x_3Qpwjn-vs9"
      }
    },
    {
      "cell_type": "code",
      "source": [
        "# Function to find the union of two lists without duplicates\n",
        "def union(list1, list2):\n",
        "    # Convert lists to sets and find the union\n",
        "    return list(set(list1) | set(list2))\n",
        "\n",
        "# Example usage\n",
        "list1 = [1, 2, 3, 4, 5]\n",
        "list2 = [4, 5, 6, 7, 8]\n",
        "result = union(list1, list2)\n",
        "print(\"Union of the lists:\", result)\n"
      ],
      "metadata": {
        "colab": {
          "base_uri": "https://localhost:8080/"
        },
        "id": "8miANbU0-vGG",
        "outputId": "bad9c791-056c-406e-c9c7-95c6feecf520"
      },
      "execution_count": 9,
      "outputs": [
        {
          "output_type": "stream",
          "name": "stdout",
          "text": [
            "Union of the lists: [1, 2, 3, 4, 5, 6, 7, 8]\n"
          ]
        }
      ]
    },
    {
      "cell_type": "markdown",
      "source": [
        "# New Section Q 20 Write a code to shuffle the given list randomly without using any built in shufle functions"
      ],
      "metadata": {
        "id": "T0GDMUdw_DWF"
      }
    },
    {
      "cell_type": "code",
      "source": [
        "import random\n",
        "\n",
        "# Function to shuffle a list randomly\n",
        "def shuffle_list(lst):\n",
        "    # Iterate over the list in reverse order\n",
        "    for i in range(len(lst) - 1, 0, -1):\n",
        "        # Pick a random index from 0 to i\n",
        "        j = random.randint(0, i)\n",
        "        # Swap the elements at indices i and j\n",
        "        lst[i], lst[j] = lst[j], lst[i]\n",
        "\n",
        "# Example usage\n",
        "my_list = [1, 2, 3, 4, 5]\n",
        "shuffle_list(my_list)\n",
        "print(\"Shuffled list:\", my_list)\n"
      ],
      "metadata": {
        "colab": {
          "base_uri": "https://localhost:8080/"
        },
        "id": "UflAdW6m_CkD",
        "outputId": "3d3d25fa-ea45-486e-b876-bc13e6189fd2"
      },
      "execution_count": 10,
      "outputs": [
        {
          "output_type": "stream",
          "name": "stdout",
          "text": [
            "Shuffled list: [1, 2, 3, 5, 4]\n"
          ]
        }
      ]
    },
    {
      "cell_type": "markdown",
      "source": [
        "# New Section Q 21 Write a code that takes two tuples as inputs and returns a new tuple containing elements that are common to both input tuples"
      ],
      "metadata": {
        "id": "dBpYFr1N_bFJ"
      }
    },
    {
      "cell_type": "code",
      "source": [
        "# Function to find common elements between two tuples\n",
        "def common_elements(tuple1, tuple2):\n",
        "    # Convert tuples to sets and find the intersection\n",
        "    common_set = set(tuple1) & set(tuple2)\n",
        "    # Convert the result back to a tuple\n",
        "    return tuple(common_set)\n",
        "\n",
        "# Example usage\n",
        "tuple1 = (1, 2, 3, 4, 5)\n",
        "tuple2 = (4, 5, 6, 7, 8)\n",
        "result = common_elements(tuple1, tuple2)\n",
        "print(\"Common elements:\", result)\n"
      ],
      "metadata": {
        "colab": {
          "base_uri": "https://localhost:8080/"
        },
        "id": "JopIz_Ak_Zpr",
        "outputId": "f085fc4e-c9c6-4c1b-9eaa-eca05ef53e0c"
      },
      "execution_count": 11,
      "outputs": [
        {
          "output_type": "stream",
          "name": "stdout",
          "text": [
            "Common elements: (4, 5)\n"
          ]
        }
      ]
    },
    {
      "cell_type": "markdown",
      "source": [
        "# New Section Q 22 Create a code that prompts the user to enter two sets of integers separated by commas.Then print the intersection of these two sets."
      ],
      "metadata": {
        "id": "Q-CZjnA4_0eT"
      }
    },
    {
      "cell_type": "code",
      "source": [
        "# Function to get a set of integers from user input\n",
        "def get_integer_set(prompt):\n",
        "    user_input = input(prompt)\n",
        "    # Convert the input string to a set of integers\n",
        "    return set(map(int, user_input.split(',')))\n",
        "\n",
        "# Prompt the user to enter two sets of integers\n",
        "set1 = get_integer_set(\"Enter the first set of integers separated by commas: \")\n",
        "set2 = get_integer_set(\"Enter the second set of integers separated by commas: \")\n",
        "\n",
        "# Find the intersection of the two sets\n",
        "intersection = set1 & set2\n",
        "\n",
        "# Print the intersection\n",
        "print(\"Intersection of the two sets:\", intersection)\n"
      ],
      "metadata": {
        "colab": {
          "base_uri": "https://localhost:8080/"
        },
        "id": "G3vPWgTZ_zZu",
        "outputId": "085b9e6b-186b-45cf-c96c-aaf275a1c437"
      },
      "execution_count": 14,
      "outputs": [
        {
          "output_type": "stream",
          "name": "stdout",
          "text": [
            "Enter the first set of integers separated by commas: 1,2,1,3\n",
            "Enter the second set of integers separated by commas: 1,3,4,5,2\n",
            "Intersection of the two sets: {1, 2, 3}\n"
          ]
        }
      ]
    },
    {
      "cell_type": "markdown",
      "source": [
        "# New Section Q 23 Write a code to concatenate two tuples.The function should takes two tuples as  input and return a new tuple containing elements from both input tuples"
      ],
      "metadata": {
        "id": "Udz9uTRGAd71"
      }
    },
    {
      "cell_type": "code",
      "source": [
        "\n",
        "\n",
        "# Function to concatenate two tuples\n",
        "def concatenate_tuples(tuple1, tuple2):\n",
        "    # Concatenate the two tuples\n",
        "    return tuple1 + tuple2\n",
        "\n",
        "# Example usage\n",
        "tuple1 = (1, 2, 3)\n",
        "tuple2 = (4, 5, 6)\n",
        "result = concatenate_tuples(tuple1, tuple2)\n",
        "print(\"Concatenated tuple:\", result)\n"
      ],
      "metadata": {
        "colab": {
          "base_uri": "https://localhost:8080/"
        },
        "id": "KzUqO-arAQeB",
        "outputId": "5049e965-0634-4423-a1e9-410caa1421b3"
      },
      "execution_count": 15,
      "outputs": [
        {
          "output_type": "stream",
          "name": "stdout",
          "text": [
            "Concatenated tuple: (1, 2, 3, 4, 5, 6)\n"
          ]
        }
      ]
    },
    {
      "cell_type": "markdown",
      "source": [
        "# New Section Q 24 Develop the code that prompts the user to input two sets of strings.then,print the elements that are present in the first set but not in the second test.\n"
      ],
      "metadata": {
        "id": "tVc6X0o1A-ii"
      }
    },
    {
      "cell_type": "code",
      "source": [
        "# Function to get a set of strings from user input\n",
        "def get_string_set(prompt):\n",
        "    user_input = input(prompt)\n",
        "    # Convert the input string to a set of strings\n",
        "    return set(user_input.split(','))\n",
        "\n",
        "# Prompt the user to enter two sets of strings\n",
        "set1 = get_string_set(\"Enter the first set of strings separated by commas: \")\n",
        "set2 = get_string_set(\"Enter the second set of strings separated by commas: \")\n",
        "\n",
        "# Find elements present in set1 but not in set2\n",
        "difference = set1 - set2\n",
        "\n",
        "# Print the result\n",
        "print(\"Elements in the first set but not in the second set:\", difference)\n"
      ],
      "metadata": {
        "colab": {
          "base_uri": "https://localhost:8080/"
        },
        "id": "GsIRuZXuA9o2",
        "outputId": "ff8923e8-c365-4bbc-d798-b899081cf547"
      },
      "execution_count": 16,
      "outputs": [
        {
          "output_type": "stream",
          "name": "stdout",
          "text": [
            "Enter the first set of strings separated by commas: 2,3,4,4,4,3,2,\n",
            "Enter the second set of strings separated by commas: 2,3,45,3,2,3,4\n",
            "Elements in the first set but not in the second set: {''}\n"
          ]
        }
      ]
    },
    {
      "cell_type": "markdown",
      "source": [
        "# New Section Q 25 Create a code that takes a  tuple and two integers as input ,The fxn should return a new tuple containing elements from a original tuple within the specified range of indices"
      ],
      "metadata": {
        "id": "NA8moKWnBj4H"
      }
    },
    {
      "cell_type": "code",
      "source": [
        "# Function to get a sub-tuple from a tuple within a specified range of indices\n",
        "def slice_tuple(original_tuple, start_index, end_index):\n",
        "    # Return the sub-tuple from start_index to end_index (exclusive)\n",
        "    return original_tuple[start_index:end_index]\n",
        "\n",
        "# Example usage\n",
        "original_tuple = (10, 20, 30, 40, 50, 60, 70)\n",
        "start_index = int(input(\"Enter the start index: \"))\n",
        "end_index = int(input(\"Enter the end index: \"))\n",
        "result = slice_tuple(original_tuple, start_index, end_index)\n",
        "print(\"Sub-tuple:\", result)\n"
      ],
      "metadata": {
        "colab": {
          "base_uri": "https://localhost:8080/"
        },
        "id": "RRK0E2gvBbnV",
        "outputId": "3d3a339c-1d1d-4a11-dc47-882a5e74146c"
      },
      "execution_count": 17,
      "outputs": [
        {
          "output_type": "stream",
          "name": "stdout",
          "text": [
            "Enter the start index: 2\n",
            "Enter the end index: 7\n",
            "Sub-tuple: (30, 40, 50, 60, 70)\n"
          ]
        }
      ]
    },
    {
      "cell_type": "markdown",
      "source": [
        "# New Section Q 26 Write a code that prompts the user to input two sets of characters .then print the union of these two sets."
      ],
      "metadata": {
        "id": "RfVXCB96CdF_"
      }
    },
    {
      "cell_type": "code",
      "source": [
        "# Function to get a set of characters from user input\n",
        "def get_char_set(prompt):\n",
        "    user_input = input(prompt)\n",
        "    # Convert the input string to a set of characters\n",
        "    return set(user_input)\n",
        "\n",
        "# Prompt the user to enter two sets of characters\n",
        "set1 = get_char_set(\"Enter the first set of characters: \")\n",
        "set2 = get_char_set(\"Enter the second set of characters: \")\n",
        "\n",
        "# Find the union of the two sets\n",
        "union_set = set1 | set2\n",
        "\n",
        "# Print the result\n",
        "print(\"Union of the two sets:\", union_set)\n"
      ],
      "metadata": {
        "colab": {
          "base_uri": "https://localhost:8080/"
        },
        "id": "fzgQtmk_CYgS",
        "outputId": "649c497a-622d-4319-dab5-4ceb20ce8277"
      },
      "execution_count": 18,
      "outputs": [
        {
          "output_type": "stream",
          "name": "stdout",
          "text": [
            "Enter the first set of characters: 23\n",
            "Enter the second set of characters: 12\n",
            "Union of the two sets: {'2', '3', '1'}\n"
          ]
        }
      ]
    },
    {
      "cell_type": "markdown",
      "source": [
        "# New Section Q 27 Develop the codes that takes the tuple of integer as input,The fxn should return the max and min values from the tuple using tuple unpacking"
      ],
      "metadata": {
        "id": "Au2q0czoDDfn"
      }
    },
    {
      "cell_type": "code",
      "source": [
        "# Function to find the maximum and minimum values from a tuple\n",
        "def find_max_min(values_tuple):\n",
        "    # Use built-in functions to find max and min\n",
        "    max_value = max(values_tuple)\n",
        "    min_value = min(values_tuple)\n",
        "    # Return max and min values as a tuple\n",
        "    return max_value, min_value\n",
        "\n",
        "# Example usage\n",
        "# Input: tuple of integers\n",
        "values_tuple = tuple(map(int, input(\"Enter a tuple of integers separated by commas: \").split(',')))\n",
        "\n",
        "# Get max and min values\n",
        "max_value, min_value = find_max_min(values_tuple)\n",
        "\n",
        "# Print the result\n",
        "print(\"Maximum value:\", max_value)\n",
        "print(\"Minimum value:\", min_value)\n"
      ],
      "metadata": {
        "colab": {
          "base_uri": "https://localhost:8080/"
        },
        "id": "7lzyjyIYC-z0",
        "outputId": "9449e86b-0f32-4f5f-aa6b-52a5b47c302d"
      },
      "execution_count": 19,
      "outputs": [
        {
          "output_type": "stream",
          "name": "stdout",
          "text": [
            "Enter a tuple of integers separated by commas: 23,43,23,12,1,2,3\n",
            "Maximum value: 43\n",
            "Minimum value: 1\n"
          ]
        }
      ]
    },
    {
      "cell_type": "markdown",
      "source": [
        "# New Section Q 28 Create a code that defines two sets of integrs.then print the union,intersections and differnces of these two sets."
      ],
      "metadata": {
        "id": "na30wlhTDq00"
      }
    },
    {
      "cell_type": "code",
      "source": [
        "# Define two sets of integers\n",
        "set1 = {1, 2, 3, 4, 5}\n",
        "set2 = {4, 5, 6, 7, 8}\n",
        "\n",
        "# Calculate the union of the two sets\n",
        "union_set = set1 | set2\n",
        "\n",
        "# Calculate the intersection of the two sets\n",
        "intersection_set = set1 & set2\n",
        "\n",
        "# Calculate the difference of the two sets\n",
        "difference_set1_2 = set1 - set2\n",
        "difference_set2_1 = set2 - set1\n",
        "\n",
        "# Print the results\n",
        "print(\"Union of the two sets:\", union_set)\n",
        "print(\"Intersection of the two sets:\", intersection_set)\n",
        "print(\"Difference (set1 - set2):\", difference_set1_2)\n",
        "print(\"Difference (set2 - set1):\", difference_set2_1)\n"
      ],
      "metadata": {
        "colab": {
          "base_uri": "https://localhost:8080/"
        },
        "id": "ScY1fzoIDmZz",
        "outputId": "66042499-c1b4-4f48-9ed5-566c9d324a19"
      },
      "execution_count": 20,
      "outputs": [
        {
          "output_type": "stream",
          "name": "stdout",
          "text": [
            "Union of the two sets: {1, 2, 3, 4, 5, 6, 7, 8}\n",
            "Intersection of the two sets: {4, 5}\n",
            "Difference (set1 - set2): {1, 2, 3}\n",
            "Difference (set2 - set1): {8, 6, 7}\n"
          ]
        }
      ]
    },
    {
      "cell_type": "markdown",
      "source": [
        "# New Section Q 29 Write a code that takes the tuple and element as input, the fxn should return the count of occurences of the given elements in the tuple"
      ],
      "metadata": {
        "id": "fULdL5zWEO4Q"
      }
    },
    {
      "cell_type": "code",
      "source": [
        "# Function to count occurrences of an element in a tuple\n",
        "def count_occurrences(tpl, element):\n",
        "    # Return the count of the element in the tuple\n",
        "    return tpl.count(element)\n",
        "\n",
        "# Example usage\n",
        "# Input: tuple and element\n",
        "tpl = tuple(map(int, input(\"Enter the tuple of integers separated by commas: \").split(',')))\n",
        "element = int(input(\"Enter the element to count occurrences of: \"))\n",
        "\n",
        "# Get the count of occurrences\n",
        "count = count_occurrences(tpl, element)\n",
        "\n",
        "# Print the result\n",
        "print(f\"Count of element {element} in the tuple: {count}\")\n"
      ],
      "metadata": {
        "colab": {
          "base_uri": "https://localhost:8080/"
        },
        "id": "6a-GSV86EMaJ",
        "outputId": "036c87dc-d00c-4c16-f18e-bc6f3bb80126"
      },
      "execution_count": 22,
      "outputs": [
        {
          "output_type": "stream",
          "name": "stdout",
          "text": [
            "Enter the tuple of integers separated by commas: 2,3,4,5,6,6,5\n",
            "Enter the element to count occurrences of: 6\n",
            "Count of element 6 in the tuple: 2\n"
          ]
        }
      ]
    },
    {
      "cell_type": "markdown",
      "source": [
        "# New Section Q 30 Develop the code that prompts the user to input two sets of strings.Then print the symmetric difference of these two sets"
      ],
      "metadata": {
        "id": "c31ZTtDRFBqZ"
      }
    },
    {
      "cell_type": "code",
      "source": [
        "# Function to get a set of strings from user input\n",
        "def get_string_set(prompt):\n",
        "    user_input = input(prompt)\n",
        "    # Convert the input string to a set of strings\n",
        "    return set(user_input.split(','))\n",
        "\n",
        "# Prompt the user to enter two sets of strings\n",
        "set1 = get_string_set(\"Enter the first set of strings separated by commas: \")\n",
        "set2 = get_string_set(\"Enter the second set of strings separated by commas: \")\n",
        "\n",
        "# Calculate the symmetric difference of the two sets\n",
        "symmetric_difference = set1 ^ set2\n",
        "\n",
        "# Print the result\n",
        "print(\"Symmetric difference of the two sets:\", symmetric_difference)\n"
      ],
      "metadata": {
        "colab": {
          "base_uri": "https://localhost:8080/"
        },
        "id": "Q3QGF_5rE1RO",
        "outputId": "5f22a812-02ca-4fa5-c306-0f43f611153f"
      },
      "execution_count": 23,
      "outputs": [
        {
          "output_type": "stream",
          "name": "stdout",
          "text": [
            "Enter the first set of strings separated by commas: 2,3,4,5,2,3,421,1\n",
            "Enter the second set of strings separated by commas: 2,3,4,5,6,7,6,5,44\n",
            "Symmetric difference of the two sets: {'421', '6', '1', '7', '44'}\n"
          ]
        }
      ]
    },
    {
      "cell_type": "markdown",
      "source": [
        "# New Section Q 31  Write a code that takes a list of words as input and returns a dictionary where the  keys are unique wordsand the values are  the frequencies of those words in the input list"
      ],
      "metadata": {
        "id": "dkHlKjiPFqcj"
      }
    },
    {
      "cell_type": "code",
      "source": [
        "from collections import Counter\n",
        "\n",
        "# Function to count word frequencies\n",
        "def word_frequencies(word_list):\n",
        "    return dict(Counter(word_list))\n",
        "\n",
        "# Example usage\n",
        "# Input: list of words\n",
        "word_list = input(\"Enter a list of words separated by spaces: \").split()\n",
        "\n",
        "# Get the word frequencies\n",
        "frequencies = word_frequencies(word_list)\n",
        "\n",
        "# Print the result\n",
        "print(\"Word frequencies:\", frequencies)\n"
      ],
      "metadata": {
        "colab": {
          "base_uri": "https://localhost:8080/"
        },
        "id": "uhS7gM6LFiJr",
        "outputId": "be942999-e9ef-4ed1-f874-26ebcb7de8b1"
      },
      "execution_count": 28,
      "outputs": [
        {
          "output_type": "stream",
          "name": "stdout",
          "text": [
            "Enter a list of words separated by spaces: weee rrrr rrrr rrrr \n",
            "Word frequencies: {'weee': 1, 'rrrr': 3}\n"
          ]
        }
      ]
    },
    {
      "cell_type": "markdown",
      "source": [
        "# New Section Q 32 Write a code that takes two dictionaries as input and merges them into a single dictionaries. If there arecommon keys the values should be added together."
      ],
      "metadata": {
        "id": "6MyAZIXYHARk"
      }
    },
    {
      "cell_type": "code",
      "source": [
        "# Function to merge two dictionaries with summing values for common keys\n",
        "def merge_dicts(dict1, dict2):\n",
        "    # Create a new dictionary to hold the merged result\n",
        "    merged_dict = dict1.copy()  # Start with the first dictionary\n",
        "    for key, value in dict2.items():  # Iterate through the second dictionary\n",
        "        if key in merged_dict:\n",
        "            # If the key is already in the merged dictionary, add the values\n",
        "            merged_dict[key] += value\n",
        "        else:\n",
        "            # Otherwise, add the key-value pair to the merged dictionary\n",
        "            merged_dict[key] = value\n",
        "    return merged_dict\n",
        "\n",
        "# Example usage\n",
        "# Input: two dictionaries\n",
        "dict1 = eval(input(\"Enter the first dictionary: \"))\n",
        "dict2 = eval(input(\"Enter the second dictionary: \"))\n",
        "\n",
        "# Merge the dictionaries\n",
        "result = merge_dicts(dict1, dict2)\n",
        "\n",
        "# Print the result\n",
        "print(\"Merged dictionary:\", result)\n"
      ],
      "metadata": {
        "colab": {
          "base_uri": "https://localhost:8080/"
        },
        "id": "3Lp3dhw7Gna7",
        "outputId": "e522d866-4e2d-43d9-cc92-83411119dfab"
      },
      "execution_count": 33,
      "outputs": [
        {
          "output_type": "stream",
          "name": "stdout",
          "text": [
            "Enter the first dictionary: {'b': 3, 'c': 4, 'd': 5}\n",
            "Enter the second dictionary: {'a':1,'c':3}\n",
            "Merged dictionary: {'b': 3, 'c': 7, 'd': 5, 'a': 1}\n"
          ]
        }
      ]
    },
    {
      "cell_type": "markdown",
      "source": [
        "# New Section Q 33  Write a code to access a value in a nested dictionary. The function should take the dictionary and a list ofkeys as input and return the corresponding value. If any of the keys do not exist in the dictionary thefunction should return None."
      ],
      "metadata": {
        "id": "L0nxHWqvIRbv"
      }
    },
    {
      "cell_type": "code",
      "source": [
        "def get_nested_value(dictionary, keys):\n",
        "    \"\"\"\n",
        "    Access a value in a nested dictionary using a list of keys.\n",
        "\n",
        "    :param dictionary: The nested dictionary.\n",
        "    :param keys: List of keys to access the value.\n",
        "    :return: The value corresponding to the list of keys or None if any key does not exist.\n",
        "    \"\"\"\n",
        "    current = dictionary\n",
        "    for key in keys:\n",
        "        if isinstance(current, dict) and key in current:\n",
        "            current = current[key]\n",
        "        else:\n",
        "            return None\n",
        "    return current\n",
        "\n",
        "# Example usage\n",
        "# Input: nested dictionary and a list of keys\n",
        "nested_dict = {\n",
        "    'a': {\n",
        "        'b': {\n",
        "            'c': 10\n",
        "        }\n",
        "    }\n",
        "}\n",
        "keys = input(\"Enter the list of keys separated by commas: \").split(',')\n",
        "\n",
        "# Strip whitespace from each key\n",
        "keys = [key.strip() for key in keys]\n",
        "\n",
        "# Get the value from the nested dictionary\n",
        "value = get_nested_value(nested_dict, keys)\n",
        "\n",
        "# Print the result\n",
        "print(\"Value:\", value)\n"
      ],
      "metadata": {
        "colab": {
          "base_uri": "https://localhost:8080/"
        },
        "id": "j7w72detGvmv",
        "outputId": "cd7cd94f-ff4d-4ae4-f4bf-86f33753a312"
      },
      "execution_count": 35,
      "outputs": [
        {
          "output_type": "stream",
          "name": "stdout",
          "text": [
            "Enter the list of keys separated by commas: a,b,c\n",
            "Value: 10\n"
          ]
        }
      ]
    },
    {
      "cell_type": "markdown",
      "source": [
        "# New Section Q 34 Write a code that takes a dictionary as input and returns a sorted version of it based on the values. Youcan choose whether to sort in ascending or descending order"
      ],
      "metadata": {
        "id": "s4tlSLc5JMQb"
      }
    },
    {
      "cell_type": "code",
      "source": [
        "def sort_dict_by_value(dictionary, ascending=True):\n",
        "    \"\"\"\n",
        "    Sort a dictionary by its values.\n",
        "\n",
        "    :param dictionary: The dictionary to be sorted.\n",
        "    :param ascending: If True, sort in ascending order; otherwise, sort in descending order.\n",
        "    :return: A sorted dictionary based on the values.\n",
        "    \"\"\"\n",
        "    # Sort the dictionary by values\n",
        "    sorted_dict = dict(sorted(dictionary.items(), key=lambda item: item[1], reverse=not ascending))\n",
        "    return sorted_dict\n",
        "\n",
        "# Example usage\n",
        "# Input: dictionary and sort order\n",
        "input_dict = eval(input(\"Enter a dictionary: \"))\n",
        "sort_order = input(\"Enter 'asc' for ascending or 'desc' for descending: \").strip().lower()\n",
        "\n",
        "# Determine the sorting order\n",
        "ascending = True if sort_order == 'asc' else False\n",
        "\n",
        "# Get the sorted dictionary\n",
        "sorted_dictionary = sort_dict_by_value(input_dict, ascending)\n",
        "\n",
        "# Print the result\n",
        "print(\"Sorted dictionary:\", sorted_dictionary)\n"
      ],
      "metadata": {
        "colab": {
          "base_uri": "https://localhost:8080/"
        },
        "id": "tt5zS_n-I89I",
        "outputId": "6db0ea67-0912-4767-e5f3-43a37060a526"
      },
      "execution_count": 36,
      "outputs": [
        {
          "output_type": "stream",
          "name": "stdout",
          "text": [
            "Enter a dictionary: {'a': 3, 'b': 1, 'c': 2}\n",
            "Enter 'asc' for ascending or 'desc' for descending: asc\n",
            "Sorted dictionary: {'b': 1, 'c': 2, 'a': 3}\n"
          ]
        }
      ]
    },
    {
      "cell_type": "markdown",
      "source": [
        "# New Section Q 35 Write a code that inverts a dictionary swapping keys and values. Ensure that the inverted dictionarycorrectly handles cases where multiple keys have the same value by storing the keys as a list in theinverted dictionary."
      ],
      "metadata": {
        "id": "CFRyzB-BKHrQ"
      }
    },
    {
      "cell_type": "code",
      "source": [
        "def invert_dict(dictionary):\n",
        "    \"\"\"\n",
        "    Invert a dictionary, swapping keys and values.\n",
        "    If multiple keys have the same value, store the keys in a list.\n",
        "\n",
        "    :param dictionary: The dictionary to be inverted.\n",
        "    :return: The inverted dictionary.\n",
        "    \"\"\"\n",
        "    inverted_dict = {}\n",
        "    for key, value in dictionary.items():\n",
        "        if value in inverted_dict:\n",
        "            # Append to the list if the value is already present\n",
        "            if isinstance(inverted_dict[value], list):\n",
        "                inverted_dict[value].append(key)\n",
        "            else:\n",
        "                inverted_dict[value] = [inverted_dict[value], key]\n",
        "        else:\n",
        "            # Add the value as a key with the key as its value\n",
        "            inverted_dict[value] = key\n",
        "    return inverted_dict\n",
        "\n",
        "# Example usage\n",
        "# Input: dictionary\n",
        "input_dict = eval(input(\"Enter a dictionary (e.g., {'a': 1, 'b': 2, 'c': 1}): \"))\n",
        "\n",
        "# Invert the dictionary\n",
        "inverted_dictionary = invert_dict(input_dict)\n",
        "\n",
        "# Print the result\n",
        "print(\"Inverted dictionary:\", inverted_dictionary)\n"
      ],
      "metadata": {
        "colab": {
          "base_uri": "https://localhost:8080/"
        },
        "id": "o9DVw8a7J_6I",
        "outputId": "a6b07445-0d9c-4b9b-f24b-058010a21e6f"
      },
      "execution_count": 37,
      "outputs": [
        {
          "output_type": "stream",
          "name": "stdout",
          "text": [
            "Enter a dictionary (e.g., {'a': 1, 'b': 2, 'c': 1}): {'a': 1, 'b': 2, 'c': 1}\n",
            "Inverted dictionary: {1: ['a', 'c'], 2: 'b'}\n"
          ]
        }
      ]
    },
    {
      "cell_type": "code",
      "source": [],
      "metadata": {
        "id": "6cgMKURPLHCs"
      },
      "execution_count": null,
      "outputs": []
    }
  ]
}