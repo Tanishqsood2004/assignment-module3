{
  "nbformat": 4,
  "nbformat_minor": 0,
  "metadata": {
    "colab": {
      "provenance": []
    },
    "kernelspec": {
      "name": "python3",
      "display_name": "Python 3"
    },
    "language_info": {
      "name": "python"
    }
  },
  "cells": [
    {
      "cell_type": "markdown",
      "source": [
        "# **Assignment by Tanishq Sood**"
      ],
      "metadata": {
        "id": "xb98Ql4oCU2E"
      }
    },
    {
      "cell_type": "markdown",
      "source": [
        "# Q 1 What is a parameter?"
      ],
      "metadata": {
        "id": "w_hF_A3dCbxq"
      }
    },
    {
      "cell_type": "markdown",
      "source": [
        "In Machine Learning, a parameter refers to a variable that is learned by the model during the training process. These parameters are intrinsic to the model and determine how it makes predictions or classifications based on input data.\n",
        "\n",
        "Key Features of Parameters:\n",
        "Learned from Data: Parameters are optimized during training using algorithms such as gradient descent.\n",
        "Fixed After Training: Once the model is trained, the parameters remain fixed unless the model is retrained.\n",
        "Model-Specific: Different types of models have different kinds of parameters. For example:\n",
        "In a linear regression model, parameters are the coefficients (\n",
        "𝛽\n",
        "β) that define the relationship between inputs and outputs.\n",
        "In neural networks, parameters include the weights and biases of each layer.\n",
        "Examples of Parameters:\n",
        "Linear Regression:\n",
        "\n",
        "𝑦\n",
        "=\n",
        "𝑤\n",
        "⋅\n",
        "𝑥\n",
        "+\n",
        "𝑏\n",
        "y=w⋅x+b\n",
        "Parameters:\n",
        "𝑤\n",
        "w (weight) and\n",
        "𝑏\n",
        "b (bias).\n",
        "Neural Networks:\n",
        "\n",
        "Parameters: The weights (\n",
        "𝑊\n",
        "W) and biases (\n",
        "𝑏\n",
        "b) for each connection and node.\n",
        "Logistic Regression:\n",
        "\n",
        "𝑦\n",
        "=\n",
        "1\n",
        "1\n",
        "+\n",
        "𝑒\n",
        "−\n",
        "(\n",
        "𝑤\n",
        "⋅\n",
        "𝑥\n",
        "+\n",
        "𝑏\n",
        ")\n",
        "y=\n",
        "1+e\n",
        "−(w⋅x+b)\n",
        "\n",
        "1\n",
        "​\n",
        "\n",
        "Parameters:\n",
        "𝑤\n",
        "w (weights) and\n",
        "𝑏\n",
        "b (bias).\n",
        "Difference Between Parameters and Hyperparameters:\n",
        "\n",
        "Parameters: Learned during training (e.g., weights, biases).\n",
        "\n",
        "Hyperparameters: Set before training and control the learning process (e.g., learning rate, number of epochs, regularization strength)."
      ],
      "metadata": {
        "id": "6GzPOtApC6Zv"
      }
    },
    {
      "cell_type": "markdown",
      "source": [
        "# Q 2 What is correlation? What does negative correlation mean?"
      ],
      "metadata": {
        "id": "OQb_GIAvDFvo"
      }
    },
    {
      "cell_type": "markdown",
      "source": [
        "Correlation is a statistical measure that describes the strength and direction of the relationship between two variables. It quantifies how changes in one variable are associated with changes in another.\n",
        "\n",
        "The value of correlation ranges between\n",
        "−\n",
        "1\n",
        "−1 and\n",
        "+\n",
        "1\n",
        "+1:\n",
        "\n",
        "+\n",
        "1\n",
        "+1: Perfect positive correlation (as one variable increases, the other increases proportionally).\n",
        "\n",
        "0\n",
        "0: No correlation (no linear relationship between the variables).\n",
        "\n",
        "−\n",
        "1\n",
        "−1: Perfect negative correlation (as one variable increases, the other decreases proportionally).\n"
      ],
      "metadata": {
        "id": "bkXqjSPWDQis"
      }
    },
    {
      "cell_type": "markdown",
      "source": [
        "Types of Correlation\n",
        "Positive Correlation: When two variables move in the same direction.\n",
        "Example: Height and weight (generally, taller people weigh more).\n",
        "\n",
        "Negative Correlation: When two variables move in opposite directions.\n",
        "Example: Speed of a car and the time taken to reach a destination.\n",
        "\n",
        "No Correlation: When two variables do not show any relationship.\n",
        "Example: Shoe size and intelligence"
      ],
      "metadata": {
        "id": "sQZb2ZrFDeNb"
      }
    },
    {
      "cell_type": "markdown",
      "source": [
        "**What** Does Negative Correlation Mean?\n",
        "\n",
        "A negative correlation indicates that as one variable increases, the other variable tends to decrease. Conversely, as one variable decreases, the other tends to increase.\n",
        "\n",
        "Characteristics of Negative Correlation:\n",
        "The correlation coefficient (\n",
        "𝑟\n",
        "r) is between\n",
        "−\n",
        "1\n",
        "−1 and\n",
        "0\n",
        "0.\n",
        "The closer\n",
        "𝑟\n",
        "r is to\n",
        "−\n",
        "1\n",
        "−1, the stronger the negative relationship.\n",
        "\n",
        "Examples of Negative Correlation:\n",
        "Price and Demand: As the price of a product increases, the demand usually decreases.\n",
        "\n",
        "Elevation and Temperature: As elevation increases, temperature generally decreases.\n",
        "\n",
        "Exercise and Body Fat Percentage: More exercise often leads to a reduction in body fat percentage."
      ],
      "metadata": {
        "id": "trqqcnHEDjjH"
      }
    },
    {
      "cell_type": "markdown",
      "source": [
        "# **Q 3 Define Machine Learning. What are the main components in Machine Learning?**"
      ],
      "metadata": {
        "id": "JMKBVh97DxmI"
      }
    },
    {
      "cell_type": "markdown",
      "source": [
        "Machine Learning (ML) is a branch of Artificial Intelligence (AI) that focuses on building systems capable of learning from data, identifying patterns, and making decisions or predictions without explicit programming.\n",
        "\n",
        "In essence, ML enables computers to improve their performance on a specific task through experience, often measured as exposure to more data."
      ],
      "metadata": {
        "id": "nhA2qcclEAEp"
      }
    },
    {
      "cell_type": "markdown",
      "source": [
        "Main Components of Machine Learning\n",
        "Machine Learning systems consist of several interconnected components that work together to create models that learn from data and make predictions. The main components are:\n",
        "\n",
        "1. Data\n",
        "Description: The foundation of ML, data is used to train, validate, and test models.\n",
        "Types:\n",
        "Structured Data: Organized into rows and columns (e.g., tables).\n",
        "Unstructured Data: Includes text, images, videos, etc.\n",
        "Examples: Customer purchase records, sensor readings, medical images.\n",
        "\n",
        "2. Model\n",
        "Description: The algorithm or mathematical representation used to make predictions or decisions.\n",
        "Examples:\n",
        "Linear Regression: Predict continuous values.\n",
        "Decision Trees: Handle classification or regression tasks.\n",
        "Neural Networks: Handle complex tasks like image recognition and natural language processing.\n",
        "\n",
        "3. Features\n",
        "Description: The input variables or attributes used by the model to make predictions.\n",
        "Feature Engineering: The process of selecting, transforming, or creating new features to improve model performance.\n",
        "\n",
        "4. Training\n",
        "Description: The process of feeding data into the model to help it learn.\n",
        "Key Elements:\n",
        "Training Data: The subset of data used to teach the model.\n",
        "Objective Function: Defines what the model is trying to optimize (e.g., minimize error).\n",
        "Optimization Algorithm: Adjusts model parameters to minimize loss (e.g., Gradient Descent).\n",
        "\n",
        "5. Evaluation\n",
        "Description: Assessing the model’s performance on unseen data.\n",
        "Metrics:\n",
        "Classification: Accuracy, Precision, Recall, F1-Score.\n",
        "Regression: Mean Squared Error (MSE), R-squared.\n",
        "Others: AUC-ROC, Log-Loss.\n",
        "\n",
        "6. Prediction\n",
        "Description: The application of the trained model to new, unseen data to generate outputs.\n",
        "Examples:\n",
        "Predicting house prices.\n",
        "Classifying emails as spam or not spam.\n",
        "\n",
        "7. Feedback\n",
        "Description: Iterative improvement of the model by incorporating new data or refining processes.\n",
        "Example: Retraining a recommendation system with updated user behavior.\n",
        "\n",
        "8. Hyperparameters\n",
        "Description: Settings defined before training that control the learning process.\n",
        "Examples: Learning rate, number of layers in a neural network, regularization strength.\n"
      ],
      "metadata": {
        "id": "Rm-HZAvIEF6S"
      }
    },
    {
      "cell_type": "markdown",
      "source": [
        "# Q 4 How does loss value help in determining whether the model is good or not?"
      ],
      "metadata": {
        "id": "UQu-n44lEOw8"
      }
    },
    {
      "cell_type": "markdown",
      "source": [
        "The loss value is a critical metric in Machine Learning that quantifies how well or poorly a model's predictions align with the actual target values. It plays a central role in determining the quality of a model during training and evaluation"
      ],
      "metadata": {
        "id": "IPqea_H5EZce"
      }
    },
    {
      "cell_type": "markdown",
      "source": [
        "How the Loss Value Helps\n",
        "\n",
        "Measures Performance:\n",
        "\n",
        "The loss value is a direct indicator of the model's error.\n",
        "Lower loss values indicate better alignment between predictions and actual values.\n",
        "Higher loss values indicate larger errors or misalignment.\n",
        "Guides Optimization:\n",
        "\n",
        "During training, optimization algorithms (e.g., Gradient Descent) use the loss value to adjust model parameters (weights, biases).\n",
        "The goal is to minimize the loss by iteratively updating parameters.\n",
        "Model Selection:\n",
        "\n",
        "Comparing loss values across models helps determine which model performs better on the same dataset.\n",
        "A consistently low loss value suggests the model has good predictive capabilities.\n",
        "Evaluates Generalization:\n",
        "\n",
        "Loss values on the training data indicate how well the model fits the training set.\n",
        "Loss values on the validation or test data help evaluate the model's ability to generalize to unseen data."
      ],
      "metadata": {
        "id": "rcd6EaoxEgrY"
      }
    },
    {
      "cell_type": "markdown",
      "source": [
        "Interpreting Loss Values\n",
        "High Loss Value: Indicates poor predictions. Possible reasons:\n",
        "\n",
        "Model complexity is insufficient (underfitting).\n",
        "Inadequate training data or noisy data.\n",
        "Poor choice of features or model architecture.\n",
        "Low Loss Value: Indicates good predictions. However:\n",
        "\n",
        "If the loss is very low on training data but high on validation/test data, it suggests overfitting."
      ],
      "metadata": {
        "id": "o_ImKWGEEuzs"
      }
    },
    {
      "cell_type": "markdown",
      "source": [
        "Loss Functions and Their Role\n",
        "Different tasks require different types of loss functions. The loss function defines what the \"error\" means in the context of a specific problem:\n",
        "\n",
        "Regression Tasks:\n",
        "\n",
        "Mean Squared Error (MSE): Penalizes large errors more than small ones.\n",
        "Mean Absolute Error (MAE): Treats all errors equally.\n",
        "Classification Tasks:\n",
        "\n",
        "Cross-Entropy Loss: Commonly used for multi-class classification.\n",
        "Hinge Loss: Used for binary classification in SVMs.\n",
        "Custom Loss: For specific problems, you can define a loss function that best fits the domain requirements."
      ],
      "metadata": {
        "id": "g6t1K2PQE5Co"
      }
    },
    {
      "cell_type": "markdown",
      "source": [
        "Example: Monitoring Loss During Training\n",
        "A steadily decreasing loss value during training shows the model is learning and improving.\n",
        "If the loss plateaus or increases, it may signal issues such as:\n",
        "Poor learning rate.\n",
        "Need for more data or better features.\n",
        "Model hitting a local minimum"
      ],
      "metadata": {
        "id": "6JrlkDB7FCmx"
      }
    },
    {
      "cell_type": "markdown",
      "source": [
        "# Q 5 What are continuous and categorical variables?"
      ],
      "metadata": {
        "id": "rdXx_LFcFYal"
      }
    },
    {
      "cell_type": "markdown",
      "source": [
        "Continuous and Categorical Variables\n",
        "In data analysis and machine learning, variables are features or attributes of data that can take on different values. They are broadly classified into continuous and categorical variables based on the type of data they represent.\n",
        "\n",
        "1. Continuous Variables\n",
        "Definition:\n",
        "Continuous variables represent quantities that can take an infinite number of values within a given range. They are numerical and measurable.\n",
        "Characteristics:\n",
        "Values can be decimal or fractional.\n",
        "They can be ordered or ranked.\n",
        "Example range:\n",
        "[\n",
        "0\n",
        ",\n",
        "∞\n",
        ")\n",
        "[0,∞), or any real numbers.\n",
        "Examples:\n",
        "Height (e.g., 165.5 cm, 170.2 cm).\n",
        "Weight (e.g., 70.2 kg, 85.6 kg).\n",
        "Temperature (e.g., 22.3°C, 36.7°C).\n",
        "Time (e.g., 2.35 hours, 3.5 hours).\n",
        "Use in ML:\n",
        "Often used in regression tasks.\n",
        "Algorithms like Linear Regression, Neural Networks, and Support Vector Regressors work well with continuous variables.\n"
      ],
      "metadata": {
        "id": "EJFJObSeFvlI"
      }
    },
    {
      "cell_type": "markdown",
      "source": [
        "2. Categorical Variables\n",
        "Definition:\n",
        "Categorical variables represent data that can be divided into groups or categories. These values are qualitative, not numerical.\n",
        "Characteristics:\n",
        "Values belong to a fixed number of categories or labels.\n",
        "Categories may or may not have an inherent order.\n",
        "Types:\n",
        "Nominal: Categories without a natural order.\n",
        "Examples: Gender (Male, Female), Colors (Red, Blue, Green).\n",
        "Ordinal: Categories with a meaningful order or ranking.\n",
        "Examples: Education level (High School, Bachelor's, Master's), Customer satisfaction (Low, Medium, High).\n",
        "Examples:\n",
        "City names (e.g., New York, London, Tokyo).\n",
        "Product categories (e.g., Electronics, Furniture, Clothing).\n",
        "Blood types (e.g., A, B, AB, O).\n",
        "Use in ML:\n",
        "Often used in classification tasks.\n",
        "Algorithms like Decision Trees, Random Forests, and Logistic Regression handle categorical variables well.\n",
        "Must be encoded into numerical representations for most ML models."
      ],
      "metadata": {
        "id": "IphaKYjUF-Js"
      }
    },
    {
      "cell_type": "markdown",
      "source": [
        "![image.png](data:image/png;base64,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)"
      ],
      "metadata": {
        "id": "6FmycURhGJRH"
      }
    },
    {
      "cell_type": "markdown",
      "source": [
        "# Q 6 How do we handle categorical variables in Machine Learning? What are the common t echniques?"
      ],
      "metadata": {
        "id": "FAOuHWblGaY7"
      }
    },
    {
      "cell_type": "markdown",
      "source": [
        "Handling categorical variables in Machine Learning is essential, as most algorithms work with numerical data. Categorical variables must be transformed into numerical representations without losing the underlying information or relationships.\n",
        "\n",
        "Common Techniques to Handle Categorical Variables\n",
        "\n",
        "1. Encoding\n",
        "\n",
        "a. One-Hot Encoding\n",
        "Description: Converts each category into a binary column. A value of\n",
        "1\n",
        "1 indicates the presence of a category, while\n",
        "0\n",
        "0 indicates its absence.\n",
        "Use Case: When the categorical variable is nominal (no natural order).\n",
        "Example:\n",
        "Original Data: Color = [Red, Blue, Green].\n",
        "One-Hot Encoded:\n",
        "mathematica\n",
        "Copy code\n"
      ],
      "metadata": {
        "id": "9-J2uUahGqO0"
      }
    },
    {
      "cell_type": "markdown",
      "source": [
        "![image.png](data:image/png;base64,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)"
      ],
      "metadata": {
        "id": "yKPFTGIPG1l-"
      }
    },
    {
      "cell_type": "markdown",
      "source": [
        "b. Label Encoding\n",
        "Description: Assigns an integer value to each category.\n",
        "Use Case: Useful for ordinal variables (categories with a natural order).\n",
        "Example:\n",
        "Original Data: Size = [Small, Medium, Large].\n",
        "Label Encoded: [0, 1, 2].\n",
        "\n",
        "\n",
        "c. Target/Mean Encoding\n",
        "Description: Replaces categories with the mean (or another statistic) of the target variable for each category.\n",
        "Use Case: Works well in regression problems and when categories are numerous.\n",
        "Example:\n",
        "Category: [A, B, C].\n",
        "Target Mean: [10.5, 12.3, 8.7].\n",
        "\n",
        "\n",
        "d. Frequency Encoding\n",
        "Description: Replaces categories with their frequency or count in the dataset.\n",
        "Use Case: When the frequency of occurrence matters.\n",
        "Example:\n",
        "Original Data: [A, B, A, C, B, B].\n",
        "Frequency Encoded: [2, 3, 2, 1, 3, 3].\n"
      ],
      "metadata": {
        "id": "NYhSLzJ8G6QZ"
      }
    },
    {
      "cell_type": "markdown",
      "source": [
        "2. Binary Encoding\n",
        "Description: Combines label encoding and one-hot encoding. Categories are first label-encoded and then converted into binary numbers.\n",
        "Use Case: Effective for high-cardinality variables (many unique categories).\n",
        "Example:\n",
        "Original Data: Category = [A, B, C].\n",
        "Binary Encoded"
      ],
      "metadata": {
        "id": "dCnI6d3HHFyH"
      }
    },
    {
      "cell_type": "markdown",
      "source": [
        "![image.png](data:image/png;base64,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)"
      ],
      "metadata": {
        "id": "jtk5Q63LHJYc"
      }
    },
    {
      "cell_type": "markdown",
      "source": [
        "3. Embedding\n",
        "\n",
        "Description: Represents categories as dense vectors in a lower-dimensional space. Typically used in neural networks.\n",
        "\n",
        "Use Case: High-dimensional categorical variables, such as in natural language processing.\n",
        "\n",
        "Example:\n",
        "Categories are represented as vectors like\n",
        "[\n",
        "0.1\n",
        ",\n",
        "0.8\n",
        ",\n",
        "0.2\n",
        "]\n",
        "[0.1,0.8,0.2].\n",
        "\n",
        "\n",
        "\n",
        "4. Feature Hashing\n",
        "\n",
        "Description: Maps categories to integers using a hash function, reducing dimensionality.\n",
        "\n",
        "Use Case: High-cardinality data with many categories.\n",
        "\n",
        "Example:\n",
        "Original Data: [A, B, C].\n",
        "Hashed Output: [1, 2, 3].\n"
      ],
      "metadata": {
        "id": "gHQy5KGiHOei"
      }
    },
    {
      "cell_type": "markdown",
      "source": [
        "![image.png](data:image/png;base64,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)"
      ],
      "metadata": {
        "id": "jvTvctlGHYcw"
      }
    },
    {
      "cell_type": "markdown",
      "source": [
        "Example Workflow\n",
        "\n",
        "Analyze the type of categorical variable (nominal or ordinal).\n",
        "Decide on an encoding technique based on the number of categories and use case.\n",
        "Apply encoding as part of your preprocessing pipeline."
      ],
      "metadata": {
        "id": "NkV7858HHcSh"
      }
    },
    {
      "cell_type": "markdown",
      "source": [
        "# Q 7 What do you mean by training and testing a dataset?"
      ],
      "metadata": {
        "id": "xvdqiGSFIIhv"
      }
    },
    {
      "cell_type": "markdown",
      "source": [
        "Training and Testing a Dataset in Machine Learning\n",
        "Training and testing datasets are subsets of the original data used to build and evaluate a machine learning model. They play a crucial role in assessing the performance and generalization capability of the model."
      ],
      "metadata": {
        "id": "81H6sBZ0IXcA"
      }
    },
    {
      "cell_type": "markdown",
      "source": [
        "1. Training Dataset\n",
        "\n",
        "Definition:\n",
        "\n",
        "The training dataset is the portion of data used to train the machine learning model. The model learns patterns, relationships, and structures in the data by optimizing its parameters (e.g., weights and biases) during the training phase.\n",
        "\n",
        "Purpose:\n",
        "\n",
        "To teach the model how to make predictions.\n",
        "To minimize the error (loss) on the training data.\n",
        "\n",
        "Key Points:\n",
        "\n",
        "It should be representative of the entire dataset.\n",
        "The model adjusts its internal parameters based on this data.\n",
        "\n",
        "2. Testing Dataset\n",
        "\n",
        "Definition:\n",
        "\n",
        "The testing dataset is a separate portion of data used to evaluate the trained model's performance. This data is not seen by the model during training.\n",
        "\n",
        "Purpose:\n",
        "\n",
        "To assess how well the model generalizes to unseen data.\n",
        "To provide an unbiased evaluation of the model's performance.\n",
        "\n",
        "Key Points:\n",
        "\n",
        "Helps identify overfitting or underfitting.\n",
        "Should also be representative of the problem domain.\n"
      ],
      "metadata": {
        "id": "r-R5aHMDIaqa"
      }
    },
    {
      "cell_type": "markdown",
      "source": [
        "Why Split the Data?\n",
        "Avoid Overfitting:\n",
        "\n",
        "If a model is evaluated on the same data it was trained on, it may show excellent performance (low error), but this does not guarantee it will perform well on new, unseen data.\n",
        "\n",
        "Generalization:\n",
        "\n",
        "Splitting the data ensures the model’s ability to generalize is tested, meaning it can make accurate predictions on data it hasn’t seen before."
      ],
      "metadata": {
        "id": "RDOoslk0Iiv7"
      }
    },
    {
      "cell_type": "markdown",
      "source": [
        "Typical Dataset Split Ratios\n",
        "\n",
        "Training Set: 70-80% of the data.\n",
        "\n",
        "Testing Set: 20-30% of the data.\n",
        "\n",
        "In some cases, a validation set is also used for hyperparameter tuning. A common split is:\n",
        "\n",
        "Training Set: 60%\n",
        "Validation Set: 20%\n",
        "Testing Set: 20%\n"
      ],
      "metadata": {
        "id": "-2SBE4nZIl_h"
      }
    },
    {
      "cell_type": "markdown",
      "source": [
        "Workflow Example\n",
        "\n",
        "Prepare the Dataset:\n",
        "\n",
        "Gather and preprocess the data (e.g., cleaning, normalization, encoding).\n",
        "Split the Dataset:\n",
        "\n",
        "Divide the dataset into training and testing subsets, often using random sampling or a library function like train_test_split in Python.\n",
        "\n",
        "Train the Model:\n",
        "\n",
        "Use the training dataset to fit the model and minimize the error.\n",
        "\n",
        "Test the Model:\n",
        "\n",
        "Use the testing dataset to evaluate the model’s performance on unseen data.\n",
        "Metrics such as accuracy, precision, recall, and F1-score are used for evaluation."
      ],
      "metadata": {
        "id": "lZDbhiVvIqYi"
      }
    },
    {
      "cell_type": "code",
      "execution_count": 1,
      "metadata": {
        "colab": {
          "base_uri": "https://localhost:8080/"
        },
        "id": "4N9FdbD7CRS_",
        "outputId": "7feed844-0730-4b47-dd83-202a941f6c0e"
      },
      "outputs": [
        {
          "output_type": "stream",
          "name": "stdout",
          "text": [
            "Accuracy: 1.0\n"
          ]
        }
      ],
      "source": [
        "from sklearn.model_selection import train_test_split\n",
        "from sklearn.ensemble import RandomForestClassifier\n",
        "from sklearn.metrics import accuracy_score\n",
        "\n",
        "# Example Dataset\n",
        "X = [[1], [2], [3], [4], [5], [6], [7], [8], [9], [10]]  # Features\n",
        "y = [0, 0, 0, 0, 1, 1, 1, 1, 1, 1]  # Labels\n",
        "\n",
        "# Split the data\n",
        "X_train, X_test, y_train, y_test = train_test_split(X, y, test_size=0.3, random_state=42)\n",
        "\n",
        "# Train the model\n",
        "model = RandomForestClassifier()\n",
        "model.fit(X_train, y_train)\n",
        "\n",
        "# Test the model\n",
        "predictions = model.predict(X_test)\n",
        "print(\"Accuracy:\", accuracy_score(y_test, predictions))\n"
      ]
    },
    {
      "cell_type": "markdown",
      "source": [
        "# Q 8 What is sklearn.preprocessing?"
      ],
      "metadata": {
        "id": "pd2TubVaI3O0"
      }
    },
    {
      "cell_type": "markdown",
      "source": [
        "sklearn.preprocessing\n",
        "\n",
        "The sklearn.preprocessing module in scikit-learn provides a set of tools and methods to transform raw data into a format that is suitable for machine learning models. It includes techniques for scaling, normalizing, encoding, and imputing data, ensuring the data is standardized and ready for training or testing.\n",
        "\n",
        "\n",
        "Why Preprocessing is Important\n",
        "\n",
        "Machine learning algorithms perform better when data is in a standardized format.\n",
        "\n",
        "Preprocessing ensures consistency, improves accuracy, and reduces training time.\n",
        "Handles missing values, categorical data, and outliers effectively.\n"
      ],
      "metadata": {
        "id": "NCr_M9biJB_0"
      }
    },
    {
      "cell_type": "markdown",
      "source": [
        "Key Functions and Classes in sklearn.preprocessing\n",
        "\n",
        "1. Scaling and Standardization\n",
        "\n",
        "a. StandardScaler\n",
        "\n",
        "Description: Standardizes features by removing the mean and scaling to unit variance (\n",
        "𝑧\n",
        "=\n",
        "𝑥\n",
        "−\n",
        "𝜇\n",
        "𝜎\n",
        "z=\n",
        "σ\n",
        "x−μ\n",
        "​\n",
        " ).\n",
        "\n",
        "Use Case: Algorithms sensitive to feature magnitudes (e.g., SVM, kNN, Logistic Regression)."
      ],
      "metadata": {
        "id": "crS0fRmTJHhD"
      }
    },
    {
      "cell_type": "code",
      "source": [
        "from sklearn.preprocessing import StandardScaler\n",
        "scaler = StandardScaler()\n",
        "X_scaled = scaler.fit_transform(X)\n"
      ],
      "metadata": {
        "id": "XdL1JP-QIvk-"
      },
      "execution_count": 2,
      "outputs": []
    },
    {
      "cell_type": "markdown",
      "source": [
        "b. MinMaxScaler\n",
        "\n",
        "Description: Scales features to a specified range, typically\n",
        "[\n",
        "0\n",
        ",\n",
        "1\n",
        "]\n",
        "[0,1].\n",
        "\n",
        "Use Case: When features need to be bounded within a specific range."
      ],
      "metadata": {
        "id": "zLTvTu8yJPD_"
      }
    },
    {
      "cell_type": "code",
      "source": [
        "from sklearn.preprocessing import MinMaxScaler\n",
        "scaler = MinMaxScaler()\n",
        "X_scaled = scaler.fit_transform(X)\n"
      ],
      "metadata": {
        "id": "Q1CBVm8tJMng"
      },
      "execution_count": 3,
      "outputs": []
    },
    {
      "cell_type": "markdown",
      "source": [
        "c.RobustScaler\n",
        "Description: Scales features using the median and interquartile range, making it robust to outliers.\n",
        "Use Case: Datasets with significant outliers.\n"
      ],
      "metadata": {
        "id": "y0cv8rGUJYF3"
      }
    },
    {
      "cell_type": "code",
      "source": [
        "from sklearn.preprocessing import RobustScaler\n",
        "scaler = RobustScaler()\n",
        "X_scaled = scaler.fit_transform(X)\n"
      ],
      "metadata": {
        "id": "1egofM10JSA3"
      },
      "execution_count": 4,
      "outputs": []
    },
    {
      "cell_type": "markdown",
      "source": [
        "2. Encoding Categorical Features\n",
        "\n",
        "a. OneHotEncoder\n",
        "\n",
        "Description: Converts categorical variables into a binary matrix (one-hot encoding)."
      ],
      "metadata": {
        "id": "moxHKypzJeh2"
      }
    },
    {
      "cell_type": "code",
      "source": [
        "from sklearn.preprocessing import OneHotEncoder\n",
        "encoder = OneHotEncoder()\n",
        "X_encoded = encoder.fit_transform([['Red'], ['Blue'], ['Green']]).toarray()\n"
      ],
      "metadata": {
        "id": "OJMWuVvFJbJ2"
      },
      "execution_count": 5,
      "outputs": []
    },
    {
      "cell_type": "markdown",
      "source": [
        "b. LabelEncoder\n",
        "Description: Encodes target labels with values between\n",
        "0\n",
        "0 and\n",
        "𝑛\n",
        "−\n",
        "1\n",
        "n−1.\n",
        "Use Case: For ordinal encoding.\n"
      ],
      "metadata": {
        "id": "kvejYgPvJj2o"
      }
    },
    {
      "cell_type": "code",
      "source": [
        "from sklearn.preprocessing import LabelEncoder\n",
        "encoder = LabelEncoder()\n",
        "y_encoded = encoder.fit_transform(['cat', 'dog', 'mouse'])\n"
      ],
      "metadata": {
        "id": "aUpVdDbRJht2"
      },
      "execution_count": 6,
      "outputs": []
    },
    {
      "cell_type": "markdown",
      "source": [
        "3. Normalization\n",
        "\n",
        "Normalizer\n",
        "\n",
        "Description: Normalizes samples individually to unit norm (\n",
        "𝐿\n",
        "1\n",
        "L\n",
        "1\n",
        "  or\n",
        "𝐿\n",
        "2\n",
        "L\n",
        "2\n",
        " ).\n",
        "\n",
        "\n",
        "Use Case: When data needs normalization for distance-based algorithms like kNN or SVM."
      ],
      "metadata": {
        "id": "We6PiIUKJsYb"
      }
    },
    {
      "cell_type": "code",
      "source": [
        "from sklearn.preprocessing import Normalizer\n",
        "normalizer = Normalizer()\n",
        "X_normalized = normalizer.fit_transform(X)\n"
      ],
      "metadata": {
        "id": "I2ApBb6VJn34"
      },
      "execution_count": 7,
      "outputs": []
    },
    {
      "cell_type": "markdown",
      "source": [
        "4. Polynomial Features\n",
        "\n",
        "Description: Generates polynomial and interaction features.\n",
        "Use Case: Enhances linear models by adding non-linear terms."
      ],
      "metadata": {
        "id": "LVC390BbJy1d"
      }
    },
    {
      "cell_type": "code",
      "source": [
        "from sklearn.preprocessing import PolynomialFeatures\n",
        "poly = PolynomialFeatures(degree=2)\n",
        "X_poly = poly.fit_transform([[1, 2], [3, 4]])\n"
      ],
      "metadata": {
        "id": "NCZ7Ec4IJwjH"
      },
      "execution_count": 8,
      "outputs": []
    },
    {
      "cell_type": "markdown",
      "source": [
        "5. Imputation\n",
        "\n",
        "Handling missing data by filling in missing values.\n",
        "\n",
        "SimpleImputer\n",
        "\n",
        "Description: Replaces missing values with a specified strategy (e.g., mean, median, most frequent)."
      ],
      "metadata": {
        "id": "S-D-EArZJ4Mz"
      }
    },
    {
      "cell_type": "code",
      "source": [
        "from sklearn.impute import SimpleImputer\n",
        "imputer = SimpleImputer(strategy='mean')\n",
        "X_imputed = imputer.fit_transform(X)\n"
      ],
      "metadata": {
        "id": "HzI5mIVmJ1ra"
      },
      "execution_count": 9,
      "outputs": []
    },
    {
      "cell_type": "markdown",
      "source": [
        "Common Workflow Using sklearn.preprocessing\n",
        "\n",
        "Load the Data: Load the raw dataset.\n",
        "\n",
        "Analyze Data: Identify missing values, categorical variables, and scaling needs.\n",
        "\n",
        "Preprocess:\n",
        "\n",
        "Scale numerical features.\n",
        "\n",
        "Encode categorical variables.\n",
        "\n",
        "Impute missing values.\n",
        "\n",
        "Train the Model: Use the preprocessed data for training"
      ],
      "metadata": {
        "id": "zKSc8XgfKAPK"
      }
    },
    {
      "cell_type": "markdown",
      "source": [
        "# **Q 9 What is a Test set?**"
      ],
      "metadata": {
        "id": "ZhO7N40BLMyl"
      }
    },
    {
      "cell_type": "markdown",
      "source": [
        "Test Set\n",
        "A test set is a portion of a dataset used to evaluate the performance of a machine learning model after it has been trained on the training data. It contains data that the model has never seen during training, providing an unbiased estimate of how well the model generalizes to unseen data."
      ],
      "metadata": {
        "id": "gGhoggoYLUkx"
      }
    },
    {
      "cell_type": "markdown",
      "source": [
        "Key Features of a Test Set\n",
        "Unseen Data:\n",
        "\n",
        "The model does not learn from the test set during training.\n",
        "It is used solely for evaluation purposes.\n",
        "Evaluation Metric:\n",
        "\n",
        "Common metrics like accuracy, precision, recall, F1-score, or mean squared error are calculated on the test set to measure the model’s performance.\n",
        "Generalization Check:\n",
        "\n",
        "Helps verify if the model performs well on data outside the training set.\n",
        "A low test error suggests good generalization, while a high test error may indicate overfitting or underfitting.\n",
        "Size of the Test Set:\n",
        "\n",
        "Typically, 20-30% of the dataset is reserved for testing.\n",
        "The exact size depends on the amount of available data and the problem being solved.\n"
      ],
      "metadata": {
        "id": "25sETiysLYTp"
      }
    },
    {
      "cell_type": "markdown",
      "source": [
        "Purpose of the Test Set\n",
        "Performance Evaluation:\n",
        "\n",
        "The test set evaluates how well the model can predict outcomes on new, unseen data.\n",
        "Avoid Overfitting:\n",
        "\n",
        "Using a separate test set ensures that the model's performance is not overestimated by testing it on data it has already seen.\n",
        "Model Comparison:\n",
        "\n",
        "When comparing different models, their performance on the same test set ensures fair evaluation."
      ],
      "metadata": {
        "id": "vJbmjD2vLcEe"
      }
    },
    {
      "cell_type": "markdown",
      "source": [
        "Example: Splitting the Data\n",
        "\n",
        "Using Python's train_test_split function from scikit-learn:"
      ],
      "metadata": {
        "id": "PBwv3E68LfES"
      }
    },
    {
      "cell_type": "markdown",
      "source": [],
      "metadata": {
        "id": "tlYylnzuLkwQ"
      }
    },
    {
      "cell_type": "code",
      "source": [
        "from sklearn.model_selection import train_test_split\n",
        "from sklearn.ensemble import RandomForestClassifier\n",
        "from sklearn.metrics import accuracy_score\n",
        "\n",
        "# Example Dataset\n",
        "X = [[1], [2], [3], [4], [5], [6], [7], [8], [9], [10]]  # Features\n",
        "y = [0, 0, 0, 0, 1, 1, 1, 1, 1, 1]  # Labels\n",
        "\n",
        "# Splitting Data into Training and Test Sets\n",
        "X_train, X_test, y_train, y_test = train_test_split(X, y, test_size=0.3, random_state=42)\n",
        "\n",
        "# Training the Model\n",
        "model = RandomForestClassifier()\n",
        "model.fit(X_train, y_train)\n",
        "\n",
        "# Testing the Model\n",
        "predictions = model.predict(X_test)\n",
        "print(\"Test Accuracy:\", accuracy_score(y_test, predictions))\n"
      ],
      "metadata": {
        "colab": {
          "base_uri": "https://localhost:8080/"
        },
        "id": "_S0xTN_BJ65z",
        "outputId": "e874dfaf-2ba3-4ee6-dbba-44904dbb7ed5"
      },
      "execution_count": 10,
      "outputs": [
        {
          "output_type": "stream",
          "name": "stdout",
          "text": [
            "Test Accuracy: 1.0\n"
          ]
        }
      ]
    },
    {
      "cell_type": "markdown",
      "source": [
        "Test Set vs. Validation Set\n",
        "\n",
        "Test Set: Used for final evaluation after model training and hyperparameter tuning.\n",
        "\n",
        "Validation Set: Used during training to tune hyperparameters and prevent overfitting."
      ],
      "metadata": {
        "id": "iMQ7Vev5LrXq"
      }
    },
    {
      "cell_type": "markdown",
      "source": [
        "# Q 10 How do we split data for model fitting (training and testing) in Python? How do you approach a Machine Learning problem?"
      ],
      "metadata": {
        "id": "dgw2M0BnL0N7"
      }
    },
    {
      "cell_type": "markdown",
      "source": [
        "Splitting Data for Model Fitting (Training and Testing) in Python\n",
        "In Python, you typically use train_test_split from scikit-learn to split the dataset into training and testing sets. The general idea is to ensure that the model learns from one portion of the data (training) and is evaluated on a separate portion (testing) to assess its generalization ability.\n",
        "\n",
        "Here’s a step-by-step approach:"
      ],
      "metadata": {
        "id": "yN0s-tLWNCRE"
      }
    },
    {
      "cell_type": "markdown",
      "source": [
        "1. Import Necessary Libraries"
      ],
      "metadata": {
        "id": "G1VDJX2FNEpC"
      }
    },
    {
      "cell_type": "code",
      "source": [
        "import numpy as np\n",
        "from sklearn.model_selection import train_test_split\n",
        "from sklearn.ensemble import RandomForestClassifier\n",
        "from sklearn.metrics import accuracy_score\n"
      ],
      "metadata": {
        "id": "1kY02KMiLoCc"
      },
      "execution_count": 11,
      "outputs": []
    },
    {
      "cell_type": "markdown",
      "source": [
        "2. Prepare the Data"
      ],
      "metadata": {
        "id": "R2H4kMYGNJQ7"
      }
    },
    {
      "cell_type": "code",
      "source": [
        "# Example dataset\n",
        "X = np.array([[1], [2], [3], [4], [5], [6], [7], [8], [9], [10]])  # Features\n",
        "y = np.array([0, 0, 0, 0, 1, 1, 1, 1, 1, 1])  # Labels\n"
      ],
      "metadata": {
        "id": "CttVPOMyNG75"
      },
      "execution_count": 12,
      "outputs": []
    },
    {
      "cell_type": "markdown",
      "source": [
        "3. Split the Data into Training and Test Sets\n",
        "Use train_test_split to divide the data into training and test sets. You can specify the test size (commonly 20-30% for testing) and set a random seed for reproducibility.\n",
        "\n",
        "python\n",
        "Copy code\n"
      ],
      "metadata": {
        "id": "i2FVAKjkNOyO"
      }
    },
    {
      "cell_type": "code",
      "source": [
        "# Split into 70% training and 30% test data\n",
        "X_train, X_test, y_train, y_test = train_test_split(X, y, test_size=0.3, random_state=42)\n"
      ],
      "metadata": {
        "id": "6MYbqRqrNMPd"
      },
      "execution_count": 13,
      "outputs": []
    },
    {
      "cell_type": "markdown",
      "source": [
        "X_train: Features for training.\n",
        "X_test: Features for testing.\n",
        "y_train: Labels for training.\n",
        "y_test: Labels for testing"
      ],
      "metadata": {
        "id": "eaPZvqpCNUNc"
      }
    },
    {
      "cell_type": "markdown",
      "source": [
        "4. Train a Model on the Training Data\n",
        "Choose a model (e.g., RandomForestClassifier) and train it using the X_train and y_train data."
      ],
      "metadata": {
        "id": "5U-e71RTNXnZ"
      }
    },
    {
      "cell_type": "code",
      "source": [
        "# Train a Random Forest Classifier\n",
        "model = RandomForestClassifier()\n",
        "model.fit(X_train, y_train)\n"
      ],
      "metadata": {
        "colab": {
          "base_uri": "https://localhost:8080/",
          "height": 80
        },
        "id": "EtlkRm3lNRPD",
        "outputId": "61670859-f98c-4456-f90d-342c62acdda4"
      },
      "execution_count": 14,
      "outputs": [
        {
          "output_type": "execute_result",
          "data": {
            "text/plain": [
              "RandomForestClassifier()"
            ],
            "text/html": [
              "<style>#sk-container-id-1 {\n",
              "  /* Definition of color scheme common for light and dark mode */\n",
              "  --sklearn-color-text: #000;\n",
              "  --sklearn-color-text-muted: #666;\n",
              "  --sklearn-color-line: gray;\n",
              "  /* Definition of color scheme for unfitted estimators */\n",
              "  --sklearn-color-unfitted-level-0: #fff5e6;\n",
              "  --sklearn-color-unfitted-level-1: #f6e4d2;\n",
              "  --sklearn-color-unfitted-level-2: #ffe0b3;\n",
              "  --sklearn-color-unfitted-level-3: chocolate;\n",
              "  /* Definition of color scheme for fitted estimators */\n",
              "  --sklearn-color-fitted-level-0: #f0f8ff;\n",
              "  --sklearn-color-fitted-level-1: #d4ebff;\n",
              "  --sklearn-color-fitted-level-2: #b3dbfd;\n",
              "  --sklearn-color-fitted-level-3: cornflowerblue;\n",
              "\n",
              "  /* Specific color for light theme */\n",
              "  --sklearn-color-text-on-default-background: var(--sg-text-color, var(--theme-code-foreground, var(--jp-content-font-color1, black)));\n",
              "  --sklearn-color-background: var(--sg-background-color, var(--theme-background, var(--jp-layout-color0, white)));\n",
              "  --sklearn-color-border-box: var(--sg-text-color, var(--theme-code-foreground, var(--jp-content-font-color1, black)));\n",
              "  --sklearn-color-icon: #696969;\n",
              "\n",
              "  @media (prefers-color-scheme: dark) {\n",
              "    /* Redefinition of color scheme for dark theme */\n",
              "    --sklearn-color-text-on-default-background: var(--sg-text-color, var(--theme-code-foreground, var(--jp-content-font-color1, white)));\n",
              "    --sklearn-color-background: var(--sg-background-color, var(--theme-background, var(--jp-layout-color0, #111)));\n",
              "    --sklearn-color-border-box: var(--sg-text-color, var(--theme-code-foreground, var(--jp-content-font-color1, white)));\n",
              "    --sklearn-color-icon: #878787;\n",
              "  }\n",
              "}\n",
              "\n",
              "#sk-container-id-1 {\n",
              "  color: var(--sklearn-color-text);\n",
              "}\n",
              "\n",
              "#sk-container-id-1 pre {\n",
              "  padding: 0;\n",
              "}\n",
              "\n",
              "#sk-container-id-1 input.sk-hidden--visually {\n",
              "  border: 0;\n",
              "  clip: rect(1px 1px 1px 1px);\n",
              "  clip: rect(1px, 1px, 1px, 1px);\n",
              "  height: 1px;\n",
              "  margin: -1px;\n",
              "  overflow: hidden;\n",
              "  padding: 0;\n",
              "  position: absolute;\n",
              "  width: 1px;\n",
              "}\n",
              "\n",
              "#sk-container-id-1 div.sk-dashed-wrapped {\n",
              "  border: 1px dashed var(--sklearn-color-line);\n",
              "  margin: 0 0.4em 0.5em 0.4em;\n",
              "  box-sizing: border-box;\n",
              "  padding-bottom: 0.4em;\n",
              "  background-color: var(--sklearn-color-background);\n",
              "}\n",
              "\n",
              "#sk-container-id-1 div.sk-container {\n",
              "  /* jupyter's `normalize.less` sets `[hidden] { display: none; }`\n",
              "     but bootstrap.min.css set `[hidden] { display: none !important; }`\n",
              "     so we also need the `!important` here to be able to override the\n",
              "     default hidden behavior on the sphinx rendered scikit-learn.org.\n",
              "     See: https://github.com/scikit-learn/scikit-learn/issues/21755 */\n",
              "  display: inline-block !important;\n",
              "  position: relative;\n",
              "}\n",
              "\n",
              "#sk-container-id-1 div.sk-text-repr-fallback {\n",
              "  display: none;\n",
              "}\n",
              "\n",
              "div.sk-parallel-item,\n",
              "div.sk-serial,\n",
              "div.sk-item {\n",
              "  /* draw centered vertical line to link estimators */\n",
              "  background-image: linear-gradient(var(--sklearn-color-text-on-default-background), var(--sklearn-color-text-on-default-background));\n",
              "  background-size: 2px 100%;\n",
              "  background-repeat: no-repeat;\n",
              "  background-position: center center;\n",
              "}\n",
              "\n",
              "/* Parallel-specific style estimator block */\n",
              "\n",
              "#sk-container-id-1 div.sk-parallel-item::after {\n",
              "  content: \"\";\n",
              "  width: 100%;\n",
              "  border-bottom: 2px solid var(--sklearn-color-text-on-default-background);\n",
              "  flex-grow: 1;\n",
              "}\n",
              "\n",
              "#sk-container-id-1 div.sk-parallel {\n",
              "  display: flex;\n",
              "  align-items: stretch;\n",
              "  justify-content: center;\n",
              "  background-color: var(--sklearn-color-background);\n",
              "  position: relative;\n",
              "}\n",
              "\n",
              "#sk-container-id-1 div.sk-parallel-item {\n",
              "  display: flex;\n",
              "  flex-direction: column;\n",
              "}\n",
              "\n",
              "#sk-container-id-1 div.sk-parallel-item:first-child::after {\n",
              "  align-self: flex-end;\n",
              "  width: 50%;\n",
              "}\n",
              "\n",
              "#sk-container-id-1 div.sk-parallel-item:last-child::after {\n",
              "  align-self: flex-start;\n",
              "  width: 50%;\n",
              "}\n",
              "\n",
              "#sk-container-id-1 div.sk-parallel-item:only-child::after {\n",
              "  width: 0;\n",
              "}\n",
              "\n",
              "/* Serial-specific style estimator block */\n",
              "\n",
              "#sk-container-id-1 div.sk-serial {\n",
              "  display: flex;\n",
              "  flex-direction: column;\n",
              "  align-items: center;\n",
              "  background-color: var(--sklearn-color-background);\n",
              "  padding-right: 1em;\n",
              "  padding-left: 1em;\n",
              "}\n",
              "\n",
              "\n",
              "/* Toggleable style: style used for estimator/Pipeline/ColumnTransformer box that is\n",
              "clickable and can be expanded/collapsed.\n",
              "- Pipeline and ColumnTransformer use this feature and define the default style\n",
              "- Estimators will overwrite some part of the style using the `sk-estimator` class\n",
              "*/\n",
              "\n",
              "/* Pipeline and ColumnTransformer style (default) */\n",
              "\n",
              "#sk-container-id-1 div.sk-toggleable {\n",
              "  /* Default theme specific background. It is overwritten whether we have a\n",
              "  specific estimator or a Pipeline/ColumnTransformer */\n",
              "  background-color: var(--sklearn-color-background);\n",
              "}\n",
              "\n",
              "/* Toggleable label */\n",
              "#sk-container-id-1 label.sk-toggleable__label {\n",
              "  cursor: pointer;\n",
              "  display: flex;\n",
              "  width: 100%;\n",
              "  margin-bottom: 0;\n",
              "  padding: 0.5em;\n",
              "  box-sizing: border-box;\n",
              "  text-align: center;\n",
              "  align-items: start;\n",
              "  justify-content: space-between;\n",
              "  gap: 0.5em;\n",
              "}\n",
              "\n",
              "#sk-container-id-1 label.sk-toggleable__label .caption {\n",
              "  font-size: 0.6rem;\n",
              "  font-weight: lighter;\n",
              "  color: var(--sklearn-color-text-muted);\n",
              "}\n",
              "\n",
              "#sk-container-id-1 label.sk-toggleable__label-arrow:before {\n",
              "  /* Arrow on the left of the label */\n",
              "  content: \"▸\";\n",
              "  float: left;\n",
              "  margin-right: 0.25em;\n",
              "  color: var(--sklearn-color-icon);\n",
              "}\n",
              "\n",
              "#sk-container-id-1 label.sk-toggleable__label-arrow:hover:before {\n",
              "  color: var(--sklearn-color-text);\n",
              "}\n",
              "\n",
              "/* Toggleable content - dropdown */\n",
              "\n",
              "#sk-container-id-1 div.sk-toggleable__content {\n",
              "  max-height: 0;\n",
              "  max-width: 0;\n",
              "  overflow: hidden;\n",
              "  text-align: left;\n",
              "  /* unfitted */\n",
              "  background-color: var(--sklearn-color-unfitted-level-0);\n",
              "}\n",
              "\n",
              "#sk-container-id-1 div.sk-toggleable__content.fitted {\n",
              "  /* fitted */\n",
              "  background-color: var(--sklearn-color-fitted-level-0);\n",
              "}\n",
              "\n",
              "#sk-container-id-1 div.sk-toggleable__content pre {\n",
              "  margin: 0.2em;\n",
              "  border-radius: 0.25em;\n",
              "  color: var(--sklearn-color-text);\n",
              "  /* unfitted */\n",
              "  background-color: var(--sklearn-color-unfitted-level-0);\n",
              "}\n",
              "\n",
              "#sk-container-id-1 div.sk-toggleable__content.fitted pre {\n",
              "  /* unfitted */\n",
              "  background-color: var(--sklearn-color-fitted-level-0);\n",
              "}\n",
              "\n",
              "#sk-container-id-1 input.sk-toggleable__control:checked~div.sk-toggleable__content {\n",
              "  /* Expand drop-down */\n",
              "  max-height: 200px;\n",
              "  max-width: 100%;\n",
              "  overflow: auto;\n",
              "}\n",
              "\n",
              "#sk-container-id-1 input.sk-toggleable__control:checked~label.sk-toggleable__label-arrow:before {\n",
              "  content: \"▾\";\n",
              "}\n",
              "\n",
              "/* Pipeline/ColumnTransformer-specific style */\n",
              "\n",
              "#sk-container-id-1 div.sk-label input.sk-toggleable__control:checked~label.sk-toggleable__label {\n",
              "  color: var(--sklearn-color-text);\n",
              "  background-color: var(--sklearn-color-unfitted-level-2);\n",
              "}\n",
              "\n",
              "#sk-container-id-1 div.sk-label.fitted input.sk-toggleable__control:checked~label.sk-toggleable__label {\n",
              "  background-color: var(--sklearn-color-fitted-level-2);\n",
              "}\n",
              "\n",
              "/* Estimator-specific style */\n",
              "\n",
              "/* Colorize estimator box */\n",
              "#sk-container-id-1 div.sk-estimator input.sk-toggleable__control:checked~label.sk-toggleable__label {\n",
              "  /* unfitted */\n",
              "  background-color: var(--sklearn-color-unfitted-level-2);\n",
              "}\n",
              "\n",
              "#sk-container-id-1 div.sk-estimator.fitted input.sk-toggleable__control:checked~label.sk-toggleable__label {\n",
              "  /* fitted */\n",
              "  background-color: var(--sklearn-color-fitted-level-2);\n",
              "}\n",
              "\n",
              "#sk-container-id-1 div.sk-label label.sk-toggleable__label,\n",
              "#sk-container-id-1 div.sk-label label {\n",
              "  /* The background is the default theme color */\n",
              "  color: var(--sklearn-color-text-on-default-background);\n",
              "}\n",
              "\n",
              "/* On hover, darken the color of the background */\n",
              "#sk-container-id-1 div.sk-label:hover label.sk-toggleable__label {\n",
              "  color: var(--sklearn-color-text);\n",
              "  background-color: var(--sklearn-color-unfitted-level-2);\n",
              "}\n",
              "\n",
              "/* Label box, darken color on hover, fitted */\n",
              "#sk-container-id-1 div.sk-label.fitted:hover label.sk-toggleable__label.fitted {\n",
              "  color: var(--sklearn-color-text);\n",
              "  background-color: var(--sklearn-color-fitted-level-2);\n",
              "}\n",
              "\n",
              "/* Estimator label */\n",
              "\n",
              "#sk-container-id-1 div.sk-label label {\n",
              "  font-family: monospace;\n",
              "  font-weight: bold;\n",
              "  display: inline-block;\n",
              "  line-height: 1.2em;\n",
              "}\n",
              "\n",
              "#sk-container-id-1 div.sk-label-container {\n",
              "  text-align: center;\n",
              "}\n",
              "\n",
              "/* Estimator-specific */\n",
              "#sk-container-id-1 div.sk-estimator {\n",
              "  font-family: monospace;\n",
              "  border: 1px dotted var(--sklearn-color-border-box);\n",
              "  border-radius: 0.25em;\n",
              "  box-sizing: border-box;\n",
              "  margin-bottom: 0.5em;\n",
              "  /* unfitted */\n",
              "  background-color: var(--sklearn-color-unfitted-level-0);\n",
              "}\n",
              "\n",
              "#sk-container-id-1 div.sk-estimator.fitted {\n",
              "  /* fitted */\n",
              "  background-color: var(--sklearn-color-fitted-level-0);\n",
              "}\n",
              "\n",
              "/* on hover */\n",
              "#sk-container-id-1 div.sk-estimator:hover {\n",
              "  /* unfitted */\n",
              "  background-color: var(--sklearn-color-unfitted-level-2);\n",
              "}\n",
              "\n",
              "#sk-container-id-1 div.sk-estimator.fitted:hover {\n",
              "  /* fitted */\n",
              "  background-color: var(--sklearn-color-fitted-level-2);\n",
              "}\n",
              "\n",
              "/* Specification for estimator info (e.g. \"i\" and \"?\") */\n",
              "\n",
              "/* Common style for \"i\" and \"?\" */\n",
              "\n",
              ".sk-estimator-doc-link,\n",
              "a:link.sk-estimator-doc-link,\n",
              "a:visited.sk-estimator-doc-link {\n",
              "  float: right;\n",
              "  font-size: smaller;\n",
              "  line-height: 1em;\n",
              "  font-family: monospace;\n",
              "  background-color: var(--sklearn-color-background);\n",
              "  border-radius: 1em;\n",
              "  height: 1em;\n",
              "  width: 1em;\n",
              "  text-decoration: none !important;\n",
              "  margin-left: 0.5em;\n",
              "  text-align: center;\n",
              "  /* unfitted */\n",
              "  border: var(--sklearn-color-unfitted-level-1) 1pt solid;\n",
              "  color: var(--sklearn-color-unfitted-level-1);\n",
              "}\n",
              "\n",
              ".sk-estimator-doc-link.fitted,\n",
              "a:link.sk-estimator-doc-link.fitted,\n",
              "a:visited.sk-estimator-doc-link.fitted {\n",
              "  /* fitted */\n",
              "  border: var(--sklearn-color-fitted-level-1) 1pt solid;\n",
              "  color: var(--sklearn-color-fitted-level-1);\n",
              "}\n",
              "\n",
              "/* On hover */\n",
              "div.sk-estimator:hover .sk-estimator-doc-link:hover,\n",
              ".sk-estimator-doc-link:hover,\n",
              "div.sk-label-container:hover .sk-estimator-doc-link:hover,\n",
              ".sk-estimator-doc-link:hover {\n",
              "  /* unfitted */\n",
              "  background-color: var(--sklearn-color-unfitted-level-3);\n",
              "  color: var(--sklearn-color-background);\n",
              "  text-decoration: none;\n",
              "}\n",
              "\n",
              "div.sk-estimator.fitted:hover .sk-estimator-doc-link.fitted:hover,\n",
              ".sk-estimator-doc-link.fitted:hover,\n",
              "div.sk-label-container:hover .sk-estimator-doc-link.fitted:hover,\n",
              ".sk-estimator-doc-link.fitted:hover {\n",
              "  /* fitted */\n",
              "  background-color: var(--sklearn-color-fitted-level-3);\n",
              "  color: var(--sklearn-color-background);\n",
              "  text-decoration: none;\n",
              "}\n",
              "\n",
              "/* Span, style for the box shown on hovering the info icon */\n",
              ".sk-estimator-doc-link span {\n",
              "  display: none;\n",
              "  z-index: 9999;\n",
              "  position: relative;\n",
              "  font-weight: normal;\n",
              "  right: .2ex;\n",
              "  padding: .5ex;\n",
              "  margin: .5ex;\n",
              "  width: min-content;\n",
              "  min-width: 20ex;\n",
              "  max-width: 50ex;\n",
              "  color: var(--sklearn-color-text);\n",
              "  box-shadow: 2pt 2pt 4pt #999;\n",
              "  /* unfitted */\n",
              "  background: var(--sklearn-color-unfitted-level-0);\n",
              "  border: .5pt solid var(--sklearn-color-unfitted-level-3);\n",
              "}\n",
              "\n",
              ".sk-estimator-doc-link.fitted span {\n",
              "  /* fitted */\n",
              "  background: var(--sklearn-color-fitted-level-0);\n",
              "  border: var(--sklearn-color-fitted-level-3);\n",
              "}\n",
              "\n",
              ".sk-estimator-doc-link:hover span {\n",
              "  display: block;\n",
              "}\n",
              "\n",
              "/* \"?\"-specific style due to the `<a>` HTML tag */\n",
              "\n",
              "#sk-container-id-1 a.estimator_doc_link {\n",
              "  float: right;\n",
              "  font-size: 1rem;\n",
              "  line-height: 1em;\n",
              "  font-family: monospace;\n",
              "  background-color: var(--sklearn-color-background);\n",
              "  border-radius: 1rem;\n",
              "  height: 1rem;\n",
              "  width: 1rem;\n",
              "  text-decoration: none;\n",
              "  /* unfitted */\n",
              "  color: var(--sklearn-color-unfitted-level-1);\n",
              "  border: var(--sklearn-color-unfitted-level-1) 1pt solid;\n",
              "}\n",
              "\n",
              "#sk-container-id-1 a.estimator_doc_link.fitted {\n",
              "  /* fitted */\n",
              "  border: var(--sklearn-color-fitted-level-1) 1pt solid;\n",
              "  color: var(--sklearn-color-fitted-level-1);\n",
              "}\n",
              "\n",
              "/* On hover */\n",
              "#sk-container-id-1 a.estimator_doc_link:hover {\n",
              "  /* unfitted */\n",
              "  background-color: var(--sklearn-color-unfitted-level-3);\n",
              "  color: var(--sklearn-color-background);\n",
              "  text-decoration: none;\n",
              "}\n",
              "\n",
              "#sk-container-id-1 a.estimator_doc_link.fitted:hover {\n",
              "  /* fitted */\n",
              "  background-color: var(--sklearn-color-fitted-level-3);\n",
              "}\n",
              "</style><div id=\"sk-container-id-1\" class=\"sk-top-container\"><div class=\"sk-text-repr-fallback\"><pre>RandomForestClassifier()</pre><b>In a Jupyter environment, please rerun this cell to show the HTML representation or trust the notebook. <br />On GitHub, the HTML representation is unable to render, please try loading this page with nbviewer.org.</b></div><div class=\"sk-container\" hidden><div class=\"sk-item\"><div class=\"sk-estimator fitted sk-toggleable\"><input class=\"sk-toggleable__control sk-hidden--visually\" id=\"sk-estimator-id-1\" type=\"checkbox\" checked><label for=\"sk-estimator-id-1\" class=\"sk-toggleable__label fitted sk-toggleable__label-arrow\"><div><div>RandomForestClassifier</div></div><div><a class=\"sk-estimator-doc-link fitted\" rel=\"noreferrer\" target=\"_blank\" href=\"https://scikit-learn.org/1.6/modules/generated/sklearn.ensemble.RandomForestClassifier.html\">?<span>Documentation for RandomForestClassifier</span></a><span class=\"sk-estimator-doc-link fitted\">i<span>Fitted</span></span></div></label><div class=\"sk-toggleable__content fitted\"><pre>RandomForestClassifier()</pre></div> </div></div></div></div>"
            ]
          },
          "metadata": {},
          "execution_count": 14
        }
      ]
    },
    {
      "cell_type": "markdown",
      "source": [
        "5. Test the Model on the Test Data\n",
        "Evaluate the trained model on the X_test data and calculate performance metrics like accuracy."
      ],
      "metadata": {
        "id": "yXZRYQTtNfN2"
      }
    },
    {
      "cell_type": "code",
      "source": [
        "# Make predictions on the test set\n",
        "y_pred = model.predict(X_test)\n",
        "\n",
        "# Calculate accuracy\n",
        "accuracy = accuracy_score(y_test, y_pred)\n",
        "print(\"Test Accuracy:\", accuracy)\n"
      ],
      "metadata": {
        "colab": {
          "base_uri": "https://localhost:8080/"
        },
        "id": "hfys8M7mNaRZ",
        "outputId": "3c0ae999-f8a3-4cd8-8d46-195d9ec506c4"
      },
      "execution_count": 15,
      "outputs": [
        {
          "output_type": "stream",
          "name": "stdout",
          "text": [
            "Test Accuracy: 1.0\n"
          ]
        }
      ]
    },
    {
      "cell_type": "markdown",
      "source": [
        "Approaching a Machine Learning Problem: Step-by-Step Process\n",
        "\n",
        "Define the Problem:\n",
        "\n",
        "Understand the goal (classification, regression, clustering, etc.).\n",
        "Determine the type of data and the desired output.\n",
        "Collect and Prepare Data:\n",
        "\n",
        "Collect data from relevant sources (databases, APIs, CSV files, etc.).\n",
        "Preprocess data: Handle missing values, encode categorical features, and scale/normalize numerical features\n",
        ".\n",
        "Exploratory Data Analysis (EDA):\n",
        "\n",
        "Explore the dataset to understand its structure, distributions, and relationships.\n",
        "Visualize features using histograms, scatter plots, and correlation matrices.\n",
        "Identify any outliers, missing values, or skewed distributions.\n",
        "\n",
        "Feature Engineering:\n",
        "\n",
        "Decide which features (columns) are important for the model.\n",
        "You may create new features, transform existing ones, or eliminate irrelevant ones.\n",
        "\n",
        "Split the Data:\n",
        "\n",
        "Divide the data into training and testing sets (typically 70-80% for training, 20-30% for testing).\n",
        "Optionally, use a validation set or cross-validation for hyperparameter tuning.\n",
        "\n",
        "Choose a Model:\n",
        "\n",
        "Select a machine learning algorithm based on the problem type (e.g., regression, classification).\n",
        "Common models include Linear Regression, Decision Trees, k-Nearest Neighbors (kNN), Random Forest, Support Vector Machines (SVM), Neural Networks, etc.\n",
        "\n",
        "Train the Model:\n",
        "\n",
        "Train the model on the training set (X_train, y_train).\n",
        "Use cross-validation or a validation set to tune hyperparameters and avoid overfitting.\n",
        "\n",
        "Evaluate the Model:\n",
        "\n",
        "Test the model on the test set (X_test, y_test) to evaluate its performance using metrics like accuracy, precision, recall, F1-score, RMSE (for regression), etc.\n",
        "\n",
        "Model Improvement:\n",
        "\n",
        "If the model’s performance is not satisfactory, consider:\n",
        "Trying different models.\n",
        "\n",
        "Tuning hyperparameters.\n",
        "\n",
        "Adding/removing features.\n",
        "Using more data or different preprocessing techniques.\n",
        "\n",
        "Deploy the Model:\n",
        "\n",
        "Once satisfied with the model, deploy it into a production environment for making predictions on new, unseen data.\n"
      ],
      "metadata": {
        "id": "MPuxHszQNlOB"
      }
    },
    {
      "cell_type": "code",
      "source": [
        "import numpy as np\n",
        "from sklearn.model_selection import train_test_split\n",
        "from sklearn.ensemble import RandomForestClassifier\n",
        "from sklearn.metrics import accuracy_score\n",
        "\n",
        "# Sample dataset\n",
        "X = np.array([[1], [2], [3], [4], [5], [6], [7], [8], [9], [10]])  # Features\n",
        "y = np.array([0, 0, 0, 0, 1, 1, 1, 1, 1, 1])  # Labels\n",
        "\n",
        "# Step 1: Split the data (train-test split)\n",
        "X_train, X_test, y_train, y_test = train_test_split(X, y, test_size=0.3, random_state=42)\n",
        "\n",
        "# Step 2: Train a model (Random Forest)\n",
        "model = RandomForestClassifier()\n",
        "model.fit(X_train, y_train)\n",
        "\n",
        "# Step 3: Test the model\n",
        "y_pred = model.predict(X_test)\n",
        "\n",
        "# Step 4: Evaluate the model\n",
        "accuracy = accuracy_score(y_test, y_pred)\n",
        "print(\"Test Accuracy:\", accuracy)\n"
      ],
      "metadata": {
        "colab": {
          "base_uri": "https://localhost:8080/"
        },
        "id": "vMHQ9i1fNhdG",
        "outputId": "442a965b-4495-4e6f-a188-38c85511496c"
      },
      "execution_count": 16,
      "outputs": [
        {
          "output_type": "stream",
          "name": "stdout",
          "text": [
            "Test Accuracy: 1.0\n"
          ]
        }
      ]
    },
    {
      "cell_type": "markdown",
      "source": [
        "# **Q 11 Why do we have to perform EDA before fitting a model to the data?**"
      ],
      "metadata": {
        "id": "Ef7OZYUPPYLF"
      }
    },
    {
      "cell_type": "markdown",
      "source": [
        "Why Perform Exploratory Data Analysis (EDA) Before Fitting a Model?\n",
        "Exploratory Data Analysis (EDA) is a crucial step in the machine learning pipeline. It involves analyzing the dataset's structure, patterns, and relationships before applying machine learning models. EDA helps you understand the data better, leading to better preprocessing, feature engineering, and model selection.\n",
        "\n",
        "Here are the key reasons why EDA should be performed before fitting a model:"
      ],
      "metadata": {
        "id": "Wii1LY3sPhUP"
      }
    },
    {
      "cell_type": "markdown",
      "source": [
        "1. Understanding the Data Distribution and Structure\n",
        "Identify Data Types: EDA helps you understand the types of data (numerical, categorical, or mixed). This is important because different machine learning algorithms require different handling for each data type (e.g., numerical values vs. categorical variables).\n",
        "\n",
        "Feature Distributions: It reveals the distribution of features (e.g., normal, skewed, uniform) and target variables. This informs you about any transformations that may be needed (e.g., scaling, normalization).\n",
        "\n",
        "Example: If the data is highly skewed, you may need to apply log transformations or scaling methods to avoid models being biased toward certain values.\n"
      ],
      "metadata": {
        "id": "3PR52SpMPkZI"
      }
    },
    {
      "cell_type": "markdown",
      "source": [
        "2. Handling Missing Data\n",
        "Identify Missing Values: EDA helps you identify features or samples with missing data. Missing values can be handled by imputing (filling), removing, or using algorithms that can handle missing data directly.\n",
        "\n",
        "Example: If a feature has more than 30% missing values, it might be worth dropping it, or you may consider imputing missing values with the mean/median, or using techniques like KNN imputation."
      ],
      "metadata": {
        "id": "zdxkx4FYPnYe"
      }
    },
    {
      "cell_type": "markdown",
      "source": [
        "3. Detecting Outliers\n",
        "\n",
        "Spot Outliers: During EDA, outliers in the data can be identified using visualizations like boxplots or statistical tests. Outliers can disproportionately affect some models (e.g., linear regression, kNN) and may need to be removed or adjusted.\n",
        "\n",
        "Example: If you have a dataset of house prices and one house is listed at $10 million when most are below $500,000, that could be an outlier that may skew your model.\n",
        "\n",
        "4. Checking for Correlations Between Features\n",
        "Feature Relationships: EDA helps you spot correlations between features using correlation matrices or scatter plots. Strong correlations may indicate multicollinearity, which can harm certain models (e.g., linear regression, logistic regression).\n",
        "\n",
        "Example: If two features are highly correlated (e.g., height and weight), you may consider removing one to reduce redundancy and avoid overfitting.\n",
        "\n",
        "5. Identifying Potential Feature Engineering Opportunities\n",
        "Creating New Features: EDA helps you discover patterns that might suggest the creation of new features. This could involve combining existing features or generating new ones based on domain knowledge (e.g., creating \"age\" from the \"birth year\" feature).\n",
        "\n",
        "Example: If you have features like \"purchase date\" and \"purchase amount,\" you might create a new feature such as \"average purchase per month\" to improve model performance.\n",
        "\n",
        "6. Understanding the Target Variable\n",
        "\n",
        "Target Analysis: Understanding the distribution and relationships of the target variable (e.g., class imbalance in classification tasks) allows you to choose the appropriate evaluation metrics and handling techniques.\n",
        "\n",
        "Example: If you have an imbalanced dataset (e.g., 95% of data belongs to Class A and 5% to Class B), you may need to address this issue with techniques like resampling, stratified sampling, or using algorithms that handle imbalance (e.g., Random Forest with class weights).\n",
        "\n",
        "7. Informing Model Choice and Hyperparameter Tuning\n",
        "\n",
        "Algorithm Selection: Insights from EDA can guide the choice of machine learning algorithms. For instance, if the relationship between features and target is linear, a linear model (e.g., Linear Regression) might work well. If relationships are complex or non-linear, more complex models (e.g., Random Forests, Neural Networks) might be necessary.\n",
        "\n",
        "Example: If you observe that features have a non-linear relationship with the target, you might decide to use non-linear models like Decision Trees or Random Forests.\n",
        "\n",
        "8. Detecting Data Quality Issues\n",
        "\n",
        "Data Quality Check: EDA helps uncover data quality issues like duplicates, inconsistent formatting, and wrong data types. These issues can lead to poor model performance if not handled before fitting the model.\n",
        "\n",
        "Example: If a column of \"age\" contains strings like \"unknown,\" it should be cleaned or encoded properly before using it for model fitting.\n",
        "\n",
        "9. Visualizing Relationships and Patterns\n",
        "Visual Exploration: Visualization techniques such as histograms, box plots, scatter plots, and pair plots are fundamental for understanding how features interact with each other and with the target variable.\n",
        "\n",
        "Example: A scatter plot can help identify trends or clusters that will guide you in selecting a model, such as noticing a linear relationship or a cluster-based pattern suitable for clustering algorithms.\n",
        "\n",
        "10. Ensuring Data Suitability for the Chosen Model\n",
        "\n",
        "Model Assumptions: Every machine learning model has assumptions about the data (e.g., linearity for linear regression, normality for certain models). EDA can help you check if your data satisfies these assumptions before applying the model.\n",
        "\n",
        "Example: Linear regression assumes that there is a linear relationship between input features and the target variable. EDA helps you visualize if this assumption holds or if you need to transform your data."
      ],
      "metadata": {
        "id": "nG3LHlgrPskk"
      }
    },
    {
      "cell_type": "markdown",
      "source": [
        "Common EDA Techniques\n",
        "Summary Statistics: Use .describe() in pandas to get a summary of numerical features.\n",
        "Visualization: Plot histograms, box plots, and scatter plots for visual exploration.\n",
        "Correlation Matrix: Use sns.heatmap() or .corr() to identify correlations.\n",
        "Missing Data: Visualize missing data with missingno or similar libraries.\n",
        "Outlier Detection: Use box plots or Z-scores to find outliers.\n"
      ],
      "metadata": {
        "id": "1GYR21LJQUq_"
      }
    },
    {
      "cell_type": "code",
      "source": [
        "import pandas as pd\n",
        "import seaborn as sns\n",
        "import matplotlib.pyplot as plt\n",
        "\n",
        "# Load dataset\n",
        "data = pd.read_csv('data.csv')\n",
        "\n",
        "# Summary statistics\n",
        "print(data.describe())\n",
        "\n",
        "# Visualize distribution of target variable\n",
        "sns.histplot(data['target'])\n",
        "plt.show()\n",
        "\n",
        "# Check correlation between features\n",
        "sns.heatmap(data.corr(), annot=True, cmap='coolwarm')\n",
        "plt.show()\n",
        "\n",
        "# Check for missing values\n",
        "import missingno as msno\n",
        "msno.matrix(data)\n",
        "plt.show()\n",
        "\n",
        "# Boxplot to detect outliers\n",
        "sns.boxplot(x=data['feature1'])\n",
        "plt.show()\n"
      ],
      "metadata": {
        "colab": {
          "base_uri": "https://localhost:8080/",
          "height": 356
        },
        "collapsed": true,
        "id": "K5d4R6w_NxnL",
        "outputId": "bde136ba-dfcb-47e4-e472-eaf9be0b4262"
      },
      "execution_count": 17,
      "outputs": [
        {
          "output_type": "error",
          "ename": "FileNotFoundError",
          "evalue": "[Errno 2] No such file or directory: 'data.csv'",
          "traceback": [
            "\u001b[0;31m---------------------------------------------------------------------------\u001b[0m",
            "\u001b[0;31mFileNotFoundError\u001b[0m                         Traceback (most recent call last)",
            "\u001b[0;32m<ipython-input-17-a4a68b08dd1e>\u001b[0m in \u001b[0;36m<cell line: 6>\u001b[0;34m()\u001b[0m\n\u001b[1;32m      4\u001b[0m \u001b[0;34m\u001b[0m\u001b[0m\n\u001b[1;32m      5\u001b[0m \u001b[0;31m# Load dataset\u001b[0m\u001b[0;34m\u001b[0m\u001b[0;34m\u001b[0m\u001b[0m\n\u001b[0;32m----> 6\u001b[0;31m \u001b[0mdata\u001b[0m \u001b[0;34m=\u001b[0m \u001b[0mpd\u001b[0m\u001b[0;34m.\u001b[0m\u001b[0mread_csv\u001b[0m\u001b[0;34m(\u001b[0m\u001b[0;34m'data.csv'\u001b[0m\u001b[0;34m)\u001b[0m\u001b[0;34m\u001b[0m\u001b[0;34m\u001b[0m\u001b[0m\n\u001b[0m\u001b[1;32m      7\u001b[0m \u001b[0;34m\u001b[0m\u001b[0m\n\u001b[1;32m      8\u001b[0m \u001b[0;31m# Summary statistics\u001b[0m\u001b[0;34m\u001b[0m\u001b[0;34m\u001b[0m\u001b[0m\n",
            "\u001b[0;32m/usr/local/lib/python3.10/dist-packages/pandas/io/parsers/readers.py\u001b[0m in \u001b[0;36mread_csv\u001b[0;34m(filepath_or_buffer, sep, delimiter, header, names, index_col, usecols, dtype, engine, converters, true_values, false_values, skipinitialspace, skiprows, skipfooter, nrows, na_values, keep_default_na, na_filter, verbose, skip_blank_lines, parse_dates, infer_datetime_format, keep_date_col, date_parser, date_format, dayfirst, cache_dates, iterator, chunksize, compression, thousands, decimal, lineterminator, quotechar, quoting, doublequote, escapechar, comment, encoding, encoding_errors, dialect, on_bad_lines, delim_whitespace, low_memory, memory_map, float_precision, storage_options, dtype_backend)\u001b[0m\n\u001b[1;32m   1024\u001b[0m     \u001b[0mkwds\u001b[0m\u001b[0;34m.\u001b[0m\u001b[0mupdate\u001b[0m\u001b[0;34m(\u001b[0m\u001b[0mkwds_defaults\u001b[0m\u001b[0;34m)\u001b[0m\u001b[0;34m\u001b[0m\u001b[0;34m\u001b[0m\u001b[0m\n\u001b[1;32m   1025\u001b[0m \u001b[0;34m\u001b[0m\u001b[0m\n\u001b[0;32m-> 1026\u001b[0;31m     \u001b[0;32mreturn\u001b[0m \u001b[0m_read\u001b[0m\u001b[0;34m(\u001b[0m\u001b[0mfilepath_or_buffer\u001b[0m\u001b[0;34m,\u001b[0m \u001b[0mkwds\u001b[0m\u001b[0;34m)\u001b[0m\u001b[0;34m\u001b[0m\u001b[0;34m\u001b[0m\u001b[0m\n\u001b[0m\u001b[1;32m   1027\u001b[0m \u001b[0;34m\u001b[0m\u001b[0m\n\u001b[1;32m   1028\u001b[0m \u001b[0;34m\u001b[0m\u001b[0m\n",
            "\u001b[0;32m/usr/local/lib/python3.10/dist-packages/pandas/io/parsers/readers.py\u001b[0m in \u001b[0;36m_read\u001b[0;34m(filepath_or_buffer, kwds)\u001b[0m\n\u001b[1;32m    618\u001b[0m \u001b[0;34m\u001b[0m\u001b[0m\n\u001b[1;32m    619\u001b[0m     \u001b[0;31m# Create the parser.\u001b[0m\u001b[0;34m\u001b[0m\u001b[0;34m\u001b[0m\u001b[0m\n\u001b[0;32m--> 620\u001b[0;31m     \u001b[0mparser\u001b[0m \u001b[0;34m=\u001b[0m \u001b[0mTextFileReader\u001b[0m\u001b[0;34m(\u001b[0m\u001b[0mfilepath_or_buffer\u001b[0m\u001b[0;34m,\u001b[0m \u001b[0;34m**\u001b[0m\u001b[0mkwds\u001b[0m\u001b[0;34m)\u001b[0m\u001b[0;34m\u001b[0m\u001b[0;34m\u001b[0m\u001b[0m\n\u001b[0m\u001b[1;32m    621\u001b[0m \u001b[0;34m\u001b[0m\u001b[0m\n\u001b[1;32m    622\u001b[0m     \u001b[0;32mif\u001b[0m \u001b[0mchunksize\u001b[0m \u001b[0;32mor\u001b[0m \u001b[0miterator\u001b[0m\u001b[0;34m:\u001b[0m\u001b[0;34m\u001b[0m\u001b[0;34m\u001b[0m\u001b[0m\n",
            "\u001b[0;32m/usr/local/lib/python3.10/dist-packages/pandas/io/parsers/readers.py\u001b[0m in \u001b[0;36m__init__\u001b[0;34m(self, f, engine, **kwds)\u001b[0m\n\u001b[1;32m   1618\u001b[0m \u001b[0;34m\u001b[0m\u001b[0m\n\u001b[1;32m   1619\u001b[0m         \u001b[0mself\u001b[0m\u001b[0;34m.\u001b[0m\u001b[0mhandles\u001b[0m\u001b[0;34m:\u001b[0m \u001b[0mIOHandles\u001b[0m \u001b[0;34m|\u001b[0m \u001b[0;32mNone\u001b[0m \u001b[0;34m=\u001b[0m \u001b[0;32mNone\u001b[0m\u001b[0;34m\u001b[0m\u001b[0;34m\u001b[0m\u001b[0m\n\u001b[0;32m-> 1620\u001b[0;31m         \u001b[0mself\u001b[0m\u001b[0;34m.\u001b[0m\u001b[0m_engine\u001b[0m \u001b[0;34m=\u001b[0m \u001b[0mself\u001b[0m\u001b[0;34m.\u001b[0m\u001b[0m_make_engine\u001b[0m\u001b[0;34m(\u001b[0m\u001b[0mf\u001b[0m\u001b[0;34m,\u001b[0m \u001b[0mself\u001b[0m\u001b[0;34m.\u001b[0m\u001b[0mengine\u001b[0m\u001b[0;34m)\u001b[0m\u001b[0;34m\u001b[0m\u001b[0;34m\u001b[0m\u001b[0m\n\u001b[0m\u001b[1;32m   1621\u001b[0m \u001b[0;34m\u001b[0m\u001b[0m\n\u001b[1;32m   1622\u001b[0m     \u001b[0;32mdef\u001b[0m \u001b[0mclose\u001b[0m\u001b[0;34m(\u001b[0m\u001b[0mself\u001b[0m\u001b[0;34m)\u001b[0m \u001b[0;34m->\u001b[0m \u001b[0;32mNone\u001b[0m\u001b[0;34m:\u001b[0m\u001b[0;34m\u001b[0m\u001b[0;34m\u001b[0m\u001b[0m\n",
            "\u001b[0;32m/usr/local/lib/python3.10/dist-packages/pandas/io/parsers/readers.py\u001b[0m in \u001b[0;36m_make_engine\u001b[0;34m(self, f, engine)\u001b[0m\n\u001b[1;32m   1878\u001b[0m                 \u001b[0;32mif\u001b[0m \u001b[0;34m\"b\"\u001b[0m \u001b[0;32mnot\u001b[0m \u001b[0;32min\u001b[0m \u001b[0mmode\u001b[0m\u001b[0;34m:\u001b[0m\u001b[0;34m\u001b[0m\u001b[0;34m\u001b[0m\u001b[0m\n\u001b[1;32m   1879\u001b[0m                     \u001b[0mmode\u001b[0m \u001b[0;34m+=\u001b[0m \u001b[0;34m\"b\"\u001b[0m\u001b[0;34m\u001b[0m\u001b[0;34m\u001b[0m\u001b[0m\n\u001b[0;32m-> 1880\u001b[0;31m             self.handles = get_handle(\n\u001b[0m\u001b[1;32m   1881\u001b[0m                 \u001b[0mf\u001b[0m\u001b[0;34m,\u001b[0m\u001b[0;34m\u001b[0m\u001b[0;34m\u001b[0m\u001b[0m\n\u001b[1;32m   1882\u001b[0m                 \u001b[0mmode\u001b[0m\u001b[0;34m,\u001b[0m\u001b[0;34m\u001b[0m\u001b[0;34m\u001b[0m\u001b[0m\n",
            "\u001b[0;32m/usr/local/lib/python3.10/dist-packages/pandas/io/common.py\u001b[0m in \u001b[0;36mget_handle\u001b[0;34m(path_or_buf, mode, encoding, compression, memory_map, is_text, errors, storage_options)\u001b[0m\n\u001b[1;32m    871\u001b[0m         \u001b[0;32mif\u001b[0m \u001b[0mioargs\u001b[0m\u001b[0;34m.\u001b[0m\u001b[0mencoding\u001b[0m \u001b[0;32mand\u001b[0m \u001b[0;34m\"b\"\u001b[0m \u001b[0;32mnot\u001b[0m \u001b[0;32min\u001b[0m \u001b[0mioargs\u001b[0m\u001b[0;34m.\u001b[0m\u001b[0mmode\u001b[0m\u001b[0;34m:\u001b[0m\u001b[0;34m\u001b[0m\u001b[0;34m\u001b[0m\u001b[0m\n\u001b[1;32m    872\u001b[0m             \u001b[0;31m# Encoding\u001b[0m\u001b[0;34m\u001b[0m\u001b[0;34m\u001b[0m\u001b[0m\n\u001b[0;32m--> 873\u001b[0;31m             handle = open(\n\u001b[0m\u001b[1;32m    874\u001b[0m                 \u001b[0mhandle\u001b[0m\u001b[0;34m,\u001b[0m\u001b[0;34m\u001b[0m\u001b[0;34m\u001b[0m\u001b[0m\n\u001b[1;32m    875\u001b[0m                 \u001b[0mioargs\u001b[0m\u001b[0;34m.\u001b[0m\u001b[0mmode\u001b[0m\u001b[0;34m,\u001b[0m\u001b[0;34m\u001b[0m\u001b[0;34m\u001b[0m\u001b[0m\n",
            "\u001b[0;31mFileNotFoundError\u001b[0m: [Errno 2] No such file or directory: 'data.csv'"
          ]
        }
      ]
    },
    {
      "cell_type": "markdown",
      "source": [
        "# Q 12 What is correlation"
      ],
      "metadata": {
        "id": "B251RKGPQiPr"
      }
    },
    {
      "cell_type": "markdown",
      "source": [
        "Correlation\n",
        "\n",
        "Correlation refers to the statistical relationship between two or more variables, indicating the strength and direction of their association. It tells us how one variable changes in relation to another. If two variables are highly correlated, it means that changes in one variable tend to be associated with predictable changes in the other.\n",
        "\n",
        "Correlation is typically measured using a correlation coefficient, which quantifies the strength and direction of the relationship. The most common type of correlation is Pearson’s correlation coefficient"
      ],
      "metadata": {
        "id": "Me42MUmCRLm4"
      }
    },
    {
      "cell_type": "markdown",
      "source": [
        "Types of Correlation\n",
        "\n",
        "Positive Correlation:\n",
        "\n",
        "Definition: As one variable increases, the other variable also increases, and vice versa.\n",
        "Example: Height and weight typically have a positive correlation — taller people tend to weigh more.\n",
        "Correlation coefficient: Between 0 and +1.\n",
        "\n",
        "Negative Correlation:\n",
        "\n",
        "Definition: As one variable increases, the other variable decreases.\n",
        "Example: The amount of exercise and weight may have a negative correlation — as the amount of exercise increases, body weight tends to decrease.\n",
        "Correlation coefficient: Between 0 and -1.\n",
        "\n",
        "No Correlation:\n",
        "\n",
        "Definition: No relationship between the variables; changes in one variable do not predict changes in the other.\n",
        "Example: The number of hours studied and the color of a person’s shirt.\n",
        "Correlation coefficient: Close to 0.\n"
      ],
      "metadata": {
        "id": "ri1UtdVKRQgf"
      }
    },
    {
      "cell_type": "markdown",
      "source": [
        "Correlation Coefficient (Pearson’s Correlation Coefficient)\n",
        "The Pearson correlation coefficient (r) quantifies the degree of linear relationship between two variables, ranging from -1 to +1.\n",
        "\n",
        "r = +1: Perfect positive linear correlation.\n",
        "r = -1: Perfect negative linear correlation.\n",
        "r = 0: No linear correlation.\n",
        "Formula for Pearson’s Correlation Coefficient:\n",
        "𝑟\n",
        "=\n",
        "∑\n",
        "(\n",
        "𝑥\n",
        "𝑖\n",
        "−\n",
        "𝑥\n",
        "ˉ\n",
        ")\n",
        "(\n",
        "𝑦\n",
        "𝑖\n",
        "−\n",
        "𝑦\n",
        "ˉ\n",
        ")\n",
        "∑\n",
        "(\n",
        "𝑥\n",
        "𝑖\n",
        "−\n",
        "𝑥\n",
        "ˉ\n",
        ")\n",
        "2\n",
        "⋅\n",
        "∑\n",
        "(\n",
        "𝑦\n",
        "𝑖\n",
        "−\n",
        "𝑦\n",
        "ˉ\n",
        ")\n",
        "2\n",
        "r=\n",
        "∑(x\n",
        "i\n",
        "​\n",
        " −\n",
        "x\n",
        "ˉ\n",
        " )\n",
        "2\n",
        " ⋅∑(y\n",
        "i\n",
        "​\n",
        " −\n",
        "y\n",
        "ˉ\n",
        "​\n",
        " )\n",
        "2\n",
        "\n",
        "​\n",
        "\n",
        "∑(x\n",
        "i\n",
        "​\n",
        " −\n",
        "x\n",
        "ˉ\n",
        " )(y\n",
        "i\n",
        "​\n",
        " −\n",
        "y\n",
        "ˉ\n",
        "​\n",
        " )\n",
        "​\n",
        "\n",
        "Where:\n",
        "\n",
        "𝑥\n",
        "𝑖\n",
        ",\n",
        "𝑦\n",
        "𝑖\n",
        "x\n",
        "i\n",
        "​\n",
        " ,y\n",
        "i\n",
        "​\n",
        "  are the individual sample points in variables\n",
        "𝑋\n",
        "X and\n",
        "𝑌\n",
        "Y\n",
        "𝑥\n",
        "ˉ\n",
        ",\n",
        "𝑦\n",
        "ˉ\n",
        "x\n",
        "ˉ\n",
        " ,\n",
        "y\n",
        "ˉ\n",
        "​\n",
        "  are the means of variables\n",
        "𝑋\n",
        "X and\n",
        "𝑌\n",
        "Y\n",
        "Interpreting the Correlation Coefficient:\n",
        "+1: Perfect positive correlation. As one variable increases, the other increases in a perfectly predictable manner.\n",
        "0.7 to 0.9: Strong positive correlation.\n",
        "0.4 to 0.6: Moderate positive correlation.\n",
        "0 to 0.3: Weak or no positive correlation.\n",
        "-0.3 to 0: Weak or no negative correlation.\n",
        "-0.4 to -0.6: Moderate negative correlation.\n",
        "-0.7 to -0.9: Strong negative correlation.\n",
        "-1: Perfect negative correlation.\n"
      ],
      "metadata": {
        "id": "JtewMhQNRY14"
      }
    },
    {
      "cell_type": "markdown",
      "source": [
        "How to Calculate Correlation in Python:\n",
        "You can use Pandas or NumPy to calculate the correlation between two variables in a dataset."
      ],
      "metadata": {
        "id": "a6j45OuaRcHP"
      }
    },
    {
      "cell_type": "code",
      "source": [
        "import pandas as pd\n",
        "\n",
        "# Example DataFrame\n",
        "data = {'X': [1, 2, 3, 4, 5],\n",
        "        'Y': [5, 4, 3, 2, 1]}\n",
        "\n",
        "df = pd.DataFrame(data)\n",
        "\n",
        "# Calculate Pearson's correlation\n",
        "correlation = df['X'].corr(df['Y'])\n",
        "print(\"Correlation coefficient between X and Y:\", correlation)\n"
      ],
      "metadata": {
        "colab": {
          "base_uri": "https://localhost:8080/"
        },
        "id": "rhpjakmwQXzq",
        "outputId": "00cf78e6-c2e2-4565-d4aa-4046e2df31bd"
      },
      "execution_count": 18,
      "outputs": [
        {
          "output_type": "stream",
          "name": "stdout",
          "text": [
            "Correlation coefficient between X and Y: -0.9999999999999999\n"
          ]
        }
      ]
    },
    {
      "cell_type": "code",
      "source": [
        "import numpy as np\n",
        "\n",
        "# Example data\n",
        "X = np.array([1, 2, 3, 4, 5])\n",
        "Y = np.array([5, 4, 3, 2, 1])\n",
        "\n",
        "# Calculate Pearson's correlation\n",
        "correlation = np.corrcoef(X, Y)[0, 1]\n",
        "print(\"Correlation coefficient between X and Y:\", correlation)\n"
      ],
      "metadata": {
        "colab": {
          "base_uri": "https://localhost:8080/"
        },
        "id": "W8x0XJBCReTZ",
        "outputId": "ae2a9192-97b5-4664-872d-2e4d523783db"
      },
      "execution_count": 19,
      "outputs": [
        {
          "output_type": "stream",
          "name": "stdout",
          "text": [
            "Correlation coefficient between X and Y: -0.9999999999999999\n"
          ]
        }
      ]
    },
    {
      "cell_type": "markdown",
      "source": [
        "Visualizing Correlation:\n",
        "You can visualize correlation using scatter plots and heatmaps.\n",
        "\n",
        "Scatter Plot: Shows the relationship between two variables.\n",
        "Heatmap: Can show correlation between multiple variables in a dataset.\n",
        "Example using Seaborn for a Heatmap:"
      ],
      "metadata": {
        "id": "-_bpXySDRi5U"
      }
    },
    {
      "cell_type": "code",
      "source": [
        "import seaborn as sns\n",
        "import matplotlib.pyplot as plt\n",
        "\n",
        "# Example DataFrame\n",
        "df = pd.DataFrame({'X': [1, 2, 3, 4, 5],\n",
        "                   'Y': [5, 4, 3, 2, 1],\n",
        "                   'Z': [1, 1, 2, 3, 5]})\n",
        "\n",
        "# Correlation matrix\n",
        "corr_matrix = df.corr()\n",
        "\n",
        "# Heatmap\n",
        "sns.heatmap(corr_matrix, annot=True, cmap='coolwarm')\n",
        "plt.show()\n"
      ],
      "metadata": {
        "colab": {
          "base_uri": "https://localhost:8080/",
          "height": 435
        },
        "id": "FuwTuw5IRfwg",
        "outputId": "0bbf4115-5457-48e7-91fc-7237d4b3411f"
      },
      "execution_count": 20,
      "outputs": [
        {
          "output_type": "display_data",
          "data": {
            "text/plain": [
              "<Figure size 640x480 with 2 Axes>"
            ],
            "image/png": "[encoded data removed]"
          },
          "metadata": {}
        }
      ]
    },
    {
      "cell_type": "markdown",
      "source": [
        "Importance of Correlation in Machine Learning\n",
        "Feature Selection: High correlation between features might indicate redundancy, and you may consider removing one of the correlated features.\n",
        "Multicollinearity: If two independent variables are highly correlated, some algorithms (like linear regression) may struggle with unstable estimates due to multicollinearity.\n",
        "Understanding Relationships: Correlation helps you understand how different variables relate to each other, guiding data preprocessing and model selection."
      ],
      "metadata": {
        "id": "bA-zHYGQRnNI"
      }
    },
    {
      "cell_type": "markdown",
      "source": [
        "Negative Correlation\n",
        "A negative correlation means that as one variable increases, the other decreases in a predictable pattern. In other words, the two variables move in opposite directions.\n",
        "\n",
        "Example: In a dataset about study time and exam stress, you might observe that as study time increases, exam stress decreases, which would indicate a negative correlation.\n",
        "Mathematical Representation: A negative correlation will yield a Pearson correlation coefficient between 0 and -1."
      ],
      "metadata": {
        "id": "nOjdPpHmRxL3"
      }
    },
    {
      "cell_type": "markdown",
      "source": [
        "# Q 13 What does negative correlation mean?"
      ],
      "metadata": {
        "id": "B8jWxwFfR1wo"
      }
    },
    {
      "cell_type": "markdown",
      "source": [
        "Negative Correlation: Meaning and Explanation\n",
        "\n",
        "Negative correlation refers to a relationship between two variables where, as one variable increases, the other decreases, and vice versa. This inverse relationship means that the two variables move in opposite directions.\n",
        "\n",
        "When one variable increases, the other variable decreases.\n",
        "When one variable decreases, the other variable increases\n",
        ".\n",
        "Mathematical Representation\n",
        "\n",
        "In terms of the Pearson correlation coefficient:\n",
        "\n",
        "A negative correlation results in a coefficient between 0 and -1.\n",
        "The closer the correlation is to -1, the stronger the negative relationship.\n",
        "A correlation of -1 indicates a perfect negative correlation, meaning that the variables move in exactly opposite directions in a linear manner.\n",
        "\n",
        "Interpretation of Negative Correlation\n",
        "\n",
        "r = -1: Perfect negative linear correlation. As one variable increases, the other decreases in a perfectly predictable manner.\n",
        "\n",
        "r = -0.7 to -0.9: Strong negative correlation. There’s a significant inverse relationship between the variables.\n",
        "\n",
        "r = -0.4 to -0.6: Moderate negative correlation.\n",
        "\n",
        "r = -0.1 to -0.3: Weak negative correlation.\n",
        "\n",
        "r = 0: No correlation. There is no linear relationship between the variables.\n"
      ],
      "metadata": {
        "id": "T1D4zICZSC6J"
      }
    },
    {
      "cell_type": "markdown",
      "source": [
        "Examples of Negative Correlation\n",
        "\n",
        "Height and Weight of People (in some cases):\n",
        "\n",
        "Generally, taller people tend to weigh more, so this might not be a strong negative correlation. However, in some specific cases (e.g., bodybuilders vs. non-bodybuilders), there may be an inverse relationship between height and body fat percentage, which could be negatively correlated.\n",
        "\n",
        "Study Time and Test Anxiety (in some cases):\n",
        "\n",
        "If a student studies more, they may feel less anxious about the test, suggesting a negative correlation between study time and anxiety levels.\n",
        "\n",
        "Price and Demand (in economics):\n",
        "\n",
        "According to the Law of Demand, as the price of a good or service increases, the quantity demanded typically decreases. This represents a negative correlation between price and demand.\n",
        "\n",
        "Exercise and Body Fat:\n",
        "\n",
        "\n",
        "More exercise often leads to a decrease in body fat, which shows a negative correlation between the two variables."
      ],
      "metadata": {
        "id": "6e8Tal0vSP6E"
      }
    },
    {
      "cell_type": "markdown",
      "source": [
        "Graphical Representation\n",
        "In a scatter plot, negative correlation is typically represented by a downward slope. As you move from left to right, the values of one variable tend to decrease while the values of the other increase.\n",
        "Example:\n",
        "Variable 1: Hours spent watching TV\n",
        "Variable 2: Test scores\n",
        "Negative Correlation: As the number of hours spent watching TV increases, test scores decrease.\n",
        "Scatter Plot Example:\n",
        "If you plot a dataset with a negative correlation, you’ll notice a downward trend in the points, indicating that as one variable increases, the other decreases.\n",
        "\n",
        "Formula for Pearson’s Correlation (Negative)\n",
        "The Pearson correlation coefficient (r) is calculated using the formula:\n",
        "\n",
        "𝑟\n",
        "=\n",
        "∑\n",
        "(\n",
        "𝑥\n",
        "𝑖\n",
        "−\n",
        "𝑥\n",
        "ˉ\n",
        ")\n",
        "(\n",
        "𝑦\n",
        "𝑖\n",
        "−\n",
        "𝑦\n",
        "ˉ\n",
        ")\n",
        "∑\n",
        "(\n",
        "𝑥\n",
        "𝑖\n",
        "−\n",
        "𝑥\n",
        "ˉ\n",
        ")\n",
        "2\n",
        "⋅\n",
        "∑\n",
        "(\n",
        "𝑦\n",
        "𝑖\n",
        "−\n",
        "𝑦\n",
        "ˉ\n",
        ")\n",
        "2\n",
        "r=\n",
        "∑(x\n",
        "i\n",
        "​\n",
        " −\n",
        "x\n",
        "ˉ\n",
        " )\n",
        "2\n",
        " ⋅∑(y\n",
        "i\n",
        "​\n",
        " −\n",
        "y\n",
        "ˉ\n",
        "​\n",
        " )\n",
        "2\n",
        "\n",
        "​\n",
        "\n",
        "∑(x\n",
        "i\n",
        "​\n",
        " −\n",
        "x\n",
        "ˉ\n",
        " )(y\n",
        "i\n",
        "​\n",
        " −\n",
        "y\n",
        "ˉ\n",
        "​\n",
        " )\n",
        "​\n",
        "\n",
        "If the result of this calculation is negative (between 0 and -1), it indicates a negative correlation."
      ],
      "metadata": {
        "id": "A4QvGZt7SWGV"
      }
    },
    {
      "cell_type": "markdown",
      "source": [
        "Example: Negative Correlation in Python\n",
        "Here's how to calculate a negative correlation using Python's Pandas and NumPy:"
      ],
      "metadata": {
        "id": "Nki0p5P8SZXa"
      }
    },
    {
      "cell_type": "code",
      "source": [
        "import pandas as pd\n",
        "import numpy as np\n",
        "\n",
        "# Example data\n",
        "x = np.array([1, 2, 3, 4, 5])  # Variable 1\n",
        "y = np.array([10, 8, 6, 4, 2])  # Variable 2 (negatively correlated with x)\n",
        "\n",
        "# Calculate Pearson's correlation coefficient\n",
        "correlation = np.corrcoef(x, y)[0, 1]\n",
        "print(f\"Pearson correlation coefficient: {correlation}\")\n"
      ],
      "metadata": {
        "colab": {
          "base_uri": "https://localhost:8080/"
        },
        "id": "SIJ91zYbRk-J",
        "outputId": "8adfef00-78ef-41a7-8f3a-06ebe7fef81a"
      },
      "execution_count": 21,
      "outputs": [
        {
          "output_type": "stream",
          "name": "stdout",
          "text": [
            "Pearson correlation coefficient: -0.9999999999999999\n"
          ]
        }
      ]
    },
    {
      "cell_type": "markdown",
      "source": [
        "# Q 14 How can you find correlation between variables in Python?"
      ],
      "metadata": {
        "id": "IROiCmHNShYN"
      }
    },
    {
      "cell_type": "markdown",
      "source": [
        "How to Find Correlation Between Variables in Python\n",
        "In Python, the correlation between variables can be easily computed using libraries like Pandas and NumPy. Here are a few ways to calculate correlation using these libraries:\n",
        "\n",
        "1. Using Pandas\n",
        "\n",
        "Pandas provides the DataFrame.corr() method, which computes the pairwise correlation between columns in a DataFrame. By default, it calculates the Pearson correlation coefficient.\n",
        "\n",
        "Steps to Calculate Correlation in Pandas:\n",
        "\n",
        "Import Pandas: Ensure you have imported the Pandas library.\n",
        "\n",
        "Create a DataFrame: You can either load a dataset from a CSV, Excel, or create your own dataset.\n",
        "\n",
        "Calculate the Correlation Matrix: Use the .corr() function to compute the correlation between variables.\n",
        "\n",
        "Example with Pandas:"
      ],
      "metadata": {
        "id": "WK1l4amUSsQS"
      }
    },
    {
      "cell_type": "code",
      "source": [
        "import pandas as pd\n",
        "\n",
        "# Example DataFrame\n",
        "data = {'X': [1, 2, 3, 4, 5],\n",
        "        'Y': [5, 4, 3, 2, 1],\n",
        "        'Z': [2, 3, 4, 5, 6]}\n",
        "\n",
        "df = pd.DataFrame(data)\n",
        "\n",
        "# Calculate Pearson correlation matrix\n",
        "correlation_matrix = df.corr()\n",
        "\n",
        "print(\"Correlation matrix:\")\n",
        "print(correlation_matrix)\n"
      ],
      "metadata": {
        "colab": {
          "base_uri": "https://localhost:8080/"
        },
        "id": "7PNv5rxvSbVK",
        "outputId": "24cbac2c-6040-46b9-cc38-b864b25af3d7"
      },
      "execution_count": 22,
      "outputs": [
        {
          "output_type": "stream",
          "name": "stdout",
          "text": [
            "Correlation matrix:\n",
            "     X    Y    Z\n",
            "X  1.0 -1.0  1.0\n",
            "Y -1.0  1.0 -1.0\n",
            "Z  1.0 -1.0  1.0\n"
          ]
        }
      ]
    },
    {
      "cell_type": "markdown",
      "source": [
        "The values represent Pearson’s correlation coefficients between each pair of variables.\n",
        "1 means perfect positive correlation, -1 means perfect negative correlation, and 0 means no correlation."
      ],
      "metadata": {
        "id": "gTW9ADqIS1MD"
      }
    },
    {
      "cell_type": "markdown",
      "source": [
        "2. Using NumPy\n",
        "\n",
        "NumPy provides the numpy.corrcoef() function to compute the correlation matrix between two or more variables. This method is flexible and can be used for numerical arrays.\n",
        "\n",
        "Steps to Calculate Correlation in NumPy:\n",
        "\n",
        "Import NumPy: Ensure you have imported the NumPy library.\n",
        "\n",
        "Create Arrays: Represent each variable as a NumPy array.\n",
        "\n",
        "Use numpy.corrcoef(): This function computes the correlation coefficient matrix.\n",
        "Example with NumPy:"
      ],
      "metadata": {
        "id": "w7ugT8dWS38B"
      }
    },
    {
      "cell_type": "code",
      "source": [
        "import numpy as np\n",
        "\n",
        "# Example data as arrays\n",
        "X = np.array([1, 2, 3, 4, 5])\n",
        "Y = np.array([5, 4, 3, 2, 1])\n",
        "\n",
        "# Calculate Pearson correlation coefficient matrix\n",
        "correlation_matrix = np.corrcoef(X, Y)\n",
        "\n",
        "print(\"Correlation matrix using NumPy:\")\n",
        "print(correlation_matrix)\n"
      ],
      "metadata": {
        "colab": {
          "base_uri": "https://localhost:8080/"
        },
        "id": "-HLonwUjSyQU",
        "outputId": "7ed54d10-b46d-452d-ae8c-fc3448225973"
      },
      "execution_count": 23,
      "outputs": [
        {
          "output_type": "stream",
          "name": "stdout",
          "text": [
            "Correlation matrix using NumPy:\n",
            "[[ 1. -1.]\n",
            " [-1.  1.]]\n"
          ]
        }
      ]
    },
    {
      "cell_type": "markdown",
      "source": [
        "The matrix shows the correlation between each pair of variables (X and Y in this case).\n",
        "The value at [0,1] or [1,0] is the correlation coefficient between X and Y."
      ],
      "metadata": {
        "id": "dtYc2tr0S_RR"
      }
    },
    {
      "cell_type": "markdown",
      "source": [
        "3. Visualizing Correlation using Seaborn (Heatmap)\n",
        "Visualizing the correlation matrix can help better understand the relationships between multiple variables. Seaborn’s heatmap() function is commonly used to visualize the correlation matrix.\n",
        "\n",
        "Steps to Visualize Correlation:\n",
        "Install and Import Seaborn: Seaborn makes it easy to create beautiful visualizations.\n",
        "Use heatmap(): Plot the correlation matrix as a heatmap."
      ],
      "metadata": {
        "id": "v6BmF0RcTFYC"
      }
    },
    {
      "cell_type": "code",
      "source": [
        "import seaborn as sns\n",
        "import matplotlib.pyplot as plt\n",
        "\n",
        "# Example DataFrame\n",
        "data = {'X': [1, 2, 3, 4, 5],\n",
        "        'Y': [5, 4, 3, 2, 1],\n",
        "        'Z': [2, 3, 4, 5, 6]}\n",
        "\n",
        "df = pd.DataFrame(data)\n",
        "\n",
        "# Calculate the correlation matrix\n",
        "corr = df.corr()\n",
        "\n",
        "# Plot the correlation heatmap\n",
        "sns.heatmap(corr, annot=True, cmap='coolwarm', vmin=-1, vmax=1)\n",
        "\n",
        "# Display the plot\n",
        "plt.show()\n"
      ],
      "metadata": {
        "colab": {
          "base_uri": "https://localhost:8080/",
          "height": 435
        },
        "id": "khK-wLvCS8a7",
        "outputId": "5c1af955-e11b-4836-8e3f-b5659df3700a"
      },
      "execution_count": 24,
      "outputs": [
        {
          "output_type": "display_data",
          "data": {
            "text/plain": [
              "<Figure size 640x480 with 2 Axes>"
            ],
            "image/png": "[encoded data removed]"
          },
          "metadata": {}
        }
      ]
    },
    {
      "cell_type": "markdown",
      "source": [
        "4. Using Scipy (Pearson/Spearman/Kendall)\n",
        "For more statistical tests and specific correlation methods (like Spearman’s or Kendall’s Tau), the scipy.stats library can be used.\n",
        "\n",
        "Example of Pearson's Correlation in SciPy:"
      ],
      "metadata": {
        "id": "0r8uBnIKTKTj"
      }
    },
    {
      "cell_type": "code",
      "source": [
        "from scipy.stats import pearsonr\n",
        "\n",
        "# Example data\n",
        "X = [1, 2, 3, 4, 5]\n",
        "Y = [5, 4, 3, 2, 1]\n",
        "\n",
        "# Pearson correlation coefficient\n",
        "correlation, p_value = pearsonr(X, Y)\n",
        "\n",
        "print(\"Pearson Correlation Coefficient:\", correlation)\n",
        "print(\"P-value:\", p_value)\n"
      ],
      "metadata": {
        "colab": {
          "base_uri": "https://localhost:8080/"
        },
        "id": "pg13MY8nTHsq",
        "outputId": "25b3c453-41f2-4a0f-9355-f3d2494943a5"
      },
      "execution_count": 25,
      "outputs": [
        {
          "output_type": "stream",
          "name": "stdout",
          "text": [
            "Pearson Correlation Coefficient: -1.0\n",
            "P-value: 0.0\n"
          ]
        }
      ]
    },
    {
      "cell_type": "markdown",
      "source": [
        "Correlation: The Pearson correlation coefficient between X and Y.\n",
        "P-value: Indicates whether the correlation is statistically significant.\n"
      ],
      "metadata": {
        "id": "POJDH3ghTO1K"
      }
    },
    {
      "cell_type": "markdown",
      "source": [
        "Conclusion\n",
        "You can find the correlation between variables in Python using:\n",
        "\n",
        "Pandas: df.corr() for correlation matrices.\n",
        "NumPy: np.corrcoef() for pairwise correlations.\n",
        "Seaborn: Visualize correlation using heatmaps.\n",
        "SciPy: Statistical methods for Pearson, Spearman, or Kendall correlations.\n",
        "These methods will help you understand the relationships between variables, guide feature selection, and improve your machine learning model’s performance."
      ],
      "metadata": {
        "id": "vWvnEW9gTTca"
      }
    },
    {
      "cell_type": "markdown",
      "source": [
        "# Q 15 What is causation? Explain difference between correlation and causation with an example."
      ],
      "metadata": {
        "id": "kcaQRINfTxn4"
      }
    },
    {
      "cell_type": "markdown",
      "source": [
        "What is Causation?\n",
        "\n",
        "Causation refers to a direct cause-and-effect relationship between two variables, where a change in one variable directly causes a change in another variable. In other words, causation means that one event (the cause) leads to the occurrence of another event (the effect).\n",
        "\n",
        "For example, if you increase the temperature of water, it will eventually boil — the heat causes the water to boil. This is a clear causal relationship.\n",
        "\n",
        "Difference Between Correlation and Causation\n",
        "\n",
        "Correlation: Correlation simply measures the relationship between two variables. It tells you how two variables move in relation to each other, but it does not imply one causes the other. Two variables can be correlated without having a direct causal relationship.\n",
        "\n",
        "Causation: Causation indicates that one variable directly affects the other, meaning a change in the independent variable causes a change in the dependent variable. Causation goes beyond mere correlation by asserting a cause-effect relationship.\n",
        "\n",
        "In summary:\n",
        "\n",
        "Correlation: Shows the relationship (association) between two variables.\n",
        "Causation: Implies that one variable causes the other to change.\n",
        "Key Differences:\n",
        "\n",
        "Direction:\n",
        "\n",
        "Correlation does not imply any direction of effect.\n",
        "\n",
        "Causation implies a direction from cause to effect (one variable influences the other).\n",
        "\n",
        "Sequence:\n",
        "\n",
        "Correlation can exist without any particular sequence in time.\n",
        "\n",
        "Causation requires a time sequence (the cause must happen before the effect)\n",
        ".\n",
        "Cause and Effect:\n",
        "\n",
        "Correlation does not prove that one variable causes another.\n",
        "\n",
        "Causation indicates a direct cause-effect relationship.\n",
        "\n",
        "Example to Illustrate Correlation vs. Causation\n",
        "\n",
        "Example: Ice Cream Sales and Drowning Incidents\n",
        "\n",
        "Observation:\n",
        "\n",
        "There is a correlation between ice cream sales and the number of drowning incidents during summer months. Both tend to increase in warmer weather.\n",
        "\n",
        "Correlation:\n",
        "\n",
        "As ice cream sales go up, the number of drowning incidents also increases. This could indicate a positive correlation between the two variables.\n",
        "However, this correlation does not mean that buying ice cream causes drowning incidents. The cause is actually a third variable: the hot weather. During the summer, more people buy ice cream to cool off, and more people swim, which increases the chances of drowning.\n",
        "\n",
        "Causation:\n",
        "\n",
        "There is no direct causality between ice cream sales and drowning. The real cause is the increase in hot weather, which affects both variables.\n",
        "A Stronger Causal Example\n",
        "\n",
        "Observation:\n",
        "\n",
        "Smoking causes lung cancer. This is an example of a causal relationship, where smoking directly causes changes in the lungs that lead to cancer.\n",
        "\n",
        "Causation:\n",
        "\n",
        "In this case, we have a clear cause (smoking) and a clear effect (lung cancer). Decades of research and medical studies support this causal relationship.\n",
        "How to Prove Causation\n",
        "\n",
        "Proving causation typically requires more rigorous testing and methodologies, such as:\n",
        "\n",
        "Randomized Controlled Trials (RCTs): The gold standard for proving causality. Variables are controlled and manipulated to observe their effect on another variable.\n",
        "\n",
        "Longitudinal Studies: Studies that track changes over time to observe causal relationships.\n",
        "\n",
        "Statistical Methods: Advanced techniques like Granger Causality Tests can help assess causality in time-series data.\n",
        "\n",
        "Summary of Key Points:\n",
        "Correlation indicates a relationship between two variables but does not imply one causes the other.\n",
        "\n",
        "Causation implies that one variable directly influences the other.\n",
        "Example of Correlation without Causation: Ice cream sales and drowning incidents both rise in the summer, but one does not cause the other.\n",
        "\n",
        "Example of Causation: Smoking and lung cancer, where smoking directly causes changes that lead to cancer.\n",
        "\n",
        "Understanding the difference is crucial in interpreting data correctly, especially in the context of scientific studies or machine learning models"
      ],
      "metadata": {
        "id": "0jlwbc5jT58s"
      }
    },
    {
      "cell_type": "markdown",
      "source": [
        "## Q 16 What is an Optimizer? What are different types of optimizers? Explain each with an example"
      ],
      "metadata": {
        "id": "rVmMc7CqUQ8c"
      }
    },
    {
      "cell_type": "markdown",
      "source": [
        "What is an Optimizer?\n",
        "\n",
        "An optimizer in machine learning and deep learning refers to an algorithm or method used to minimize (or maximize) the loss function during training. The primary goal of an optimizer is to find the optimal values for the model parameters (such as weights and biases) that lead to the lowest possible loss (or error) on the training data.\n",
        "\n",
        "Why Optimizers are Important:\n",
        "\n",
        "Optimizers update the parameters in a way that minimizes the error between the predicted and actual outputs of the model.\n",
        "\n",
        "They help the model learn by adjusting parameters during each iteration based on the gradient of the loss function.\n",
        "\n",
        "Types of Optimizers\n",
        "\n",
        "There are several types of optimizers commonly used in machine learning, each with its own advantages and disadvantages. Below are the most commonly used optimizers:\n",
        "\n",
        "1. Stochastic Gradient Descent (SGD)\n",
        "\n",
        "Stochastic Gradient Descent (SGD) is one of the simplest and most widely used optimizers. It updates the model parameters based on the gradient of the loss function with respect to the parameters, using a randomly selected subset (mini-batch) of the training data.\n",
        "\n",
        "How SGD works:\n",
        "\n",
        "In batch gradient descent, the entire dataset is used to compute the gradient of the loss function.\n",
        "\n",
        "In stochastic gradient descent, instead of using the whole dataset, the gradient is computed based on a single sample at a time (or a small mini-batch), which makes it faster and computationally efficient.\n",
        "\n",
        "Formula:\n",
        "𝜃\n",
        "=\n",
        "𝜃\n",
        "−\n",
        "𝜂\n",
        "⋅\n",
        "∇\n",
        "𝜃\n",
        "𝐿\n",
        "(\n",
        "𝜃\n",
        ")\n",
        "θ=θ−η⋅∇\n",
        "θ\n",
        "​\n",
        " L(θ)\n",
        "Where:\n",
        "\n",
        "𝜃\n",
        "θ = Model parameters\n",
        "𝜂\n",
        "η = Learning rate (step size)\n",
        "∇\n",
        "𝜃\n",
        "𝐿\n",
        "(\n",
        "𝜃\n",
        ")\n",
        "∇\n",
        "θ\n",
        "​\n",
        " L(θ) = Gradient of the loss function with respect to\n",
        "𝜃\n",
        "θ\n",
        "Example:"
      ],
      "metadata": {
        "id": "WZJilZurUpzf"
      }
    },
    {
      "cell_type": "code",
      "source": [
        "from sklearn.linear_model import SGDClassifier\n",
        "\n",
        "# Initialize SGD with a learning rate of 0.01\n",
        "sgd = SGDClassifier(learning_rate='constant', eta0=0.01)\n",
        "\n",
        "# Train the model\n",
        "sgd.fit(X_train, y_train)\n"
      ],
      "metadata": {
        "colab": {
          "base_uri": "https://localhost:8080/",
          "height": 80
        },
        "id": "TTSdgVTkTMUF",
        "outputId": "ae643855-a115-4fbf-c3fe-12063b0e466a"
      },
      "execution_count": 26,
      "outputs": [
        {
          "output_type": "execute_result",
          "data": {
            "text/plain": [
              "SGDClassifier(eta0=0.01, learning_rate='constant')"
            ],
            "text/html": [
              "<style>#sk-container-id-2 {\n",
              "  /* Definition of color scheme common for light and dark mode */\n",
              "  --sklearn-color-text: #000;\n",
              "  --sklearn-color-text-muted: #666;\n",
              "  --sklearn-color-line: gray;\n",
              "  /* Definition of color scheme for unfitted estimators */\n",
              "  --sklearn-color-unfitted-level-0: #fff5e6;\n",
              "  --sklearn-color-unfitted-level-1: #f6e4d2;\n",
              "  --sklearn-color-unfitted-level-2: #ffe0b3;\n",
              "  --sklearn-color-unfitted-level-3: chocolate;\n",
              "  /* Definition of color scheme for fitted estimators */\n",
              "  --sklearn-color-fitted-level-0: #f0f8ff;\n",
              "  --sklearn-color-fitted-level-1: #d4ebff;\n",
              "  --sklearn-color-fitted-level-2: #b3dbfd;\n",
              "  --sklearn-color-fitted-level-3: cornflowerblue;\n",
              "\n",
              "  /* Specific color for light theme */\n",
              "  --sklearn-color-text-on-default-background: var(--sg-text-color, var(--theme-code-foreground, var(--jp-content-font-color1, black)));\n",
              "  --sklearn-color-background: var(--sg-background-color, var(--theme-background, var(--jp-layout-color0, white)));\n",
              "  --sklearn-color-border-box: var(--sg-text-color, var(--theme-code-foreground, var(--jp-content-font-color1, black)));\n",
              "  --sklearn-color-icon: #696969;\n",
              "\n",
              "  @media (prefers-color-scheme: dark) {\n",
              "    /* Redefinition of color scheme for dark theme */\n",
              "    --sklearn-color-text-on-default-background: var(--sg-text-color, var(--theme-code-foreground, var(--jp-content-font-color1, white)));\n",
              "    --sklearn-color-background: var(--sg-background-color, var(--theme-background, var(--jp-layout-color0, #111)));\n",
              "    --sklearn-color-border-box: var(--sg-text-color, var(--theme-code-foreground, var(--jp-content-font-color1, white)));\n",
              "    --sklearn-color-icon: #878787;\n",
              "  }\n",
              "}\n",
              "\n",
              "#sk-container-id-2 {\n",
              "  color: var(--sklearn-color-text);\n",
              "}\n",
              "\n",
              "#sk-container-id-2 pre {\n",
              "  padding: 0;\n",
              "}\n",
              "\n",
              "#sk-container-id-2 input.sk-hidden--visually {\n",
              "  border: 0;\n",
              "  clip: rect(1px 1px 1px 1px);\n",
              "  clip: rect(1px, 1px, 1px, 1px);\n",
              "  height: 1px;\n",
              "  margin: -1px;\n",
              "  overflow: hidden;\n",
              "  padding: 0;\n",
              "  position: absolute;\n",
              "  width: 1px;\n",
              "}\n",
              "\n",
              "#sk-container-id-2 div.sk-dashed-wrapped {\n",
              "  border: 1px dashed var(--sklearn-color-line);\n",
              "  margin: 0 0.4em 0.5em 0.4em;\n",
              "  box-sizing: border-box;\n",
              "  padding-bottom: 0.4em;\n",
              "  background-color: var(--sklearn-color-background);\n",
              "}\n",
              "\n",
              "#sk-container-id-2 div.sk-container {\n",
              "  /* jupyter's `normalize.less` sets `[hidden] { display: none; }`\n",
              "     but bootstrap.min.css set `[hidden] { display: none !important; }`\n",
              "     so we also need the `!important` here to be able to override the\n",
              "     default hidden behavior on the sphinx rendered scikit-learn.org.\n",
              "     See: https://github.com/scikit-learn/scikit-learn/issues/21755 */\n",
              "  display: inline-block !important;\n",
              "  position: relative;\n",
              "}\n",
              "\n",
              "#sk-container-id-2 div.sk-text-repr-fallback {\n",
              "  display: none;\n",
              "}\n",
              "\n",
              "div.sk-parallel-item,\n",
              "div.sk-serial,\n",
              "div.sk-item {\n",
              "  /* draw centered vertical line to link estimators */\n",
              "  background-image: linear-gradient(var(--sklearn-color-text-on-default-background), var(--sklearn-color-text-on-default-background));\n",
              "  background-size: 2px 100%;\n",
              "  background-repeat: no-repeat;\n",
              "  background-position: center center;\n",
              "}\n",
              "\n",
              "/* Parallel-specific style estimator block */\n",
              "\n",
              "#sk-container-id-2 div.sk-parallel-item::after {\n",
              "  content: \"\";\n",
              "  width: 100%;\n",
              "  border-bottom: 2px solid var(--sklearn-color-text-on-default-background);\n",
              "  flex-grow: 1;\n",
              "}\n",
              "\n",
              "#sk-container-id-2 div.sk-parallel {\n",
              "  display: flex;\n",
              "  align-items: stretch;\n",
              "  justify-content: center;\n",
              "  background-color: var(--sklearn-color-background);\n",
              "  position: relative;\n",
              "}\n",
              "\n",
              "#sk-container-id-2 div.sk-parallel-item {\n",
              "  display: flex;\n",
              "  flex-direction: column;\n",
              "}\n",
              "\n",
              "#sk-container-id-2 div.sk-parallel-item:first-child::after {\n",
              "  align-self: flex-end;\n",
              "  width: 50%;\n",
              "}\n",
              "\n",
              "#sk-container-id-2 div.sk-parallel-item:last-child::after {\n",
              "  align-self: flex-start;\n",
              "  width: 50%;\n",
              "}\n",
              "\n",
              "#sk-container-id-2 div.sk-parallel-item:only-child::after {\n",
              "  width: 0;\n",
              "}\n",
              "\n",
              "/* Serial-specific style estimator block */\n",
              "\n",
              "#sk-container-id-2 div.sk-serial {\n",
              "  display: flex;\n",
              "  flex-direction: column;\n",
              "  align-items: center;\n",
              "  background-color: var(--sklearn-color-background);\n",
              "  padding-right: 1em;\n",
              "  padding-left: 1em;\n",
              "}\n",
              "\n",
              "\n",
              "/* Toggleable style: style used for estimator/Pipeline/ColumnTransformer box that is\n",
              "clickable and can be expanded/collapsed.\n",
              "- Pipeline and ColumnTransformer use this feature and define the default style\n",
              "- Estimators will overwrite some part of the style using the `sk-estimator` class\n",
              "*/\n",
              "\n",
              "/* Pipeline and ColumnTransformer style (default) */\n",
              "\n",
              "#sk-container-id-2 div.sk-toggleable {\n",
              "  /* Default theme specific background. It is overwritten whether we have a\n",
              "  specific estimator or a Pipeline/ColumnTransformer */\n",
              "  background-color: var(--sklearn-color-background);\n",
              "}\n",
              "\n",
              "/* Toggleable label */\n",
              "#sk-container-id-2 label.sk-toggleable__label {\n",
              "  cursor: pointer;\n",
              "  display: flex;\n",
              "  width: 100%;\n",
              "  margin-bottom: 0;\n",
              "  padding: 0.5em;\n",
              "  box-sizing: border-box;\n",
              "  text-align: center;\n",
              "  align-items: start;\n",
              "  justify-content: space-between;\n",
              "  gap: 0.5em;\n",
              "}\n",
              "\n",
              "#sk-container-id-2 label.sk-toggleable__label .caption {\n",
              "  font-size: 0.6rem;\n",
              "  font-weight: lighter;\n",
              "  color: var(--sklearn-color-text-muted);\n",
              "}\n",
              "\n",
              "#sk-container-id-2 label.sk-toggleable__label-arrow:before {\n",
              "  /* Arrow on the left of the label */\n",
              "  content: \"▸\";\n",
              "  float: left;\n",
              "  margin-right: 0.25em;\n",
              "  color: var(--sklearn-color-icon);\n",
              "}\n",
              "\n",
              "#sk-container-id-2 label.sk-toggleable__label-arrow:hover:before {\n",
              "  color: var(--sklearn-color-text);\n",
              "}\n",
              "\n",
              "/* Toggleable content - dropdown */\n",
              "\n",
              "#sk-container-id-2 div.sk-toggleable__content {\n",
              "  max-height: 0;\n",
              "  max-width: 0;\n",
              "  overflow: hidden;\n",
              "  text-align: left;\n",
              "  /* unfitted */\n",
              "  background-color: var(--sklearn-color-unfitted-level-0);\n",
              "}\n",
              "\n",
              "#sk-container-id-2 div.sk-toggleable__content.fitted {\n",
              "  /* fitted */\n",
              "  background-color: var(--sklearn-color-fitted-level-0);\n",
              "}\n",
              "\n",
              "#sk-container-id-2 div.sk-toggleable__content pre {\n",
              "  margin: 0.2em;\n",
              "  border-radius: 0.25em;\n",
              "  color: var(--sklearn-color-text);\n",
              "  /* unfitted */\n",
              "  background-color: var(--sklearn-color-unfitted-level-0);\n",
              "}\n",
              "\n",
              "#sk-container-id-2 div.sk-toggleable__content.fitted pre {\n",
              "  /* unfitted */\n",
              "  background-color: var(--sklearn-color-fitted-level-0);\n",
              "}\n",
              "\n",
              "#sk-container-id-2 input.sk-toggleable__control:checked~div.sk-toggleable__content {\n",
              "  /* Expand drop-down */\n",
              "  max-height: 200px;\n",
              "  max-width: 100%;\n",
              "  overflow: auto;\n",
              "}\n",
              "\n",
              "#sk-container-id-2 input.sk-toggleable__control:checked~label.sk-toggleable__label-arrow:before {\n",
              "  content: \"▾\";\n",
              "}\n",
              "\n",
              "/* Pipeline/ColumnTransformer-specific style */\n",
              "\n",
              "#sk-container-id-2 div.sk-label input.sk-toggleable__control:checked~label.sk-toggleable__label {\n",
              "  color: var(--sklearn-color-text);\n",
              "  background-color: var(--sklearn-color-unfitted-level-2);\n",
              "}\n",
              "\n",
              "#sk-container-id-2 div.sk-label.fitted input.sk-toggleable__control:checked~label.sk-toggleable__label {\n",
              "  background-color: var(--sklearn-color-fitted-level-2);\n",
              "}\n",
              "\n",
              "/* Estimator-specific style */\n",
              "\n",
              "/* Colorize estimator box */\n",
              "#sk-container-id-2 div.sk-estimator input.sk-toggleable__control:checked~label.sk-toggleable__label {\n",
              "  /* unfitted */\n",
              "  background-color: var(--sklearn-color-unfitted-level-2);\n",
              "}\n",
              "\n",
              "#sk-container-id-2 div.sk-estimator.fitted input.sk-toggleable__control:checked~label.sk-toggleable__label {\n",
              "  /* fitted */\n",
              "  background-color: var(--sklearn-color-fitted-level-2);\n",
              "}\n",
              "\n",
              "#sk-container-id-2 div.sk-label label.sk-toggleable__label,\n",
              "#sk-container-id-2 div.sk-label label {\n",
              "  /* The background is the default theme color */\n",
              "  color: var(--sklearn-color-text-on-default-background);\n",
              "}\n",
              "\n",
              "/* On hover, darken the color of the background */\n",
              "#sk-container-id-2 div.sk-label:hover label.sk-toggleable__label {\n",
              "  color: var(--sklearn-color-text);\n",
              "  background-color: var(--sklearn-color-unfitted-level-2);\n",
              "}\n",
              "\n",
              "/* Label box, darken color on hover, fitted */\n",
              "#sk-container-id-2 div.sk-label.fitted:hover label.sk-toggleable__label.fitted {\n",
              "  color: var(--sklearn-color-text);\n",
              "  background-color: var(--sklearn-color-fitted-level-2);\n",
              "}\n",
              "\n",
              "/* Estimator label */\n",
              "\n",
              "#sk-container-id-2 div.sk-label label {\n",
              "  font-family: monospace;\n",
              "  font-weight: bold;\n",
              "  display: inline-block;\n",
              "  line-height: 1.2em;\n",
              "}\n",
              "\n",
              "#sk-container-id-2 div.sk-label-container {\n",
              "  text-align: center;\n",
              "}\n",
              "\n",
              "/* Estimator-specific */\n",
              "#sk-container-id-2 div.sk-estimator {\n",
              "  font-family: monospace;\n",
              "  border: 1px dotted var(--sklearn-color-border-box);\n",
              "  border-radius: 0.25em;\n",
              "  box-sizing: border-box;\n",
              "  margin-bottom: 0.5em;\n",
              "  /* unfitted */\n",
              "  background-color: var(--sklearn-color-unfitted-level-0);\n",
              "}\n",
              "\n",
              "#sk-container-id-2 div.sk-estimator.fitted {\n",
              "  /* fitted */\n",
              "  background-color: var(--sklearn-color-fitted-level-0);\n",
              "}\n",
              "\n",
              "/* on hover */\n",
              "#sk-container-id-2 div.sk-estimator:hover {\n",
              "  /* unfitted */\n",
              "  background-color: var(--sklearn-color-unfitted-level-2);\n",
              "}\n",
              "\n",
              "#sk-container-id-2 div.sk-estimator.fitted:hover {\n",
              "  /* fitted */\n",
              "  background-color: var(--sklearn-color-fitted-level-2);\n",
              "}\n",
              "\n",
              "/* Specification for estimator info (e.g. \"i\" and \"?\") */\n",
              "\n",
              "/* Common style for \"i\" and \"?\" */\n",
              "\n",
              ".sk-estimator-doc-link,\n",
              "a:link.sk-estimator-doc-link,\n",
              "a:visited.sk-estimator-doc-link {\n",
              "  float: right;\n",
              "  font-size: smaller;\n",
              "  line-height: 1em;\n",
              "  font-family: monospace;\n",
              "  background-color: var(--sklearn-color-background);\n",
              "  border-radius: 1em;\n",
              "  height: 1em;\n",
              "  width: 1em;\n",
              "  text-decoration: none !important;\n",
              "  margin-left: 0.5em;\n",
              "  text-align: center;\n",
              "  /* unfitted */\n",
              "  border: var(--sklearn-color-unfitted-level-1) 1pt solid;\n",
              "  color: var(--sklearn-color-unfitted-level-1);\n",
              "}\n",
              "\n",
              ".sk-estimator-doc-link.fitted,\n",
              "a:link.sk-estimator-doc-link.fitted,\n",
              "a:visited.sk-estimator-doc-link.fitted {\n",
              "  /* fitted */\n",
              "  border: var(--sklearn-color-fitted-level-1) 1pt solid;\n",
              "  color: var(--sklearn-color-fitted-level-1);\n",
              "}\n",
              "\n",
              "/* On hover */\n",
              "div.sk-estimator:hover .sk-estimator-doc-link:hover,\n",
              ".sk-estimator-doc-link:hover,\n",
              "div.sk-label-container:hover .sk-estimator-doc-link:hover,\n",
              ".sk-estimator-doc-link:hover {\n",
              "  /* unfitted */\n",
              "  background-color: var(--sklearn-color-unfitted-level-3);\n",
              "  color: var(--sklearn-color-background);\n",
              "  text-decoration: none;\n",
              "}\n",
              "\n",
              "div.sk-estimator.fitted:hover .sk-estimator-doc-link.fitted:hover,\n",
              ".sk-estimator-doc-link.fitted:hover,\n",
              "div.sk-label-container:hover .sk-estimator-doc-link.fitted:hover,\n",
              ".sk-estimator-doc-link.fitted:hover {\n",
              "  /* fitted */\n",
              "  background-color: var(--sklearn-color-fitted-level-3);\n",
              "  color: var(--sklearn-color-background);\n",
              "  text-decoration: none;\n",
              "}\n",
              "\n",
              "/* Span, style for the box shown on hovering the info icon */\n",
              ".sk-estimator-doc-link span {\n",
              "  display: none;\n",
              "  z-index: 9999;\n",
              "  position: relative;\n",
              "  font-weight: normal;\n",
              "  right: .2ex;\n",
              "  padding: .5ex;\n",
              "  margin: .5ex;\n",
              "  width: min-content;\n",
              "  min-width: 20ex;\n",
              "  max-width: 50ex;\n",
              "  color: var(--sklearn-color-text);\n",
              "  box-shadow: 2pt 2pt 4pt #999;\n",
              "  /* unfitted */\n",
              "  background: var(--sklearn-color-unfitted-level-0);\n",
              "  border: .5pt solid var(--sklearn-color-unfitted-level-3);\n",
              "}\n",
              "\n",
              ".sk-estimator-doc-link.fitted span {\n",
              "  /* fitted */\n",
              "  background: var(--sklearn-color-fitted-level-0);\n",
              "  border: var(--sklearn-color-fitted-level-3);\n",
              "}\n",
              "\n",
              ".sk-estimator-doc-link:hover span {\n",
              "  display: block;\n",
              "}\n",
              "\n",
              "/* \"?\"-specific style due to the `<a>` HTML tag */\n",
              "\n",
              "#sk-container-id-2 a.estimator_doc_link {\n",
              "  float: right;\n",
              "  font-size: 1rem;\n",
              "  line-height: 1em;\n",
              "  font-family: monospace;\n",
              "  background-color: var(--sklearn-color-background);\n",
              "  border-radius: 1rem;\n",
              "  height: 1rem;\n",
              "  width: 1rem;\n",
              "  text-decoration: none;\n",
              "  /* unfitted */\n",
              "  color: var(--sklearn-color-unfitted-level-1);\n",
              "  border: var(--sklearn-color-unfitted-level-1) 1pt solid;\n",
              "}\n",
              "\n",
              "#sk-container-id-2 a.estimator_doc_link.fitted {\n",
              "  /* fitted */\n",
              "  border: var(--sklearn-color-fitted-level-1) 1pt solid;\n",
              "  color: var(--sklearn-color-fitted-level-1);\n",
              "}\n",
              "\n",
              "/* On hover */\n",
              "#sk-container-id-2 a.estimator_doc_link:hover {\n",
              "  /* unfitted */\n",
              "  background-color: var(--sklearn-color-unfitted-level-3);\n",
              "  color: var(--sklearn-color-background);\n",
              "  text-decoration: none;\n",
              "}\n",
              "\n",
              "#sk-container-id-2 a.estimator_doc_link.fitted:hover {\n",
              "  /* fitted */\n",
              "  background-color: var(--sklearn-color-fitted-level-3);\n",
              "}\n",
              "</style><div id=\"sk-container-id-2\" class=\"sk-top-container\"><div class=\"sk-text-repr-fallback\"><pre>SGDClassifier(eta0=0.01, learning_rate=&#x27;constant&#x27;)</pre><b>In a Jupyter environment, please rerun this cell to show the HTML representation or trust the notebook. <br />On GitHub, the HTML representation is unable to render, please try loading this page with nbviewer.org.</b></div><div class=\"sk-container\" hidden><div class=\"sk-item\"><div class=\"sk-estimator fitted sk-toggleable\"><input class=\"sk-toggleable__control sk-hidden--visually\" id=\"sk-estimator-id-2\" type=\"checkbox\" checked><label for=\"sk-estimator-id-2\" class=\"sk-toggleable__label fitted sk-toggleable__label-arrow\"><div><div>SGDClassifier</div></div><div><a class=\"sk-estimator-doc-link fitted\" rel=\"noreferrer\" target=\"_blank\" href=\"https://scikit-learn.org/1.6/modules/generated/sklearn.linear_model.SGDClassifier.html\">?<span>Documentation for SGDClassifier</span></a><span class=\"sk-estimator-doc-link fitted\">i<span>Fitted</span></span></div></label><div class=\"sk-toggleable__content fitted\"><pre>SGDClassifier(eta0=0.01, learning_rate=&#x27;constant&#x27;)</pre></div> </div></div></div></div>"
            ]
          },
          "metadata": {},
          "execution_count": 26
        }
      ]
    },
    {
      "cell_type": "markdown",
      "source": [
        "Advantages:\n",
        "\n",
        "Faster computation compared to batch gradient descent.\n",
        "\n",
        "Can escape local minima due to noisy updates.\n",
        "\n",
        "Disadvantages:\n",
        "\n",
        "The choice of learning rate can significantly affect performance.\n",
        "\n",
        "May oscillate around the minimum due to the noisy updates.\n"
      ],
      "metadata": {
        "id": "GjzdvryxU1Es"
      }
    },
    {
      "cell_type": "markdown",
      "source": [
        "2. Momentum Optimizer\n",
        "\n",
        "Momentum is an extension of SGD that helps accelerate SGD in the relevant direction and dampens oscillations.\n",
        " It accumulates the gradient over time, giving more weight to past gradients.\n",
        "\n",
        "How Momentum works:\n",
        "\n",
        "Momentum involves storing a running average of past gradients to smooth out the updates.\n",
        "\n",
        "The idea is that if the gradient is consistently in the same direction, momentum will continue to push the parameters in that direction.\n",
        "Formula:\n",
        "𝑣\n",
        "𝑡\n",
        "=\n",
        "𝛽\n",
        "𝑣\n",
        "𝑡\n",
        "−\n",
        "1\n",
        "+\n",
        "(\n",
        "1\n",
        "−\n",
        "𝛽\n",
        ")\n",
        "∇\n",
        "𝜃\n",
        "𝐿\n",
        "(\n",
        "𝜃\n",
        ")\n",
        "v\n",
        "t\n",
        "​\n",
        " =βv\n",
        "t−1\n",
        "​\n",
        " +(1−β)∇\n",
        "θ\n",
        "​\n",
        " L(θ)\n",
        "𝜃\n",
        "=\n",
        "𝜃\n",
        "−\n",
        "𝜂\n",
        "𝑣\n",
        "𝑡\n",
        "θ=θ−ηv\n",
        "t\n",
        "​\n",
        "\n",
        "Where:\n",
        "\n",
        "𝑣\n",
        "𝑡\n",
        "v\n",
        "t\n",
        "​\n",
        "  = Velocity (moving average of gradients)\n",
        "𝛽\n",
        "β = Momentum factor (usually between 0.8 and 0.99)\n",
        "Example:"
      ],
      "metadata": {
        "id": "FrQSHGuEU7LI"
      }
    },
    {
      "cell_type": "code",
      "source": [
        "from sklearn.linear_model import SGDClassifier\n",
        "\n",
        "# Initialize SGD with momentum\n",
        "sgd = SGDClassifier(learning_rate='constant', eta0=0.01, momentum=0.9)\n",
        "\n",
        "# Train the model\n",
        "sgd.fit(X_train, y_train)\n"
      ],
      "metadata": {
        "colab": {
          "base_uri": "https://localhost:8080/",
          "height": 211
        },
        "collapsed": true,
        "id": "RWZyP2-eUy0-",
        "outputId": "bcc41857-7329-4c23-b521-334db6d01471"
      },
      "execution_count": 27,
      "outputs": [
        {
          "output_type": "error",
          "ename": "TypeError",
          "evalue": "SGDClassifier.__init__() got an unexpected keyword argument 'momentum'",
          "traceback": [
            "\u001b[0;31m---------------------------------------------------------------------------\u001b[0m",
            "\u001b[0;31mTypeError\u001b[0m                                 Traceback (most recent call last)",
            "\u001b[0;32m<ipython-input-27-42cbf2d0f043>\u001b[0m in \u001b[0;36m<cell line: 4>\u001b[0;34m()\u001b[0m\n\u001b[1;32m      2\u001b[0m \u001b[0;34m\u001b[0m\u001b[0m\n\u001b[1;32m      3\u001b[0m \u001b[0;31m# Initialize SGD with momentum\u001b[0m\u001b[0;34m\u001b[0m\u001b[0;34m\u001b[0m\u001b[0m\n\u001b[0;32m----> 4\u001b[0;31m \u001b[0msgd\u001b[0m \u001b[0;34m=\u001b[0m \u001b[0mSGDClassifier\u001b[0m\u001b[0;34m(\u001b[0m\u001b[0mlearning_rate\u001b[0m\u001b[0;34m=\u001b[0m\u001b[0;34m'constant'\u001b[0m\u001b[0;34m,\u001b[0m \u001b[0meta0\u001b[0m\u001b[0;34m=\u001b[0m\u001b[0;36m0.01\u001b[0m\u001b[0;34m,\u001b[0m \u001b[0mmomentum\u001b[0m\u001b[0;34m=\u001b[0m\u001b[0;36m0.9\u001b[0m\u001b[0;34m)\u001b[0m\u001b[0;34m\u001b[0m\u001b[0;34m\u001b[0m\u001b[0m\n\u001b[0m\u001b[1;32m      5\u001b[0m \u001b[0;34m\u001b[0m\u001b[0m\n\u001b[1;32m      6\u001b[0m \u001b[0;31m# Train the model\u001b[0m\u001b[0;34m\u001b[0m\u001b[0;34m\u001b[0m\u001b[0m\n",
            "\u001b[0;31mTypeError\u001b[0m: SGDClassifier.__init__() got an unexpected keyword argument 'momentum'"
          ]
        }
      ]
    },
    {
      "cell_type": "markdown",
      "source": [
        "Advantages:\n",
        "\n",
        "Speeds up convergence in the relevant direction.\n",
        "\n",
        "Reduces the likelihood of getting stuck in local minima.\n",
        "\n",
        "Disadvantages:\n",
        "\n",
        "Requires careful tuning of the momentum parameter.\n",
        "\n",
        "May overshoot if the learning rate is too high.\n"
      ],
      "metadata": {
        "id": "gcc-K2NPVCuO"
      }
    },
    {
      "cell_type": "markdown",
      "source": [
        "3. AdaGrad (Adaptive Gradient Algorithm)\n",
        "\n",
        "AdaGrad adjusts the learning rate of each parameter based on its historical gradient. The learning rate is adapted for each parameter according to how often it is updated. It reduces the learning rate for parameters that are updated frequently and increases it for infrequent ones.\n",
        "\n",
        "How AdaGrad works:\n",
        "\n",
        "The learning rate for each parameter decreases over time, which makes the algorithm perform well on sparse data.\n",
        "Formula:\n",
        "𝜃\n",
        "=\n",
        "𝜃\n",
        "−\n",
        "𝜂\n",
        "𝐺\n",
        "𝑡\n",
        "+\n",
        "𝜖\n",
        "⋅\n",
        "∇\n",
        "𝜃\n",
        "𝐿\n",
        "(\n",
        "𝜃\n",
        ")\n",
        "θ=θ−\n",
        "G\n",
        "t\n",
        "​\n",
        " +ϵ\n",
        "​\n",
        "\n",
        "η\n",
        "​\n",
        " ⋅∇\n",
        "θ\n",
        "​\n",
        " L(θ)\n",
        "Where:\n",
        "\n",
        "𝐺\n",
        "𝑡\n",
        "G\n",
        "t\n",
        "​\n",
        "  = Accumulated squared gradients for each parameter.\n",
        "𝜖\n",
        "ϵ = Small constant to prevent division by zero."
      ],
      "metadata": {
        "id": "5ruvNNbHVIG4"
      }
    },
    {
      "cell_type": "code",
      "source": [
        "from sklearn.linear_model import SGDClassifier\n",
        "\n",
        "# Initialize AdaGrad optimizer\n",
        "sgd = SGDClassifier(learning_rate='constant', eta0=0.01)\n",
        "\n",
        "# Train the model with AdaGrad optimizer\n",
        "sgd.fit(X_train, y_train)\n"
      ],
      "metadata": {
        "colab": {
          "base_uri": "https://localhost:8080/",
          "height": 80
        },
        "id": "aEmZh7O4U_Es",
        "outputId": "b6008ba7-b46a-4ddb-d5ad-dc97c8b23cec"
      },
      "execution_count": 28,
      "outputs": [
        {
          "output_type": "execute_result",
          "data": {
            "text/plain": [
              "SGDClassifier(eta0=0.01, learning_rate='constant')"
            ],
            "text/html": [
              "<style>#sk-container-id-3 {\n",
              "  /* Definition of color scheme common for light and dark mode */\n",
              "  --sklearn-color-text: #000;\n",
              "  --sklearn-color-text-muted: #666;\n",
              "  --sklearn-color-line: gray;\n",
              "  /* Definition of color scheme for unfitted estimators */\n",
              "  --sklearn-color-unfitted-level-0: #fff5e6;\n",
              "  --sklearn-color-unfitted-level-1: #f6e4d2;\n",
              "  --sklearn-color-unfitted-level-2: #ffe0b3;\n",
              "  --sklearn-color-unfitted-level-3: chocolate;\n",
              "  /* Definition of color scheme for fitted estimators */\n",
              "  --sklearn-color-fitted-level-0: #f0f8ff;\n",
              "  --sklearn-color-fitted-level-1: #d4ebff;\n",
              "  --sklearn-color-fitted-level-2: #b3dbfd;\n",
              "  --sklearn-color-fitted-level-3: cornflowerblue;\n",
              "\n",
              "  /* Specific color for light theme */\n",
              "  --sklearn-color-text-on-default-background: var(--sg-text-color, var(--theme-code-foreground, var(--jp-content-font-color1, black)));\n",
              "  --sklearn-color-background: var(--sg-background-color, var(--theme-background, var(--jp-layout-color0, white)));\n",
              "  --sklearn-color-border-box: var(--sg-text-color, var(--theme-code-foreground, var(--jp-content-font-color1, black)));\n",
              "  --sklearn-color-icon: #696969;\n",
              "\n",
              "  @media (prefers-color-scheme: dark) {\n",
              "    /* Redefinition of color scheme for dark theme */\n",
              "    --sklearn-color-text-on-default-background: var(--sg-text-color, var(--theme-code-foreground, var(--jp-content-font-color1, white)));\n",
              "    --sklearn-color-background: var(--sg-background-color, var(--theme-background, var(--jp-layout-color0, #111)));\n",
              "    --sklearn-color-border-box: var(--sg-text-color, var(--theme-code-foreground, var(--jp-content-font-color1, white)));\n",
              "    --sklearn-color-icon: #878787;\n",
              "  }\n",
              "}\n",
              "\n",
              "#sk-container-id-3 {\n",
              "  color: var(--sklearn-color-text);\n",
              "}\n",
              "\n",
              "#sk-container-id-3 pre {\n",
              "  padding: 0;\n",
              "}\n",
              "\n",
              "#sk-container-id-3 input.sk-hidden--visually {\n",
              "  border: 0;\n",
              "  clip: rect(1px 1px 1px 1px);\n",
              "  clip: rect(1px, 1px, 1px, 1px);\n",
              "  height: 1px;\n",
              "  margin: -1px;\n",
              "  overflow: hidden;\n",
              "  padding: 0;\n",
              "  position: absolute;\n",
              "  width: 1px;\n",
              "}\n",
              "\n",
              "#sk-container-id-3 div.sk-dashed-wrapped {\n",
              "  border: 1px dashed var(--sklearn-color-line);\n",
              "  margin: 0 0.4em 0.5em 0.4em;\n",
              "  box-sizing: border-box;\n",
              "  padding-bottom: 0.4em;\n",
              "  background-color: var(--sklearn-color-background);\n",
              "}\n",
              "\n",
              "#sk-container-id-3 div.sk-container {\n",
              "  /* jupyter's `normalize.less` sets `[hidden] { display: none; }`\n",
              "     but bootstrap.min.css set `[hidden] { display: none !important; }`\n",
              "     so we also need the `!important` here to be able to override the\n",
              "     default hidden behavior on the sphinx rendered scikit-learn.org.\n",
              "     See: https://github.com/scikit-learn/scikit-learn/issues/21755 */\n",
              "  display: inline-block !important;\n",
              "  position: relative;\n",
              "}\n",
              "\n",
              "#sk-container-id-3 div.sk-text-repr-fallback {\n",
              "  display: none;\n",
              "}\n",
              "\n",
              "div.sk-parallel-item,\n",
              "div.sk-serial,\n",
              "div.sk-item {\n",
              "  /* draw centered vertical line to link estimators */\n",
              "  background-image: linear-gradient(var(--sklearn-color-text-on-default-background), var(--sklearn-color-text-on-default-background));\n",
              "  background-size: 2px 100%;\n",
              "  background-repeat: no-repeat;\n",
              "  background-position: center center;\n",
              "}\n",
              "\n",
              "/* Parallel-specific style estimator block */\n",
              "\n",
              "#sk-container-id-3 div.sk-parallel-item::after {\n",
              "  content: \"\";\n",
              "  width: 100%;\n",
              "  border-bottom: 2px solid var(--sklearn-color-text-on-default-background);\n",
              "  flex-grow: 1;\n",
              "}\n",
              "\n",
              "#sk-container-id-3 div.sk-parallel {\n",
              "  display: flex;\n",
              "  align-items: stretch;\n",
              "  justify-content: center;\n",
              "  background-color: var(--sklearn-color-background);\n",
              "  position: relative;\n",
              "}\n",
              "\n",
              "#sk-container-id-3 div.sk-parallel-item {\n",
              "  display: flex;\n",
              "  flex-direction: column;\n",
              "}\n",
              "\n",
              "#sk-container-id-3 div.sk-parallel-item:first-child::after {\n",
              "  align-self: flex-end;\n",
              "  width: 50%;\n",
              "}\n",
              "\n",
              "#sk-container-id-3 div.sk-parallel-item:last-child::after {\n",
              "  align-self: flex-start;\n",
              "  width: 50%;\n",
              "}\n",
              "\n",
              "#sk-container-id-3 div.sk-parallel-item:only-child::after {\n",
              "  width: 0;\n",
              "}\n",
              "\n",
              "/* Serial-specific style estimator block */\n",
              "\n",
              "#sk-container-id-3 div.sk-serial {\n",
              "  display: flex;\n",
              "  flex-direction: column;\n",
              "  align-items: center;\n",
              "  background-color: var(--sklearn-color-background);\n",
              "  padding-right: 1em;\n",
              "  padding-left: 1em;\n",
              "}\n",
              "\n",
              "\n",
              "/* Toggleable style: style used for estimator/Pipeline/ColumnTransformer box that is\n",
              "clickable and can be expanded/collapsed.\n",
              "- Pipeline and ColumnTransformer use this feature and define the default style\n",
              "- Estimators will overwrite some part of the style using the `sk-estimator` class\n",
              "*/\n",
              "\n",
              "/* Pipeline and ColumnTransformer style (default) */\n",
              "\n",
              "#sk-container-id-3 div.sk-toggleable {\n",
              "  /* Default theme specific background. It is overwritten whether we have a\n",
              "  specific estimator or a Pipeline/ColumnTransformer */\n",
              "  background-color: var(--sklearn-color-background);\n",
              "}\n",
              "\n",
              "/* Toggleable label */\n",
              "#sk-container-id-3 label.sk-toggleable__label {\n",
              "  cursor: pointer;\n",
              "  display: flex;\n",
              "  width: 100%;\n",
              "  margin-bottom: 0;\n",
              "  padding: 0.5em;\n",
              "  box-sizing: border-box;\n",
              "  text-align: center;\n",
              "  align-items: start;\n",
              "  justify-content: space-between;\n",
              "  gap: 0.5em;\n",
              "}\n",
              "\n",
              "#sk-container-id-3 label.sk-toggleable__label .caption {\n",
              "  font-size: 0.6rem;\n",
              "  font-weight: lighter;\n",
              "  color: var(--sklearn-color-text-muted);\n",
              "}\n",
              "\n",
              "#sk-container-id-3 label.sk-toggleable__label-arrow:before {\n",
              "  /* Arrow on the left of the label */\n",
              "  content: \"▸\";\n",
              "  float: left;\n",
              "  margin-right: 0.25em;\n",
              "  color: var(--sklearn-color-icon);\n",
              "}\n",
              "\n",
              "#sk-container-id-3 label.sk-toggleable__label-arrow:hover:before {\n",
              "  color: var(--sklearn-color-text);\n",
              "}\n",
              "\n",
              "/* Toggleable content - dropdown */\n",
              "\n",
              "#sk-container-id-3 div.sk-toggleable__content {\n",
              "  max-height: 0;\n",
              "  max-width: 0;\n",
              "  overflow: hidden;\n",
              "  text-align: left;\n",
              "  /* unfitted */\n",
              "  background-color: var(--sklearn-color-unfitted-level-0);\n",
              "}\n",
              "\n",
              "#sk-container-id-3 div.sk-toggleable__content.fitted {\n",
              "  /* fitted */\n",
              "  background-color: var(--sklearn-color-fitted-level-0);\n",
              "}\n",
              "\n",
              "#sk-container-id-3 div.sk-toggleable__content pre {\n",
              "  margin: 0.2em;\n",
              "  border-radius: 0.25em;\n",
              "  color: var(--sklearn-color-text);\n",
              "  /* unfitted */\n",
              "  background-color: var(--sklearn-color-unfitted-level-0);\n",
              "}\n",
              "\n",
              "#sk-container-id-3 div.sk-toggleable__content.fitted pre {\n",
              "  /* unfitted */\n",
              "  background-color: var(--sklearn-color-fitted-level-0);\n",
              "}\n",
              "\n",
              "#sk-container-id-3 input.sk-toggleable__control:checked~div.sk-toggleable__content {\n",
              "  /* Expand drop-down */\n",
              "  max-height: 200px;\n",
              "  max-width: 100%;\n",
              "  overflow: auto;\n",
              "}\n",
              "\n",
              "#sk-container-id-3 input.sk-toggleable__control:checked~label.sk-toggleable__label-arrow:before {\n",
              "  content: \"▾\";\n",
              "}\n",
              "\n",
              "/* Pipeline/ColumnTransformer-specific style */\n",
              "\n",
              "#sk-container-id-3 div.sk-label input.sk-toggleable__control:checked~label.sk-toggleable__label {\n",
              "  color: var(--sklearn-color-text);\n",
              "  background-color: var(--sklearn-color-unfitted-level-2);\n",
              "}\n",
              "\n",
              "#sk-container-id-3 div.sk-label.fitted input.sk-toggleable__control:checked~label.sk-toggleable__label {\n",
              "  background-color: var(--sklearn-color-fitted-level-2);\n",
              "}\n",
              "\n",
              "/* Estimator-specific style */\n",
              "\n",
              "/* Colorize estimator box */\n",
              "#sk-container-id-3 div.sk-estimator input.sk-toggleable__control:checked~label.sk-toggleable__label {\n",
              "  /* unfitted */\n",
              "  background-color: var(--sklearn-color-unfitted-level-2);\n",
              "}\n",
              "\n",
              "#sk-container-id-3 div.sk-estimator.fitted input.sk-toggleable__control:checked~label.sk-toggleable__label {\n",
              "  /* fitted */\n",
              "  background-color: var(--sklearn-color-fitted-level-2);\n",
              "}\n",
              "\n",
              "#sk-container-id-3 div.sk-label label.sk-toggleable__label,\n",
              "#sk-container-id-3 div.sk-label label {\n",
              "  /* The background is the default theme color */\n",
              "  color: var(--sklearn-color-text-on-default-background);\n",
              "}\n",
              "\n",
              "/* On hover, darken the color of the background */\n",
              "#sk-container-id-3 div.sk-label:hover label.sk-toggleable__label {\n",
              "  color: var(--sklearn-color-text);\n",
              "  background-color: var(--sklearn-color-unfitted-level-2);\n",
              "}\n",
              "\n",
              "/* Label box, darken color on hover, fitted */\n",
              "#sk-container-id-3 div.sk-label.fitted:hover label.sk-toggleable__label.fitted {\n",
              "  color: var(--sklearn-color-text);\n",
              "  background-color: var(--sklearn-color-fitted-level-2);\n",
              "}\n",
              "\n",
              "/* Estimator label */\n",
              "\n",
              "#sk-container-id-3 div.sk-label label {\n",
              "  font-family: monospace;\n",
              "  font-weight: bold;\n",
              "  display: inline-block;\n",
              "  line-height: 1.2em;\n",
              "}\n",
              "\n",
              "#sk-container-id-3 div.sk-label-container {\n",
              "  text-align: center;\n",
              "}\n",
              "\n",
              "/* Estimator-specific */\n",
              "#sk-container-id-3 div.sk-estimator {\n",
              "  font-family: monospace;\n",
              "  border: 1px dotted var(--sklearn-color-border-box);\n",
              "  border-radius: 0.25em;\n",
              "  box-sizing: border-box;\n",
              "  margin-bottom: 0.5em;\n",
              "  /* unfitted */\n",
              "  background-color: var(--sklearn-color-unfitted-level-0);\n",
              "}\n",
              "\n",
              "#sk-container-id-3 div.sk-estimator.fitted {\n",
              "  /* fitted */\n",
              "  background-color: var(--sklearn-color-fitted-level-0);\n",
              "}\n",
              "\n",
              "/* on hover */\n",
              "#sk-container-id-3 div.sk-estimator:hover {\n",
              "  /* unfitted */\n",
              "  background-color: var(--sklearn-color-unfitted-level-2);\n",
              "}\n",
              "\n",
              "#sk-container-id-3 div.sk-estimator.fitted:hover {\n",
              "  /* fitted */\n",
              "  background-color: var(--sklearn-color-fitted-level-2);\n",
              "}\n",
              "\n",
              "/* Specification for estimator info (e.g. \"i\" and \"?\") */\n",
              "\n",
              "/* Common style for \"i\" and \"?\" */\n",
              "\n",
              ".sk-estimator-doc-link,\n",
              "a:link.sk-estimator-doc-link,\n",
              "a:visited.sk-estimator-doc-link {\n",
              "  float: right;\n",
              "  font-size: smaller;\n",
              "  line-height: 1em;\n",
              "  font-family: monospace;\n",
              "  background-color: var(--sklearn-color-background);\n",
              "  border-radius: 1em;\n",
              "  height: 1em;\n",
              "  width: 1em;\n",
              "  text-decoration: none !important;\n",
              "  margin-left: 0.5em;\n",
              "  text-align: center;\n",
              "  /* unfitted */\n",
              "  border: var(--sklearn-color-unfitted-level-1) 1pt solid;\n",
              "  color: var(--sklearn-color-unfitted-level-1);\n",
              "}\n",
              "\n",
              ".sk-estimator-doc-link.fitted,\n",
              "a:link.sk-estimator-doc-link.fitted,\n",
              "a:visited.sk-estimator-doc-link.fitted {\n",
              "  /* fitted */\n",
              "  border: var(--sklearn-color-fitted-level-1) 1pt solid;\n",
              "  color: var(--sklearn-color-fitted-level-1);\n",
              "}\n",
              "\n",
              "/* On hover */\n",
              "div.sk-estimator:hover .sk-estimator-doc-link:hover,\n",
              ".sk-estimator-doc-link:hover,\n",
              "div.sk-label-container:hover .sk-estimator-doc-link:hover,\n",
              ".sk-estimator-doc-link:hover {\n",
              "  /* unfitted */\n",
              "  background-color: var(--sklearn-color-unfitted-level-3);\n",
              "  color: var(--sklearn-color-background);\n",
              "  text-decoration: none;\n",
              "}\n",
              "\n",
              "div.sk-estimator.fitted:hover .sk-estimator-doc-link.fitted:hover,\n",
              ".sk-estimator-doc-link.fitted:hover,\n",
              "div.sk-label-container:hover .sk-estimator-doc-link.fitted:hover,\n",
              ".sk-estimator-doc-link.fitted:hover {\n",
              "  /* fitted */\n",
              "  background-color: var(--sklearn-color-fitted-level-3);\n",
              "  color: var(--sklearn-color-background);\n",
              "  text-decoration: none;\n",
              "}\n",
              "\n",
              "/* Span, style for the box shown on hovering the info icon */\n",
              ".sk-estimator-doc-link span {\n",
              "  display: none;\n",
              "  z-index: 9999;\n",
              "  position: relative;\n",
              "  font-weight: normal;\n",
              "  right: .2ex;\n",
              "  padding: .5ex;\n",
              "  margin: .5ex;\n",
              "  width: min-content;\n",
              "  min-width: 20ex;\n",
              "  max-width: 50ex;\n",
              "  color: var(--sklearn-color-text);\n",
              "  box-shadow: 2pt 2pt 4pt #999;\n",
              "  /* unfitted */\n",
              "  background: var(--sklearn-color-unfitted-level-0);\n",
              "  border: .5pt solid var(--sklearn-color-unfitted-level-3);\n",
              "}\n",
              "\n",
              ".sk-estimator-doc-link.fitted span {\n",
              "  /* fitted */\n",
              "  background: var(--sklearn-color-fitted-level-0);\n",
              "  border: var(--sklearn-color-fitted-level-3);\n",
              "}\n",
              "\n",
              ".sk-estimator-doc-link:hover span {\n",
              "  display: block;\n",
              "}\n",
              "\n",
              "/* \"?\"-specific style due to the `<a>` HTML tag */\n",
              "\n",
              "#sk-container-id-3 a.estimator_doc_link {\n",
              "  float: right;\n",
              "  font-size: 1rem;\n",
              "  line-height: 1em;\n",
              "  font-family: monospace;\n",
              "  background-color: var(--sklearn-color-background);\n",
              "  border-radius: 1rem;\n",
              "  height: 1rem;\n",
              "  width: 1rem;\n",
              "  text-decoration: none;\n",
              "  /* unfitted */\n",
              "  color: var(--sklearn-color-unfitted-level-1);\n",
              "  border: var(--sklearn-color-unfitted-level-1) 1pt solid;\n",
              "}\n",
              "\n",
              "#sk-container-id-3 a.estimator_doc_link.fitted {\n",
              "  /* fitted */\n",
              "  border: var(--sklearn-color-fitted-level-1) 1pt solid;\n",
              "  color: var(--sklearn-color-fitted-level-1);\n",
              "}\n",
              "\n",
              "/* On hover */\n",
              "#sk-container-id-3 a.estimator_doc_link:hover {\n",
              "  /* unfitted */\n",
              "  background-color: var(--sklearn-color-unfitted-level-3);\n",
              "  color: var(--sklearn-color-background);\n",
              "  text-decoration: none;\n",
              "}\n",
              "\n",
              "#sk-container-id-3 a.estimator_doc_link.fitted:hover {\n",
              "  /* fitted */\n",
              "  background-color: var(--sklearn-color-fitted-level-3);\n",
              "}\n",
              "</style><div id=\"sk-container-id-3\" class=\"sk-top-container\"><div class=\"sk-text-repr-fallback\"><pre>SGDClassifier(eta0=0.01, learning_rate=&#x27;constant&#x27;)</pre><b>In a Jupyter environment, please rerun this cell to show the HTML representation or trust the notebook. <br />On GitHub, the HTML representation is unable to render, please try loading this page with nbviewer.org.</b></div><div class=\"sk-container\" hidden><div class=\"sk-item\"><div class=\"sk-estimator fitted sk-toggleable\"><input class=\"sk-toggleable__control sk-hidden--visually\" id=\"sk-estimator-id-3\" type=\"checkbox\" checked><label for=\"sk-estimator-id-3\" class=\"sk-toggleable__label fitted sk-toggleable__label-arrow\"><div><div>SGDClassifier</div></div><div><a class=\"sk-estimator-doc-link fitted\" rel=\"noreferrer\" target=\"_blank\" href=\"https://scikit-learn.org/1.6/modules/generated/sklearn.linear_model.SGDClassifier.html\">?<span>Documentation for SGDClassifier</span></a><span class=\"sk-estimator-doc-link fitted\">i<span>Fitted</span></span></div></label><div class=\"sk-toggleable__content fitted\"><pre>SGDClassifier(eta0=0.01, learning_rate=&#x27;constant&#x27;)</pre></div> </div></div></div></div>"
            ]
          },
          "metadata": {},
          "execution_count": 28
        }
      ]
    },
    {
      "cell_type": "markdown",
      "source": [
        "Advantages:\n",
        "\n",
        "Adaptively adjusts the learning rate for each parameter.\n",
        "\n",
        "Works well for sparse data, such as text data.\n",
        "\n",
        "Disadvantages:\n",
        "\n",
        "The learning rate decreases over time, which may result in a premature stop to learning (may not converge after a while)."
      ],
      "metadata": {
        "id": "UARgIUxqVOjj"
      }
    },
    {
      "cell_type": "markdown",
      "source": [
        "4. RMSprop (Root Mean Square Propagation)\n",
        "\n",
        "RMSprop is an adaptive learning rate optimizer that divides the learning rate by a moving average of the root mean square (RMS) of recent gradients. This optimizer is effective for training models on non-stationary objectives (i.e., the objective function that changes over time).\n",
        "\n",
        "\n",
        "How RMSprop works:\n",
        "\n",
        "It reduces the learning rate for parameters with large gradients, helping avoid over-adjustment.\n",
        "\n",
        "RMSprop helps the model converge faster than traditional SGD by adjusting the step size dynamically.\n",
        "\n",
        "Formula:\n",
        "𝑣\n",
        "𝑡\n",
        "=\n",
        "𝛽\n",
        "𝑣\n",
        "𝑡\n",
        "−\n",
        "1\n",
        "+\n",
        "(\n",
        "1\n",
        "−\n",
        "𝛽\n",
        ")\n",
        "(\n",
        "∇\n",
        "𝜃\n",
        "𝐿\n",
        "(\n",
        "𝜃\n",
        ")\n",
        ")\n",
        "2\n",
        "v\n",
        "t\n",
        "​\n",
        " =βv\n",
        "t−1\n",
        "​\n",
        " +(1−β)(∇\n",
        "θ\n",
        "​\n",
        " L(θ))\n",
        "2\n",
        "\n",
        "𝜃\n",
        "=\n",
        "𝜃\n",
        "−\n",
        "𝜂\n",
        "𝑣\n",
        "𝑡\n",
        "+\n",
        "𝜖\n",
        "⋅\n",
        "∇\n",
        "𝜃\n",
        "𝐿\n",
        "(\n",
        "𝜃\n",
        ")\n",
        "θ=θ−\n",
        "v\n",
        "t\n",
        "​\n",
        " +ϵ\n",
        "​\n",
        "\n",
        "η\n",
        "​\n",
        " ⋅∇\n",
        "θ\n",
        "​\n",
        " L(θ)\n",
        "Where:\n",
        "\n",
        "𝑣\n",
        "𝑡\n",
        "v\n",
        "t\n",
        "​\n",
        "  = Moving average of squared gradients."
      ],
      "metadata": {
        "id": "TuiHP-v-VVZk"
      }
    },
    {
      "cell_type": "code",
      "source": [
        "from keras.optimizers import RMSprop\n",
        "\n",
        "# Initialize RMSprop optimizer\n",
        "optimizer = RMSprop(learning_rate=0.001)\n",
        "\n",
        "# Train the model with RMSprop optimizer\n",
        "model.compile(optimizer=optimizer, loss='mean_squared_error')\n",
        "model.fit(X_train, y_train)\n"
      ],
      "metadata": {
        "colab": {
          "base_uri": "https://localhost:8080/",
          "height": 193
        },
        "collapsed": true,
        "id": "PAFU8xcqVLt7",
        "outputId": "d6807ddf-1ce5-4933-b1ab-5b6f40ff274e"
      },
      "execution_count": 29,
      "outputs": [
        {
          "output_type": "error",
          "ename": "AttributeError",
          "evalue": "'RandomForestClassifier' object has no attribute 'compile'",
          "traceback": [
            "\u001b[0;31m---------------------------------------------------------------------------\u001b[0m",
            "\u001b[0;31mAttributeError\u001b[0m                            Traceback (most recent call last)",
            "\u001b[0;32m<ipython-input-29-b714087259a7>\u001b[0m in \u001b[0;36m<cell line: 7>\u001b[0;34m()\u001b[0m\n\u001b[1;32m      5\u001b[0m \u001b[0;34m\u001b[0m\u001b[0m\n\u001b[1;32m      6\u001b[0m \u001b[0;31m# Train the model with RMSprop optimizer\u001b[0m\u001b[0;34m\u001b[0m\u001b[0;34m\u001b[0m\u001b[0m\n\u001b[0;32m----> 7\u001b[0;31m \u001b[0mmodel\u001b[0m\u001b[0;34m.\u001b[0m\u001b[0mcompile\u001b[0m\u001b[0;34m(\u001b[0m\u001b[0moptimizer\u001b[0m\u001b[0;34m=\u001b[0m\u001b[0moptimizer\u001b[0m\u001b[0;34m,\u001b[0m \u001b[0mloss\u001b[0m\u001b[0;34m=\u001b[0m\u001b[0;34m'mean_squared_error'\u001b[0m\u001b[0;34m)\u001b[0m\u001b[0;34m\u001b[0m\u001b[0;34m\u001b[0m\u001b[0m\n\u001b[0m\u001b[1;32m      8\u001b[0m \u001b[0mmodel\u001b[0m\u001b[0;34m.\u001b[0m\u001b[0mfit\u001b[0m\u001b[0;34m(\u001b[0m\u001b[0mX_train\u001b[0m\u001b[0;34m,\u001b[0m \u001b[0my_train\u001b[0m\u001b[0;34m)\u001b[0m\u001b[0;34m\u001b[0m\u001b[0;34m\u001b[0m\u001b[0m\n",
            "\u001b[0;31mAttributeError\u001b[0m: 'RandomForestClassifier' object has no attribute 'compile'"
          ]
        }
      ]
    },
    {
      "cell_type": "markdown",
      "source": [
        "Advantages:\n",
        "Helps avoid large updates and instability in the learning process.\n",
        "Works well with non-stationary objectives (e.g., recurrent neural networks).\n",
        "Disadvantages:\n",
        "Still requires careful tuning of the learning rate and decay factors.\n"
      ],
      "metadata": {
        "id": "kUxQX8H9VeJi"
      }
    },
    {
      "cell_type": "markdown",
      "source": [
        "5. Adam (Adaptive Moment Estimation)\n",
        "Adam is a popular optimizer that combines the benefits of both Momentum and RMSprop. It computes adaptive learning rates for each parameter using both the first moment (mean) and second moment (variance) of the gradients.\n",
        "\n",
        "How Adam works:\n",
        "Adam combines the advantages of both Momentum (using moving averages of past gradients) and RMSprop (using the squared gradients) to adjust the learning rates dynamically for each parameter.\n",
        "Formula:\n",
        "𝑚\n",
        "𝑡\n",
        "=\n",
        "𝛽\n",
        "1\n",
        "𝑚\n",
        "𝑡\n",
        "−\n",
        "1\n",
        "+\n",
        "(\n",
        "1\n",
        "−\n",
        "𝛽\n",
        "1\n",
        ")\n",
        "∇\n",
        "𝜃\n",
        "𝐿\n",
        "(\n",
        "𝜃\n",
        ")\n",
        "m\n",
        "t\n",
        "​\n",
        " =β\n",
        "1\n",
        "​\n",
        " m\n",
        "t−1\n",
        "​\n",
        " +(1−β\n",
        "1\n",
        "​\n",
        " )∇\n",
        "θ\n",
        "​\n",
        " L(θ)\n",
        "𝑣\n",
        "𝑡\n",
        "=\n",
        "𝛽\n",
        "2\n",
        "𝑣\n",
        "𝑡\n",
        "−\n",
        "1\n",
        "+\n",
        "(\n",
        "1\n",
        "−\n",
        "𝛽\n",
        "2\n",
        ")\n",
        "(\n",
        "∇\n",
        "𝜃\n",
        "𝐿\n",
        "(\n",
        "𝜃\n",
        ")\n",
        ")\n",
        "2\n",
        "v\n",
        "t\n",
        "​\n",
        " =β\n",
        "2\n",
        "​\n",
        " v\n",
        "t−1\n",
        "​\n",
        " +(1−β\n",
        "2\n",
        "​\n",
        " )(∇\n",
        "θ\n",
        "​\n",
        " L(θ))\n",
        "2\n",
        "\n",
        "𝑚\n",
        "𝑡\n",
        "^\n",
        "=\n",
        "𝑚\n",
        "𝑡\n",
        "1\n",
        "−\n",
        "𝛽\n",
        "1\n",
        "𝑡\n",
        "m\n",
        "t\n",
        "​\n",
        "\n",
        "^\n",
        "​\n",
        " =\n",
        "1−β\n",
        "1\n",
        "t\n",
        "​\n",
        "\n",
        "m\n",
        "t\n",
        "​\n",
        "\n",
        "​\n",
        "\n",
        "𝑣\n",
        "𝑡\n",
        "^\n",
        "=\n",
        "𝑣\n",
        "𝑡\n",
        "1\n",
        "−\n",
        "𝛽\n",
        "2\n",
        "𝑡\n",
        "v\n",
        "t\n",
        "​\n",
        "\n",
        "^\n",
        "​\n",
        " =\n",
        "1−β\n",
        "2\n",
        "t\n",
        "​\n",
        "\n",
        "v\n",
        "t\n",
        "​\n",
        "\n",
        "​\n",
        "\n",
        "𝜃\n",
        "=\n",
        "𝜃\n",
        "−\n",
        "𝜂\n",
        "⋅\n",
        "𝑚\n",
        "𝑡\n",
        "^\n",
        "𝑣\n",
        "𝑡\n",
        "^\n",
        "+\n",
        "𝜖\n",
        "θ=θ−η⋅\n",
        "v\n",
        "t\n",
        "​\n",
        "\n",
        "^\n",
        "​\n",
        "\n",
        "​\n",
        " +ϵ\n",
        "m\n",
        "t\n",
        "​\n",
        "\n",
        "^\n",
        "​\n",
        "\n",
        "​\n",
        "\n",
        "Where:\n",
        "\n",
        "𝑚\n",
        "𝑡\n",
        "m\n",
        "t\n",
        "​\n",
        "  = First moment (mean of gradients)\n",
        "𝑣\n",
        "𝑡\n",
        "v\n",
        "t\n",
        "​\n",
        "  = Second moment (variance of gradients)\n",
        "𝛽\n",
        "1\n",
        "β\n",
        "1\n",
        "​\n",
        "  and\n",
        "𝛽\n",
        "2\n",
        "β\n",
        "2\n",
        "​\n",
        "  = Exponential decay rates for the moving averages\n",
        "Example:\n",
        "python\n",
        "Copy code\n"
      ],
      "metadata": {
        "id": "6xos9t_bVnnL"
      }
    },
    {
      "cell_type": "code",
      "source": [
        "from keras.optimizers import Adam\n",
        "\n",
        "# Initialize Adam optimizer\n",
        "optimizer = Adam(learning_rate=0.001)\n",
        "\n",
        "# Train the model with Adam optimizer\n",
        "model.compile(optimizer=optimizer, loss='mean_squared_error')\n",
        "model.fit(X_train, y_train)\n"
      ],
      "metadata": {
        "colab": {
          "base_uri": "https://localhost:8080/",
          "height": 193
        },
        "collapsed": true,
        "id": "rOg9CmsNVazk",
        "outputId": "a3013576-e65d-4c00-ed68-44c354cea089"
      },
      "execution_count": 30,
      "outputs": [
        {
          "output_type": "error",
          "ename": "AttributeError",
          "evalue": "'RandomForestClassifier' object has no attribute 'compile'",
          "traceback": [
            "\u001b[0;31m---------------------------------------------------------------------------\u001b[0m",
            "\u001b[0;31mAttributeError\u001b[0m                            Traceback (most recent call last)",
            "\u001b[0;32m<ipython-input-30-c092640807ae>\u001b[0m in \u001b[0;36m<cell line: 7>\u001b[0;34m()\u001b[0m\n\u001b[1;32m      5\u001b[0m \u001b[0;34m\u001b[0m\u001b[0m\n\u001b[1;32m      6\u001b[0m \u001b[0;31m# Train the model with Adam optimizer\u001b[0m\u001b[0;34m\u001b[0m\u001b[0;34m\u001b[0m\u001b[0m\n\u001b[0;32m----> 7\u001b[0;31m \u001b[0mmodel\u001b[0m\u001b[0;34m.\u001b[0m\u001b[0mcompile\u001b[0m\u001b[0;34m(\u001b[0m\u001b[0moptimizer\u001b[0m\u001b[0;34m=\u001b[0m\u001b[0moptimizer\u001b[0m\u001b[0;34m,\u001b[0m \u001b[0mloss\u001b[0m\u001b[0;34m=\u001b[0m\u001b[0;34m'mean_squared_error'\u001b[0m\u001b[0;34m)\u001b[0m\u001b[0;34m\u001b[0m\u001b[0;34m\u001b[0m\u001b[0m\n\u001b[0m\u001b[1;32m      8\u001b[0m \u001b[0mmodel\u001b[0m\u001b[0;34m.\u001b[0m\u001b[0mfit\u001b[0m\u001b[0;34m(\u001b[0m\u001b[0mX_train\u001b[0m\u001b[0;34m,\u001b[0m \u001b[0my_train\u001b[0m\u001b[0;34m)\u001b[0m\u001b[0;34m\u001b[0m\u001b[0;34m\u001b[0m\u001b[0m\n",
            "\u001b[0;31mAttributeError\u001b[0m: 'RandomForestClassifier' object has no attribute 'compile'"
          ]
        }
      ]
    },
    {
      "cell_type": "markdown",
      "source": [
        "Advantages:\n",
        "\n",
        "Combines the benefits of momentum and adaptive learning rates.\n",
        "\n",
        "\n",
        "Works well on a variety of deep learning tasks (e.g., CNNs, RNNs).\n",
        "\n",
        "Often requires less tuning of learning rates.\n",
        "\n",
        "\n",
        "Disadvantages:\n",
        "\n",
        "May not always generalize as well as other optimizers (e.g., SGD with momentum) in some cases.\n",
        "\n",
        "\n",
        "Summary of Optimizers:\n",
        "\n",
        "SGD: Simple, updates parameters using gradients. Slower convergence.\n",
        "Momentum: Adds momentum to SGD, helping overcome local minima and speeding up convergence.\n",
        "\n",
        "AdaGrad: Adaptive learning rate, works well for sparse data but decays too quickly.\n",
        "\n",
        "RMSprop: Adapts learning rates using squared gradients, helps with non-stationary objectives.\n",
        "\n",
        "Adam: Combines Momentum and RMSprop, often the best choice for deep learning."
      ],
      "metadata": {
        "id": "KctLYTweVtwk"
      }
    },
    {
      "cell_type": "markdown",
      "source": [
        "# Q 17 What is sklearn.linear_model ?"
      ],
      "metadata": {
        "id": "slucizsVNEFS"
      }
    },
    {
      "cell_type": "markdown",
      "source": [
        "The sklearn.linear_model module in Scikit-learn contains a collection of machine learning models and methods for solving problems that involve linear relationships between the features and the target variable. These models can handle regression, classification, and other tasks that rely on linearity.\n",
        "\n",
        "Linear models predict the target variable as a linear combination of input features:\n",
        "\n",
        "𝑦\n",
        "=\n",
        "𝑤\n",
        "1\n",
        "𝑥\n",
        "1\n",
        "+\n",
        "𝑤\n",
        "2\n",
        "𝑥\n",
        "2\n",
        "+\n",
        "⋯\n",
        "+\n",
        "𝑤\n",
        "𝑛\n",
        "𝑥\n",
        "𝑛\n",
        "+\n",
        "𝑏\n",
        "y=w\n",
        "1\n",
        "​\n",
        " x\n",
        "1\n",
        "​\n",
        " +w\n",
        "2\n",
        "​\n",
        " x\n",
        "2\n",
        "​\n",
        " +⋯+w\n",
        "n\n",
        "​\n",
        " x\n",
        "n\n",
        "​\n",
        " +b\n",
        "Where:\n",
        "\n",
        "𝑦\n",
        "y is the predicted output (target).\n",
        "𝑥\n",
        "1\n",
        ",\n",
        "𝑥\n",
        "2\n",
        ",\n",
        "…\n",
        ",\n",
        "𝑥\n",
        "𝑛\n",
        "x\n",
        "1\n",
        "​\n",
        " ,x\n",
        "2\n",
        "​\n",
        " ,…,x\n",
        "n\n",
        "​\n",
        "  are the input features.\n",
        "𝑤\n",
        "1\n",
        ",\n",
        "𝑤\n",
        "2\n",
        ",\n",
        "…\n",
        ",\n",
        "𝑤\n",
        "𝑛\n",
        "w\n",
        "1\n",
        "​\n",
        " ,w\n",
        "2\n",
        "​\n",
        " ,…,w\n",
        "n\n",
        "​\n",
        "  are the weights (coefficients) associated with the features.\n",
        "𝑏\n",
        "b is the bias (intercept)."
      ],
      "metadata": {
        "id": "mrQmSP8NNfq1"
      }
    },
    {
      "cell_type": "markdown",
      "source": [
        "Key Algorithms in sklearn.linear_model\n",
        "Linear Regression\n",
        "\n",
        "Used for predicting continuous numeric values (regression).\n",
        "Finds the best-fit line for the data by minimizing the residual sum of squares (RSS)."
      ],
      "metadata": {
        "id": "eFbE8Nw4NjqN"
      }
    },
    {
      "cell_type": "code",
      "source": [
        "from sklearn.linear_model import LinearRegression\n",
        "\n",
        "# Create the model\n",
        "model = LinearRegression()\n",
        "\n",
        "# Train the model\n",
        "model.fit(X_train, y_train)\n",
        "\n",
        "# Make predictions\n",
        "predictions = model.predict(X_test)\n"
      ],
      "metadata": {
        "colab": {
          "base_uri": "https://localhost:8080/",
          "height": 211
        },
        "collapsed": true,
        "id": "pF85EX8gVpua",
        "outputId": "7345d87d-fb35-4345-fe26-39495388f11d"
      },
      "execution_count": 1,
      "outputs": [
        {
          "output_type": "error",
          "ename": "NameError",
          "evalue": "name 'X_train' is not defined",
          "traceback": [
            "\u001b[0;31m---------------------------------------------------------------------------\u001b[0m",
            "\u001b[0;31mNameError\u001b[0m                                 Traceback (most recent call last)",
            "\u001b[0;32m<ipython-input-1-a6a0fae38488>\u001b[0m in \u001b[0;36m<cell line: 7>\u001b[0;34m()\u001b[0m\n\u001b[1;32m      5\u001b[0m \u001b[0;34m\u001b[0m\u001b[0m\n\u001b[1;32m      6\u001b[0m \u001b[0;31m# Train the model\u001b[0m\u001b[0;34m\u001b[0m\u001b[0;34m\u001b[0m\u001b[0m\n\u001b[0;32m----> 7\u001b[0;31m \u001b[0mmodel\u001b[0m\u001b[0;34m.\u001b[0m\u001b[0mfit\u001b[0m\u001b[0;34m(\u001b[0m\u001b[0mX_train\u001b[0m\u001b[0;34m,\u001b[0m \u001b[0my_train\u001b[0m\u001b[0;34m)\u001b[0m\u001b[0;34m\u001b[0m\u001b[0;34m\u001b[0m\u001b[0m\n\u001b[0m\u001b[1;32m      8\u001b[0m \u001b[0;34m\u001b[0m\u001b[0m\n\u001b[1;32m      9\u001b[0m \u001b[0;31m# Make predictions\u001b[0m\u001b[0;34m\u001b[0m\u001b[0;34m\u001b[0m\u001b[0m\n",
            "\u001b[0;31mNameError\u001b[0m: name 'X_train' is not defined"
          ]
        }
      ]
    },
    {
      "cell_type": "markdown",
      "source": [
        "Logistic Regression\n",
        "\n",
        "Used for binary or multi-class classification problems.\n",
        "Models the probability of the target variable using the logistic function."
      ],
      "metadata": {
        "id": "Iqr44MFhNsPB"
      }
    },
    {
      "cell_type": "code",
      "source": [
        "from sklearn.linear_model import LogisticRegression\n",
        "\n",
        "# Create the model\n",
        "model = LogisticRegression()\n",
        "\n",
        "# Train the model\n",
        "model.fit(X_train, y_train)\n",
        "\n",
        "# Make predictions\n",
        "predictions = model.predict(X_test)\n"
      ],
      "metadata": {
        "colab": {
          "base_uri": "https://localhost:8080/",
          "height": 211
        },
        "collapsed": true,
        "id": "NTpd-K_ENmpc",
        "outputId": "d65c661a-26bb-44ce-91db-0e1ae5b0d706"
      },
      "execution_count": 2,
      "outputs": [
        {
          "output_type": "error",
          "ename": "NameError",
          "evalue": "name 'X_train' is not defined",
          "traceback": [
            "\u001b[0;31m---------------------------------------------------------------------------\u001b[0m",
            "\u001b[0;31mNameError\u001b[0m                                 Traceback (most recent call last)",
            "\u001b[0;32m<ipython-input-2-d0d7618c5d63>\u001b[0m in \u001b[0;36m<cell line: 7>\u001b[0;34m()\u001b[0m\n\u001b[1;32m      5\u001b[0m \u001b[0;34m\u001b[0m\u001b[0m\n\u001b[1;32m      6\u001b[0m \u001b[0;31m# Train the model\u001b[0m\u001b[0;34m\u001b[0m\u001b[0;34m\u001b[0m\u001b[0m\n\u001b[0;32m----> 7\u001b[0;31m \u001b[0mmodel\u001b[0m\u001b[0;34m.\u001b[0m\u001b[0mfit\u001b[0m\u001b[0;34m(\u001b[0m\u001b[0mX_train\u001b[0m\u001b[0;34m,\u001b[0m \u001b[0my_train\u001b[0m\u001b[0;34m)\u001b[0m\u001b[0;34m\u001b[0m\u001b[0;34m\u001b[0m\u001b[0m\n\u001b[0m\u001b[1;32m      8\u001b[0m \u001b[0;34m\u001b[0m\u001b[0m\n\u001b[1;32m      9\u001b[0m \u001b[0;31m# Make predictions\u001b[0m\u001b[0;34m\u001b[0m\u001b[0;34m\u001b[0m\u001b[0m\n",
            "\u001b[0;31mNameError\u001b[0m: name 'X_train' is not defined"
          ]
        }
      ]
    },
    {
      "cell_type": "markdown",
      "source": [
        "Ridge Regression\n",
        "\n",
        "A regularized version of linear regression that adds an\n",
        "𝐿\n",
        "2\n",
        "L\n",
        "2\n",
        "​\n",
        " -norm penalty to the loss function to reduce overfitting."
      ],
      "metadata": {
        "id": "IiUci84sN3OW"
      }
    },
    {
      "cell_type": "code",
      "source": [
        "from sklearn.linear_model import Ridge\n",
        "\n",
        "# Create the model with a regularization strength\n",
        "model = Ridge(alpha=1.0)\n",
        "\n",
        "# Train the model\n",
        "model.fit(X_train, y_train)\n"
      ],
      "metadata": {
        "colab": {
          "base_uri": "https://localhost:8080/",
          "height": 176
        },
        "id": "vuG8DDigNvrX",
        "outputId": "3e3f4a77-f8f7-4f51-b382-e4443eccc1c7"
      },
      "execution_count": 3,
      "outputs": [
        {
          "output_type": "error",
          "ename": "NameError",
          "evalue": "name 'X_train' is not defined",
          "traceback": [
            "\u001b[0;31m---------------------------------------------------------------------------\u001b[0m",
            "\u001b[0;31mNameError\u001b[0m                                 Traceback (most recent call last)",
            "\u001b[0;32m<ipython-input-3-5e3ee8212511>\u001b[0m in \u001b[0;36m<cell line: 7>\u001b[0;34m()\u001b[0m\n\u001b[1;32m      5\u001b[0m \u001b[0;34m\u001b[0m\u001b[0m\n\u001b[1;32m      6\u001b[0m \u001b[0;31m# Train the model\u001b[0m\u001b[0;34m\u001b[0m\u001b[0;34m\u001b[0m\u001b[0m\n\u001b[0;32m----> 7\u001b[0;31m \u001b[0mmodel\u001b[0m\u001b[0;34m.\u001b[0m\u001b[0mfit\u001b[0m\u001b[0;34m(\u001b[0m\u001b[0mX_train\u001b[0m\u001b[0;34m,\u001b[0m \u001b[0my_train\u001b[0m\u001b[0;34m)\u001b[0m\u001b[0;34m\u001b[0m\u001b[0;34m\u001b[0m\u001b[0m\n\u001b[0m",
            "\u001b[0;31mNameError\u001b[0m: name 'X_train' is not defined"
          ]
        }
      ]
    },
    {
      "cell_type": "markdown",
      "source": [
        "Lasso Regression\n",
        "\n",
        "Similar to Ridge Regression but adds an\n",
        "𝐿\n",
        "1\n",
        "L\n",
        "1\n",
        "​\n",
        " -norm penalty, which can shrink coefficients to exactly zero, effectively performing feature selection.\n",
        "Example:"
      ],
      "metadata": {
        "id": "FUGJyU2FN70K"
      }
    },
    {
      "cell_type": "code",
      "source": [
        "\n",
        "\n",
        "\n",
        "from sklearn.linear_model import Lasso\n",
        "\n",
        "# Create the model with a regularization strength\n",
        "model = Lasso(alpha=0.1)\n",
        "\n",
        "# Train the model\n",
        "model.fit(X_train, y_train)\n"
      ],
      "metadata": {
        "id": "HcTp-JzNN43Y"
      },
      "execution_count": null,
      "outputs": []
    },
    {
      "cell_type": "markdown",
      "source": [
        "When to Use sklearn.linear_model\n",
        "When the relationship between features and the target is approximately linear.\n",
        "When you want simple, interpretable models.\n",
        "When you want to apply regularization to handle overfitting.\n",
        "For tasks such as regression, classification, and sparse data problems.\n"
      ],
      "metadata": {
        "id": "nZf-fAAQOARZ"
      }
    },
    {
      "cell_type": "markdown",
      "source": [
        "# Q 18 What does model.fit() do? What arguments must be given?"
      ],
      "metadata": {
        "id": "Q9CWCYTbOThN"
      }
    },
    {
      "cell_type": "markdown",
      "source": [
        "The model.fit() method is used in Scikit-learn to train a machine learning model on a given dataset. It adjusts the model's parameters (e.g., weights, biases) using the training data so that the model can make predictions on unseen data.\n",
        "\n",
        "In simple terms:\n",
        "\n",
        "The .fit() method takes the input data and the corresponding target (output) values, and it uses this data to learn a mapping between inputs and outputs.\n",
        "The method depends on the specific model you are using (e.g., Linear Regression, Logistic Regression, Decision Trees, etc.).\n"
      ],
      "metadata": {
        "id": "3nVKGCIsOmT2"
      }
    },
    {
      "cell_type": "markdown",
      "source": [
        "What happens during model.fit()?\n",
        "Data Processing: The input data is validated and preprocessed.\n",
        "Model Initialization: Initializes internal variables and parameters.\n",
        "Optimization: Iteratively updates the parameters of the model to minimize the loss function.\n",
        "Training Complete: Stores the learned parameters for making predictions."
      ],
      "metadata": {
        "id": "JbnuZl4SOo0-"
      }
    },
    {
      "cell_type": "markdown",
      "source": [
        "Required Arguments for model.fit()\n",
        "The arguments required depend on the type of model (e.g., regression, classification). Most models in Scikit-learn require at least the following:\n",
        "\n",
        "X: Feature matrix (input data).\n",
        "\n",
        "A 2D array-like object (e.g., NumPy array, pandas DataFrame) where each row represents a sample, and each column represents a feature.\n",
        "Shape: (n_samples, n_features)\n",
        "y: Target values (output data).\n",
        "\n",
        "A 1D array-like object (e.g., NumPy array, pandas Series) where each element is the target value corresponding to a row in X.\n",
        "For classification, y can be categorical (e.g., labels like 0, 1, 2).\n",
        "For regression, y is numeric."
      ],
      "metadata": {
        "id": "ASlQsCwjOs_r"
      }
    },
    {
      "cell_type": "markdown",
      "source": [
        "Optional Arguments\n",
        "Some models accept additional arguments:\n",
        "\n",
        "sample_weight (optional for some models):\n",
        "\n",
        "Specifies the weight of each sample. Higher weights give more importance to certain samples during training.\n",
        "Model-Specific Parameters:\n",
        "\n",
        "Some models may accept additional arguments. For example:\n",
        "In ensemble models like RandomForestClassifier, you might pass parameters related to trees or features.\n",
        "In SGDClassifier, you might provide class weights or warm start settings."
      ],
      "metadata": {
        "id": "McXSCSv7OviT"
      }
    },
    {
      "cell_type": "markdown",
      "source": [
        "Example 1: Linear Regression"
      ],
      "metadata": {
        "id": "HxY_6xR9OyyY"
      }
    },
    {
      "cell_type": "code",
      "source": [
        "from sklearn.linear_model import LinearRegression\n",
        "import numpy as np\n",
        "\n",
        "# Sample data\n",
        "X = np.array([[1], [2], [3], [4], [5]])\n",
        "y = np.array([2, 4, 6, 8, 10])\n",
        "\n",
        "# Initialize and train the model\n",
        "model = LinearRegression()\n",
        "model.fit(X, y)\n"
      ],
      "metadata": {
        "colab": {
          "base_uri": "https://localhost:8080/",
          "height": 80
        },
        "id": "Ew5wpn6qOGj3",
        "outputId": "d3762796-5b60-4bdf-b2cd-337a552180fa"
      },
      "execution_count": 4,
      "outputs": [
        {
          "output_type": "execute_result",
          "data": {
            "text/plain": [
              "LinearRegression()"
            ],
            "text/html": [
              "<style>#sk-container-id-1 {\n",
              "  /* Definition of color scheme common for light and dark mode */\n",
              "  --sklearn-color-text: #000;\n",
              "  --sklearn-color-text-muted: #666;\n",
              "  --sklearn-color-line: gray;\n",
              "  /* Definition of color scheme for unfitted estimators */\n",
              "  --sklearn-color-unfitted-level-0: #fff5e6;\n",
              "  --sklearn-color-unfitted-level-1: #f6e4d2;\n",
              "  --sklearn-color-unfitted-level-2: #ffe0b3;\n",
              "  --sklearn-color-unfitted-level-3: chocolate;\n",
              "  /* Definition of color scheme for fitted estimators */\n",
              "  --sklearn-color-fitted-level-0: #f0f8ff;\n",
              "  --sklearn-color-fitted-level-1: #d4ebff;\n",
              "  --sklearn-color-fitted-level-2: #b3dbfd;\n",
              "  --sklearn-color-fitted-level-3: cornflowerblue;\n",
              "\n",
              "  /* Specific color for light theme */\n",
              "  --sklearn-color-text-on-default-background: var(--sg-text-color, var(--theme-code-foreground, var(--jp-content-font-color1, black)));\n",
              "  --sklearn-color-background: var(--sg-background-color, var(--theme-background, var(--jp-layout-color0, white)));\n",
              "  --sklearn-color-border-box: var(--sg-text-color, var(--theme-code-foreground, var(--jp-content-font-color1, black)));\n",
              "  --sklearn-color-icon: #696969;\n",
              "\n",
              "  @media (prefers-color-scheme: dark) {\n",
              "    /* Redefinition of color scheme for dark theme */\n",
              "    --sklearn-color-text-on-default-background: var(--sg-text-color, var(--theme-code-foreground, var(--jp-content-font-color1, white)));\n",
              "    --sklearn-color-background: var(--sg-background-color, var(--theme-background, var(--jp-layout-color0, #111)));\n",
              "    --sklearn-color-border-box: var(--sg-text-color, var(--theme-code-foreground, var(--jp-content-font-color1, white)));\n",
              "    --sklearn-color-icon: #878787;\n",
              "  }\n",
              "}\n",
              "\n",
              "#sk-container-id-1 {\n",
              "  color: var(--sklearn-color-text);\n",
              "}\n",
              "\n",
              "#sk-container-id-1 pre {\n",
              "  padding: 0;\n",
              "}\n",
              "\n",
              "#sk-container-id-1 input.sk-hidden--visually {\n",
              "  border: 0;\n",
              "  clip: rect(1px 1px 1px 1px);\n",
              "  clip: rect(1px, 1px, 1px, 1px);\n",
              "  height: 1px;\n",
              "  margin: -1px;\n",
              "  overflow: hidden;\n",
              "  padding: 0;\n",
              "  position: absolute;\n",
              "  width: 1px;\n",
              "}\n",
              "\n",
              "#sk-container-id-1 div.sk-dashed-wrapped {\n",
              "  border: 1px dashed var(--sklearn-color-line);\n",
              "  margin: 0 0.4em 0.5em 0.4em;\n",
              "  box-sizing: border-box;\n",
              "  padding-bottom: 0.4em;\n",
              "  background-color: var(--sklearn-color-background);\n",
              "}\n",
              "\n",
              "#sk-container-id-1 div.sk-container {\n",
              "  /* jupyter's `normalize.less` sets `[hidden] { display: none; }`\n",
              "     but bootstrap.min.css set `[hidden] { display: none !important; }`\n",
              "     so we also need the `!important` here to be able to override the\n",
              "     default hidden behavior on the sphinx rendered scikit-learn.org.\n",
              "     See: https://github.com/scikit-learn/scikit-learn/issues/21755 */\n",
              "  display: inline-block !important;\n",
              "  position: relative;\n",
              "}\n",
              "\n",
              "#sk-container-id-1 div.sk-text-repr-fallback {\n",
              "  display: none;\n",
              "}\n",
              "\n",
              "div.sk-parallel-item,\n",
              "div.sk-serial,\n",
              "div.sk-item {\n",
              "  /* draw centered vertical line to link estimators */\n",
              "  background-image: linear-gradient(var(--sklearn-color-text-on-default-background), var(--sklearn-color-text-on-default-background));\n",
              "  background-size: 2px 100%;\n",
              "  background-repeat: no-repeat;\n",
              "  background-position: center center;\n",
              "}\n",
              "\n",
              "/* Parallel-specific style estimator block */\n",
              "\n",
              "#sk-container-id-1 div.sk-parallel-item::after {\n",
              "  content: \"\";\n",
              "  width: 100%;\n",
              "  border-bottom: 2px solid var(--sklearn-color-text-on-default-background);\n",
              "  flex-grow: 1;\n",
              "}\n",
              "\n",
              "#sk-container-id-1 div.sk-parallel {\n",
              "  display: flex;\n",
              "  align-items: stretch;\n",
              "  justify-content: center;\n",
              "  background-color: var(--sklearn-color-background);\n",
              "  position: relative;\n",
              "}\n",
              "\n",
              "#sk-container-id-1 div.sk-parallel-item {\n",
              "  display: flex;\n",
              "  flex-direction: column;\n",
              "}\n",
              "\n",
              "#sk-container-id-1 div.sk-parallel-item:first-child::after {\n",
              "  align-self: flex-end;\n",
              "  width: 50%;\n",
              "}\n",
              "\n",
              "#sk-container-id-1 div.sk-parallel-item:last-child::after {\n",
              "  align-self: flex-start;\n",
              "  width: 50%;\n",
              "}\n",
              "\n",
              "#sk-container-id-1 div.sk-parallel-item:only-child::after {\n",
              "  width: 0;\n",
              "}\n",
              "\n",
              "/* Serial-specific style estimator block */\n",
              "\n",
              "#sk-container-id-1 div.sk-serial {\n",
              "  display: flex;\n",
              "  flex-direction: column;\n",
              "  align-items: center;\n",
              "  background-color: var(--sklearn-color-background);\n",
              "  padding-right: 1em;\n",
              "  padding-left: 1em;\n",
              "}\n",
              "\n",
              "\n",
              "/* Toggleable style: style used for estimator/Pipeline/ColumnTransformer box that is\n",
              "clickable and can be expanded/collapsed.\n",
              "- Pipeline and ColumnTransformer use this feature and define the default style\n",
              "- Estimators will overwrite some part of the style using the `sk-estimator` class\n",
              "*/\n",
              "\n",
              "/* Pipeline and ColumnTransformer style (default) */\n",
              "\n",
              "#sk-container-id-1 div.sk-toggleable {\n",
              "  /* Default theme specific background. It is overwritten whether we have a\n",
              "  specific estimator or a Pipeline/ColumnTransformer */\n",
              "  background-color: var(--sklearn-color-background);\n",
              "}\n",
              "\n",
              "/* Toggleable label */\n",
              "#sk-container-id-1 label.sk-toggleable__label {\n",
              "  cursor: pointer;\n",
              "  display: flex;\n",
              "  width: 100%;\n",
              "  margin-bottom: 0;\n",
              "  padding: 0.5em;\n",
              "  box-sizing: border-box;\n",
              "  text-align: center;\n",
              "  align-items: start;\n",
              "  justify-content: space-between;\n",
              "  gap: 0.5em;\n",
              "}\n",
              "\n",
              "#sk-container-id-1 label.sk-toggleable__label .caption {\n",
              "  font-size: 0.6rem;\n",
              "  font-weight: lighter;\n",
              "  color: var(--sklearn-color-text-muted);\n",
              "}\n",
              "\n",
              "#sk-container-id-1 label.sk-toggleable__label-arrow:before {\n",
              "  /* Arrow on the left of the label */\n",
              "  content: \"▸\";\n",
              "  float: left;\n",
              "  margin-right: 0.25em;\n",
              "  color: var(--sklearn-color-icon);\n",
              "}\n",
              "\n",
              "#sk-container-id-1 label.sk-toggleable__label-arrow:hover:before {\n",
              "  color: var(--sklearn-color-text);\n",
              "}\n",
              "\n",
              "/* Toggleable content - dropdown */\n",
              "\n",
              "#sk-container-id-1 div.sk-toggleable__content {\n",
              "  max-height: 0;\n",
              "  max-width: 0;\n",
              "  overflow: hidden;\n",
              "  text-align: left;\n",
              "  /* unfitted */\n",
              "  background-color: var(--sklearn-color-unfitted-level-0);\n",
              "}\n",
              "\n",
              "#sk-container-id-1 div.sk-toggleable__content.fitted {\n",
              "  /* fitted */\n",
              "  background-color: var(--sklearn-color-fitted-level-0);\n",
              "}\n",
              "\n",
              "#sk-container-id-1 div.sk-toggleable__content pre {\n",
              "  margin: 0.2em;\n",
              "  border-radius: 0.25em;\n",
              "  color: var(--sklearn-color-text);\n",
              "  /* unfitted */\n",
              "  background-color: var(--sklearn-color-unfitted-level-0);\n",
              "}\n",
              "\n",
              "#sk-container-id-1 div.sk-toggleable__content.fitted pre {\n",
              "  /* unfitted */\n",
              "  background-color: var(--sklearn-color-fitted-level-0);\n",
              "}\n",
              "\n",
              "#sk-container-id-1 input.sk-toggleable__control:checked~div.sk-toggleable__content {\n",
              "  /* Expand drop-down */\n",
              "  max-height: 200px;\n",
              "  max-width: 100%;\n",
              "  overflow: auto;\n",
              "}\n",
              "\n",
              "#sk-container-id-1 input.sk-toggleable__control:checked~label.sk-toggleable__label-arrow:before {\n",
              "  content: \"▾\";\n",
              "}\n",
              "\n",
              "/* Pipeline/ColumnTransformer-specific style */\n",
              "\n",
              "#sk-container-id-1 div.sk-label input.sk-toggleable__control:checked~label.sk-toggleable__label {\n",
              "  color: var(--sklearn-color-text);\n",
              "  background-color: var(--sklearn-color-unfitted-level-2);\n",
              "}\n",
              "\n",
              "#sk-container-id-1 div.sk-label.fitted input.sk-toggleable__control:checked~label.sk-toggleable__label {\n",
              "  background-color: var(--sklearn-color-fitted-level-2);\n",
              "}\n",
              "\n",
              "/* Estimator-specific style */\n",
              "\n",
              "/* Colorize estimator box */\n",
              "#sk-container-id-1 div.sk-estimator input.sk-toggleable__control:checked~label.sk-toggleable__label {\n",
              "  /* unfitted */\n",
              "  background-color: var(--sklearn-color-unfitted-level-2);\n",
              "}\n",
              "\n",
              "#sk-container-id-1 div.sk-estimator.fitted input.sk-toggleable__control:checked~label.sk-toggleable__label {\n",
              "  /* fitted */\n",
              "  background-color: var(--sklearn-color-fitted-level-2);\n",
              "}\n",
              "\n",
              "#sk-container-id-1 div.sk-label label.sk-toggleable__label,\n",
              "#sk-container-id-1 div.sk-label label {\n",
              "  /* The background is the default theme color */\n",
              "  color: var(--sklearn-color-text-on-default-background);\n",
              "}\n",
              "\n",
              "/* On hover, darken the color of the background */\n",
              "#sk-container-id-1 div.sk-label:hover label.sk-toggleable__label {\n",
              "  color: var(--sklearn-color-text);\n",
              "  background-color: var(--sklearn-color-unfitted-level-2);\n",
              "}\n",
              "\n",
              "/* Label box, darken color on hover, fitted */\n",
              "#sk-container-id-1 div.sk-label.fitted:hover label.sk-toggleable__label.fitted {\n",
              "  color: var(--sklearn-color-text);\n",
              "  background-color: var(--sklearn-color-fitted-level-2);\n",
              "}\n",
              "\n",
              "/* Estimator label */\n",
              "\n",
              "#sk-container-id-1 div.sk-label label {\n",
              "  font-family: monospace;\n",
              "  font-weight: bold;\n",
              "  display: inline-block;\n",
              "  line-height: 1.2em;\n",
              "}\n",
              "\n",
              "#sk-container-id-1 div.sk-label-container {\n",
              "  text-align: center;\n",
              "}\n",
              "\n",
              "/* Estimator-specific */\n",
              "#sk-container-id-1 div.sk-estimator {\n",
              "  font-family: monospace;\n",
              "  border: 1px dotted var(--sklearn-color-border-box);\n",
              "  border-radius: 0.25em;\n",
              "  box-sizing: border-box;\n",
              "  margin-bottom: 0.5em;\n",
              "  /* unfitted */\n",
              "  background-color: var(--sklearn-color-unfitted-level-0);\n",
              "}\n",
              "\n",
              "#sk-container-id-1 div.sk-estimator.fitted {\n",
              "  /* fitted */\n",
              "  background-color: var(--sklearn-color-fitted-level-0);\n",
              "}\n",
              "\n",
              "/* on hover */\n",
              "#sk-container-id-1 div.sk-estimator:hover {\n",
              "  /* unfitted */\n",
              "  background-color: var(--sklearn-color-unfitted-level-2);\n",
              "}\n",
              "\n",
              "#sk-container-id-1 div.sk-estimator.fitted:hover {\n",
              "  /* fitted */\n",
              "  background-color: var(--sklearn-color-fitted-level-2);\n",
              "}\n",
              "\n",
              "/* Specification for estimator info (e.g. \"i\" and \"?\") */\n",
              "\n",
              "/* Common style for \"i\" and \"?\" */\n",
              "\n",
              ".sk-estimator-doc-link,\n",
              "a:link.sk-estimator-doc-link,\n",
              "a:visited.sk-estimator-doc-link {\n",
              "  float: right;\n",
              "  font-size: smaller;\n",
              "  line-height: 1em;\n",
              "  font-family: monospace;\n",
              "  background-color: var(--sklearn-color-background);\n",
              "  border-radius: 1em;\n",
              "  height: 1em;\n",
              "  width: 1em;\n",
              "  text-decoration: none !important;\n",
              "  margin-left: 0.5em;\n",
              "  text-align: center;\n",
              "  /* unfitted */\n",
              "  border: var(--sklearn-color-unfitted-level-1) 1pt solid;\n",
              "  color: var(--sklearn-color-unfitted-level-1);\n",
              "}\n",
              "\n",
              ".sk-estimator-doc-link.fitted,\n",
              "a:link.sk-estimator-doc-link.fitted,\n",
              "a:visited.sk-estimator-doc-link.fitted {\n",
              "  /* fitted */\n",
              "  border: var(--sklearn-color-fitted-level-1) 1pt solid;\n",
              "  color: var(--sklearn-color-fitted-level-1);\n",
              "}\n",
              "\n",
              "/* On hover */\n",
              "div.sk-estimator:hover .sk-estimator-doc-link:hover,\n",
              ".sk-estimator-doc-link:hover,\n",
              "div.sk-label-container:hover .sk-estimator-doc-link:hover,\n",
              ".sk-estimator-doc-link:hover {\n",
              "  /* unfitted */\n",
              "  background-color: var(--sklearn-color-unfitted-level-3);\n",
              "  color: var(--sklearn-color-background);\n",
              "  text-decoration: none;\n",
              "}\n",
              "\n",
              "div.sk-estimator.fitted:hover .sk-estimator-doc-link.fitted:hover,\n",
              ".sk-estimator-doc-link.fitted:hover,\n",
              "div.sk-label-container:hover .sk-estimator-doc-link.fitted:hover,\n",
              ".sk-estimator-doc-link.fitted:hover {\n",
              "  /* fitted */\n",
              "  background-color: var(--sklearn-color-fitted-level-3);\n",
              "  color: var(--sklearn-color-background);\n",
              "  text-decoration: none;\n",
              "}\n",
              "\n",
              "/* Span, style for the box shown on hovering the info icon */\n",
              ".sk-estimator-doc-link span {\n",
              "  display: none;\n",
              "  z-index: 9999;\n",
              "  position: relative;\n",
              "  font-weight: normal;\n",
              "  right: .2ex;\n",
              "  padding: .5ex;\n",
              "  margin: .5ex;\n",
              "  width: min-content;\n",
              "  min-width: 20ex;\n",
              "  max-width: 50ex;\n",
              "  color: var(--sklearn-color-text);\n",
              "  box-shadow: 2pt 2pt 4pt #999;\n",
              "  /* unfitted */\n",
              "  background: var(--sklearn-color-unfitted-level-0);\n",
              "  border: .5pt solid var(--sklearn-color-unfitted-level-3);\n",
              "}\n",
              "\n",
              ".sk-estimator-doc-link.fitted span {\n",
              "  /* fitted */\n",
              "  background: var(--sklearn-color-fitted-level-0);\n",
              "  border: var(--sklearn-color-fitted-level-3);\n",
              "}\n",
              "\n",
              ".sk-estimator-doc-link:hover span {\n",
              "  display: block;\n",
              "}\n",
              "\n",
              "/* \"?\"-specific style due to the `<a>` HTML tag */\n",
              "\n",
              "#sk-container-id-1 a.estimator_doc_link {\n",
              "  float: right;\n",
              "  font-size: 1rem;\n",
              "  line-height: 1em;\n",
              "  font-family: monospace;\n",
              "  background-color: var(--sklearn-color-background);\n",
              "  border-radius: 1rem;\n",
              "  height: 1rem;\n",
              "  width: 1rem;\n",
              "  text-decoration: none;\n",
              "  /* unfitted */\n",
              "  color: var(--sklearn-color-unfitted-level-1);\n",
              "  border: var(--sklearn-color-unfitted-level-1) 1pt solid;\n",
              "}\n",
              "\n",
              "#sk-container-id-1 a.estimator_doc_link.fitted {\n",
              "  /* fitted */\n",
              "  border: var(--sklearn-color-fitted-level-1) 1pt solid;\n",
              "  color: var(--sklearn-color-fitted-level-1);\n",
              "}\n",
              "\n",
              "/* On hover */\n",
              "#sk-container-id-1 a.estimator_doc_link:hover {\n",
              "  /* unfitted */\n",
              "  background-color: var(--sklearn-color-unfitted-level-3);\n",
              "  color: var(--sklearn-color-background);\n",
              "  text-decoration: none;\n",
              "}\n",
              "\n",
              "#sk-container-id-1 a.estimator_doc_link.fitted:hover {\n",
              "  /* fitted */\n",
              "  background-color: var(--sklearn-color-fitted-level-3);\n",
              "}\n",
              "</style><div id=\"sk-container-id-1\" class=\"sk-top-container\"><div class=\"sk-text-repr-fallback\"><pre>LinearRegression()</pre><b>In a Jupyter environment, please rerun this cell to show the HTML representation or trust the notebook. <br />On GitHub, the HTML representation is unable to render, please try loading this page with nbviewer.org.</b></div><div class=\"sk-container\" hidden><div class=\"sk-item\"><div class=\"sk-estimator fitted sk-toggleable\"><input class=\"sk-toggleable__control sk-hidden--visually\" id=\"sk-estimator-id-1\" type=\"checkbox\" checked><label for=\"sk-estimator-id-1\" class=\"sk-toggleable__label fitted sk-toggleable__label-arrow\"><div><div>LinearRegression</div></div><div><a class=\"sk-estimator-doc-link fitted\" rel=\"noreferrer\" target=\"_blank\" href=\"https://scikit-learn.org/1.6/modules/generated/sklearn.linear_model.LinearRegression.html\">?<span>Documentation for LinearRegression</span></a><span class=\"sk-estimator-doc-link fitted\">i<span>Fitted</span></span></div></label><div class=\"sk-toggleable__content fitted\"><pre>LinearRegression()</pre></div> </div></div></div></div>"
            ]
          },
          "metadata": {},
          "execution_count": 4
        }
      ]
    },
    {
      "cell_type": "markdown",
      "source": [
        "Example 2: Logistic Regression\n"
      ],
      "metadata": {
        "id": "CI1QO6VlO2Oa"
      }
    },
    {
      "cell_type": "code",
      "source": [
        "from sklearn.linear_model import LogisticRegression\n",
        "import numpy as np\n",
        "\n",
        "# Sample data\n",
        "X = np.array([[1, 2], [2, 3], [3, 4], [4, 5], [5, 6]])\n",
        "y = np.array([0, 1, 0, 1, 0])  # Binary classification labels\n",
        "\n",
        "# Initialize and train the model\n",
        "model = LogisticRegression()\n",
        "model.fit(X, y)\n"
      ],
      "metadata": {
        "colab": {
          "base_uri": "https://localhost:8080/",
          "height": 80
        },
        "id": "y8uPpAFcO0P1",
        "outputId": "1c9caad4-fbea-457c-98dd-763f09e32efe"
      },
      "execution_count": 5,
      "outputs": [
        {
          "output_type": "execute_result",
          "data": {
            "text/plain": [
              "LogisticRegression()"
            ],
            "text/html": [
              "<style>#sk-container-id-2 {\n",
              "  /* Definition of color scheme common for light and dark mode */\n",
              "  --sklearn-color-text: #000;\n",
              "  --sklearn-color-text-muted: #666;\n",
              "  --sklearn-color-line: gray;\n",
              "  /* Definition of color scheme for unfitted estimators */\n",
              "  --sklearn-color-unfitted-level-0: #fff5e6;\n",
              "  --sklearn-color-unfitted-level-1: #f6e4d2;\n",
              "  --sklearn-color-unfitted-level-2: #ffe0b3;\n",
              "  --sklearn-color-unfitted-level-3: chocolate;\n",
              "  /* Definition of color scheme for fitted estimators */\n",
              "  --sklearn-color-fitted-level-0: #f0f8ff;\n",
              "  --sklearn-color-fitted-level-1: #d4ebff;\n",
              "  --sklearn-color-fitted-level-2: #b3dbfd;\n",
              "  --sklearn-color-fitted-level-3: cornflowerblue;\n",
              "\n",
              "  /* Specific color for light theme */\n",
              "  --sklearn-color-text-on-default-background: var(--sg-text-color, var(--theme-code-foreground, var(--jp-content-font-color1, black)));\n",
              "  --sklearn-color-background: var(--sg-background-color, var(--theme-background, var(--jp-layout-color0, white)));\n",
              "  --sklearn-color-border-box: var(--sg-text-color, var(--theme-code-foreground, var(--jp-content-font-color1, black)));\n",
              "  --sklearn-color-icon: #696969;\n",
              "\n",
              "  @media (prefers-color-scheme: dark) {\n",
              "    /* Redefinition of color scheme for dark theme */\n",
              "    --sklearn-color-text-on-default-background: var(--sg-text-color, var(--theme-code-foreground, var(--jp-content-font-color1, white)));\n",
              "    --sklearn-color-background: var(--sg-background-color, var(--theme-background, var(--jp-layout-color0, #111)));\n",
              "    --sklearn-color-border-box: var(--sg-text-color, var(--theme-code-foreground, var(--jp-content-font-color1, white)));\n",
              "    --sklearn-color-icon: #878787;\n",
              "  }\n",
              "}\n",
              "\n",
              "#sk-container-id-2 {\n",
              "  color: var(--sklearn-color-text);\n",
              "}\n",
              "\n",
              "#sk-container-id-2 pre {\n",
              "  padding: 0;\n",
              "}\n",
              "\n",
              "#sk-container-id-2 input.sk-hidden--visually {\n",
              "  border: 0;\n",
              "  clip: rect(1px 1px 1px 1px);\n",
              "  clip: rect(1px, 1px, 1px, 1px);\n",
              "  height: 1px;\n",
              "  margin: -1px;\n",
              "  overflow: hidden;\n",
              "  padding: 0;\n",
              "  position: absolute;\n",
              "  width: 1px;\n",
              "}\n",
              "\n",
              "#sk-container-id-2 div.sk-dashed-wrapped {\n",
              "  border: 1px dashed var(--sklearn-color-line);\n",
              "  margin: 0 0.4em 0.5em 0.4em;\n",
              "  box-sizing: border-box;\n",
              "  padding-bottom: 0.4em;\n",
              "  background-color: var(--sklearn-color-background);\n",
              "}\n",
              "\n",
              "#sk-container-id-2 div.sk-container {\n",
              "  /* jupyter's `normalize.less` sets `[hidden] { display: none; }`\n",
              "     but bootstrap.min.css set `[hidden] { display: none !important; }`\n",
              "     so we also need the `!important` here to be able to override the\n",
              "     default hidden behavior on the sphinx rendered scikit-learn.org.\n",
              "     See: https://github.com/scikit-learn/scikit-learn/issues/21755 */\n",
              "  display: inline-block !important;\n",
              "  position: relative;\n",
              "}\n",
              "\n",
              "#sk-container-id-2 div.sk-text-repr-fallback {\n",
              "  display: none;\n",
              "}\n",
              "\n",
              "div.sk-parallel-item,\n",
              "div.sk-serial,\n",
              "div.sk-item {\n",
              "  /* draw centered vertical line to link estimators */\n",
              "  background-image: linear-gradient(var(--sklearn-color-text-on-default-background), var(--sklearn-color-text-on-default-background));\n",
              "  background-size: 2px 100%;\n",
              "  background-repeat: no-repeat;\n",
              "  background-position: center center;\n",
              "}\n",
              "\n",
              "/* Parallel-specific style estimator block */\n",
              "\n",
              "#sk-container-id-2 div.sk-parallel-item::after {\n",
              "  content: \"\";\n",
              "  width: 100%;\n",
              "  border-bottom: 2px solid var(--sklearn-color-text-on-default-background);\n",
              "  flex-grow: 1;\n",
              "}\n",
              "\n",
              "#sk-container-id-2 div.sk-parallel {\n",
              "  display: flex;\n",
              "  align-items: stretch;\n",
              "  justify-content: center;\n",
              "  background-color: var(--sklearn-color-background);\n",
              "  position: relative;\n",
              "}\n",
              "\n",
              "#sk-container-id-2 div.sk-parallel-item {\n",
              "  display: flex;\n",
              "  flex-direction: column;\n",
              "}\n",
              "\n",
              "#sk-container-id-2 div.sk-parallel-item:first-child::after {\n",
              "  align-self: flex-end;\n",
              "  width: 50%;\n",
              "}\n",
              "\n",
              "#sk-container-id-2 div.sk-parallel-item:last-child::after {\n",
              "  align-self: flex-start;\n",
              "  width: 50%;\n",
              "}\n",
              "\n",
              "#sk-container-id-2 div.sk-parallel-item:only-child::after {\n",
              "  width: 0;\n",
              "}\n",
              "\n",
              "/* Serial-specific style estimator block */\n",
              "\n",
              "#sk-container-id-2 div.sk-serial {\n",
              "  display: flex;\n",
              "  flex-direction: column;\n",
              "  align-items: center;\n",
              "  background-color: var(--sklearn-color-background);\n",
              "  padding-right: 1em;\n",
              "  padding-left: 1em;\n",
              "}\n",
              "\n",
              "\n",
              "/* Toggleable style: style used for estimator/Pipeline/ColumnTransformer box that is\n",
              "clickable and can be expanded/collapsed.\n",
              "- Pipeline and ColumnTransformer use this feature and define the default style\n",
              "- Estimators will overwrite some part of the style using the `sk-estimator` class\n",
              "*/\n",
              "\n",
              "/* Pipeline and ColumnTransformer style (default) */\n",
              "\n",
              "#sk-container-id-2 div.sk-toggleable {\n",
              "  /* Default theme specific background. It is overwritten whether we have a\n",
              "  specific estimator or a Pipeline/ColumnTransformer */\n",
              "  background-color: var(--sklearn-color-background);\n",
              "}\n",
              "\n",
              "/* Toggleable label */\n",
              "#sk-container-id-2 label.sk-toggleable__label {\n",
              "  cursor: pointer;\n",
              "  display: flex;\n",
              "  width: 100%;\n",
              "  margin-bottom: 0;\n",
              "  padding: 0.5em;\n",
              "  box-sizing: border-box;\n",
              "  text-align: center;\n",
              "  align-items: start;\n",
              "  justify-content: space-between;\n",
              "  gap: 0.5em;\n",
              "}\n",
              "\n",
              "#sk-container-id-2 label.sk-toggleable__label .caption {\n",
              "  font-size: 0.6rem;\n",
              "  font-weight: lighter;\n",
              "  color: var(--sklearn-color-text-muted);\n",
              "}\n",
              "\n",
              "#sk-container-id-2 label.sk-toggleable__label-arrow:before {\n",
              "  /* Arrow on the left of the label */\n",
              "  content: \"▸\";\n",
              "  float: left;\n",
              "  margin-right: 0.25em;\n",
              "  color: var(--sklearn-color-icon);\n",
              "}\n",
              "\n",
              "#sk-container-id-2 label.sk-toggleable__label-arrow:hover:before {\n",
              "  color: var(--sklearn-color-text);\n",
              "}\n",
              "\n",
              "/* Toggleable content - dropdown */\n",
              "\n",
              "#sk-container-id-2 div.sk-toggleable__content {\n",
              "  max-height: 0;\n",
              "  max-width: 0;\n",
              "  overflow: hidden;\n",
              "  text-align: left;\n",
              "  /* unfitted */\n",
              "  background-color: var(--sklearn-color-unfitted-level-0);\n",
              "}\n",
              "\n",
              "#sk-container-id-2 div.sk-toggleable__content.fitted {\n",
              "  /* fitted */\n",
              "  background-color: var(--sklearn-color-fitted-level-0);\n",
              "}\n",
              "\n",
              "#sk-container-id-2 div.sk-toggleable__content pre {\n",
              "  margin: 0.2em;\n",
              "  border-radius: 0.25em;\n",
              "  color: var(--sklearn-color-text);\n",
              "  /* unfitted */\n",
              "  background-color: var(--sklearn-color-unfitted-level-0);\n",
              "}\n",
              "\n",
              "#sk-container-id-2 div.sk-toggleable__content.fitted pre {\n",
              "  /* unfitted */\n",
              "  background-color: var(--sklearn-color-fitted-level-0);\n",
              "}\n",
              "\n",
              "#sk-container-id-2 input.sk-toggleable__control:checked~div.sk-toggleable__content {\n",
              "  /* Expand drop-down */\n",
              "  max-height: 200px;\n",
              "  max-width: 100%;\n",
              "  overflow: auto;\n",
              "}\n",
              "\n",
              "#sk-container-id-2 input.sk-toggleable__control:checked~label.sk-toggleable__label-arrow:before {\n",
              "  content: \"▾\";\n",
              "}\n",
              "\n",
              "/* Pipeline/ColumnTransformer-specific style */\n",
              "\n",
              "#sk-container-id-2 div.sk-label input.sk-toggleable__control:checked~label.sk-toggleable__label {\n",
              "  color: var(--sklearn-color-text);\n",
              "  background-color: var(--sklearn-color-unfitted-level-2);\n",
              "}\n",
              "\n",
              "#sk-container-id-2 div.sk-label.fitted input.sk-toggleable__control:checked~label.sk-toggleable__label {\n",
              "  background-color: var(--sklearn-color-fitted-level-2);\n",
              "}\n",
              "\n",
              "/* Estimator-specific style */\n",
              "\n",
              "/* Colorize estimator box */\n",
              "#sk-container-id-2 div.sk-estimator input.sk-toggleable__control:checked~label.sk-toggleable__label {\n",
              "  /* unfitted */\n",
              "  background-color: var(--sklearn-color-unfitted-level-2);\n",
              "}\n",
              "\n",
              "#sk-container-id-2 div.sk-estimator.fitted input.sk-toggleable__control:checked~label.sk-toggleable__label {\n",
              "  /* fitted */\n",
              "  background-color: var(--sklearn-color-fitted-level-2);\n",
              "}\n",
              "\n",
              "#sk-container-id-2 div.sk-label label.sk-toggleable__label,\n",
              "#sk-container-id-2 div.sk-label label {\n",
              "  /* The background is the default theme color */\n",
              "  color: var(--sklearn-color-text-on-default-background);\n",
              "}\n",
              "\n",
              "/* On hover, darken the color of the background */\n",
              "#sk-container-id-2 div.sk-label:hover label.sk-toggleable__label {\n",
              "  color: var(--sklearn-color-text);\n",
              "  background-color: var(--sklearn-color-unfitted-level-2);\n",
              "}\n",
              "\n",
              "/* Label box, darken color on hover, fitted */\n",
              "#sk-container-id-2 div.sk-label.fitted:hover label.sk-toggleable__label.fitted {\n",
              "  color: var(--sklearn-color-text);\n",
              "  background-color: var(--sklearn-color-fitted-level-2);\n",
              "}\n",
              "\n",
              "/* Estimator label */\n",
              "\n",
              "#sk-container-id-2 div.sk-label label {\n",
              "  font-family: monospace;\n",
              "  font-weight: bold;\n",
              "  display: inline-block;\n",
              "  line-height: 1.2em;\n",
              "}\n",
              "\n",
              "#sk-container-id-2 div.sk-label-container {\n",
              "  text-align: center;\n",
              "}\n",
              "\n",
              "/* Estimator-specific */\n",
              "#sk-container-id-2 div.sk-estimator {\n",
              "  font-family: monospace;\n",
              "  border: 1px dotted var(--sklearn-color-border-box);\n",
              "  border-radius: 0.25em;\n",
              "  box-sizing: border-box;\n",
              "  margin-bottom: 0.5em;\n",
              "  /* unfitted */\n",
              "  background-color: var(--sklearn-color-unfitted-level-0);\n",
              "}\n",
              "\n",
              "#sk-container-id-2 div.sk-estimator.fitted {\n",
              "  /* fitted */\n",
              "  background-color: var(--sklearn-color-fitted-level-0);\n",
              "}\n",
              "\n",
              "/* on hover */\n",
              "#sk-container-id-2 div.sk-estimator:hover {\n",
              "  /* unfitted */\n",
              "  background-color: var(--sklearn-color-unfitted-level-2);\n",
              "}\n",
              "\n",
              "#sk-container-id-2 div.sk-estimator.fitted:hover {\n",
              "  /* fitted */\n",
              "  background-color: var(--sklearn-color-fitted-level-2);\n",
              "}\n",
              "\n",
              "/* Specification for estimator info (e.g. \"i\" and \"?\") */\n",
              "\n",
              "/* Common style for \"i\" and \"?\" */\n",
              "\n",
              ".sk-estimator-doc-link,\n",
              "a:link.sk-estimator-doc-link,\n",
              "a:visited.sk-estimator-doc-link {\n",
              "  float: right;\n",
              "  font-size: smaller;\n",
              "  line-height: 1em;\n",
              "  font-family: monospace;\n",
              "  background-color: var(--sklearn-color-background);\n",
              "  border-radius: 1em;\n",
              "  height: 1em;\n",
              "  width: 1em;\n",
              "  text-decoration: none !important;\n",
              "  margin-left: 0.5em;\n",
              "  text-align: center;\n",
              "  /* unfitted */\n",
              "  border: var(--sklearn-color-unfitted-level-1) 1pt solid;\n",
              "  color: var(--sklearn-color-unfitted-level-1);\n",
              "}\n",
              "\n",
              ".sk-estimator-doc-link.fitted,\n",
              "a:link.sk-estimator-doc-link.fitted,\n",
              "a:visited.sk-estimator-doc-link.fitted {\n",
              "  /* fitted */\n",
              "  border: var(--sklearn-color-fitted-level-1) 1pt solid;\n",
              "  color: var(--sklearn-color-fitted-level-1);\n",
              "}\n",
              "\n",
              "/* On hover */\n",
              "div.sk-estimator:hover .sk-estimator-doc-link:hover,\n",
              ".sk-estimator-doc-link:hover,\n",
              "div.sk-label-container:hover .sk-estimator-doc-link:hover,\n",
              ".sk-estimator-doc-link:hover {\n",
              "  /* unfitted */\n",
              "  background-color: var(--sklearn-color-unfitted-level-3);\n",
              "  color: var(--sklearn-color-background);\n",
              "  text-decoration: none;\n",
              "}\n",
              "\n",
              "div.sk-estimator.fitted:hover .sk-estimator-doc-link.fitted:hover,\n",
              ".sk-estimator-doc-link.fitted:hover,\n",
              "div.sk-label-container:hover .sk-estimator-doc-link.fitted:hover,\n",
              ".sk-estimator-doc-link.fitted:hover {\n",
              "  /* fitted */\n",
              "  background-color: var(--sklearn-color-fitted-level-3);\n",
              "  color: var(--sklearn-color-background);\n",
              "  text-decoration: none;\n",
              "}\n",
              "\n",
              "/* Span, style for the box shown on hovering the info icon */\n",
              ".sk-estimator-doc-link span {\n",
              "  display: none;\n",
              "  z-index: 9999;\n",
              "  position: relative;\n",
              "  font-weight: normal;\n",
              "  right: .2ex;\n",
              "  padding: .5ex;\n",
              "  margin: .5ex;\n",
              "  width: min-content;\n",
              "  min-width: 20ex;\n",
              "  max-width: 50ex;\n",
              "  color: var(--sklearn-color-text);\n",
              "  box-shadow: 2pt 2pt 4pt #999;\n",
              "  /* unfitted */\n",
              "  background: var(--sklearn-color-unfitted-level-0);\n",
              "  border: .5pt solid var(--sklearn-color-unfitted-level-3);\n",
              "}\n",
              "\n",
              ".sk-estimator-doc-link.fitted span {\n",
              "  /* fitted */\n",
              "  background: var(--sklearn-color-fitted-level-0);\n",
              "  border: var(--sklearn-color-fitted-level-3);\n",
              "}\n",
              "\n",
              ".sk-estimator-doc-link:hover span {\n",
              "  display: block;\n",
              "}\n",
              "\n",
              "/* \"?\"-specific style due to the `<a>` HTML tag */\n",
              "\n",
              "#sk-container-id-2 a.estimator_doc_link {\n",
              "  float: right;\n",
              "  font-size: 1rem;\n",
              "  line-height: 1em;\n",
              "  font-family: monospace;\n",
              "  background-color: var(--sklearn-color-background);\n",
              "  border-radius: 1rem;\n",
              "  height: 1rem;\n",
              "  width: 1rem;\n",
              "  text-decoration: none;\n",
              "  /* unfitted */\n",
              "  color: var(--sklearn-color-unfitted-level-1);\n",
              "  border: var(--sklearn-color-unfitted-level-1) 1pt solid;\n",
              "}\n",
              "\n",
              "#sk-container-id-2 a.estimator_doc_link.fitted {\n",
              "  /* fitted */\n",
              "  border: var(--sklearn-color-fitted-level-1) 1pt solid;\n",
              "  color: var(--sklearn-color-fitted-level-1);\n",
              "}\n",
              "\n",
              "/* On hover */\n",
              "#sk-container-id-2 a.estimator_doc_link:hover {\n",
              "  /* unfitted */\n",
              "  background-color: var(--sklearn-color-unfitted-level-3);\n",
              "  color: var(--sklearn-color-background);\n",
              "  text-decoration: none;\n",
              "}\n",
              "\n",
              "#sk-container-id-2 a.estimator_doc_link.fitted:hover {\n",
              "  /* fitted */\n",
              "  background-color: var(--sklearn-color-fitted-level-3);\n",
              "}\n",
              "</style><div id=\"sk-container-id-2\" class=\"sk-top-container\"><div class=\"sk-text-repr-fallback\"><pre>LogisticRegression()</pre><b>In a Jupyter environment, please rerun this cell to show the HTML representation or trust the notebook. <br />On GitHub, the HTML representation is unable to render, please try loading this page with nbviewer.org.</b></div><div class=\"sk-container\" hidden><div class=\"sk-item\"><div class=\"sk-estimator fitted sk-toggleable\"><input class=\"sk-toggleable__control sk-hidden--visually\" id=\"sk-estimator-id-2\" type=\"checkbox\" checked><label for=\"sk-estimator-id-2\" class=\"sk-toggleable__label fitted sk-toggleable__label-arrow\"><div><div>LogisticRegression</div></div><div><a class=\"sk-estimator-doc-link fitted\" rel=\"noreferrer\" target=\"_blank\" href=\"https://scikit-learn.org/1.6/modules/generated/sklearn.linear_model.LogisticRegression.html\">?<span>Documentation for LogisticRegression</span></a><span class=\"sk-estimator-doc-link fitted\">i<span>Fitted</span></span></div></label><div class=\"sk-toggleable__content fitted\"><pre>LogisticRegression()</pre></div> </div></div></div></div>"
            ]
          },
          "metadata": {},
          "execution_count": 5
        }
      ]
    },
    {
      "cell_type": "markdown",
      "source": [
        "What Happens If the Arguments Are Incorrect?\n",
        "Incorrect Shape:\n",
        "\n",
        "If X and y have mismatched lengths, an error will be raised.\n",
        "Example: ValueError: Found input variables with inconsistent numbers of samples\n",
        "Invalid Data Type:\n",
        "\n",
        "Non-numeric or improperly formatted data may lead to errors.\n",
        "Example: ValueError: could not convert string to float\n",
        "Missing Arguments:\n",
        "\n",
        "If y is not provided for supervised learning models, an error will occur.\n"
      ],
      "metadata": {
        "id": "mlwDuFYWO7oY"
      }
    },
    {
      "cell_type": "markdown",
      "source": [
        "\n",
        "\n",
        "Summary\n",
        "model.fit() trains a machine learning model by learning from input (X) and output (y) data.\n",
        "Required Arguments:\n",
        "X: Feature matrix (input data)\n",
        "y: Target values (output data)\n",
        "Optional Arguments:\n",
        "Sample weights or model-specific parameters.\n",
        "Ensuring the correct data format and dimensions is crucial for successful training"
      ],
      "metadata": {
        "id": "VG_dw6xFO-N9"
      }
    },
    {
      "cell_type": "markdown",
      "source": [
        "# Q 19 What does model.predict() do? What arguments must be given?"
      ],
      "metadata": {
        "id": "vDK-iPjtPjQu"
      }
    },
    {
      "cell_type": "markdown",
      "source": [
        "What does model.predict() do?\n",
        "\n",
        "The model.predict() method is used in Scikit-learn to make predictions on new, unseen data after the model has been trained using model.fit(). It uses the learned parameters from the training process to predict outcomes based on the input features.\n",
        "\n",
        "In simple terms:\n",
        "\n",
        "For regression tasks: It predicts continuous numeric values.\n",
        "\n",
        "For classification tasks: It predicts class labels (e.g., 0 or 1 for binary classification).\n",
        "\n",
        "Required Arguments for model.predict()\n",
        "\n",
        "X: Feature matrix (input data).\n",
        "\n",
        "A 2D array-like object (e.g., NumPy array, pandas DataFrame) where each row represents a sample, and each column represents a feature.\n",
        "\n",
        "Shape: (n_samples, n_features)\n",
        "\n",
        "It must match the number of features used during training.\n"
      ],
      "metadata": {
        "id": "bS3Yb4kcP10j"
      }
    },
    {
      "cell_type": "markdown",
      "source": [
        "Steps Performed by model.predict()\n",
        "Input Validation:\n",
        "\n",
        "Validates that the input X is properly formatted and matches the feature dimensions used during training.\n",
        "Prediction Computation:\n",
        "\n",
        "Applies the learned model (e.g., learned weights and biases in linear models) to compute predictions.\n",
        "\n",
        "Returns Predictions:\n",
        "\n",
        "For regression: A 1D array of predicted numeric values.\n",
        "\n",
        "For classification: A 1D array of predicted class labels."
      ],
      "metadata": {
        "id": "IFaLe9C3P9Nb"
      }
    },
    {
      "cell_type": "markdown",
      "source": [
        "Examples\n",
        "Example 1: Linear Regression\n",
        "Predicting numeric values for regression tasks"
      ],
      "metadata": {
        "id": "f53S5oBeQPpb"
      }
    },
    {
      "cell_type": "code",
      "source": [
        "from sklearn.linear_model import LinearRegression\n",
        "import numpy as np\n",
        "\n",
        "# Sample training data\n",
        "X_train = np.array([[1], [2], [3], [4], [5]])\n",
        "y_train = np.array([2, 4, 6, 8, 10])\n",
        "\n",
        "# Train the model\n",
        "model = LinearRegression()\n",
        "model.fit(X_train, y_train)\n",
        "\n",
        "# New data for prediction\n",
        "X_test = np.array([[6], [7], [8]])\n",
        "\n",
        "# Make predictions\n",
        "predictions = model.predict(X_test)\n",
        "print(\"Predicted values:\", predictions)\n",
        "# Output: Predicted values: [12. 14. 16.]\n"
      ],
      "metadata": {
        "colab": {
          "base_uri": "https://localhost:8080/"
        },
        "id": "iNeiwjPxO3vt",
        "outputId": "d37aa4ef-c594-4ce9-964e-66a59d7f3d3d"
      },
      "execution_count": 6,
      "outputs": [
        {
          "output_type": "stream",
          "name": "stdout",
          "text": [
            "Predicted values: [12. 14. 16.]\n"
          ]
        }
      ]
    },
    {
      "cell_type": "markdown",
      "source": [
        "Example 2: Logistic Regression\n",
        "Predicting class labels for classification tasks."
      ],
      "metadata": {
        "id": "pQcGvp7EQThl"
      }
    },
    {
      "cell_type": "code",
      "source": [
        "from sklearn.linear_model import LogisticRegression\n",
        "import numpy as np\n",
        "\n",
        "# Sample training data\n",
        "X_train = np.array([[1, 2], [2, 3], [3, 4], [4, 5]])\n",
        "y_train = np.array([0, 1, 0, 1])  # Binary labels\n",
        "\n",
        "# Train the model\n",
        "model = LogisticRegression()\n",
        "model.fit(X_train, y_train)\n",
        "\n",
        "# New data for prediction\n",
        "X_test = np.array([[5, 6], [6, 7]])\n",
        "\n",
        "# Make predictions\n",
        "predictions = model.predict(X_test)\n",
        "print(\"Predicted classes:\", predictions)\n",
        "# Output: Predicted classes: [1 1]\n"
      ],
      "metadata": {
        "colab": {
          "base_uri": "https://localhost:8080/"
        },
        "id": "PlQpkKS2QRJK",
        "outputId": "fdf74c3f-fc53-4e5a-d3ce-12cedbabe33a"
      },
      "execution_count": 7,
      "outputs": [
        {
          "output_type": "stream",
          "name": "stdout",
          "text": [
            "Predicted classes: [1 1]\n"
          ]
        }
      ]
    },
    {
      "cell_type": "markdown",
      "source": [
        "What Happens If the Arguments Are Incorrect?\n",
        "Incorrect Shape:\n",
        "\n",
        "If X does not have the same number of features as the training data, an error will occur.\n",
        "\n",
        "Example: ValueError: X has 2 features, but this model is expecting 3 features as input.\n",
        "\n",
        "Invalid Data Type:\n",
        "\n",
        "Non-numeric or improperly formatted data may lead to errors.\n",
        "Example: ValueError: could not convert string to float\n",
        "Unfitted Model:\n",
        "\n",
        "Calling model.predict() before fitting the model will raise an error.\n",
        "Example: NotFittedError: This instance is not fitted yet. Call 'fit' with appropriate arguments before using this estimator\n",
        ".\n",
        "Key Notes\n",
        "\n",
        "For regression: model.predict() outputs continuous numeric values.\n",
        "\n",
        "For classification: model.predict() outputs class labels. To get class probabilities, use model.predict_proba() (if available for the model).\n",
        "\n",
        "The input X for model.predict() must match the feature format and preprocessing used during training."
      ],
      "metadata": {
        "id": "ysrVyJv_QYFW"
      }
    },
    {
      "cell_type": "markdown",
      "source": [
        "# Q 20 What are continuous and categorical variables?"
      ],
      "metadata": {
        "id": "5eW9g1xIQyol"
      }
    },
    {
      "cell_type": "markdown",
      "source": [
        "Continuous and Categorical Variables\n",
        "\n",
        "In statistics and machine learning, data features are categorized based on their types into continuous and categorical variables. Understanding the type of variable is essential for selecting the right preprocessing and modeling techniques.\n",
        "\n",
        "1. Continuous Variables\n",
        "\n",
        "Definition:\n",
        "\n",
        "A continuous variable is a quantitative variable that can take on any value within a given range.\n",
        "\n",
        "It represents measurements or counts that can be fractional or decimal.\n",
        "\n",
        "Characteristics:\n",
        "\n",
        "Infinite possible values within a range.\n",
        "Values are numeric and can be ordered or measured.\n",
        "\n",
        "Examples: Height, weight, temperature, income, age (in years or fractions of a year).\n",
        "\n",
        "Example:\n",
        "\n",
        "Temperature: 36.5°C, 36.6°C, etc.\n",
        "\n",
        "Income: $45,000.75, $50,123.20, etc.\n",
        "\n",
        "2. Categorical Variables\n",
        "\n",
        "Definition:\n",
        "\n",
        "A categorical variable is a qualitative variable that represents categories or groups.\n",
        "\n",
        "It often contains a finite number of discrete levels or categories.\n",
        "\n",
        "Characteristics:\n",
        "\n",
        "Values represent labels or categories, not numbers.\n",
        "\n",
        "Categories may or may not have an inherent order.\n",
        "\n",
        "Types of Categorical Variables:\n",
        "\n",
        "Nominal:\n",
        "\n",
        "Categories have no natural order.\n",
        "\n",
        "Examples: Gender (Male, Female), Colors (Red, Blue, Green), Types of pets (Dog, Cat, Fish).\n",
        "\n",
        "Ordinal:\n",
        "\n",
        "Categories have a natural order or ranking.\n",
        "\n",
        "Examples: Education level (High School < Bachelor < Master < Ph.D.), Customer satisfaction (Poor < Fair < Good < Excellent).\n",
        "\n",
        "Example:\n",
        "\n",
        "Gender: Male, Female\n",
        "Education level: Bachelor, Master, Ph.D.\n"
      ],
      "metadata": {
        "id": "DUYIpz9SRA4O"
      }
    },
    {
      "cell_type": "markdown",
      "source": [
        "![image.png](data:image/png;base64,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)"
      ],
      "metadata": {
        "id": "2_0U3wuFRO0h"
      }
    },
    {
      "cell_type": "markdown",
      "source": [
        "Usage in Machine Learning\n",
        "Continuous Variables:\n",
        "\n",
        "Used directly as input for most machine learning models.\n",
        "Examples: Regression models, k-Nearest Neighbors (k-NN), Support Vector Machines (SVMs).\n",
        "Categorical Variables:\n",
        "\n",
        "Need preprocessing to convert them into numeric formats.\n",
        "Techniques include:\n",
        "One-Hot Encoding: Converts each category into binary variables.\n",
        "Label Encoding: Assigns a unique numeric value to each category.\n",
        "Ordinal Encoding: Used for ordinal variables where order matters."
      ],
      "metadata": {
        "id": "oXIjEA9CRSfK"
      }
    },
    {
      "cell_type": "markdown",
      "source": [
        "# Q 21 What is feature scaling? How does it help in Machine Learning?"
      ],
      "metadata": {
        "id": "g7WxIss8TnCk"
      }
    },
    {
      "cell_type": "markdown",
      "source": [
        "Feature scaling is a preprocessing technique in machine learning that transforms the values of numerical features to a standard range or distribution. It ensures that all features contribute equally to the model by eliminating differences in magnitude or scale.\n",
        "\n",
        "Why Is Feature Scaling Important?\n",
        "\n",
        "Ensures Equal Contribution of Features:\n",
        "\n",
        "Models like gradient descent-based algorithms or distance-based algorithms (e.g., k-NN, SVM, Logistic Regression) are sensitive to the scale of features.\n",
        "Without scaling, features with larger magnitudes dominate the learning process.\n",
        "\n",
        "Improves Optimization Convergence:\n",
        "\n",
        "For models using gradient descent, feature scaling speeds up convergence by preventing large feature values from dominating smaller ones.\n",
        "\n",
        "Avoids Bias in Distance-Based Models:\n",
        "\n",
        "Distance metrics (e.g., Euclidean distance) are sensitive to feature scales. Proper scaling ensures each feature contributes equally to the distance calculation.\n",
        "\n",
        "Improves Model Performance:\n",
        "\n",
        "Scaling ensures the algorithm treats all features with equal importance, which can improve both the accuracy and interpretability of the model.\n"
      ],
      "metadata": {
        "id": "esBbzG8iT1H8"
      }
    },
    {
      "cell_type": "markdown",
      "source": [
        "Common Feature Scaling Techniques\n",
        "Standardization (Z-Score Normalization):\n",
        "\n",
        "Rescales features to have a mean of 0 and a standard deviation of 1.\n",
        "\n",
        "Formula:\n",
        "\n",
        "𝑧\n",
        "=\n",
        "𝑥\n",
        "−\n",
        "𝜇\n",
        "𝜎\n",
        "z=\n",
        "σ\n",
        "x−μ\n",
        "​\n",
        "\n",
        "Where:\n",
        "\n",
        "𝑥\n",
        "x: Feature value.\n",
        "𝜇\n",
        "μ: Mean of the feature.\n",
        "𝜎\n",
        "σ: Standard deviation of the feature.\n",
        "Used when features follow a Gaussian distribution.\n",
        "\n",
        "Example:"
      ],
      "metadata": {
        "id": "ybVNcd_4T8OV"
      }
    },
    {
      "cell_type": "code",
      "source": [
        "from sklearn.preprocessing import StandardScaler\n",
        "\n",
        "scaler = StandardScaler()\n",
        "X_scaled = scaler.fit_transform(X)\n"
      ],
      "metadata": {
        "id": "IOr5hNqOQVDZ"
      },
      "execution_count": null,
      "outputs": []
    },
    {
      "cell_type": "markdown",
      "source": [
        "Min-Max Scaling (Normalization):\n",
        "\n",
        "Rescales features to a fixed range, typically [0, 1].\n",
        "\n",
        "Formula:\n",
        "\n",
        "𝑥\n",
        "′\n",
        "=\n",
        "𝑥\n",
        "−\n",
        "min\n",
        "(\n",
        "𝑥\n",
        ")\n",
        "max\n",
        "(\n",
        "𝑥\n",
        ")\n",
        "−\n",
        "min\n",
        "(\n",
        "𝑥\n",
        ")\n",
        "x\n",
        "′\n",
        " =\n",
        "max(x)−min(x)\n",
        "x−min(x)\n",
        "​\n",
        "\n",
        "Used when you want all features in a specific range.\n",
        "\n",
        "Example:"
      ],
      "metadata": {
        "id": "TAmXUqbYT-cJ"
      }
    },
    {
      "cell_type": "code",
      "source": [
        "from sklearn.preprocessing import MinMaxScaler\n",
        "\n",
        "scaler = MinMaxScaler()\n",
        "X_scaled = scaler.fit_transform(X)\n"
      ],
      "metadata": {
        "id": "8AYGnbIQUA23"
      },
      "execution_count": null,
      "outputs": []
    },
    {
      "cell_type": "markdown",
      "source": [
        "Robust Scaling:\n",
        "\n",
        "Uses median and interquartile range (IQR) instead of mean and standard deviation, making it robust to outliers.\n",
        "Formula:\n",
        "𝑥\n",
        "′\n",
        "=\n",
        "𝑥\n",
        "−\n",
        "median\n",
        "(\n",
        "𝑥\n",
        ")\n",
        "IQR\n",
        "x\n",
        "′\n",
        " =\n",
        "IQR\n",
        "x−median(x)\n",
        "​\n",
        "\n",
        "Example:"
      ],
      "metadata": {
        "id": "Z-r83LYYUC3S"
      }
    },
    {
      "cell_type": "code",
      "source": [
        "from sklearn.preprocessing import RobustScaler\n",
        "\n",
        "scaler = RobustScaler()\n",
        "X_scaled = scaler.fit_transform(X)\n"
      ],
      "metadata": {
        "id": "Fb-ttwk8UFDT"
      },
      "execution_count": null,
      "outputs": []
    },
    {
      "cell_type": "markdown",
      "source": [
        "MaxAbs Scaling:\n",
        "\n",
        "Scales data to the range [-1, 1] based on the maximum absolute value of each feature.\n",
        "Useful for sparse data."
      ],
      "metadata": {
        "id": "2TWBtwfKUG6K"
      }
    },
    {
      "cell_type": "code",
      "source": [
        "from sklearn.preprocessing import MaxAbsScaler\n",
        "\n",
        "scaler = MaxAbsScaler()\n",
        "X_scaled = scaler.fit_transform(X)\n"
      ],
      "metadata": {
        "id": "zUKAiNocUKCl"
      },
      "execution_count": null,
      "outputs": []
    },
    {
      "cell_type": "markdown",
      "source": [
        "When Is Feature Scaling Required?\n",
        "Feature scaling is especially important for:\n",
        "\n",
        "Gradient Descent-Based Algorithms:\n",
        "Linear Regression, Logistic Regression, Neural Networks.\n",
        "Distance-Based Algorithms:\n",
        "k-Nearest Neighbors (k-NN), Support Vector Machines (SVM), k-Means Clustering.\n",
        "Principal Component Analysis (PCA):\n",
        "Sensitive to feature scales since it uses variance and covariance.\n",
        "When Is Feature Scaling Not Required?\n",
        "Feature scaling is not necessary for algorithms that are not sensitive to feature magnitudes, such as:\n",
        "\n",
        "Decision Trees\n",
        "Random Forests\n",
        "Gradient Boosted Trees (e.g., XGBoost, LightGBM, CatBoost)"
      ],
      "metadata": {
        "id": "5Puixmu7UL_z"
      }
    },
    {
      "cell_type": "markdown",
      "source": [
        "Example: Impact of Scaling on k-NN\n",
        "Without Scaling:"
      ],
      "metadata": {
        "id": "f8UDCVqHURYK"
      }
    },
    {
      "cell_type": "code",
      "source": [
        "from sklearn.neighbors import KNeighborsClassifier\n",
        "\n",
        "model = KNeighborsClassifier()\n",
        "model.fit(X_train, y_train)\n",
        "accuracy = model.score(X_test, y_test)\n",
        "print(\"Accuracy without scaling:\", accuracy)\n"
      ],
      "metadata": {
        "id": "oaty2imLUOzq"
      },
      "execution_count": null,
      "outputs": []
    },
    {
      "cell_type": "markdown",
      "source": [
        "With Scaling:"
      ],
      "metadata": {
        "id": "blz5StYRUTgA"
      }
    },
    {
      "cell_type": "code",
      "source": [
        "from sklearn.preprocessing import StandardScaler\n",
        "\n",
        "scaler = StandardScaler()\n",
        "X_train_scaled = scaler.fit_transform(X_train)\n",
        "X_test_scaled = scaler.transform(X_test)\n",
        "\n",
        "model = KNeighborsClassifier()\n",
        "model.fit(X_train_scaled, y_train)\n",
        "accuracy = model.score(X_test_scaled, y_test)\n",
        "print(\"Accuracy with scaling:\", accuracy)\n"
      ],
      "metadata": {
        "id": "1GRjVjEXUVJD"
      },
      "execution_count": null,
      "outputs": []
    },
    {
      "cell_type": "markdown",
      "source": [
        "Summary\n",
        "Feature Scaling ensures that no feature disproportionately influences the model.\n",
        "Techniques: Standardization, Min-Max Scaling, Robust Scaling, MaxAbs Scaling.\n",
        "Necessary for: Gradient descent-based models, distance-based models, and PCA.\n",
        "Improves model performance, stability, and interpretability."
      ],
      "metadata": {
        "id": "WcncncMAUYwU"
      }
    },
    {
      "cell_type": "markdown",
      "source": [
        "# Q 22 How do we perform scaling in Python?"
      ],
      "metadata": {
        "id": "DVhtGuhGg39v"
      }
    },
    {
      "cell_type": "markdown",
      "source": [
        "Performing Feature Scaling in Python\n",
        "Scaling features in Python is straightforward using the preprocessing utilities in the sklearn.preprocessing module. Below are common methods for scaling data with examples.\n",
        "\n",
        "1. Standardization (Z-Score Normalization)\n",
        "Purpose: Rescales the data so that the mean is 0 and the standard deviation is 1."
      ],
      "metadata": {
        "id": "lIgp6X8dhCux"
      }
    },
    {
      "cell_type": "code",
      "source": [
        "from sklearn.preprocessing import StandardScaler\n",
        "import numpy as np\n",
        "\n",
        "# Sample data\n",
        "X = np.array([[1, 2], [3, 4], [5, 6]])\n",
        "\n",
        "# Initialize scaler\n",
        "scaler = StandardScaler()\n",
        "\n",
        "# Fit and transform the data\n",
        "X_scaled = scaler.fit_transform(X)\n",
        "\n",
        "print(\"Original Data:\\n\", X)\n",
        "print(\"Scaled Data:\\n\", X_scaled)\n"
      ],
      "metadata": {
        "colab": {
          "base_uri": "https://localhost:8080/"
        },
        "id": "LaGB-vIAUZFg",
        "outputId": "9bbfab7f-3264-42f1-e0d9-cf6fb9b18ce0"
      },
      "execution_count": 1,
      "outputs": [
        {
          "output_type": "stream",
          "name": "stdout",
          "text": [
            "Original Data:\n",
            " [[1 2]\n",
            " [3 4]\n",
            " [5 6]]\n",
            "Scaled Data:\n",
            " [[-1.22474487 -1.22474487]\n",
            " [ 0.          0.        ]\n",
            " [ 1.22474487  1.22474487]]\n"
          ]
        }
      ]
    },
    {
      "cell_type": "markdown",
      "source": [
        "2. Min-Max Scaling (Normalization)\n",
        "Purpose: Rescales the data to a fixed range, typically [0, 1]."
      ],
      "metadata": {
        "id": "HsVcsK97hHoP"
      }
    },
    {
      "cell_type": "code",
      "source": [
        "from sklearn.preprocessing import MinMaxScaler\n",
        "\n",
        "# Sample data\n",
        "X = np.array([[1, 2], [3, 4], [5, 6]])\n",
        "\n",
        "# Initialize scaler\n",
        "scaler = MinMaxScaler()\n",
        "\n",
        "# Fit and transform the data\n",
        "X_scaled = scaler.fit_transform(X)\n",
        "\n",
        "print(\"Original Data:\\n\", X)\n",
        "print(\"Scaled Data:\\n\", X_scaled)\n"
      ],
      "metadata": {
        "colab": {
          "base_uri": "https://localhost:8080/"
        },
        "id": "aeg7raRbhFUq",
        "outputId": "869c2752-50f1-409f-ee70-962ca972ee83"
      },
      "execution_count": 2,
      "outputs": [
        {
          "output_type": "stream",
          "name": "stdout",
          "text": [
            "Original Data:\n",
            " [[1 2]\n",
            " [3 4]\n",
            " [5 6]]\n",
            "Scaled Data:\n",
            " [[0.  0. ]\n",
            " [0.5 0.5]\n",
            " [1.  1. ]]\n"
          ]
        }
      ]
    },
    {
      "cell_type": "markdown",
      "source": [
        "3. Robust Scaling\n",
        "Purpose: Scales the data using the median and interquartile range (IQR). Useful when the data contains outliers"
      ],
      "metadata": {
        "id": "adQ4w1XEhNIm"
      }
    },
    {
      "cell_type": "code",
      "source": [
        "from sklearn.preprocessing import RobustScaler\n",
        "\n",
        "# Sample data with outliers\n",
        "X = np.array([[1, 2], [3, 4], [100, 200]])\n",
        "\n",
        "# Initialize scaler\n",
        "scaler = RobustScaler()\n",
        "\n",
        "# Fit and transform the data\n",
        "X_scaled = scaler.fit_transform(X)\n",
        "\n",
        "print(\"Original Data:\\n\", X)\n",
        "print(\"Scaled Data:\\n\", X_scaled)\n"
      ],
      "metadata": {
        "colab": {
          "base_uri": "https://localhost:8080/"
        },
        "id": "2-hYLIAYhJlt",
        "outputId": "198c6028-4708-4825-d9c0-02611cce4768"
      },
      "execution_count": 3,
      "outputs": [
        {
          "output_type": "stream",
          "name": "stdout",
          "text": [
            "Original Data:\n",
            " [[  1   2]\n",
            " [  3   4]\n",
            " [100 200]]\n",
            "Scaled Data:\n",
            " [[-0.04040404 -0.02020202]\n",
            " [ 0.          0.        ]\n",
            " [ 1.95959596  1.97979798]]\n"
          ]
        }
      ]
    },
    {
      "cell_type": "markdown",
      "source": [
        ". MaxAbs Scaling\n",
        "Purpose: Scales data to the range [-1, 1] based on the maximum absolute value for each feature. Suitable for sparse data"
      ],
      "metadata": {
        "id": "wGwcd1bThRNm"
      }
    },
    {
      "cell_type": "code",
      "source": [
        "from sklearn.preprocessing import MaxAbsScaler\n",
        "\n",
        "# Sample data\n",
        "X = np.array([[1, -2], [3, -4], [5, 6]])\n",
        "\n",
        "# Initialize scaler\n",
        "scaler = MaxAbsScaler()\n",
        "\n",
        "# Fit and transform the data\n",
        "X_scaled = scaler.fit_transform(X)\n",
        "\n",
        "print(\"Original Data:\\n\", X)\n",
        "print(\"Scaled Data:\\n\", X_scaled)\n"
      ],
      "metadata": {
        "colab": {
          "base_uri": "https://localhost:8080/"
        },
        "id": "5eudcl1mhOzk",
        "outputId": "5ea1c4f4-f2ca-498c-caaf-3ee30a1b43ef"
      },
      "execution_count": 4,
      "outputs": [
        {
          "output_type": "stream",
          "name": "stdout",
          "text": [
            "Original Data:\n",
            " [[ 1 -2]\n",
            " [ 3 -4]\n",
            " [ 5  6]]\n",
            "Scaled Data:\n",
            " [[ 0.2        -0.33333333]\n",
            " [ 0.6        -0.66666667]\n",
            " [ 1.          1.        ]]\n"
          ]
        }
      ]
    },
    {
      "cell_type": "markdown",
      "source": [
        "5. Scaling for Train-Test Splits\n",
        "When working with machine learning pipelines, it's essential to fit the scaler only on the training data and then transform both the training and testing data. This avoids data leakage."
      ],
      "metadata": {
        "id": "EEXA4oXvhWPm"
      }
    },
    {
      "cell_type": "code",
      "source": [
        "from sklearn.model_selection import train_test_split\n",
        "from sklearn.preprocessing import StandardScaler\n",
        "\n",
        "# Sample data\n",
        "X = np.array([[1, 2], [3, 4], [5, 6], [7, 8]])\n",
        "y = np.array([0, 1, 0, 1])\n",
        "\n",
        "# Split the data\n",
        "X_train, X_test, y_train, y_test = train_test_split(X, y, test_size=0.25, random_state=42)\n",
        "\n",
        "# Initialize scaler\n",
        "scaler = StandardScaler()\n",
        "\n",
        "# Fit scaler on training data\n",
        "X_train_scaled = scaler.fit_transform(X_train)\n",
        "\n",
        "# Transform test data using the same scaler\n",
        "X_test_scaled = scaler.transform(X_test)\n",
        "\n",
        "print(\"Scaled Training Data:\\n\", X_train_scaled)\n",
        "print(\"Scaled Test Data:\\n\", X_test_scaled)\n"
      ],
      "metadata": {
        "colab": {
          "base_uri": "https://localhost:8080/"
        },
        "id": "G0arfDy_hTBf",
        "outputId": "375aed73-7ff4-45d2-c8bc-9db981141723"
      },
      "execution_count": 5,
      "outputs": [
        {
          "output_type": "stream",
          "name": "stdout",
          "text": [
            "Scaled Training Data:\n",
            " [[ 1.06904497  1.06904497]\n",
            " [-1.33630621 -1.33630621]\n",
            " [ 0.26726124  0.26726124]]\n",
            "Scaled Test Data:\n",
            " [[-0.53452248 -0.53452248]]\n"
          ]
        }
      ]
    },
    {
      "cell_type": "markdown",
      "source": [
        "6. Feature Scaling in a Machine Learning Pipeline\n",
        "You can combine scaling with other preprocessing and modeling steps using pipelines in Scikit-learn.\n",
        "\n",
        "Code Example:"
      ],
      "metadata": {
        "id": "2OAhhXRKhaEH"
      }
    },
    {
      "cell_type": "code",
      "source": [
        "from sklearn.pipeline import Pipeline\n",
        "from sklearn.linear_model import LogisticRegression\n",
        "from sklearn.preprocessing import StandardScaler\n",
        "\n",
        "# Create a pipeline with StandardScaler and LogisticRegression\n",
        "pipeline = Pipeline([\n",
        "    ('scaler', StandardScaler()),\n",
        "    ('model', LogisticRegression())\n",
        "])\n",
        "\n",
        "# Fit the pipeline\n",
        "pipeline.fit(X_train, y_train)\n",
        "\n",
        "# Make predictions\n",
        "y_pred = pipeline.predict(X_test)\n"
      ],
      "metadata": {
        "id": "_iBZ0ROYhX9x"
      },
      "execution_count": 6,
      "outputs": []
    },
    {
      "cell_type": "markdown",
      "source": [
        "Key Notes\n",
        "Always scale your data after splitting into train and test sets to prevent data leakage.\n",
        "Choose the scaling method based on your dataset's characteristics:\n",
        "StandardScaler: For normally distributed data.\n",
        "MinMaxScaler: For features in a specific range.\n",
        "RobustScaler: For data with outliers.\n",
        "MaxAbsScaler: For sparse data."
      ],
      "metadata": {
        "id": "A83BaJUIheUe"
      }
    },
    {
      "cell_type": "markdown",
      "source": [
        "# Q 23 What is sklearn.preprocessing?"
      ],
      "metadata": {
        "id": "F1mUarzBhk9f"
      }
    },
    {
      "cell_type": "markdown",
      "source": [
        "sklearn.preprocessing is a module in Scikit-learn that provides utilities and tools to prepare and preprocess raw data for machine learning models. It contains various methods to standardize, normalize, encode, scale, and transform data, ensuring compatibility with machine learning algorithms.\n",
        "\n",
        "Why Is Preprocessing Important?\n",
        "\n",
        "Raw data often contains inconsistencies, missing values, or varying scales that can negatively impact model performance. Preprocessing ensures that the data:\n",
        "\n",
        "Has a consistent format.\n",
        "\n",
        "Is scaled appropriately.\n",
        "Can be effectively used by machine learning algorithms.\n",
        "\n",
        "Common Utilities in sklearn.preprocessing\n",
        "\n",
        "1. Feature Scaling\n",
        "\n",
        "Feature scaling ensures that all features contribute equally to the model by bringing them to a similar scale.\n",
        "\n",
        "StandardScaler: Standardizes features to have a mean of 0 and standard deviation of 1.\n",
        "\n",
        "MinMaxScaler: Scales features to a range, typically [0, 1].\n",
        "\n",
        "MaxAbsScaler: Scales features to the range [-1, 1] based on their maximum absolute value.\n",
        "\n",
        "\n",
        "RobustScaler: Scales features using the median and interquartile range, robust to outliers.\n",
        "\n",
        "2. Data Normalization\n",
        "\n",
        "\n",
        "Normalization scales individual samples (rows) to have a unit norm (e.g., their vector length is 1).\n",
        "\n",
        "Normalizer: Normalizes data using L1, L2, or max norms.\n",
        "\n",
        "3. Encoding Categorical Variables\n",
        "\n",
        "Categorical variables need to be converted into numeric representations before being fed into machine learning models.\n",
        "\n",
        "OneHotEncoder: Converts categorical values into one-hot encoded format (binary vectors).\n",
        "\n",
        "LabelEncoder: Encodes target labels with values between 0 and\n",
        "𝑛\n",
        "−\n",
        "1\n",
        "n−1 (not recommended for input features).\n",
        "OrdinalEncoder: Encodes categorical data into integers, preserving order.\n",
        "\n",
        "4. Polynomial Feature Generation\n",
        "\n",
        "Generates polynomial features from existing features to enable models to learn more complex relationships.\n",
        "\n",
        "PolynomialFeatures: Creates higher-degree features (e.g.,\n",
        "𝑥\n",
        "2\n",
        ",\n",
        "𝑥\n",
        "3\n",
        ",\n",
        "𝑥\n",
        "𝑦\n",
        "x\n",
        "2\n",
        " ,x\n",
        "3\n",
        " ,xy).\n",
        "\n",
        "5. Binarization\n",
        "Converts numeric data into binary format based on a threshold.\n",
        "\n",
        "Binarizer: Binarizes features using a given threshold.\n",
        "\n",
        "6. Imputation for Missing Values\n",
        "\n",
        "Handles missing data by replacing it with a substitute value.\n",
        "\n",
        "SimpleImputer: Replaces missing values with a constant, mean, median, or most frequent value.\n",
        "\n",
        "7. Non-linear Transformation\n",
        "\n",
        "Applies non-linear transformations to features to reduce skewness or normalize distributions.\n",
        "\n",
        "PowerTransformer: Applies a power transformation (Box-Cox or Yeo-Johnson).\n",
        "\n",
        "QuantileTransformer: Maps data to a uniform or normal distribution.\n",
        "KBinsDiscretizer: Discretizes continuous data into bins.\n"
      ],
      "metadata": {
        "id": "uK5NsQXjhznd"
      }
    },
    {
      "cell_type": "markdown",
      "source": [
        "Example Usage\n",
        "Feature Scaling"
      ],
      "metadata": {
        "id": "pSciElz-iGOn"
      }
    },
    {
      "cell_type": "code",
      "source": [
        "from sklearn.preprocessing import StandardScaler\n",
        "\n",
        "# Sample data\n",
        "X = [[1, 2], [3, 4], [5, 6]]\n",
        "\n",
        "# Standardize features\n",
        "scaler = StandardScaler()\n",
        "X_scaled = scaler.fit_transform(X)\n",
        "\n",
        "print(\"Scaled Data:\\n\", X_scaled)\n"
      ],
      "metadata": {
        "colab": {
          "base_uri": "https://localhost:8080/"
        },
        "id": "pN5UfqLkhbw-",
        "outputId": "cbb877c4-e9a7-4d68-8204-897f20eb8dba"
      },
      "execution_count": 7,
      "outputs": [
        {
          "output_type": "stream",
          "name": "stdout",
          "text": [
            "Scaled Data:\n",
            " [[-1.22474487 -1.22474487]\n",
            " [ 0.          0.        ]\n",
            " [ 1.22474487  1.22474487]]\n"
          ]
        }
      ]
    },
    {
      "cell_type": "markdown",
      "source": [
        "One-Hot Encoding:"
      ],
      "metadata": {
        "id": "FqC-cdKiiKbc"
      }
    },
    {
      "cell_type": "code",
      "source": [
        "from sklearn.preprocessing import OneHotEncoder\n",
        "\n",
        "# Sample data\n",
        "X = [['red'], ['blue'], ['green']]\n",
        "\n",
        "# One-hot encode categorical data\n",
        "encoder = OneHotEncoder()\n",
        "X_encoded = encoder.fit_transform(X).toarray()\n",
        "\n",
        "print(\"Encoded Data:\\n\", X_encoded)\n"
      ],
      "metadata": {
        "colab": {
          "base_uri": "https://localhost:8080/"
        },
        "id": "6IR294VliH_J",
        "outputId": "cea7ea53-cb8a-4a43-c43e-bcd455e34e67"
      },
      "execution_count": 8,
      "outputs": [
        {
          "output_type": "stream",
          "name": "stdout",
          "text": [
            "Encoded Data:\n",
            " [[0. 0. 1.]\n",
            " [1. 0. 0.]\n",
            " [0. 1. 0.]]\n"
          ]
        }
      ]
    },
    {
      "cell_type": "markdown",
      "source": [
        "Polynomial Features:"
      ],
      "metadata": {
        "id": "9dq1HECpiOZX"
      }
    },
    {
      "cell_type": "code",
      "source": [
        "from sklearn.preprocessing import PolynomialFeatures\n",
        "\n",
        "# Sample data\n",
        "X = [[2, 3]]\n",
        "\n",
        "# Generate polynomial features\n",
        "poly = PolynomialFeatures(degree=2)\n",
        "X_poly = poly.fit_transform(X)\n",
        "\n",
        "print(\"Polynomial Features:\\n\", X_poly)\n"
      ],
      "metadata": {
        "colab": {
          "base_uri": "https://localhost:8080/"
        },
        "id": "BSftcWfNiMNr",
        "outputId": "46dcb09b-921e-4eee-e143-56363dd1c9a5"
      },
      "execution_count": 9,
      "outputs": [
        {
          "output_type": "stream",
          "name": "stdout",
          "text": [
            "Polynomial Features:\n",
            " [[1. 2. 3. 4. 6. 9.]]\n"
          ]
        }
      ]
    },
    {
      "cell_type": "markdown",
      "source": [
        "![image.png](data:image/png;base64,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)"
      ],
      "metadata": {
        "id": "x6e_jWBeiS0L"
      }
    },
    {
      "cell_type": "markdown",
      "source": [
        "When to Use sklearn.preprocessing\n",
        "Scaling and Normalization:\n",
        "\n",
        "For models sensitive to feature magnitudes (e.g., k-NN, SVM, Logistic Regression).\n",
        "Handling Categorical Variables:\n",
        "\n",
        "For models that require numeric input (e.g., OneHotEncoder for linear models).\n",
        "Dealing with Missing Data:\n",
        "\n",
        "Use SimpleImputer to replace missing values.\n",
        "Creating Non-linear Features:\n",
        "\n",
        "Use PolynomialFeatures or PowerTransformer for feature engineering."
      ],
      "metadata": {
        "id": "0_X_C7w_ia9c"
      }
    },
    {
      "cell_type": "markdown",
      "source": [
        "# Q 24 How do we split data for model fitting (training and testing) in Python?"
      ],
      "metadata": {
        "id": "XjVgHjr_inkg"
      }
    },
    {
      "cell_type": "markdown",
      "source": [
        "How to Split Data for Model Fitting (Training and Testing) in Python\n",
        "In machine learning, splitting the dataset into training and testing subsets is essential to evaluate how well a model generalizes to unseen data. In Python, we typically use Scikit-learn's train_test_split function for this purpose.\n",
        "\n",
        "Why Split Data?\n",
        "Training Set:\n",
        "\n",
        "Used to train the machine learning model.\n",
        "The model learns patterns and relationships in the data.\n",
        "Test Set:\n",
        "\n",
        "Used to evaluate the model's performance on unseen data.\n",
        "Helps assess the generalization capability of the model.\n",
        "Using train_test_split\n",
        "train_test_split is part of Scikit-learn and splits data randomly into training and testing sets. You can control the split ratio, randomization, and stratification."
      ],
      "metadata": {
        "id": "W0aqUErPi11f"
      }
    },
    {
      "cell_type": "code",
      "source": [
        "from sklearn.model_selection import train_test_split\n",
        "\n",
        "X_train, X_test, y_train, y_test = train_test_split(X, y, test_size=0.2, random_state=42, stratify=y)\n"
      ],
      "metadata": {
        "colab": {
          "base_uri": "https://localhost:8080/",
          "height": 321
        },
        "collapsed": true,
        "id": "o-ML1MIRiQYw",
        "outputId": "65980e10-f014-4d42-8b0b-0fca9d07c7c6"
      },
      "execution_count": 10,
      "outputs": [
        {
          "output_type": "error",
          "ename": "ValueError",
          "evalue": "Found input variables with inconsistent numbers of samples: [1, 4]",
          "traceback": [
            "\u001b[0;31m---------------------------------------------------------------------------\u001b[0m",
            "\u001b[0;31mValueError\u001b[0m                                Traceback (most recent call last)",
            "\u001b[0;32m<ipython-input-10-6181a57c3391>\u001b[0m in \u001b[0;36m<cell line: 3>\u001b[0;34m()\u001b[0m\n\u001b[1;32m      1\u001b[0m \u001b[0;32mfrom\u001b[0m \u001b[0msklearn\u001b[0m\u001b[0;34m.\u001b[0m\u001b[0mmodel_selection\u001b[0m \u001b[0;32mimport\u001b[0m \u001b[0mtrain_test_split\u001b[0m\u001b[0;34m\u001b[0m\u001b[0;34m\u001b[0m\u001b[0m\n\u001b[1;32m      2\u001b[0m \u001b[0;34m\u001b[0m\u001b[0m\n\u001b[0;32m----> 3\u001b[0;31m \u001b[0mX_train\u001b[0m\u001b[0;34m,\u001b[0m \u001b[0mX_test\u001b[0m\u001b[0;34m,\u001b[0m \u001b[0my_train\u001b[0m\u001b[0;34m,\u001b[0m \u001b[0my_test\u001b[0m \u001b[0;34m=\u001b[0m \u001b[0mtrain_test_split\u001b[0m\u001b[0;34m(\u001b[0m\u001b[0mX\u001b[0m\u001b[0;34m,\u001b[0m \u001b[0my\u001b[0m\u001b[0;34m,\u001b[0m \u001b[0mtest_size\u001b[0m\u001b[0;34m=\u001b[0m\u001b[0;36m0.2\u001b[0m\u001b[0;34m,\u001b[0m \u001b[0mrandom_state\u001b[0m\u001b[0;34m=\u001b[0m\u001b[0;36m42\u001b[0m\u001b[0;34m,\u001b[0m \u001b[0mstratify\u001b[0m\u001b[0;34m=\u001b[0m\u001b[0my\u001b[0m\u001b[0;34m)\u001b[0m\u001b[0;34m\u001b[0m\u001b[0;34m\u001b[0m\u001b[0m\n\u001b[0m",
            "\u001b[0;32m/usr/local/lib/python3.10/dist-packages/sklearn/utils/_param_validation.py\u001b[0m in \u001b[0;36mwrapper\u001b[0;34m(*args, **kwargs)\u001b[0m\n\u001b[1;32m    214\u001b[0m                     )\n\u001b[1;32m    215\u001b[0m                 ):\n\u001b[0;32m--> 216\u001b[0;31m                     \u001b[0;32mreturn\u001b[0m \u001b[0mfunc\u001b[0m\u001b[0;34m(\u001b[0m\u001b[0;34m*\u001b[0m\u001b[0margs\u001b[0m\u001b[0;34m,\u001b[0m \u001b[0;34m**\u001b[0m\u001b[0mkwargs\u001b[0m\u001b[0;34m)\u001b[0m\u001b[0;34m\u001b[0m\u001b[0;34m\u001b[0m\u001b[0m\n\u001b[0m\u001b[1;32m    217\u001b[0m             \u001b[0;32mexcept\u001b[0m \u001b[0mInvalidParameterError\u001b[0m \u001b[0;32mas\u001b[0m \u001b[0me\u001b[0m\u001b[0;34m:\u001b[0m\u001b[0;34m\u001b[0m\u001b[0;34m\u001b[0m\u001b[0m\n\u001b[1;32m    218\u001b[0m                 \u001b[0;31m# When the function is just a wrapper around an estimator, we allow\u001b[0m\u001b[0;34m\u001b[0m\u001b[0;34m\u001b[0m\u001b[0m\n",
            "\u001b[0;32m/usr/local/lib/python3.10/dist-packages/sklearn/model_selection/_split.py\u001b[0m in \u001b[0;36mtrain_test_split\u001b[0;34m(test_size, train_size, random_state, shuffle, stratify, *arrays)\u001b[0m\n\u001b[1;32m   2846\u001b[0m         \u001b[0;32mraise\u001b[0m \u001b[0mValueError\u001b[0m\u001b[0;34m(\u001b[0m\u001b[0;34m\"At least one array required as input\"\u001b[0m\u001b[0;34m)\u001b[0m\u001b[0;34m\u001b[0m\u001b[0;34m\u001b[0m\u001b[0m\n\u001b[1;32m   2847\u001b[0m \u001b[0;34m\u001b[0m\u001b[0m\n\u001b[0;32m-> 2848\u001b[0;31m     \u001b[0marrays\u001b[0m \u001b[0;34m=\u001b[0m \u001b[0mindexable\u001b[0m\u001b[0;34m(\u001b[0m\u001b[0;34m*\u001b[0m\u001b[0marrays\u001b[0m\u001b[0;34m)\u001b[0m\u001b[0;34m\u001b[0m\u001b[0;34m\u001b[0m\u001b[0m\n\u001b[0m\u001b[1;32m   2849\u001b[0m \u001b[0;34m\u001b[0m\u001b[0m\n\u001b[1;32m   2850\u001b[0m     \u001b[0mn_samples\u001b[0m \u001b[0;34m=\u001b[0m \u001b[0m_num_samples\u001b[0m\u001b[0;34m(\u001b[0m\u001b[0marrays\u001b[0m\u001b[0;34m[\u001b[0m\u001b[0;36m0\u001b[0m\u001b[0;34m]\u001b[0m\u001b[0;34m)\u001b[0m\u001b[0;34m\u001b[0m\u001b[0;34m\u001b[0m\u001b[0m\n",
            "\u001b[0;32m/usr/local/lib/python3.10/dist-packages/sklearn/utils/validation.py\u001b[0m in \u001b[0;36mindexable\u001b[0;34m(*iterables)\u001b[0m\n\u001b[1;32m    530\u001b[0m \u001b[0;34m\u001b[0m\u001b[0m\n\u001b[1;32m    531\u001b[0m     \u001b[0mresult\u001b[0m \u001b[0;34m=\u001b[0m \u001b[0;34m[\u001b[0m\u001b[0m_make_indexable\u001b[0m\u001b[0;34m(\u001b[0m\u001b[0mX\u001b[0m\u001b[0;34m)\u001b[0m \u001b[0;32mfor\u001b[0m \u001b[0mX\u001b[0m \u001b[0;32min\u001b[0m \u001b[0miterables\u001b[0m\u001b[0;34m]\u001b[0m\u001b[0;34m\u001b[0m\u001b[0;34m\u001b[0m\u001b[0m\n\u001b[0;32m--> 532\u001b[0;31m     \u001b[0mcheck_consistent_length\u001b[0m\u001b[0;34m(\u001b[0m\u001b[0;34m*\u001b[0m\u001b[0mresult\u001b[0m\u001b[0;34m)\u001b[0m\u001b[0;34m\u001b[0m\u001b[0;34m\u001b[0m\u001b[0m\n\u001b[0m\u001b[1;32m    533\u001b[0m     \u001b[0;32mreturn\u001b[0m \u001b[0mresult\u001b[0m\u001b[0;34m\u001b[0m\u001b[0;34m\u001b[0m\u001b[0m\n\u001b[1;32m    534\u001b[0m \u001b[0;34m\u001b[0m\u001b[0m\n",
            "\u001b[0;32m/usr/local/lib/python3.10/dist-packages/sklearn/utils/validation.py\u001b[0m in \u001b[0;36mcheck_consistent_length\u001b[0;34m(*arrays)\u001b[0m\n\u001b[1;32m    473\u001b[0m     \u001b[0muniques\u001b[0m \u001b[0;34m=\u001b[0m \u001b[0mnp\u001b[0m\u001b[0;34m.\u001b[0m\u001b[0munique\u001b[0m\u001b[0;34m(\u001b[0m\u001b[0mlengths\u001b[0m\u001b[0;34m)\u001b[0m\u001b[0;34m\u001b[0m\u001b[0;34m\u001b[0m\u001b[0m\n\u001b[1;32m    474\u001b[0m     \u001b[0;32mif\u001b[0m \u001b[0mlen\u001b[0m\u001b[0;34m(\u001b[0m\u001b[0muniques\u001b[0m\u001b[0;34m)\u001b[0m \u001b[0;34m>\u001b[0m \u001b[0;36m1\u001b[0m\u001b[0;34m:\u001b[0m\u001b[0;34m\u001b[0m\u001b[0;34m\u001b[0m\u001b[0m\n\u001b[0;32m--> 475\u001b[0;31m         raise ValueError(\n\u001b[0m\u001b[1;32m    476\u001b[0m             \u001b[0;34m\"Found input variables with inconsistent numbers of samples: %r\"\u001b[0m\u001b[0;34m\u001b[0m\u001b[0;34m\u001b[0m\u001b[0m\n\u001b[1;32m    477\u001b[0m             \u001b[0;34m%\u001b[0m \u001b[0;34m[\u001b[0m\u001b[0mint\u001b[0m\u001b[0;34m(\u001b[0m\u001b[0ml\u001b[0m\u001b[0;34m)\u001b[0m \u001b[0;32mfor\u001b[0m \u001b[0ml\u001b[0m \u001b[0;32min\u001b[0m \u001b[0mlengths\u001b[0m\u001b[0;34m]\u001b[0m\u001b[0;34m\u001b[0m\u001b[0;34m\u001b[0m\u001b[0m\n",
            "\u001b[0;31mValueError\u001b[0m: Found input variables with inconsistent numbers of samples: [1, 4]"
          ]
        }
      ]
    },
    {
      "cell_type": "markdown",
      "source": [
        "Key Parameters\n",
        "X and y:\n",
        "\n",
        "X: Features (independent variables).\n",
        "y: Target variable (dependent variable).\n",
        "test_size:\n",
        "\n",
        "Fraction of the dataset to include in the test split (default: 0.25).\n",
        "Example: test_size=0.2 reserves 20% for testing.\n",
        "train_size:\n",
        "\n",
        "Fraction of the dataset to include in the training split (optional).\n",
        "Must complement test_size if provided.\n",
        "random_state:\n",
        "\n",
        "Seed for random number generation. Ensures reproducibility of splits.\n",
        "stratify:\n",
        "\n",
        "Ensures that the target variable's class distribution is preserved in the training and testing sets (useful for imbalanced datasets).\n",
        "Example: stratify=y.\n"
      ],
      "metadata": {
        "id": "Eaoo7geejDte"
      }
    },
    {
      "cell_type": "markdown",
      "source": [
        "Example 1: Basic Splitting"
      ],
      "metadata": {
        "id": "7XI-jJM-jIgE"
      }
    },
    {
      "cell_type": "code",
      "source": [
        "from sklearn.model_selection import train_test_split\n",
        "import numpy as np\n",
        "\n",
        "# Sample data\n",
        "X = np.array([[1, 2], [3, 4], [5, 6], [7, 8], [9, 10]])\n",
        "y = np.array([0, 1, 0, 1, 0])\n",
        "\n",
        "# Split data into training and testing sets\n",
        "X_train, X_test, y_train, y_test = train_test_split(X, y, test_size=0.2, random_state=42)\n",
        "\n",
        "print(\"X_train:\\n\", X_train)\n",
        "print(\"X_test:\\n\", X_test)\n",
        "print(\"y_train:\\n\", y_train)\n",
        "print(\"y_test:\\n\", y_test)\n"
      ],
      "metadata": {
        "colab": {
          "base_uri": "https://localhost:8080/"
        },
        "id": "RL6L9v9ei80V",
        "outputId": "021ebf66-435c-4831-ba2d-791fc1dae51f"
      },
      "execution_count": 11,
      "outputs": [
        {
          "output_type": "stream",
          "name": "stdout",
          "text": [
            "X_train:\n",
            " [[ 9 10]\n",
            " [ 5  6]\n",
            " [ 1  2]\n",
            " [ 7  8]]\n",
            "X_test:\n",
            " [[3 4]]\n",
            "y_train:\n",
            " [0 0 0 1]\n",
            "y_test:\n",
            " [1]\n"
          ]
        }
      ]
    },
    {
      "cell_type": "markdown",
      "source": [
        "Example 2: Stratified Splitting\n",
        "For imbalanced datasets, stratification ensures the same proportion of classes in both training and test sets"
      ],
      "metadata": {
        "id": "b4WWTDXwjSHy"
      }
    },
    {
      "cell_type": "code",
      "source": [
        "from sklearn.model_selection import train_test_split\n",
        "\n",
        "# Sample data\n",
        "X = [[1, 2], [3, 4], [5, 6], [7, 8], [9, 10]]\n",
        "y = [0, 0, 0, 1, 1]  # Imbalanced classes\n",
        "\n",
        "# Stratified splitting\n",
        "X_train, X_test, y_train, y_test = train_test_split(X, y, test_size=0.4, stratify=y, random_state=42)\n",
        "\n",
        "print(\"y_train:\", y_train)\n",
        "print(\"y_test:\", y_test)\n"
      ],
      "metadata": {
        "colab": {
          "base_uri": "https://localhost:8080/"
        },
        "id": "-mMVrtrPjK-n",
        "outputId": "054fb319-15a8-475c-9319-149769d26b0b"
      },
      "execution_count": 12,
      "outputs": [
        {
          "output_type": "stream",
          "name": "stdout",
          "text": [
            "y_train: [0, 0, 1]\n",
            "y_test: [0, 1]\n"
          ]
        }
      ]
    },
    {
      "cell_type": "markdown",
      "source": [
        "Example 3: Splitting Real Datasets\n",
        "Using a real-world dataset, e.g., the Iris dataset:"
      ],
      "metadata": {
        "id": "ulsCoCEDjXhB"
      }
    },
    {
      "cell_type": "code",
      "source": [
        "from sklearn.datasets import load_iris\n",
        "from sklearn.model_selection import train_test_split\n",
        "\n",
        "# Load dataset\n",
        "iris = load_iris()\n",
        "X = iris.data  # Features\n",
        "y = iris.target  # Target\n",
        "\n",
        "# Split dataset\n",
        "X_train, X_test, y_train, y_test = train_test_split(X, y, test_size=0.3, random_state=42)\n",
        "\n",
        "print(\"Training set size:\", len(X_train))\n",
        "print(\"Test set size:\", len(X_test))\n"
      ],
      "metadata": {
        "colab": {
          "base_uri": "https://localhost:8080/"
        },
        "id": "O6x24ktsjVC2",
        "outputId": "d86b41cb-f83f-4c3b-8791-dd6bbca3e684"
      },
      "execution_count": 13,
      "outputs": [
        {
          "output_type": "stream",
          "name": "stdout",
          "text": [
            "Training set size: 105\n",
            "Test set size: 45\n"
          ]
        }
      ]
    },
    {
      "cell_type": "markdown",
      "source": [
        "Tips for Splitting Data\n",
        "Test Size:\n",
        "\n",
        "Common split ratios: 80/20 or 70/30.\n",
        "For smaller datasets, consider using cross-validation instead.\n",
        "Random Seed:\n",
        "\n",
        "Use random_state to ensure consistent splits during multiple runs.\n",
        "Stratification:\n",
        "\n",
        "Always stratify for classification tasks with imbalanced classes.\n",
        "Validation Set:\n",
        "\n",
        "For hyperparameter tuning, split a portion of the training set into a validation set."
      ],
      "metadata": {
        "id": "BmS1XPBgjcUU"
      }
    },
    {
      "cell_type": "markdown",
      "source": [
        "Example with Validation Set"
      ],
      "metadata": {
        "id": "YmLsR4Keje7T"
      }
    },
    {
      "cell_type": "code",
      "source": [
        "from sklearn.model_selection import train_test_split\n",
        "\n",
        "# First split: Training and testing\n",
        "X_train_full, X_test, y_train_full, y_test = train_test_split(X, y, test_size=0.2, random_state=42)\n",
        "\n",
        "# Second split: Training and validation\n",
        "X_train, X_val, y_train, y_val = train_test_split(X_train_full, y_train_full, test_size=0.25, random_state=42)\n",
        "\n",
        "print(\"Training set size:\", len(X_train))\n",
        "print(\"Validation set size:\", len(X_val))\n",
        "print(\"Test set size:\", len(X_test))\n"
      ],
      "metadata": {
        "colab": {
          "base_uri": "https://localhost:8080/"
        },
        "id": "l1elmwLljZhz",
        "outputId": "09ece9db-93f4-4bef-c871-88816c58099d"
      },
      "execution_count": 14,
      "outputs": [
        {
          "output_type": "stream",
          "name": "stdout",
          "text": [
            "Training set size: 90\n",
            "Validation set size: 30\n",
            "Test set size: 30\n"
          ]
        }
      ]
    },
    {
      "cell_type": "markdown",
      "source": [
        "# Q 25 Explain data encoding"
      ],
      "metadata": {
        "id": "yOZq5VYejo1Q"
      }
    },
    {
      "cell_type": "markdown",
      "source": [
        "Data encoding is the process of converting categorical or textual data into a numerical format that can be used by machine learning algorithms. Most algorithms work with numeric data, so encoding categorical features is an essential preprocessing step in the machine learning pipeline.\n",
        "\n",
        "Why is Data Encoding Necessary?\n",
        "Numerical Representation:\n",
        "\n",
        "Machine learning models require numeric inputs to perform calculations. Textual or categorical data must be converted to numeric format.\n",
        "Preserve Meaning:\n",
        "\n",
        "Proper encoding ensures that the numeric representation reflects the data's underlying meaning or structure.\n",
        "Model Compatibility:\n",
        "\n",
        "Algorithms like decision trees can handle categorical variables directly, but others, such as logistic regression or SVMs, require numeric input.\n"
      ],
      "metadata": {
        "id": "XDxX4mEmkTuB"
      }
    },
    {
      "cell_type": "markdown",
      "source": [
        "Types of Data Encoding\n",
        "1. Label Encoding\n",
        "Each unique category is assigned a unique integer.\n",
        "Works well for ordinal data (data with a natural order).\n",
        "Example:"
      ],
      "metadata": {
        "id": "gl3CgEOTkXVN"
      }
    },
    {
      "cell_type": "code",
      "source": [
        "from sklearn.preprocessing import LabelEncoder\n",
        "\n",
        "# Sample data\n",
        "categories = ['Low', 'Medium', 'High']\n",
        "\n",
        "# Initialize encoder\n",
        "label_encoder = LabelEncoder()\n",
        "\n",
        "# Fit and transform the data\n",
        "encoded = label_encoder.fit_transform(categories)\n",
        "\n",
        "print(\"Original Categories:\", categories)\n",
        "print(\"Encoded Values:\", encoded)\n"
      ],
      "metadata": {
        "id": "ws0CLucbjhC9"
      },
      "execution_count": null,
      "outputs": []
    },
    {
      "cell_type": "markdown",
      "source": [
        "2. One-Hot Encoding\n",
        "Converts each category into a binary vector (0s and 1s).\n",
        "Ensures no ordinal relationship is assumed.\n",
        "Example:"
      ],
      "metadata": {
        "id": "2wetuZ0Qkbg9"
      }
    },
    {
      "cell_type": "code",
      "source": [
        "from sklearn.preprocessing import OneHotEncoder\n",
        "import numpy as np\n",
        "\n",
        "# Sample data\n",
        "categories = np.array(['Red', 'Green', 'Blue']).reshape(-1, 1)\n",
        "\n",
        "# Initialize encoder\n",
        "one_hot_encoder = OneHotEncoder()\n",
        "\n",
        "# Fit and transform the data\n",
        "encoded = one_hot_encoder.fit_transform(categories).toarray()\n",
        "\n",
        "print(\"Original Categories:\\n\", categories.flatten())\n",
        "print(\"One-Hot Encoded:\\n\", encoded)\n"
      ],
      "metadata": {
        "id": "IAMjhD7fkY2r"
      },
      "execution_count": null,
      "outputs": []
    },
    {
      "cell_type": "markdown",
      "source": [
        "3. Ordinal Encoding\n",
        "Assigns integer values to categories based on their rank or order.\n",
        "Suitable for ordinal data where order matters.\n",
        "Example:"
      ],
      "metadata": {
        "id": "Z8kKn-m7kh_b"
      }
    },
    {
      "cell_type": "code",
      "source": [
        "from sklearn.preprocessing import OrdinalEncoder\n",
        "\n",
        "# Sample data\n",
        "categories = [['Low'], ['Medium'], ['High']]\n",
        "\n",
        "# Initialize encoder\n",
        "ordinal_encoder = OrdinalEncoder()\n",
        "\n",
        "# Fit and transform the data\n",
        "encoded = ordinal_encoder.fit_transform(categories)\n",
        "\n",
        "print(\"Original Categories:\", categories)\n",
        "print(\"Ordinal Encoded Values:\", encoded.flatten())\n"
      ],
      "metadata": {
        "id": "BVOJ1aIykfQa"
      },
      "execution_count": null,
      "outputs": []
    },
    {
      "cell_type": "markdown",
      "source": [
        "4. Binary Encoding\n",
        "Combines label encoding and binary representation.\n",
        "Reduces dimensionality compared to one-hot encoding.\n",
        "Example: Using the category_encoders library:"
      ],
      "metadata": {
        "id": "zGKn679Vklx6"
      }
    },
    {
      "cell_type": "code",
      "source": [
        "import category_encoders as ce\n",
        "\n",
        "# Sample data\n",
        "categories = ['Red', 'Green', 'Blue']\n",
        "\n",
        "# Initialize encoder\n",
        "binary_encoder = ce.BinaryEncoder()\n",
        "\n",
        "# Fit and transform the data\n",
        "encoded = binary_encoder.fit_transform(categories)\n",
        "\n",
        "print(encoded)\n"
      ],
      "metadata": {
        "id": "yFqm20uwkjhv"
      },
      "execution_count": null,
      "outputs": []
    },
    {
      "cell_type": "markdown",
      "source": [
        "5. Frequency Encoding\n",
        "Replaces categories with their frequency count.\n",
        "Example:"
      ],
      "metadata": {
        "id": "otbPTB1ZkqOZ"
      }
    },
    {
      "cell_type": "code",
      "source": [
        "import pandas as pd\n",
        "\n",
        "# Sample data\n",
        "data = pd.DataFrame({'Category': ['A', 'B', 'A', 'C', 'B', 'A']})\n",
        "\n",
        "# Frequency encoding\n",
        "data['Frequency_Encoded'] = data['Category'].map(data['Category'].value_counts())\n",
        "\n",
        "print(data)\n"
      ],
      "metadata": {
        "id": "SKW3dmTRknbB"
      },
      "execution_count": null,
      "outputs": []
    },
    {
      "cell_type": "markdown",
      "source": [
        "6. Target Encoding\n",
        "Replaces categories with the mean of the target variable for that category.\n",
        "Typically used in supervised learning.\n",
        "Example:"
      ],
      "metadata": {
        "id": "SZOJnSkMktuk"
      }
    },
    {
      "cell_type": "code",
      "source": [
        "import pandas as pd\n",
        "\n",
        "# Sample data\n",
        "data = pd.DataFrame({'Category': ['A', 'B', 'A', 'C', 'B', 'A'],\n",
        "                     'Target': [1, 0, 1, 0, 1, 1]})\n",
        "\n",
        "# Target encoding\n",
        "means = data.groupby('Category')['Target'].mean()\n",
        "data['Target_Encoded'] = data['Category'].map(means)\n",
        "\n",
        "print(data)\n"
      ],
      "metadata": {
        "id": "iFLp_jdVkr5B"
      },
      "execution_count": null,
      "outputs": []
    },
    {
      "cell_type": "markdown",
      "source": [
        "![image.png](data:image/png;base64,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)"
      ],
      "metadata": {
        "id": "WE1kddH1kyHC"
      }
    },
    {
      "cell_type": "markdown",
      "source": [
        "Key Considerations\n",
        "Cardinality:\n",
        "\n",
        "For features with many unique categories, prefer binary or target encoding over one-hot encoding.\n",
        "Data Distribution:\n",
        "\n",
        "Use target encoding carefully to avoid data leakage in supervised learning.\n",
        "Model Type:\n",
        "\n",
        "Tree-based models (e.g., Random Forest) handle label encoding well.\n",
        "Linear models or distance-based models (e.g., k-NN) may require one-hot encoding."
      ],
      "metadata": {
        "id": "XlXwpn1zk0rD"
      }
    },
    {
      "cell_type": "code",
      "source": [],
      "metadata": {
        "id": "BltU_cDaku5I"
      },
      "execution_count": null,
      "outputs": []
    }
  ]
}