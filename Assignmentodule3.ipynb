{
  "nbformat": 4,
  "nbformat_minor": 0,
  "metadata": {
    "colab": {
      "provenance": []
    },
    "kernelspec": {
      "name": "python3",
      "display_name": "Python 3"
    },
    "language_info": {
      "name": "python"
    }
  },
  "cells": [
    {
      "cell_type": "code",
      "execution_count": null,
      "metadata": {
        "id": "LEADXjdaGliX"
      },
      "outputs": [],
      "source": []
    },
    {
      "cell_type": "markdown",
      "source": [
        "# New Section Q 1 Discuss string slicing and provide examples"
      ],
      "metadata": {
        "id": "JfYHOrqvGyL0"
      }
    },
    {
      "cell_type": "markdown",
      "source": [
        "String slicing refers to extracting a portion of a string by specifying a range of indices. Strings in Python are indexed, starting from 0, with negative indices counting backward from the end of the string."
      ],
      "metadata": {
        "id": "60b-AoP0G81P"
      }
    },
    {
      "cell_type": "code",
      "source": [
        "# basic syntax\n",
        "#string[start:end:step]\n"
      ],
      "metadata": {
        "id": "wBRLvOsWG6WG"
      },
      "execution_count": 3,
      "outputs": []
    },
    {
      "cell_type": "markdown",
      "source": [
        "start: The index where the slice starts (inclusive).\n",
        "end: The index where the slice ends (exclusive).\n",
        "step: How many characters to skip between each index (optional, default is 1).\n"
      ],
      "metadata": {
        "id": "NEu_8oiLHCnZ"
      }
    },
    {
      "cell_type": "code",
      "source": [
        "s = \"Hello, World!\"\n",
        "print(s[0:5])  # Output: Hello\n"
      ],
      "metadata": {
        "colab": {
          "base_uri": "https://localhost:8080/"
        },
        "id": "PUv_npkDG_tk",
        "outputId": "51794b97-d3ba-487e-e432-d65a045b27da"
      },
      "execution_count": 4,
      "outputs": [
        {
          "output_type": "stream",
          "name": "stdout",
          "text": [
            "Hello\n"
          ]
        }
      ]
    },
    {
      "cell_type": "code",
      "source": [
        "print(s[:5])   # Output: Hello (starts from index 0 by default)\n",
        "print(s[7:])   # Output: World! (goes till the end of the string)\n"
      ],
      "metadata": {
        "colab": {
          "base_uri": "https://localhost:8080/"
        },
        "id": "OYi1XWVDHPdG",
        "outputId": "09fbff0f-69b8-4870-bb4f-a065879185a8"
      },
      "execution_count": 5,
      "outputs": [
        {
          "output_type": "stream",
          "name": "stdout",
          "text": [
            "Hello\n",
            "World!\n"
          ]
        }
      ]
    },
    {
      "cell_type": "code",
      "source": [
        "print(s[-6:-1])  # Output: World (extracts from the end of the string)\n"
      ],
      "metadata": {
        "colab": {
          "base_uri": "https://localhost:8080/"
        },
        "id": "rzhLWRNUHRly",
        "outputId": "1b7df031-2ba7-4260-c1cb-4f5f98f9356d"
      },
      "execution_count": 6,
      "outputs": [
        {
          "output_type": "stream",
          "name": "stdout",
          "text": [
            "World\n"
          ]
        }
      ]
    },
    {
      "cell_type": "code",
      "source": [
        "print(s[::2])  # Output: Hlo ol! (every second character)\n"
      ],
      "metadata": {
        "colab": {
          "base_uri": "https://localhost:8080/"
        },
        "id": "63DBGNEMHTu5",
        "outputId": "aa09595f-7cb5-44b5-9b1f-430222e82616"
      },
      "execution_count": 7,
      "outputs": [
        {
          "output_type": "stream",
          "name": "stdout",
          "text": [
            "Hlo ol!\n"
          ]
        }
      ]
    },
    {
      "cell_type": "code",
      "source": [
        "print(s[::-1])  # Output: !dlroW ,olleH (reverses the string)\n"
      ],
      "metadata": {
        "colab": {
          "base_uri": "https://localhost:8080/"
        },
        "id": "ne2Jq4M8HV6k",
        "outputId": "4c03e4e7-1d15-4073-e2f1-f8c849c320fb"
      },
      "execution_count": 8,
      "outputs": [
        {
          "output_type": "stream",
          "name": "stdout",
          "text": [
            "!dlroW ,olleH\n"
          ]
        }
      ]
    },
    {
      "cell_type": "markdown",
      "source": [
        "String slicing is a powerful feature that allows you to easily manipulate strings without needing loops."
      ],
      "metadata": {
        "id": "BramlBO4Hbo1"
      }
    },
    {
      "cell_type": "markdown",
      "source": [
        "# New Section Q 2 Explain the key features of lists in Python"
      ],
      "metadata": {
        "id": "UOT4rd1mHkzU"
      }
    },
    {
      "cell_type": "markdown",
      "source": [
        "Lists in Python are a versatile and widely used data structure. They allow storing multiple items in a single variable and come with several key features:\n",
        "\n",
        "1. Ordered Collection:\n",
        "Lists maintain the order of elements as they are inserted. The order is preserved when accessed, so you can rely on indexing."
      ],
      "metadata": {
        "id": "b8QDlHrqH80n"
      }
    },
    {
      "cell_type": "code",
      "source": [
        "my_list = [3, 1, 4, 1, 5]\n",
        "print(my_list[0])  # Output: 3\n"
      ],
      "metadata": {
        "colab": {
          "base_uri": "https://localhost:8080/"
        },
        "id": "YQpXE5iWHYCC",
        "outputId": "d46d6278-340d-4bf2-a63c-174caa0aae03"
      },
      "execution_count": 9,
      "outputs": [
        {
          "output_type": "stream",
          "name": "stdout",
          "text": [
            "3\n"
          ]
        }
      ]
    },
    {
      "cell_type": "markdown",
      "source": [
        "2. Mutable:\n",
        "Lists can be modified after their creation. You can change, add, or remove elements.\n",
        "Example"
      ],
      "metadata": {
        "id": "h2ThYTCjIDOt"
      }
    },
    {
      "cell_type": "code",
      "source": [
        "my_list[0] = 10\n",
        "print(my_list)  # Output: [10, 1, 4, 1, 5]\n"
      ],
      "metadata": {
        "colab": {
          "base_uri": "https://localhost:8080/"
        },
        "id": "B7AaVnjPH_ow",
        "outputId": "0b13a947-593a-4091-96c3-672f48185251"
      },
      "execution_count": 10,
      "outputs": [
        {
          "output_type": "stream",
          "name": "stdout",
          "text": [
            "[10, 1, 4, 1, 5]\n"
          ]
        }
      ]
    },
    {
      "cell_type": "markdown",
      "source": [
        "3. Heterogeneous Elements:\n",
        "A list can contain elements of different types, including integers, strings, floats, or even other lists.\n"
      ],
      "metadata": {
        "id": "YJt6tXeeIIUz"
      }
    },
    {
      "cell_type": "code",
      "source": [
        "my_list = [1, \"Hello\", 3.14, [2, 4, 6]]\n"
      ],
      "metadata": {
        "id": "Vk_rAWTgIFBq"
      },
      "execution_count": 11,
      "outputs": []
    },
    {
      "cell_type": "markdown",
      "source": [
        "4. Dynamic Size:\n",
        "Lists can grow or shrink dynamically. You can append, insert, or remove elements without needing to declare a fixed size."
      ],
      "metadata": {
        "id": "JNoAFj1cIMQ0"
      }
    },
    {
      "cell_type": "code",
      "source": [
        "my_list.append(7)\n",
        "print(my_list)  # Output: [1, \"Hello\", 3.14, [2, 4, 6], 7]\n"
      ],
      "metadata": {
        "colab": {
          "base_uri": "https://localhost:8080/"
        },
        "id": "t-wmvEscIKH5",
        "outputId": "c9b99c5e-11cf-4b02-dad1-a59c33aa562e"
      },
      "execution_count": 12,
      "outputs": [
        {
          "output_type": "stream",
          "name": "stdout",
          "text": [
            "[1, 'Hello', 3.14, [2, 4, 6], 7]\n"
          ]
        }
      ]
    },
    {
      "cell_type": "markdown",
      "source": [
        "5. Indexed Access:\n",
        "Elements in a list are indexed starting from 0. You can access any element by its index, including using negative indexing to access from the end of the list.\n"
      ],
      "metadata": {
        "id": "knMvLAsfIQWc"
      }
    },
    {
      "cell_type": "code",
      "source": [
        "print(my_list[1])    # Output: Hello\n",
        "print(my_list[-1])   # Output: 7\n"
      ],
      "metadata": {
        "colab": {
          "base_uri": "https://localhost:8080/"
        },
        "id": "IM9fr1NIIOHr",
        "outputId": "6cdf9947-eb52-45d8-c4dc-e69f07533f9c"
      },
      "execution_count": 13,
      "outputs": [
        {
          "output_type": "stream",
          "name": "stdout",
          "text": [
            "Hello\n",
            "7\n"
          ]
        }
      ]
    },
    {
      "cell_type": "markdown",
      "source": [
        "6. Slicing Support:\n",
        "You can extract sublists using slicing (similar to string slicing)."
      ],
      "metadata": {
        "id": "LVW39d6oIWO3"
      }
    },
    {
      "cell_type": "code",
      "source": [
        "sub_list = my_list[1:3]\n",
        "print(sub_list)  # Output: ['Hello', 3.14]\n"
      ],
      "metadata": {
        "colab": {
          "base_uri": "https://localhost:8080/"
        },
        "id": "Gn0s5QKTISvV",
        "outputId": "0bdb505c-a209-4505-b4fa-6815733f5015"
      },
      "execution_count": 14,
      "outputs": [
        {
          "output_type": "stream",
          "name": "stdout",
          "text": [
            "['Hello', 3.14]\n"
          ]
        }
      ]
    },
    {
      "cell_type": "markdown",
      "source": [
        "7. Variety of Methods:\n",
        "Lists come with various built-in methods like .append(), .remove(), .pop(), .extend(), .sort(), .reverse(), etc., making them versatile for various operations."
      ],
      "metadata": {
        "id": "hJLNcRHPIa92"
      }
    },
    {
      "cell_type": "code",
      "source": [
        "#my_list.sort()\n",
        "#print(my_list)  # Sorts the list, works if all elements are comparable.\n"
      ],
      "metadata": {
        "id": "1-OiFScpIX82"
      },
      "execution_count": 16,
      "outputs": []
    },
    {
      "cell_type": "markdown",
      "source": [
        "8. Nested Lists (Multidimensional):\n",
        "Lists can contain other lists, allowing you to create multi-dimensional arrays or nested structures."
      ],
      "metadata": {
        "id": "Dmb7NuSpIm2z"
      }
    },
    {
      "cell_type": "code",
      "source": [
        "matrix = [[1, 2, 3], [4, 5, 6], [7, 8, 9]]\n",
        "print(matrix[1][2])  # Output: 6\n"
      ],
      "metadata": {
        "colab": {
          "base_uri": "https://localhost:8080/"
        },
        "id": "A8GKMrHUIdZg",
        "outputId": "1d9ca5c9-b559-4054-c78a-c98a5d89c16b"
      },
      "execution_count": 17,
      "outputs": [
        {
          "output_type": "stream",
          "name": "stdout",
          "text": [
            "6\n"
          ]
        }
      ]
    },
    {
      "cell_type": "markdown",
      "source": [
        "9. List Comprehension:\n",
        "Python offers a concise way to create lists using list comprehensions, which can include conditions and loops."
      ],
      "metadata": {
        "id": "1nHnbcy5ItXp"
      }
    },
    {
      "cell_type": "code",
      "source": [
        "squares = [x**2 for x in range(5)]\n",
        "print(squares)  # Output: [0, 1, 4, 9, 16]\n"
      ],
      "metadata": {
        "colab": {
          "base_uri": "https://localhost:8080/"
        },
        "id": "VFT3HqE3IpBB",
        "outputId": "f3a5f357-0dc0-40c4-cb45-15f9bdfeb2c3"
      },
      "execution_count": 18,
      "outputs": [
        {
          "output_type": "stream",
          "name": "stdout",
          "text": [
            "[0, 1, 4, 9, 16]\n"
          ]
        }
      ]
    },
    {
      "cell_type": "markdown",
      "source": [
        "10. Supports Iteration:\n",
        "You can iterate over a list using loops like for or while."
      ],
      "metadata": {
        "id": "LnDjXadAI0SG"
      }
    },
    {
      "cell_type": "code",
      "source": [
        "for item in my_list:\n",
        "    print(item)\n"
      ],
      "metadata": {
        "colab": {
          "base_uri": "https://localhost:8080/"
        },
        "id": "fCq5IwIdIwLd",
        "outputId": "b573c1e8-ce7e-4311-c9bf-7e269b49f864"
      },
      "execution_count": 19,
      "outputs": [
        {
          "output_type": "stream",
          "name": "stdout",
          "text": [
            "1\n",
            "Hello\n",
            "3.14\n",
            "[2, 4, 6]\n",
            "7\n"
          ]
        }
      ]
    },
    {
      "cell_type": "markdown",
      "source": [
        "These features make Python lists a powerful tool for handling and manipulating collections of data.\n",
        "\n",
        "\n",
        "\n",
        "\n",
        "\n",
        "\n"
      ],
      "metadata": {
        "id": "0yEnS_LTI5qh"
      }
    },
    {
      "cell_type": "markdown",
      "source": [
        "# New Section Q 3  Describe how to access modifyy,and delete elements in a list with examples"
      ],
      "metadata": {
        "id": "MktF8Td3JCQH"
      }
    },
    {
      "cell_type": "markdown",
      "source": [
        "In Python, lists allow for easy access, modification, and deletion of elements. Here’s a breakdown of each operation with examples:\n",
        "\n",
        "1. Accessing Elements in a List\n",
        "You can access list elements using their index. Python uses zero-based indexing, so the first element is at index 0, and negative indices access elements from the end."
      ],
      "metadata": {
        "id": "fTcF68laJu7v"
      }
    },
    {
      "cell_type": "code",
      "source": [
        "my_list = [10, 20, 30, 40, 50]\n",
        "\n",
        "# Accessing elements using positive indexing\n",
        "print(my_list[0])  # Output: 10\n",
        "print(my_list[2])  # Output: 30\n",
        "\n",
        "# Accessing elements using negative indexing\n",
        "print(my_list[-1])  # Output: 50\n",
        "print(my_list[-3])  # Output: 30\n"
      ],
      "metadata": {
        "colab": {
          "base_uri": "https://localhost:8080/"
        },
        "id": "0dR_g8VsI3II",
        "outputId": "52524493-7c96-4d1b-e834-7f1c946c8585"
      },
      "execution_count": 20,
      "outputs": [
        {
          "output_type": "stream",
          "name": "stdout",
          "text": [
            "10\n",
            "30\n",
            "50\n",
            "30\n"
          ]
        }
      ]
    },
    {
      "cell_type": "markdown",
      "source": [
        "2. Modifying Elements in a List\n",
        "Lists are mutable, meaning you can change their elements after they are created. You can modify an element by accessing it via its index and assigning it a new value."
      ],
      "metadata": {
        "id": "SRVPQCA8JzHD"
      }
    },
    {
      "cell_type": "code",
      "source": [
        "my_list = [10, 20, 30, 40, 50]\n",
        "\n",
        "# Modifying the element at index 1\n",
        "my_list[1] = 25\n",
        "print(my_list)  # Output: [10, 25, 30, 40, 50]\n",
        "\n",
        "# Modifying the element at index -2 (second last element)\n",
        "my_list[-2] = 45\n",
        "print(my_list)  # Output: [10, 25, 30, 45, 50]\n"
      ],
      "metadata": {
        "colab": {
          "base_uri": "https://localhost:8080/"
        },
        "id": "mtG7oYx1Jwux",
        "outputId": "42849b10-5062-494e-a777-c85328a2f296"
      },
      "execution_count": 21,
      "outputs": [
        {
          "output_type": "stream",
          "name": "stdout",
          "text": [
            "[10, 25, 30, 40, 50]\n",
            "[10, 25, 30, 45, 50]\n"
          ]
        }
      ]
    },
    {
      "cell_type": "markdown",
      "source": [
        "3. Deleting Elements in a List\n",
        "You can remove elements from a list in several ways:\n",
        "\n",
        "del statement: Removes an element by index.\n",
        ".remove(): Removes the first occurrence of a specified value.\n",
        ".pop(): Removes and returns an element by index (or the last element if the index is not provided).\n",
        ".clear(): Removes all elements from the list.\n",
        "Example:\n",
        "Using del:"
      ],
      "metadata": {
        "id": "ZDLYbh1vJ4ru"
      }
    },
    {
      "cell_type": "code",
      "source": [
        "my_list = [10, 20, 30, 40, 50]\n",
        "del my_list[2]  # Deleting the element at index 2\n",
        "print(my_list)  # Output: [10, 20, 40, 50]\n"
      ],
      "metadata": {
        "colab": {
          "base_uri": "https://localhost:8080/"
        },
        "id": "EpKvVhXcJ1Jj",
        "outputId": "827a691f-75e1-41f8-c583-ae8a225a4074"
      },
      "execution_count": 22,
      "outputs": [
        {
          "output_type": "stream",
          "name": "stdout",
          "text": [
            "[10, 20, 40, 50]\n"
          ]
        }
      ]
    },
    {
      "cell_type": "markdown",
      "source": [
        "Using .remove():"
      ],
      "metadata": {
        "id": "iLmjBjxRJ8EH"
      }
    },
    {
      "cell_type": "code",
      "source": [
        "my_list = [10, 20, 30, 40, 50]\n",
        "my_list.remove(30)  # Removing the element with value 30\n",
        "print(my_list)  # Output: [10, 20, 40, 50]\n"
      ],
      "metadata": {
        "colab": {
          "base_uri": "https://localhost:8080/"
        },
        "id": "S9xWp1mIJ7DD",
        "outputId": "c055f937-1533-4288-e431-8eebeee9a038"
      },
      "execution_count": 23,
      "outputs": [
        {
          "output_type": "stream",
          "name": "stdout",
          "text": [
            "[10, 20, 40, 50]\n"
          ]
        }
      ]
    },
    {
      "cell_type": "markdown",
      "source": [
        "Using .pop():"
      ],
      "metadata": {
        "id": "y1nroLF1KEtT"
      }
    },
    {
      "cell_type": "code",
      "source": [
        "my_list = [10, 20, 30, 40, 50]\n",
        "popped_element = my_list.pop(1)  # Popping the element at index 1\n",
        "print(popped_element)  # Output: 20\n",
        "print(my_list)  # Output: [10, 30, 40, 50]\n",
        "\n",
        "# Pop without an index (removes and returns the last element)\n",
        "last_element = my_list.pop()\n",
        "print(last_element)  # Output: 50\n",
        "print(my_list)  # Output: [10, 30, 40]\n"
      ],
      "metadata": {
        "colab": {
          "base_uri": "https://localhost:8080/"
        },
        "id": "ew3uOZ0QKB-V",
        "outputId": "1ff3644a-6c95-4e22-cda2-76b634ad0742"
      },
      "execution_count": 24,
      "outputs": [
        {
          "output_type": "stream",
          "name": "stdout",
          "text": [
            "20\n",
            "[10, 30, 40, 50]\n",
            "50\n",
            "[10, 30, 40]\n"
          ]
        }
      ]
    },
    {
      "cell_type": "markdown",
      "source": [
        "Using .clear():"
      ],
      "metadata": {
        "id": "x49AGzaoKMJI"
      }
    },
    {
      "cell_type": "code",
      "source": [
        "my_list = [10, 20, 30, 40, 50]\n",
        "my_list.clear()  # Removing all elements from the list\n",
        "print(my_list)  # Output: []\n"
      ],
      "metadata": {
        "colab": {
          "base_uri": "https://localhost:8080/"
        },
        "id": "G_JF6p3WKGcy",
        "outputId": "456c1dc1-d3eb-4369-96b3-c8c3c9127a51"
      },
      "execution_count": 25,
      "outputs": [
        {
          "output_type": "stream",
          "name": "stdout",
          "text": [
            "[]\n"
          ]
        }
      ]
    },
    {
      "cell_type": "markdown",
      "source": [
        "Access elements using indexing.\n",
        "Modify elements by assigning a new value to an index.\n",
        "Delete elements using del, .remove(), .pop(), or .clear()."
      ],
      "metadata": {
        "id": "KAFzS0bjKRto"
      }
    },
    {
      "cell_type": "markdown",
      "source": [
        "# New Section Q 4 Compare and contrast tuples and lists with examples"
      ],
      "metadata": {
        "id": "1kR4-mAgKmQz"
      }
    },
    {
      "cell_type": "markdown",
      "source": [
        "Tuples and lists are both sequence data types in Python that store collections of items. However, they differ in some key aspects, such as mutability, syntax, and use cases. Let’s compare and contrast them:\n",
        "\n",
        "1. Mutability:\n",
        "Lists: Mutable, meaning you can modify, add, or remove elements after the list is created.\n",
        "Tuples: Immutable, meaning once a tuple is created, its elements cannot be changed."
      ],
      "metadata": {
        "id": "PDfkXYLkLpGY"
      }
    },
    {
      "cell_type": "code",
      "source": [
        "# List (mutable)\n",
        "my_list = [1, 2, 3]\n",
        "my_list[1] = 10  # Modifying an element\n",
        "print(my_list)   # Output: [1, 10, 3]\n",
        "\n",
        "# Tuple (immutable)\n",
        "my_tuple = (1, 2, 3)\n",
        "# my_tuple[1] = 10  # This will raise an error (TypeError)\n"
      ],
      "metadata": {
        "colab": {
          "base_uri": "https://localhost:8080/"
        },
        "id": "tgYbFM-uKOK-",
        "outputId": "03890c1a-7e3f-41bb-ae0e-f4ee1fef4541"
      },
      "execution_count": 26,
      "outputs": [
        {
          "output_type": "stream",
          "name": "stdout",
          "text": [
            "[1, 10, 3]\n"
          ]
        }
      ]
    },
    {
      "cell_type": "markdown",
      "source": [
        "2. Syntax:\n",
        "Lists: Defined using square brackets [].\n",
        "Tuples: Defined using parentheses ().\n",
        "Example:"
      ],
      "metadata": {
        "id": "H53yTWr7LuqD"
      }
    },
    {
      "cell_type": "code",
      "source": [
        "# List\n",
        "my_list = [1, 2, 3]\n",
        "\n",
        "# Tuple\n",
        "my_tuple = (1, 2, 3)\n"
      ],
      "metadata": {
        "id": "282sC8qRLros"
      },
      "execution_count": 27,
      "outputs": []
    },
    {
      "cell_type": "markdown",
      "source": [
        "3. Performance:\n",
        "Lists: Slightly slower than tuples due to the overhead of mutability.\n",
        "Tuples: Faster than lists because they are immutable, and Python optimizes their performance as they do not change.\n",
        "Example:\n",
        "\n",
        "In large data structures or for read-only data, using tuples can offer a performance advantage.\n",
        "4. Functions and Methods:\n",
        "Lists: Have several built-in methods like .append(), .remove(), .pop(), etc., for modifying the list.\n",
        "Tuples: Have very few methods (.count() and .index()) since they are immutable."
      ],
      "metadata": {
        "id": "gAqlIE3zL1ON"
      }
    },
    {
      "cell_type": "code",
      "source": [
        "my_list = [1, 2, 3]\n",
        "my_list.append(4)   # Adds an element to the list\n",
        "print(my_list)      # Output: [1, 2, 3, 4]\n",
        "\n",
        "my_tuple = (1, 2, 3)\n",
        "# my_tuple.append(4)  # Raises an error since tuples are immutable\n"
      ],
      "metadata": {
        "colab": {
          "base_uri": "https://localhost:8080/"
        },
        "id": "xMA54EBGLw0C",
        "outputId": "8a33eb32-9570-424b-f1ce-36561662e63e"
      },
      "execution_count": 28,
      "outputs": [
        {
          "output_type": "stream",
          "name": "stdout",
          "text": [
            "[1, 2, 3, 4]\n"
          ]
        }
      ]
    },
    {
      "cell_type": "markdown",
      "source": [
        "5. Use Cases:\n",
        "Lists: Used when you need a collection of items that can be modified, such as dynamic arrays, data structures that require frequent updates, or when order matters.\n",
        "Tuples: Used for fixed collections of items, especially when immutability is desired (e.g., coordinates, constant data that shouldn’t change).\n",
        "Example:\n",
        "\n",
        "List:"
      ],
      "metadata": {
        "id": "gSMwCh-LL-QQ"
      }
    },
    {
      "cell_type": "code",
      "source": [
        "students = [\"Alice\", \"Bob\", \"Charlie\"]\n",
        "students.append(\"David\")  # You can add or remove students\n"
      ],
      "metadata": {
        "id": "K_jlhWkLL6Te"
      },
      "execution_count": 29,
      "outputs": []
    },
    {
      "cell_type": "code",
      "source": [
        "# Tuple:\n",
        "coordinates = (10, 20)  # A fixed pair of coordinates that won't change\n"
      ],
      "metadata": {
        "id": "eWyP8GAGMCKt"
      },
      "execution_count": 30,
      "outputs": []
    },
    {
      "cell_type": "markdown",
      "source": [
        "6. Heterogeneous Data:\n",
        "Both lists and tuples can hold elements of different data types."
      ],
      "metadata": {
        "id": "UcflacIZMPCx"
      }
    },
    {
      "cell_type": "code",
      "source": [
        "my_list = [1, \"Hello\", 3.14]\n",
        "my_tuple = (1, \"Hello\", 3.14)\n"
      ],
      "metadata": {
        "id": "A-PPIiG2MIg7"
      },
      "execution_count": 31,
      "outputs": []
    },
    {
      "cell_type": "markdown",
      "source": [
        "7. Nesting:\n",
        "Both lists and tuples can be nested within each other"
      ],
      "metadata": {
        "id": "4ujdP2F9MV4f"
      }
    },
    {
      "cell_type": "code",
      "source": [
        "# Nested List\n",
        "nested_list = [[1, 2], [3, 4]]\n",
        "\n",
        "# Nested Tuple\n",
        "nested_tuple = ((1, 2), (3, 4))\n"
      ],
      "metadata": {
        "id": "R46dlaXvMSfi"
      },
      "execution_count": 32,
      "outputs": []
    },
    {
      "cell_type": "markdown",
      "source": [
        "8. Length:\n",
        "You can use the len() function to find the number of elements in both lists and tuple"
      ],
      "metadata": {
        "id": "Mgwpdc4pMcFF"
      }
    },
    {
      "cell_type": "code",
      "source": [
        "my_list = [1, 2, 3]\n",
        "my_tuple = (1, 2, 3)\n",
        "print(len(my_list))   # Output: 3\n",
        "print(len(my_tuple))  # Output: 3\n"
      ],
      "metadata": {
        "colab": {
          "base_uri": "https://localhost:8080/"
        },
        "id": "jIu912pdMXpj",
        "outputId": "3f199353-51ca-4568-d879-25a7cbfc2740"
      },
      "execution_count": 33,
      "outputs": [
        {
          "output_type": "stream",
          "name": "stdout",
          "text": [
            "3\n",
            "3\n"
          ]
        }
      ]
    },
    {
      "cell_type": "markdown",
      "source": [
        "9. Conversion:\n",
        "You can convert between lists and tuples using list() and tuple() functions."
      ],
      "metadata": {
        "id": "YKACVG9jMgEe"
      }
    },
    {
      "cell_type": "code",
      "source": [
        "my_list = [1, 2, 3]\n",
        "my_tuple = tuple(my_list)  # Convert list to tuple\n",
        "print(my_tuple)  # Output: (1, 2, 3)\n",
        "\n",
        "my_tuple = (1, 2, 3)\n",
        "my_list = list(my_tuple)  # Convert tuple to list\n",
        "print(my_list)  # Output: [1, 2, 3]\n"
      ],
      "metadata": {
        "colab": {
          "base_uri": "https://localhost:8080/"
        },
        "id": "JAqVXoCcMdxT",
        "outputId": "607fd69d-fd2c-4413-dd70-c492a89a5f1b"
      },
      "execution_count": 34,
      "outputs": [
        {
          "output_type": "stream",
          "name": "stdout",
          "text": [
            "(1, 2, 3)\n",
            "[1, 2, 3]\n"
          ]
        }
      ]
    },
    {
      "cell_type": "markdown",
      "source": [
        "![image.png](data:image/png;base64,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)"
      ],
      "metadata": {
        "id": "y_p53iqHMmxT"
      }
    },
    {
      "cell_type": "markdown",
      "source": [
        "# New Section Q 5 Describe the key features of sets and provide examples of their use"
      ],
      "metadata": {
        "id": "cV3v72P2Mqi9"
      }
    },
    {
      "cell_type": "markdown",
      "source": [
        "A set in Python is an unordered collection of unique elements. Sets are particularly useful when you need to store distinct values and perform operations like union, intersection, and difference. Below are the key features of sets along with examples of their use:\n",
        "\n",
        "Key Features of Sets:\n",
        "Unordered:\n",
        "\n",
        "Sets do not maintain the order of elements. When you print or iterate over a set, the elements may appear in a different order than how you inserted them.\n",
        "Example:"
      ],
      "metadata": {
        "id": "enwcIZ_PNlRr"
      }
    },
    {
      "cell_type": "code",
      "source": [
        "my_set = {3, 1, 4, 2}\n",
        "print(my_set)  # Output could be: {1, 2, 3, 4} (order may vary)\n"
      ],
      "metadata": {
        "colab": {
          "base_uri": "https://localhost:8080/"
        },
        "id": "QfmaIAPWMh9v",
        "outputId": "d935eb58-e435-4ee5-d6e8-f21d2953d6ff"
      },
      "execution_count": 35,
      "outputs": [
        {
          "output_type": "stream",
          "name": "stdout",
          "text": [
            "{1, 2, 3, 4}\n"
          ]
        }
      ]
    },
    {
      "cell_type": "markdown",
      "source": [
        "Unique Elements:\n",
        "\n",
        "Sets automatically eliminate duplicate values. If you try to add a duplicate, it won’t be included."
      ],
      "metadata": {
        "id": "yN3bMs3gOCbR"
      }
    },
    {
      "cell_type": "code",
      "source": [
        "my_set = {1, 2, 2, 3}\n",
        "print(my_set)  # Output: {1, 2, 3}\n"
      ],
      "metadata": {
        "colab": {
          "base_uri": "https://localhost:8080/"
        },
        "id": "jgBDsrb9N_ZW",
        "outputId": "0da18caa-1479-4072-f814-9ef75026f2bf"
      },
      "execution_count": 36,
      "outputs": [
        {
          "output_type": "stream",
          "name": "stdout",
          "text": [
            "{1, 2, 3}\n"
          ]
        }
      ]
    },
    {
      "cell_type": "markdown",
      "source": [
        "Mutable:\n",
        "\n",
        "While sets themselves are mutable, meaning you can add or remove elements, the elements in a set must be immutable (e.g., integers, strings, tuples). Lists and dictionaries cannot be elements of a set."
      ],
      "metadata": {
        "id": "yV8ZsTJGOPiu"
      }
    },
    {
      "cell_type": "code",
      "source": [
        "my_set = {1, 2, 3}\n",
        "my_set.add(4)  # Adding an element\n",
        "print(my_set)  # Output: {1, 2, 3, 4}\n"
      ],
      "metadata": {
        "colab": {
          "base_uri": "https://localhost:8080/"
        },
        "id": "M7nATC3iOMOc",
        "outputId": "4ba4b9be-afb7-49b8-fddf-1620407a5b3b"
      },
      "execution_count": 37,
      "outputs": [
        {
          "output_type": "stream",
          "name": "stdout",
          "text": [
            "{1, 2, 3, 4}\n"
          ]
        }
      ]
    },
    {
      "cell_type": "markdown",
      "source": [
        "No Indexing or Slicing:\n",
        "\n",
        "Since sets are unordered, they don’t support indexing or slicing like lists or tuples.\n",
        "Example:"
      ],
      "metadata": {
        "id": "ZVH3nOGXOUIq"
      }
    },
    {
      "cell_type": "code",
      "source": [
        "my_set = {1, 2, 3}\n",
        "# print(my_set[0])  # This will raise an error because sets don’t support indexing\n"
      ],
      "metadata": {
        "id": "RIT98ztXORYG"
      },
      "execution_count": 38,
      "outputs": []
    },
    {
      "cell_type": "markdown",
      "source": [
        "Efficient Membership Tests:\n",
        "\n",
        "Sets provide fast membership testing (checking whether an element is in the set) due to their underlying hash-based implementation."
      ],
      "metadata": {
        "id": "wtVijbyyOZUY"
      }
    },
    {
      "cell_type": "code",
      "source": [
        "my_set = {1, 2, 3}\n",
        "print(2 in my_set)  # Output: True\n",
        "print(5 in my_set)  # Output: False\n"
      ],
      "metadata": {
        "colab": {
          "base_uri": "https://localhost:8080/"
        },
        "id": "6UjxtwjFOV0Q",
        "outputId": "77b5e27e-91d4-45f9-a64b-bda349ebc65b"
      },
      "execution_count": 39,
      "outputs": [
        {
          "output_type": "stream",
          "name": "stdout",
          "text": [
            "True\n",
            "False\n"
          ]
        }
      ]
    },
    {
      "cell_type": "markdown",
      "source": [
        "Set Operations:\n",
        "\n",
        "Sets support mathematical operations such as union, intersection, difference, and symmetric difference."
      ],
      "metadata": {
        "id": "IlqVAirvOdEq"
      }
    },
    {
      "cell_type": "code",
      "source": [
        "set_a = {1, 2, 3}\n",
        "set_b = {3, 4, 5}\n",
        "\n",
        "# Union (all unique elements from both sets)\n",
        "print(set_a | set_b)  # Output: {1, 2, 3, 4, 5}\n",
        "\n",
        "# Intersection (common elements in both sets)\n",
        "print(set_a & set_b)  # Output: {3}\n",
        "\n",
        "# Difference (elements in set_a but not in set_b)\n",
        "print(set_a - set_b)  # Output: {1, 2}\n",
        "\n",
        "# Symmetric Difference (elements in either set, but not both)\n",
        "print(set_a ^ set_b)  # Output: {1, 2, 4, 5}\n"
      ],
      "metadata": {
        "colab": {
          "base_uri": "https://localhost:8080/"
        },
        "id": "KafPMvIvObB7",
        "outputId": "5bc99ae7-6d1d-4faf-db27-78e8a931576f"
      },
      "execution_count": 40,
      "outputs": [
        {
          "output_type": "stream",
          "name": "stdout",
          "text": [
            "{1, 2, 3, 4, 5}\n",
            "{3}\n",
            "{1, 2}\n",
            "{1, 2, 4, 5}\n"
          ]
        }
      ]
    },
    {
      "cell_type": "markdown",
      "source": [
        "Immutability with Frozensets:\n",
        "\n",
        "Python also provides an immutable version of sets called frozensets. Once created, you cannot modify frozensets, but you can perform set operations like union, intersection, etc."
      ],
      "metadata": {
        "id": "wehiO1M6OkID"
      }
    },
    {
      "cell_type": "code",
      "source": [
        "my_frozenset = frozenset([1, 2, 3])\n",
        "# my_frozenset.add(4)  # This will raise an error since frozensets are immutable\n"
      ],
      "metadata": {
        "id": "UQLV2D9BOexY"
      },
      "execution_count": 41,
      "outputs": []
    },
    {
      "cell_type": "markdown",
      "source": [
        "Set Methods:\n",
        "\n",
        "Sets provide various methods for modifying and interacting with elements, including:\n",
        ".add(): Adds an element to the set.\n",
        ".remove(): Removes a specific element (raises an error if not found).\n",
        ".discard(): Removes a specific element (does nothing if not found).\n",
        ".clear(): Removes all elements from the set.\n"
      ],
      "metadata": {
        "id": "xVhLorueOpcq"
      }
    },
    {
      "cell_type": "code",
      "source": [
        "my_set = {1, 2, 3}\n",
        "\n",
        "# Adding an element\n",
        "my_set.add(4)\n",
        "print(my_set)  # Output: {1, 2, 3, 4}\n",
        "\n",
        "# Removing an element\n",
        "my_set.remove(2)\n",
        "print(my_set)  # Output: {1, 3, 4}\n",
        "\n",
        "# Using discard (no error if element not found)\n",
        "my_set.discard(5)  # No error\n",
        "print(my_set)  # Output: {1, 3, 4}\n"
      ],
      "metadata": {
        "colab": {
          "base_uri": "https://localhost:8080/"
        },
        "id": "5GPFjBlzOl6o",
        "outputId": "1ae7974f-fe63-4f8f-e3d0-4ea8eb5f9883"
      },
      "execution_count": 42,
      "outputs": [
        {
          "output_type": "stream",
          "name": "stdout",
          "text": [
            "{1, 2, 3, 4}\n",
            "{1, 3, 4}\n",
            "{1, 3, 4}\n"
          ]
        }
      ]
    },
    {
      "cell_type": "markdown",
      "source": [
        "Examples of Use:\n",
        "Removing Duplicates from a List:\n",
        "\n",
        "You can convert a list to a set to remove duplicate elements, since sets only store unique elements."
      ],
      "metadata": {
        "id": "N3ocea96Ow6I"
      }
    },
    {
      "cell_type": "code",
      "source": [
        "my_list = [1, 2, 2, 3, 4, 4, 5]\n",
        "unique_set = set(my_list)\n",
        "print(unique_set)  # Output: {1, 2, 3, 4, 5}\n"
      ],
      "metadata": {
        "colab": {
          "base_uri": "https://localhost:8080/"
        },
        "id": "17EiZkY4Ou41",
        "outputId": "0a235f6b-fb72-4d2e-bf91-da75f6a0bcdc"
      },
      "execution_count": 43,
      "outputs": [
        {
          "output_type": "stream",
          "name": "stdout",
          "text": [
            "{1, 2, 3, 4, 5}\n"
          ]
        }
      ]
    },
    {
      "cell_type": "markdown",
      "source": [
        "Membership Testing:\n",
        "\n",
        "Sets are ideal for fast membership tests. If you want to check whether an element exists in a large collection, sets provide an efficient way to do this."
      ],
      "metadata": {
        "id": "GR_DgOhnO4d3"
      }
    },
    {
      "cell_type": "code",
      "source": [
        "my_set = {1, 2, 3, 4, 5}\n",
        "print(3 in my_set)  # Output: True\n",
        "print(10 in my_set)  # Output: False\n"
      ],
      "metadata": {
        "colab": {
          "base_uri": "https://localhost:8080/"
        },
        "id": "OrRaIvW8O2Ji",
        "outputId": "fbcec460-9c7c-4011-c814-56cf3cd39333"
      },
      "execution_count": 44,
      "outputs": [
        {
          "output_type": "stream",
          "name": "stdout",
          "text": [
            "True\n",
            "False\n"
          ]
        }
      ]
    },
    {
      "cell_type": "markdown",
      "source": [
        "Finding Common Elements:\n",
        "\n",
        "Use sets to easily find the common elements (intersection) between two collections.\n",
        "Example:"
      ],
      "metadata": {
        "id": "sWHKytBxPAIf"
      }
    },
    {
      "cell_type": "code",
      "source": [
        "set_a = {1, 2, 3, 4}\n",
        "set_b = {3, 4, 5, 6}\n",
        "common_elements = set_a & set_b\n",
        "print(common_elements)  # Output: {3, 4}\n"
      ],
      "metadata": {
        "colab": {
          "base_uri": "https://localhost:8080/"
        },
        "id": "zehdEyBmO9K_",
        "outputId": "7e674a53-09a9-40a4-ad4d-9e63b6975bc6"
      },
      "execution_count": 45,
      "outputs": [
        {
          "output_type": "stream",
          "name": "stdout",
          "text": [
            "{3, 4}\n"
          ]
        }
      ]
    },
    {
      "cell_type": "markdown",
      "source": [
        "Eliminating Duplicates from Input:\n",
        "\n",
        "Sets can be used to keep track of unique values when processing user inputs, like removing duplicate emails from a list."
      ],
      "metadata": {
        "id": "WoH6ubGKPEVh"
      }
    },
    {
      "cell_type": "code",
      "source": [
        "emails = [\"abc@example.com\", \"def@example.com\", \"abc@example.com\"]\n",
        "unique_emails = set(emails)\n",
        "print(unique_emails)  # Output: {\"abc@example.com\", \"def@example.com\"}\n"
      ],
      "metadata": {
        "colab": {
          "base_uri": "https://localhost:8080/"
        },
        "id": "hirU63fEPCSY",
        "outputId": "3de11fc0-ef76-4373-9e09-11be266b4cf8"
      },
      "execution_count": 46,
      "outputs": [
        {
          "output_type": "stream",
          "name": "stdout",
          "text": [
            "{'abc@example.com', 'def@example.com'}\n"
          ]
        }
      ]
    },
    {
      "cell_type": "markdown",
      "source": [
        "Summary of Set Features:\n",
        "Unordered: Elements have no fixed order.\n",
        "Unique: No duplicates allowed.\n",
        "Mutable: You can add or remove elements, but they must be immutable types.\n",
        "Efficient Membership Testing: Fast checks for whether an item exists in a set.\n",
        "Supports Set Operations: Union, intersection, difference, and more.\n",
        "These features make sets useful for situations where you need to store unique items, eliminate duplicates, or perform set-based operations like union and intersection."
      ],
      "metadata": {
        "id": "y6QUTJjyPJgg"
      }
    },
    {
      "cell_type": "markdown",
      "source": [
        "# New Section Q 6  Discuss the use cases of tuples and sets in Python programming"
      ],
      "metadata": {
        "id": "tr7981jKPNzp"
      }
    },
    {
      "cell_type": "markdown",
      "source": [
        "Both tuples and sets in Python serve specific use cases based on their characteristics, such as immutability and uniqueness. Here's a discussion of common use cases for each:\n",
        "\n",
        "Use Cases of Tuples:\n",
        "Fixed Collections:\n",
        "\n",
        "Tuples are ideal for storing data that should not be changed after creation. If you need a collection of related items that are logically grouped together and should remain constant, a tuple is a good choice.\n",
        "Example:"
      ],
      "metadata": {
        "id": "FO5qxrINQfd_"
      }
    },
    {
      "cell_type": "code",
      "source": [
        "# Storing geographic coordinates\n",
        "coordinates = (40.7128, -74.0060)  # (latitude, longitude)\n"
      ],
      "metadata": {
        "id": "62HMilHEPGPv"
      },
      "execution_count": 47,
      "outputs": []
    },
    {
      "cell_type": "markdown",
      "source": [
        "Return Multiple Values from Functions:\n",
        "\n",
        "A function can return multiple values using a tuple. This is useful when you want to return more than one piece of data without needing to define a custom class or data structure."
      ],
      "metadata": {
        "id": "MJE_GpknQjUs"
      }
    },
    {
      "cell_type": "code",
      "source": [
        "def get_student_info():\n",
        "    return (\"Alice\", 20, \"Computer Science\")\n",
        "\n",
        "name, age, major = get_student_info()\n"
      ],
      "metadata": {
        "id": "5rcY1W2TQhCp"
      },
      "execution_count": 48,
      "outputs": []
    },
    {
      "cell_type": "markdown",
      "source": [
        "Immutable Data:\n",
        "\n",
        "Tuples are useful for storing immutable data. This is helpful in situations where you want to prevent accidental modification, like storing configuration data or constants."
      ],
      "metadata": {
        "id": "eqWOlK4nQnox"
      }
    },
    {
      "cell_type": "code",
      "source": [
        "# Storing a set of constants\n",
        "HTTP_STATUS_CODES = (200, 404, 500)\n"
      ],
      "metadata": {
        "id": "xWxRp7hQQlh5"
      },
      "execution_count": 49,
      "outputs": []
    },
    {
      "cell_type": "markdown",
      "source": [
        "Dictionary Keys:\n",
        "\n",
        "Since tuples are immutable, they can be used as keys in dictionaries, while lists cannot be used as dictionary keys. This is especially useful when you need composite keys (multiple values as a key)."
      ],
      "metadata": {
        "id": "tTBr3OwmQruS"
      }
    },
    {
      "cell_type": "code",
      "source": [
        "# Using a tuple as a composite key\n",
        "location_map = {\n",
        "    (40.7128, -74.0060): \"New York\",\n",
        "    (34.0522, -118.2437): \"Los Angeles\"\n",
        "}\n"
      ],
      "metadata": {
        "id": "-8qEs4PMQpU3"
      },
      "execution_count": 50,
      "outputs": []
    },
    {
      "cell_type": "markdown",
      "source": [
        "Storing Heterogeneous Data:\n",
        "\n",
        "Tuples are often used to store heterogeneous data, where each element represents a different attribute. They are ideal when you want to group data together, such as storing a person's name, age, and occupation."
      ],
      "metadata": {
        "id": "pA0gsp54QwEb"
      }
    },
    {
      "cell_type": "code",
      "source": [
        "person = (\"John\", 35, \"Engineer\")  # Name, age, occupation\n"
      ],
      "metadata": {
        "id": "R-V6551bQuFt"
      },
      "execution_count": 51,
      "outputs": []
    },
    {
      "cell_type": "markdown",
      "source": [
        "Efficient and Safe Data Storage:\n",
        "\n",
        "Tuples are more memory-efficient than lists, so they are used when memory usage is a concern, and the data does not need to be modified. Their immutability also ensures that the data stays consistent throughout the program.\n",
        "Example:"
      ],
      "metadata": {
        "id": "w0EL4IoNQ1MY"
      }
    },
    {
      "cell_type": "code",
      "source": [
        "# Storing a read-only collection of months\n",
        "months = (\"January\", \"February\", \"March\", \"April\", \"May\", \"June\",\n",
        "          \"July\", \"August\", \"September\", \"October\", \"November\", \"December\")\n"
      ],
      "metadata": {
        "id": "EbDmyPV1QyID"
      },
      "execution_count": 52,
      "outputs": []
    },
    {
      "cell_type": "markdown",
      "source": [
        "Use Cases of Sets:\n",
        "Removing Duplicates:\n",
        "\n",
        "One of the most common uses of sets is to automatically remove duplicate values from a collection of items, such as a list or any iterable."
      ],
      "metadata": {
        "id": "UQ30N9TgQ8Mr"
      }
    },
    {
      "cell_type": "code",
      "source": [
        "my_list = [1, 2, 2, 3, 4, 4, 5]\n",
        "unique_elements = set(my_list)\n",
        "print(unique_elements)  # Output: {1, 2, 3, 4, 5}\n"
      ],
      "metadata": {
        "colab": {
          "base_uri": "https://localhost:8080/"
        },
        "id": "CzWPvYQEQ409",
        "outputId": "8dd20a5c-e277-4819-b1fe-64a4894951b1"
      },
      "execution_count": 53,
      "outputs": [
        {
          "output_type": "stream",
          "name": "stdout",
          "text": [
            "{1, 2, 3, 4, 5}\n"
          ]
        }
      ]
    },
    {
      "cell_type": "markdown",
      "source": [
        "Efficient Membership Testing:\n",
        "\n",
        "Sets offer fast membership testing due to their underlying hash table implementation. This is useful when you need to check whether an element exists in a large dataset"
      ],
      "metadata": {
        "id": "mpZQlUVnRAok"
      }
    },
    {
      "cell_type": "code",
      "source": [
        "words_set = {\"apple\", \"banana\", \"cherry\"}\n",
        "print(\"apple\" in words_set)  # Output: True\n"
      ],
      "metadata": {
        "colab": {
          "base_uri": "https://localhost:8080/"
        },
        "id": "eaSrjnvCQ-A8",
        "outputId": "a2df6281-6195-4f4a-9d78-ef9864bb51dd"
      },
      "execution_count": 54,
      "outputs": [
        {
          "output_type": "stream",
          "name": "stdout",
          "text": [
            "True\n"
          ]
        }
      ]
    },
    {
      "cell_type": "markdown",
      "source": [
        "Set Operations (Union, Intersection, Difference):\n",
        "\n",
        "Sets support mathematical operations such as union, intersection, difference, and symmetric difference, which makes them useful in situations where you need to perform these operations on collections of data."
      ],
      "metadata": {
        "id": "zJBFn1BlREiP"
      }
    },
    {
      "cell_type": "code",
      "source": [
        "set_a = {1, 2, 3, 4}\n",
        "set_b = {3, 4, 5, 6}\n",
        "\n",
        "# Intersection (common elements)\n",
        "print(set_a & set_b)  # Output: {3, 4}\n",
        "\n",
        "# Union (all unique elements)\n",
        "print(set_a | set_b)  # Output: {1, 2, 3, 4, 5, 6}\n"
      ],
      "metadata": {
        "colab": {
          "base_uri": "https://localhost:8080/"
        },
        "id": "ILZwvoTGRCW8",
        "outputId": "4fdcb432-2841-4285-b53c-fed929d48d13"
      },
      "execution_count": 55,
      "outputs": [
        {
          "output_type": "stream",
          "name": "stdout",
          "text": [
            "{3, 4}\n",
            "{1, 2, 3, 4, 5, 6}\n"
          ]
        }
      ]
    },
    {
      "cell_type": "markdown",
      "source": [
        "Removing Duplicates While Maintaining Membership:\n",
        "\n",
        "If you need to maintain unique elements but still check if an item exists in a collection, a set can be useful. It provides both membership testing and ensures uniqueness."
      ],
      "metadata": {
        "id": "RgzaSRlYRIbg"
      }
    },
    {
      "cell_type": "code",
      "source": [
        "seen_items = set()\n",
        "items = [1, 2, 3, 1, 2, 4, 5]\n",
        "\n",
        "for item in items:\n",
        "    if item not in seen_items:\n",
        "        seen_items.add(item)\n",
        "        print(f\"Processing: {item}\")\n"
      ],
      "metadata": {
        "colab": {
          "base_uri": "https://localhost:8080/"
        },
        "id": "GomkWeCmRGIo",
        "outputId": "3f09e985-77d0-4e71-e417-7d913d63b903"
      },
      "execution_count": 56,
      "outputs": [
        {
          "output_type": "stream",
          "name": "stdout",
          "text": [
            "Processing: 1\n",
            "Processing: 2\n",
            "Processing: 3\n",
            "Processing: 4\n",
            "Processing: 5\n"
          ]
        }
      ]
    },
    {
      "cell_type": "markdown",
      "source": [
        "Finding Common Elements in Multiple Collections:\n",
        "\n",
        "Sets can be used to quickly find common elements (intersection) between different datasets, such as finding mutual friends between two people in a social network."
      ],
      "metadata": {
        "id": "VzgdP0F5RMnI"
      }
    },
    {
      "cell_type": "code",
      "source": [
        "friends_of_A = {\"John\", \"Alice\", \"Bob\"}\n",
        "friends_of_B = {\"Alice\", \"David\", \"Bob\"}\n",
        "\n",
        "mutual_friends = friends_of_A & friends_of_B  # Intersection\n",
        "print(mutual_friends)  # Output: {\"Alice\", \"Bob\"}\n"
      ],
      "metadata": {
        "colab": {
          "base_uri": "https://localhost:8080/"
        },
        "id": "nPrnLYuIRKMX",
        "outputId": "6d3364df-5cc3-4317-be9d-42ce4ff597f5"
      },
      "execution_count": 57,
      "outputs": [
        {
          "output_type": "stream",
          "name": "stdout",
          "text": [
            "{'Alice', 'Bob'}\n"
          ]
        }
      ]
    },
    {
      "cell_type": "markdown",
      "source": [
        "Tracking Unique Items:\n",
        "\n",
        "In scenarios where you need to keep track of unique items, such as tracking unique visitors to a website or unique responses in a survey, sets are an efficient choice."
      ],
      "metadata": {
        "id": "dCqA3bBeRQ9D"
      }
    },
    {
      "cell_type": "code",
      "source": [
        "unique_visitors = set()\n",
        "visits = [\"user1\", \"user2\", \"user1\", \"user3\"]\n",
        "\n",
        "for visit in visits:\n",
        "    unique_visitors.add(visit)\n",
        "\n",
        "print(unique_visitors)  # Output: {\"user1\", \"user2\", \"user3\"}\n"
      ],
      "metadata": {
        "colab": {
          "base_uri": "https://localhost:8080/"
        },
        "id": "oygC0D-FROTT",
        "outputId": "61156ad1-bde8-4794-d2e4-fbe64bddb902"
      },
      "execution_count": 58,
      "outputs": [
        {
          "output_type": "stream",
          "name": "stdout",
          "text": [
            "{'user2', 'user3', 'user1'}\n"
          ]
        }
      ]
    },
    {
      "cell_type": "markdown",
      "source": [
        "Data Deduplication for Large Data Sets:\n",
        "\n",
        "In large data processing tasks, like working with datasets containing millions of records, sets provide an efficient way to remove duplicates, filter out unnecessary data, and perform set operations."
      ],
      "metadata": {
        "id": "ATxEwpE-RUyl"
      }
    },
    {
      "cell_type": "code",
      "source": [
        "dataset_a = set([1, 2, 3, 4, 5, 6])\n",
        "dataset_b = set([4, 5, 6, 7, 8])\n",
        "\n",
        "# Efficiently find elements that are in dataset_a but not in dataset_b\n",
        "difference = dataset_a - dataset_b\n",
        "print(difference)  # Output: {1, 2, 3}\n"
      ],
      "metadata": {
        "colab": {
          "base_uri": "https://localhost:8080/"
        },
        "id": "tJ3ze-qRRSoU",
        "outputId": "6f065d29-cec4-4fa8-d9b8-1ebb54bb4053"
      },
      "execution_count": 59,
      "outputs": [
        {
          "output_type": "stream",
          "name": "stdout",
          "text": [
            "{1, 2, 3}\n"
          ]
        }
      ]
    },
    {
      "cell_type": "markdown",
      "source": [
        "![image.png](data:image/png;base64,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)"
      ],
      "metadata": {
        "id": "jW6pFK_fRap5"
      }
    },
    {
      "cell_type": "markdown",
      "source": [
        "# New Section Q 7 Describe how to add, modify and delete items in a dictionary with examples"
      ],
      "metadata": {
        "id": "fXE61K9eRead"
      }
    },
    {
      "cell_type": "markdown",
      "source": [
        "In Python, dictionaries are mutable, meaning you can add, modify, and delete key-value pairs after the dictionary has been created. Let's go through each of these operations with examples:\n",
        "\n",
        "1. Adding Items to a Dictionary\n",
        "You can add new key-value pairs to a dictionary by simply assigning a value to a new key. If the key already exists, this operation will overwrite the existing value.\n",
        "\n",
        "Example:"
      ],
      "metadata": {
        "id": "Nf5pS55X6T_T"
      }
    },
    {
      "cell_type": "code",
      "source": [
        "# Creating a dictionary\n",
        "person = {\"name\": \"Alice\", \"age\": 25}\n",
        "\n",
        "# Adding a new key-value pair\n",
        "person[\"city\"] = \"New York\"\n",
        "print(person)\n",
        "# Output: {'name': 'Alice', 'age': 25, 'city': 'New York'}\n"
      ],
      "metadata": {
        "colab": {
          "base_uri": "https://localhost:8080/"
        },
        "id": "WaBm_1OuRWwU",
        "outputId": "92110ebe-04a8-45f3-c5c4-5722446186d6"
      },
      "execution_count": 1,
      "outputs": [
        {
          "output_type": "stream",
          "name": "stdout",
          "text": [
            "{'name': 'Alice', 'age': 25, 'city': 'New York'}\n"
          ]
        }
      ]
    },
    {
      "cell_type": "markdown",
      "source": [
        "Adding Multiple Items:\n",
        "You can also use the .update() method to add multiple key-value pairs at once."
      ],
      "metadata": {
        "id": "dDJ06q036YSb"
      }
    },
    {
      "cell_type": "code",
      "source": [
        "# Adding multiple items using update\n",
        "person.update({\"email\": \"alice@example.com\", \"phone\": \"123-456-7890\"})\n",
        "print(person)\n",
        "# Output: {'name': 'Alice', 'age': 25, 'city': 'New York', 'email': 'alice@example.com', 'phone': '123-456-7890'}\n"
      ],
      "metadata": {
        "colab": {
          "base_uri": "https://localhost:8080/"
        },
        "id": "KuWzK7Et6Vz_",
        "outputId": "2d809149-a7d8-42b3-c791-7c448314c57f"
      },
      "execution_count": 2,
      "outputs": [
        {
          "output_type": "stream",
          "name": "stdout",
          "text": [
            "{'name': 'Alice', 'age': 25, 'city': 'New York', 'email': 'alice@example.com', 'phone': '123-456-7890'}\n"
          ]
        }
      ]
    },
    {
      "cell_type": "markdown",
      "source": [
        "2. Modifying Items in a Dictionary\n",
        "To modify the value of an existing key, you can simply assign a new value to that key. If the key exists, its value will be updated."
      ],
      "metadata": {
        "id": "TwgE2XSy6cPg"
      }
    },
    {
      "cell_type": "code",
      "source": [
        "# Modifying an existing value\n",
        "person[\"age\"] = 26\n",
        "print(person)\n",
        "# Output: {'name': 'Alice', 'age': 26, 'city': 'New York', 'email': 'alice@example.com', 'phone': '123-456-7890'}\n"
      ],
      "metadata": {
        "colab": {
          "base_uri": "https://localhost:8080/"
        },
        "id": "JrajkpU06Z6I",
        "outputId": "12d13238-dd12-438d-b241-5cfbe370f91e"
      },
      "execution_count": 3,
      "outputs": [
        {
          "output_type": "stream",
          "name": "stdout",
          "text": [
            "{'name': 'Alice', 'age': 26, 'city': 'New York', 'email': 'alice@example.com', 'phone': '123-456-7890'}\n"
          ]
        }
      ]
    },
    {
      "cell_type": "markdown",
      "source": [
        "Modifying Multiple Items:\n",
        "You can modify multiple values using .update() as well."
      ],
      "metadata": {
        "id": "2lFQBKBo6ftZ"
      }
    },
    {
      "cell_type": "code",
      "source": [
        "Modifying Multiple Items:\n",
        "You can modify multiple values using .update() as well."
      ],
      "metadata": {
        "colab": {
          "base_uri": "https://localhost:8080/",
          "height": 110
        },
        "id": "u3Jzql5t6dtL",
        "outputId": "667d8402-5c47-4d15-9458-3e0206684528"
      },
      "execution_count": 4,
      "outputs": [
        {
          "output_type": "error",
          "ename": "SyntaxError",
          "evalue": "invalid syntax (<ipython-input-4-7baa7f059efa>, line 1)",
          "traceback": [
            "\u001b[0;36m  File \u001b[0;32m\"<ipython-input-4-7baa7f059efa>\"\u001b[0;36m, line \u001b[0;32m1\u001b[0m\n\u001b[0;31m    Modifying Multiple Items:\u001b[0m\n\u001b[0m              ^\u001b[0m\n\u001b[0;31mSyntaxError\u001b[0m\u001b[0;31m:\u001b[0m invalid syntax\n"
          ]
        }
      ]
    },
    {
      "cell_type": "markdown",
      "source": [
        "3. Deleting Items from a Dictionary\n",
        "There are several ways to delete items from a dictionary:\n",
        "\n",
        "Using the del keyword\n",
        "Using the .pop() method\n",
        "Using the .popitem() method\n",
        "Using the .clear() method (to remove all items)\n",
        "Using del:\n",
        "The del keyword can be used to delete a specific key-value pair from the dictionary."
      ],
      "metadata": {
        "id": "EHyIeYGD6kcM"
      }
    },
    {
      "cell_type": "code",
      "source": [
        "# Deleting a key-value pair\n",
        "del person[\"phone\"]\n",
        "print(person)\n",
        "# Output: {'name': 'Alice', 'age': 26, 'city': 'Los Angeles', 'email': 'alice_new@example.com'}\n"
      ],
      "metadata": {
        "colab": {
          "base_uri": "https://localhost:8080/"
        },
        "id": "1Lp9uyXo6heY",
        "outputId": "69f43fda-bf6f-487f-f393-ce4de53c1a03"
      },
      "execution_count": 5,
      "outputs": [
        {
          "output_type": "stream",
          "name": "stdout",
          "text": [
            "{'name': 'Alice', 'age': 26, 'city': 'New York', 'email': 'alice@example.com'}\n"
          ]
        }
      ]
    },
    {
      "cell_type": "markdown",
      "source": [
        "Using .pop():\n",
        "The .pop() method removes a key-value pair and returns the value associated with the key."
      ],
      "metadata": {
        "id": "EqdEOBKH6qAE"
      }
    },
    {
      "cell_type": "code",
      "source": [
        "# Deleting an item using pop and capturing the value\n",
        "email = person.pop(\"email\")\n",
        "print(email)  # Output: 'alice_new@example.com'\n",
        "print(person)  # Output: {'name': 'Alice', 'age': 26, 'city': 'Los Angeles'}\n"
      ],
      "metadata": {
        "colab": {
          "base_uri": "https://localhost:8080/"
        },
        "id": "yPaXlAsF6mPu",
        "outputId": "b45c394e-41fb-46fb-8a3a-35b36311885e"
      },
      "execution_count": 6,
      "outputs": [
        {
          "output_type": "stream",
          "name": "stdout",
          "text": [
            "alice@example.com\n",
            "{'name': 'Alice', 'age': 26, 'city': 'New York'}\n"
          ]
        }
      ]
    },
    {
      "cell_type": "markdown",
      "source": [
        "Using .popitem():\n",
        "The .popitem() method removes and returns the last key-value pair added (in Python 3.7+ where dictionaries are ordered)."
      ],
      "metadata": {
        "id": "aPmdyvnr6zXh"
      }
    },
    {
      "cell_type": "code",
      "source": [
        "# Deleting the last added key-value pair using popitem\n",
        "last_item = person.popitem()\n",
        "print(last_item)  # Output: ('city', 'Los Angeles')\n",
        "print(person)  # Output: {'name': 'Alice', 'age': 26}\n"
      ],
      "metadata": {
        "colab": {
          "base_uri": "https://localhost:8080/"
        },
        "id": "AT978bcH6xaF",
        "outputId": "069da32b-c5b5-423b-db93-68b924e0e5f0"
      },
      "execution_count": 7,
      "outputs": [
        {
          "output_type": "stream",
          "name": "stdout",
          "text": [
            "('city', 'New York')\n",
            "{'name': 'Alice', 'age': 26}\n"
          ]
        }
      ]
    },
    {
      "cell_type": "markdown",
      "source": [
        "Using .clear():\n",
        "The .clear() method removes all key-value pairs from the dictionary, making it empty."
      ],
      "metadata": {
        "id": "uj1BAmW665IQ"
      }
    },
    {
      "cell_type": "code",
      "source": [
        "# Removing all items from the dictionary\n",
        "person.clear()\n",
        "print(person)  # Output: {}\n"
      ],
      "metadata": {
        "colab": {
          "base_uri": "https://localhost:8080/"
        },
        "id": "Q915JAKY61HM",
        "outputId": "472a92f6-a416-4a81-9f06-a90c63a3de0c"
      },
      "execution_count": 8,
      "outputs": [
        {
          "output_type": "stream",
          "name": "stdout",
          "text": [
            "{}\n"
          ]
        }
      ]
    },
    {
      "cell_type": "markdown",
      "source": [
        "![image.png](data:image/png;base64,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)"
      ],
      "metadata": {
        "id": "hiw6e_IZ6-KD"
      }
    },
    {
      "cell_type": "markdown",
      "source": [
        "# New Section Q 8  Discuss the importance of dictionary keys being immutable and provide examples"
      ],
      "metadata": {
        "id": "N66GYATv7CLy"
      }
    },
    {
      "cell_type": "markdown",
      "source": [
        "In Python, dictionary keys must be immutable to maintain the integrity and efficiency of dictionary operations, such as lookups, insertions, and deletions. This immutability is crucial for ensuring that keys can be consistently hashed and stored. Here’s why immutable keys are important and some examples to illustrate it.\n",
        "\n",
        "Why Dictionary Keys Must Be Immutable:\n",
        "Consistency in Hashing:\n",
        "\n",
        "Dictionaries in Python use a hash table internally to store key-value pairs. The key's hash value is used to determine where to store the key-value pair in memory. This hash value must remain the same during the lifetime of the dictionary.\n",
        "If keys were mutable, changing the value of a key would alter its hash, making it impossible to locate the key in the hash table reliably. Therefore, keys must be immutable to ensure their hash values remain constant.\n",
        "Efficient Lookup:\n",
        "\n",
        "Dictionary lookups rely on the immutability of keys to quickly and efficiently find the corresponding value. If keys could change, it would break the internal structure of the dictionary, making lookups inconsistent or slow.\n",
        "Avoid Unpredictable Behavior:\n",
        "\n",
        "Allowing mutable objects as keys could lead to unpredictable or erroneous behavior, as the dictionary might not be able to find or update the correct key-value pair after a key is modified.\n",
        "Examples of Immutable Types as Dictionary Keys:\n",
        "The following are examples of immutable data types that can be used as dictionary keys:\n",
        "\n",
        "Strings\n",
        "Numbers (integers, floats)\n",
        "Tuples (if they contain only immutable elements)"
      ],
      "metadata": {
        "id": "JkavBgoO7cKA"
      }
    },
    {
      "cell_type": "markdown",
      "source": [
        "Example: Using Immutable Keys (Strings, Numbers, and Tuples):"
      ],
      "metadata": {
        "id": "mE0L-Pfs7gg7"
      }
    },
    {
      "cell_type": "code",
      "source": [
        "# Creating a dictionary with immutable keys\n",
        "my_dict = {\n",
        "    \"name\": \"Alice\",        # String (immutable)\n",
        "    42: \"age\",              # Integer (immutable)\n",
        "    (1, 2): \"coordinates\"   # Tuple (immutable)\n",
        "}\n",
        "\n",
        "print(my_dict[\"name\"])  # Output: Alice\n",
        "print(my_dict[42])      # Output: age\n",
        "print(my_dict[(1, 2)])  # Output: coordinates\n"
      ],
      "metadata": {
        "colab": {
          "base_uri": "https://localhost:8080/"
        },
        "id": "gtsF_KnV661T",
        "outputId": "4966a100-bbc3-43a4-d093-3e7045dd286b"
      },
      "execution_count": 9,
      "outputs": [
        {
          "output_type": "stream",
          "name": "stdout",
          "text": [
            "Alice\n",
            "age\n",
            "coordinates\n"
          ]
        }
      ]
    },
    {
      "cell_type": "markdown",
      "source": [
        "Examples of Mutable Data Types (Not Allowed as Keys):\n",
        "Mutable types like lists, dictionaries, and sets cannot be used as dictionary keys because their values can change, which would affect their hash value.\n",
        "\n",
        "Example: Using a Mutable Type (List) as a Key (Throws an Error):"
      ],
      "metadata": {
        "id": "bfh8zKUI7kfW"
      }
    },
    {
      "cell_type": "code",
      "source": [
        "# Attempting to use a list (mutable) as a dictionary key\n",
        "#my_dict = {[1, 2]: \"coordinates\"}  # This will raise a TypeError\n"
      ],
      "metadata": {
        "id": "Tj4IUbXs7iJq"
      },
      "execution_count": 11,
      "outputs": []
    },
    {
      "cell_type": "code",
      "source": [
        "#TypeError: unhashable type: 'list'\n"
      ],
      "metadata": {
        "id": "8pJRVJ2s7mC9"
      },
      "execution_count": 13,
      "outputs": []
    },
    {
      "cell_type": "markdown",
      "source": [
        "Consequences of Using Mutable Objects as Keys:\n",
        "If Python allowed mutable keys, several problems could arise:\n",
        "\n",
        "Inconsistent Lookups:\n",
        "\n",
        "Changing the key after insertion would make it impossible to find the key-value pair again because the dictionary relies on the original hash of the key."
      ],
      "metadata": {
        "id": "mwX_8ybn7t0q"
      }
    },
    {
      "cell_type": "code",
      "source": [
        "# Hypothetical scenario (not allowed in Python)\n",
        "my_dict = {[1, 2, 3]: \"numbers\"}  # Mutable list as a key (invalid)\n",
        "my_dict[[1, 2, 3]] = \"updated\"    # Changing the list would lead to issues\n"
      ],
      "metadata": {
        "colab": {
          "base_uri": "https://localhost:8080/",
          "height": 183
        },
        "id": "oTia5dV17ozP",
        "outputId": "effb1aae-5f67-4dc6-c22f-f5112bbfe9fb"
      },
      "execution_count": 14,
      "outputs": [
        {
          "output_type": "error",
          "ename": "TypeError",
          "evalue": "unhashable type: 'list'",
          "traceback": [
            "\u001b[0;31m---------------------------------------------------------------------------\u001b[0m",
            "\u001b[0;31mTypeError\u001b[0m                                 Traceback (most recent call last)",
            "\u001b[0;32m<ipython-input-14-bfd1a5006e8d>\u001b[0m in \u001b[0;36m<cell line: 2>\u001b[0;34m()\u001b[0m\n\u001b[1;32m      1\u001b[0m \u001b[0;31m# Hypothetical scenario (not allowed in Python)\u001b[0m\u001b[0;34m\u001b[0m\u001b[0;34m\u001b[0m\u001b[0m\n\u001b[0;32m----> 2\u001b[0;31m \u001b[0mmy_dict\u001b[0m \u001b[0;34m=\u001b[0m \u001b[0;34m{\u001b[0m\u001b[0;34m[\u001b[0m\u001b[0;36m1\u001b[0m\u001b[0;34m,\u001b[0m \u001b[0;36m2\u001b[0m\u001b[0;34m,\u001b[0m \u001b[0;36m3\u001b[0m\u001b[0;34m]\u001b[0m\u001b[0;34m:\u001b[0m \u001b[0;34m\"numbers\"\u001b[0m\u001b[0;34m}\u001b[0m  \u001b[0;31m# Mutable list as a key (invalid)\u001b[0m\u001b[0;34m\u001b[0m\u001b[0;34m\u001b[0m\u001b[0m\n\u001b[0m\u001b[1;32m      3\u001b[0m \u001b[0mmy_dict\u001b[0m\u001b[0;34m[\u001b[0m\u001b[0;34m[\u001b[0m\u001b[0;36m1\u001b[0m\u001b[0;34m,\u001b[0m \u001b[0;36m2\u001b[0m\u001b[0;34m,\u001b[0m \u001b[0;36m3\u001b[0m\u001b[0;34m]\u001b[0m\u001b[0;34m]\u001b[0m \u001b[0;34m=\u001b[0m \u001b[0;34m\"updated\"\u001b[0m    \u001b[0;31m# Changing the list would lead to issues\u001b[0m\u001b[0;34m\u001b[0m\u001b[0;34m\u001b[0m\u001b[0m\n",
            "\u001b[0;31mTypeError\u001b[0m: unhashable type: 'list'"
          ]
        }
      ]
    },
    {
      "cell_type": "markdown",
      "source": [
        "Broken Hash Table:\n",
        "\n",
        "The hash table structure would break, as the key would be stored based on its original hash. If the key changes, the dictionary would not know where to find the associated value, leading to broken or incorrect mappings.\n",
        "Why Tuples (Immutable) Can Be Keys While Lists (Mutable) Cannot:\n",
        "Tuples can be used as dictionary keys only if all their elements are immutable (e.g., integers, strings). This ensures the tuple itself cannot be modified, preserving its hash value.\n",
        "Example: Valid Use of Tuple as a Dictionary Key:"
      ],
      "metadata": {
        "id": "5juIbs017xn_"
      }
    },
    {
      "cell_type": "code",
      "source": [
        "coordinates = (1, 2)\n",
        "my_dict = {coordinates: \"Point A\"}\n",
        "\n",
        "# Even if we try to assign a new value to the tuple, the original tuple remains unchanged\n",
        "# my_dict still works correctly\n",
        "print(my_dict[(1, 2)])  # Output: Point A\n"
      ],
      "metadata": {
        "colab": {
          "base_uri": "https://localhost:8080/"
        },
        "id": "Xj42OREJ7vbv",
        "outputId": "f1fc7d16-8163-4429-d80a-b0e71719cc6c"
      },
      "execution_count": 15,
      "outputs": [
        {
          "output_type": "stream",
          "name": "stdout",
          "text": [
            "Point A\n"
          ]
        }
      ]
    },
    {
      "cell_type": "markdown",
      "source": [
        "Lists, on the other hand, are mutable (you can change, add, or remove items in a list), so they cannot be used as keys.\n",
        "Example: Invalid Use of List as a Key:"
      ],
      "metadata": {
        "id": "56G43G0871ZX"
      }
    },
    {
      "cell_type": "code",
      "source": [
        "#coordinates = [1, 2]\n",
        "#my_dict = {coordinates: \"Point A\"}  # This will raise a TypeError since lists are mutable\n"
      ],
      "metadata": {
        "id": "Llm2-ZT47zIj"
      },
      "execution_count": 17,
      "outputs": []
    },
    {
      "cell_type": "markdown",
      "source": [
        "Summary:\n",
        "Immutability of keys ensures that dictionary operations are efficient, consistent, and predictable.\n",
        "Immutable types (like strings, numbers, and tuples) can be used as dictionary keys because their hash values do not change over time.\n",
        "Mutable types (like lists, sets, and other dictionaries) cannot be used as keys because their values can change, breaking the hash table structure.\n",
        "This immutability is critical to maintaining the integrity of dictionaries and ensuring that key-value pair lookups, insertions, and deletions remain efficient and reliable in Python.\n",
        "\n",
        "\n",
        "\n",
        "\n",
        "\n",
        "\n"
      ],
      "metadata": {
        "id": "DXMOs-A175iv"
      }
    },
    {
      "cell_type": "code",
      "source": [],
      "metadata": {
        "id": "GI63GnEQ727F"
      },
      "execution_count": null,
      "outputs": []
    }
  ]
}