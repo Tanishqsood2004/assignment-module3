{
  "nbformat": 4,
  "nbformat_minor": 0,
  "metadata": {
    "colab": {
      "provenance": []
    },
    "kernelspec": {
      "name": "python3",
      "display_name": "Python 3"
    },
    "language_info": {
      "name": "python"
    }
  },
  "cells": [
    {
      "cell_type": "markdown",
      "source": [
        "# BY TANISHQ SOOD"
      ],
      "metadata": {
        "id": "ceubmkAiHX9K"
      }
    },
    {
      "cell_type": "markdown",
      "source": [
        "# Theoretical"
      ],
      "metadata": {
        "id": "-0jvQQxG-MBV"
      }
    },
    {
      "cell_type": "markdown",
      "source": [
        "# Q 1 1. What does R-squared represent in a regression model?"
      ],
      "metadata": {
        "id": "lT3mX8NN-xgH"
      }
    },
    {
      "cell_type": "markdown",
      "source": [
        "\n",
        "R-squared measures the proportion of the variance in the dependent variable that is explained by the independent variables. It ranges from 0 to 1:\n",
        "\n",
        "𝑅\n",
        "2\n",
        "=\n",
        "1\n",
        "−\n",
        "SS\n",
        "residual\n",
        "SS\n",
        "total\n",
        "R\n",
        "2\n",
        " =1−\n",
        "SS\n",
        "total\n",
        "​\n",
        "\n",
        "SS\n",
        "residual\n",
        "​\n",
        "\n",
        "​\n",
        "\n",
        "Higher values indicate better model fit, but it doesn't imply causation or validate assumptions."
      ],
      "metadata": {
        "id": "M2vgCyjb-pmP"
      }
    },
    {
      "cell_type": "markdown",
      "source": [
        "![image.png](data:image/png;base64,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)"
      ],
      "metadata": {
        "id": "CzCF-YAX-4js"
      }
    },
    {
      "cell_type": "markdown",
      "source": [
        "# Q 2. What are the assumptions of linear regression?\n",
        "Linearity: The relationship between predictors and the target is linear.\n",
        "\n",
        "Independence: Residuals are independent.\n",
        "\n",
        "Homoscedasticity: Residuals have constant variance.\n",
        "\n",
        "Normality: Residuals are normally distributed.\n",
        "\n",
        "No multicollinearity: Independent variables are not highly correlated."
      ],
      "metadata": {
        "id": "1EBK4fh6-87f"
      }
    },
    {
      "cell_type": "markdown",
      "source": [
        "# Q 3. What is the difference between R-squared and Adjusted R-squared?\n",
        "\n",
        "#R-squared increases with the addition of predictors, even if they don’t contribute significantly.\n",
        "\n",
        "#Adjusted R-squared accounts for the number of predictors and penalizes adding irrelevant ones:\n",
        "\n",
        "Adjusted\n",
        "𝑅\n",
        "2\n",
        "=\n",
        "1\n",
        "−\n",
        "(\n",
        "(\n",
        "1\n",
        "−\n",
        "𝑅\n",
        "2\n",
        ")\n",
        "(\n",
        "𝑛\n",
        "−\n",
        "1\n",
        ")\n",
        "𝑛\n",
        "−\n",
        "𝑘\n",
        "−\n",
        "1\n",
        ")\n",
        "Adjusted R\n",
        "2\n",
        " =1−(\n",
        "n−k−1\n",
        "(1−R\n",
        "2\n",
        " )(n−1)\n",
        "​\n",
        " )\n",
        "Here,\n",
        "𝑛\n",
        "n is the sample size, and\n",
        "𝑘\n",
        "k is the number of predictors."
      ],
      "metadata": {
        "id": "nlwFJ5ce_Gm7"
      }
    },
    {
      "cell_type": "markdown",
      "source": [
        "# Q 4. Why do we use Mean Squared Error (MSE)?\n",
        "\n",
        "MSE measures the average squared difference between predicted and actual values.\n",
        "\n",
        " It emphasizes large errors due to squaring, making it sensitive to outliers.\n",
        "\n",
        " Its simplicity and differentiability make it suitable for optimization.\n"
      ],
      "metadata": {
        "id": "-H0WUbCy_PdC"
      }
    },
    {
      "cell_type": "markdown",
      "source": [
        "# Q 5. What does an Adjusted R-squared value of 0.85 indicate?\n",
        "\n",
        "85% of the variance in the dependent variable is explained by the predictors, adjusted for the number of predictors. It suggests a strong model fit"
      ],
      "metadata": {
        "id": "O1DvnbHw_YH6"
      }
    },
    {
      "cell_type": "markdown",
      "source": [
        "# Q 6. How do we check for normality of residuals in linear regression?\n",
        "\n"
      ],
      "metadata": {
        "id": "_0lfQxM3_fPH"
      }
    },
    {
      "cell_type": "markdown",
      "source": [
        "1. Visual Methods:\n",
        "\n",
        "(a) Histogram of Residuals:\n",
        "\n",
        "Plot a histogram of the residuals.\n",
        "Check if it resembles a bell-shaped curve (indicative of a normal distribution).\n",
        "\n",
        "(b) Q-Q Plot (Quantile-Quantile Plot):\n",
        "\n",
        "A Q-Q plot compares the quantiles of residuals to a theoretical normal distribution.\n",
        "If residuals are normally distributed, the points will align along a 45-degree line.\n",
        "\n",
        "(c) Residual Density Plot:\n",
        "\n",
        "Plot the kernel density estimate (KDE) of residuals. It should look like a normal distribution curve.\n",
        "\n",
        "\n",
        "2. Statistical Tests:\n",
        "\n",
        "(a) Shapiro-Wilk Test:\n",
        "\n",
        "Null Hypothesis (\n",
        "𝐻\n",
        "0\n",
        "H\n",
        "0\n",
        "​\n",
        " ): Residuals are normally distributed.\n",
        "If the p-value is less than a significance level (e.g., 0.05), reject\n",
        "𝐻\n",
        "0\n",
        "H\n",
        "0\n",
        "​\n",
        " , indicating non-normality.\n",
        "\n",
        "(b) Kolmogorov-Smirnov Test:\n",
        "\n",
        "Compares the residuals' distribution to a normal distribution.\n",
        "Similar interpretation to the Shapiro-Wilk test.\n",
        "\n",
        "(c) Anderson-Darling Test:\n",
        "\n",
        "A test specifically designed to assess how well data follow a specified distribution (like normal).\n",
        "\n",
        "(d) Jarque-Bera Test:\n",
        "\n",
        "Evaluates skewness and kurtosis to check if residuals are normal.\n",
        "A higher Jarque-Bera statistic indicates deviation from normality.\n",
        "\n",
        "3. Other Approaches:\n",
        "\n",
        "(a) Skewness and Kurtosis:\n",
        "\n",
        "Calculate skewness (asymmetry) and kurtosis (tailedness) of residuals.\n",
        "For a normal distribution:\n",
        "Skewness ≈ 0.\n",
        "Kurtosis ≈ 3.\n",
        "\n",
        "(b) Performing the D’Agostino and Pearson Test:\n",
        "\n",
        "This combines skewness and kurtosis to test for normality.\n"
      ],
      "metadata": {
        "id": "iNmFuKo5_2NR"
      }
    },
    {
      "cell_type": "markdown",
      "source": [
        "Interpretation:\n",
        "\n",
        "Visuals: Residuals should resemble a normal distribution in histograms, align with the diagonal in Q-Q plots, and follow the KDE curve of a normal distribution.\n",
        "\n",
        "Statistical Tests: If p-value > 0.05, residuals are likely normal. If p-value < 0.05, residuals deviate from normality."
      ],
      "metadata": {
        "id": "Cr-L9-JUAGjq"
      }
    },
    {
      "cell_type": "markdown",
      "source": [
        "# Q 7. What is multicollinearity, and how does it impact regression?\n",
        "\n",
        "Definition: Multicollinearity occurs when two or more independent variables in a regression model are highly correlated, meaning one variable can be linearly predicted from others with high accuracy.\n",
        "\n",
        "Impact:\n",
        "\n",
        "Makes coefficient estimates unstable and highly sensitive to changes in data.\n",
        "Inflates standard errors of coefficients, leading to unreliable hypothesis tests (e.g., incorrect p-values).\n",
        "\n",
        "Reduces the interpretability of the model, as it's hard to discern the independent effect of correlated variables.\n",
        "\n",
        "Detection:\n",
        "Variance Inflation Factor (VIF): VIF > 10 is a strong indicator of multicollinearity.\n",
        "\n",
        "Correlation matrix: High correlations (> 0.7) between predictors indicate multicollinearity."
      ],
      "metadata": {
        "id": "_77b4nlhAwtH"
      }
    },
    {
      "cell_type": "markdown",
      "source": [
        "# Q 8 . What is Mean Absolute Error (MAE)?\n",
        "\n",
        "Definition: MAE is the average of absolute differences between actual and predicted values:\n",
        "MAE\n",
        "=\n",
        "1\n",
        "𝑛\n",
        "∑\n",
        "𝑖\n",
        "=\n",
        "1\n",
        "𝑛\n",
        "∣\n",
        "𝑦\n",
        "𝑖\n",
        "−\n",
        "𝑦\n",
        "^\n",
        "𝑖\n",
        "∣\n",
        "MAE=\n",
        "n\n",
        "1\n",
        "​\n",
        "  \n",
        "i=1\n",
        "∑\n",
        "n\n",
        "​\n",
        " ∣y\n",
        "i\n",
        "​\n",
        " −\n",
        "y\n",
        "^\n",
        "​\n",
        "  \n",
        "i\n",
        "​\n",
        " ∣\n",
        "Characteristics:\n",
        "It treats all errors equally, without emphasizing large errors (unlike MSE).\n",
        "In the same unit as the dependent variable.\n",
        "Use: It is robust to outliers compared to MSE but less sensitive to large deviations."
      ],
      "metadata": {
        "id": "WQhDf_frA5f_"
      }
    },
    {
      "cell_type": "markdown",
      "source": [
        "# Q 9 3. What are the benefits of using an ML pipeline?\n",
        "\n",
        "Definition: An ML pipeline automates the sequence of steps in data preprocessing, model training, and evaluation.\n",
        "\n",
        "Benefits:\n",
        "\n",
        "Consistency: Ensures uniform processing of training and test data, avoiding data leakage.\n",
        "\n",
        "Reproducibility: Simplifies running the same workflow on different datasets.\n",
        "Efficiency: Streamlines hyperparameter tuning and cross-validation.\n",
        "\n",
        "Scalability: Easier to integrate and deploy workflows in production environments."
      ],
      "metadata": {
        "id": "1Un-aYD7A-VM"
      }
    },
    {
      "cell_type": "markdown",
      "source": [
        "# Q 10  Why is RMSE considered more interpretable than MSE?\n",
        "RMSE is the square root of MSE:\n",
        "RMSE\n",
        "=\n",
        "1\n",
        "𝑛\n",
        "∑\n",
        "𝑖\n",
        "=\n",
        "1\n",
        "𝑛\n",
        "(\n",
        "𝑦\n",
        "𝑖\n",
        "−\n",
        "𝑦\n",
        "^\n",
        "𝑖\n",
        ")\n",
        "2\n",
        "RMSE=\n",
        "n\n",
        "1\n",
        "​\n",
        "  \n",
        "i=1\n",
        "∑\n",
        "n\n",
        "​\n",
        " (y\n",
        "i\n",
        "​\n",
        " −\n",
        "y\n",
        "^\n",
        "​\n",
        "  \n",
        "i\n",
        "​\n",
        " )\n",
        "2\n",
        "\n",
        "​\n",
        "\n",
        "Interpretability:\n",
        "RMSE is in the same units as the dependent variable, making it easier to compare against observed values.\n",
        "MSE is in squared units, which can be harder to interpret meaningfully."
      ],
      "metadata": {
        "id": "B7KeIMGMBEkH"
      }
    },
    {
      "cell_type": "markdown",
      "source": [
        "![image.png](data:image/png;base64,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)"
      ],
      "metadata": {
        "id": "QbtQhx25BJP7"
      }
    },
    {
      "cell_type": "markdown",
      "source": [
        "#Q 11 What is pickling in Python, and how is it useful in ML?\n",
        "\n",
        "Pickling:\n",
        "A Python process to serialize an object (e.g., a trained ML model) into a byte stream for storage.\n",
        "\n",
        "Use in ML:\n",
        "Save trained models, preprocessing steps, or custom objects for later reuse.\n",
        "Enables quick reloading of models without retraining."
      ],
      "metadata": {
        "id": "xm7FUfQDBNJq"
      }
    },
    {
      "cell_type": "markdown",
      "source": [
        "# Q 12 6. What does a high R-squared value mean?\n",
        "\n",
        "Definition:\n",
        "𝑅\n",
        "2\n",
        "R\n",
        "2\n",
        "  measures the proportion of variance in the dependent variable explained by the independent variables.\n",
        "Interpretation:\n",
        "A high\n",
        "𝑅\n",
        "2\n",
        "R\n",
        "2\n",
        "  (close to 1) indicates a strong model fit.\n",
        "Caution: A high\n",
        "\n",
        "𝑅\n",
        "2\n",
        "R\n",
        "2\n",
        "  doesn't guarantee the model is appropriate, as it doesn’t account for overfitting or violated assumptions"
      ],
      "metadata": {
        "id": "mfkEnrzTBf91"
      }
    },
    {
      "cell_type": "markdown",
      "source": [
        "# Q 13  What happens if linear regression assumptions are violated?\n",
        "\n",
        "Effects:\n",
        "\n",
        "Linearity: Model will fail to capture relationships, leading to biased predictions.\n",
        "\n",
        "Independence: Inflates Type I/II errors due to autocorrelation.\n",
        "\n",
        "Homoscedasticity: Standard errors are incorrect, affecting confidence intervals.\n",
        "\n",
        "Normality: Significance tests (e.g., t-tests) become unreliable.\n",
        "\n",
        "Multicollinearity: Coefficient estimates are unstable and uninterpretable."
      ],
      "metadata": {
        "id": "7ao5SXerBnyc"
      }
    },
    {
      "cell_type": "markdown",
      "source": [
        "# Q 14  How can we address multicollinearity in regression?\n",
        "\n",
        "Solutions:\n",
        "\n",
        "Remove or combine correlated predictors.\n",
        "\n",
        "Use Principal Component Analysis (PCA) to reduce dimensions.\n",
        "\n",
        "Apply regularization techniques like Ridge or Lasso regression."
      ],
      "metadata": {
        "id": "-l4evowIBuc8"
      }
    },
    {
      "cell_type": "markdown",
      "source": [
        "# Q 15  Why do we use pipelines in machine learning?\n",
        "\n",
        "Pipelines automate and standardize ML workflows, reducing errors and improving efficiency. They handle preprocessing, model training, and evaluation in a single framework, ensuring reproducibility and scalability.\n"
      ],
      "metadata": {
        "id": "JkdOfrqPB0WK"
      }
    },
    {
      "cell_type": "markdown",
      "source": [
        "# Q 16 10. How is Adjusted R-squared calculated?\n",
        "\n",
        "Adjusted\n",
        "𝑅\n",
        "2\n",
        "=\n",
        "1\n",
        "−\n",
        "(\n",
        "1\n",
        "−\n",
        "𝑅\n",
        "2\n",
        ")\n",
        "(\n",
        "𝑛\n",
        "−\n",
        "1\n",
        ")\n",
        "𝑛\n",
        "−\n",
        "𝑘\n",
        "−\n",
        "1\n",
        "Adjusted R\n",
        "2\n",
        " =1−\n",
        "n−k−1\n",
        "(1−R\n",
        "2\n",
        " )(n−1)\n",
        "​\n",
        "\n",
        "Where:\n",
        "𝑅\n",
        "2\n",
        "R\n",
        "2\n",
        " : Coefficient of determination.\n",
        "𝑛\n",
        "n: Number of observations.\n",
        "𝑘\n",
        "k: Number of predictors.\n",
        "Adjusted\n",
        "𝑅\n",
        "2\n",
        "R\n",
        "2\n",
        "  penalizes for adding irrelevant predictors."
      ],
      "metadata": {
        "id": "OYHjeVZSB68-"
      }
    },
    {
      "cell_type": "markdown",
      "source": [
        "\n",
        "# Q 17  Why is MSE sensitive to outliers?\n",
        "\n",
        "MSE squares errors:\n",
        "MSE\n",
        "=\n",
        "1\n",
        "𝑛\n",
        "∑\n",
        "𝑖\n",
        "=\n",
        "1\n",
        "𝑛\n",
        "(\n",
        "𝑦\n",
        "𝑖\n",
        "−\n",
        "𝑦\n",
        "^\n",
        "𝑖\n",
        ")\n",
        "2\n",
        "MSE=\n",
        "n\n",
        "1\n",
        "​\n",
        "  \n",
        "i=1\n",
        "∑\n",
        "n\n",
        "​\n",
        " (y\n",
        "i\n",
        "​\n",
        " −\n",
        "y\n",
        "^\n",
        "​\n",
        "  \n",
        "i\n",
        "​\n",
        " )\n",
        "2\n",
        "\n",
        "Larger deviations are amplified, disproportionately influencing the overall error metric."
      ],
      "metadata": {
        "id": "tmoEH7cJCBD1"
      }
    },
    {
      "cell_type": "markdown",
      "source": [
        "# Q 18 12. What is the role of homoscedasticity in linear regression?\n",
        "\n",
        "Definition: Homoscedasticity means residuals have constant variance across all levels of independent variables.\n",
        "\n",
        "Importance:\n",
        "\n",
        "Ensures accurate estimates of standard errors, confidence intervals, and hypothesis tests.\n",
        "\n",
        "Violations (heteroscedasticity) lead to biased or inefficient coefficient estimates.\n"
      ],
      "metadata": {
        "id": "LnXQ8XUiCIA5"
      }
    },
    {
      "cell_type": "markdown",
      "source": [
        "# Q 19 13. What is Root Mean Squared Error (RMSE)?\n",
        "\n",
        "Definition: RMSE is the square root of MSE:\n",
        "RMSE\n",
        "=\n",
        "1\n",
        "𝑛\n",
        "∑\n",
        "𝑖\n",
        "=\n",
        "1\n",
        "𝑛\n",
        "(\n",
        "𝑦\n",
        "𝑖\n",
        "−\n",
        "𝑦\n",
        "^\n",
        "𝑖\n",
        ")\n",
        "2\n",
        "RMSE=\n",
        "n\n",
        "1\n",
        "​\n",
        "  \n",
        "i=1\n",
        "∑\n",
        "n\n",
        "​\n",
        " (y\n",
        "i\n",
        "​\n",
        " −\n",
        "y\n",
        "^\n",
        "​\n",
        "  \n",
        "i\n",
        "​\n",
        " )\n",
        "2\n",
        "\n",
        "​\n",
        "\n",
        "Interpretation:\n",
        "Provides error magnitude in the same units as the dependent variable.\n",
        "Suitable for comparing models or interpreting model performance."
      ],
      "metadata": {
        "id": "O2qyUKjsCO6-"
      }
    },
    {
      "cell_type": "markdown",
      "source": [
        "# Q 20  Why is pickling considered risky?\n",
        "\n",
        "Risks:\n",
        "\n",
        "Pickled files can execute arbitrary code, posing a security threat.\n",
        "\n",
        "Not cross-language compatible (Python-specific format)."
      ],
      "metadata": {
        "id": "owRwu75TCUm9"
      }
    },
    {
      "cell_type": "markdown",
      "source": [
        "# Q 21 15. What alternatives exist to pickling for saving ML models?\n",
        "\n",
        "Alternatives:\n",
        "\n",
        "Joblib: Efficient for large NumPy arrays and ML models.\n",
        "\n",
        "ONNX: Open Neural Network Exchange for cross-platform compatibility.\n",
        "\n",
        "HDF5: Handles large datasets effectively."
      ],
      "metadata": {
        "id": "TzgS8t8tCaLW"
      }
    },
    {
      "cell_type": "markdown",
      "source": [
        "# Q 22 . What is heteroscedasticity, and why is it a problem?\n",
        "\n",
        "Definition: Heteroscedasticity occurs when residual variance changes with the level of independent variables.\n",
        "\n",
        "Problem:\n",
        "\n",
        "Standard errors and hypothesis tests become unreliable.\n",
        "\n",
        "Coefficient estimates remain unbiased but are less efficient.\n"
      ],
      "metadata": {
        "id": "BebjpFqeCg_v"
      }
    },
    {
      "cell_type": "markdown",
      "source": [
        "# Q 23  How does adding irrelevant predictors affect R-squared and Adjusted R-squared?\n",
        "\n",
        "R-squared: Always increases or remains the same, as it doesn’t penalize model complexity.\n",
        "\n",
        "Adjusted R-squared: May decrease if the added predictor doesn’t significantly contribute to explaining the variance."
      ],
      "metadata": {
        "id": "wQ1DLvstCnRe"
      }
    },
    {
      "cell_type": "markdown",
      "source": [
        "# PRACTICAL QUESTIONS"
      ],
      "metadata": {
        "id": "sDr3Lu_ACyM_"
      }
    },
    {
      "cell_type": "markdown",
      "source": [
        "# q 1. Calculate MSE and MAE for a Multiple Linear Regression Model using Seaborn's \"diamonds\" Dataset"
      ],
      "metadata": {
        "id": "kaEskzQ-DJnN"
      }
    },
    {
      "cell_type": "code",
      "execution_count": 1,
      "metadata": {
        "colab": {
          "base_uri": "https://localhost:8080/"
        },
        "id": "tkohZ7nB96Ru",
        "outputId": "b99c9fc9-0713-44fc-b12e-3024e788b5a4"
      },
      "outputs": [
        {
          "output_type": "stream",
          "name": "stdout",
          "text": [
            "Mean Squared Error (MSE): 2333883.1792799835\n",
            "Mean Absolute Error (MAE): 994.736665092202\n"
          ]
        }
      ],
      "source": [
        "import seaborn as sns\n",
        "import pandas as pd\n",
        "from sklearn.model_selection import train_test_split\n",
        "from sklearn.linear_model import LinearRegression\n",
        "from sklearn.metrics import mean_squared_error, mean_absolute_error\n",
        "\n",
        "# Load the diamonds dataset\n",
        "diamonds = sns.load_dataset(\"diamonds\")\n",
        "\n",
        "# Select features and target\n",
        "X = diamonds[['carat', 'depth', 'table']]\n",
        "y = diamonds['price']\n",
        "\n",
        "# Train-test split\n",
        "X_train, X_test, y_train, y_test = train_test_split(X, y, test_size=0.2, random_state=42)\n",
        "\n",
        "# Fit the model\n",
        "model = LinearRegression()\n",
        "model.fit(X_train, y_train)\n",
        "\n",
        "# Predict\n",
        "y_pred = model.predict(X_test)\n",
        "\n",
        "# Calculate MSE and MAE\n",
        "mse = mean_squared_error(y_test, y_pred)\n",
        "mae = mean_absolute_error(y_test, y_pred)\n",
        "\n",
        "print(f\"Mean Squared Error (MSE): {mse}\")\n",
        "print(f\"Mean Absolute Error (MAE): {mae}\")\n"
      ]
    },
    {
      "cell_type": "markdown",
      "source": [
        "# q 2 2. Calculate MSE, MAE, and RMSE for a Linear Regression Model"
      ],
      "metadata": {
        "id": "mPZuTZ8WDRM9"
      }
    },
    {
      "cell_type": "code",
      "source": [
        "from sklearn.metrics import mean_squared_error, mean_absolute_error\n",
        "import numpy as np\n",
        "\n",
        "# Assume y_test and y_pred from a regression model\n",
        "y_test = [3, -0.5, 2, 7]\n",
        "y_pred = [2.5, 0.0, 2, 8]\n",
        "\n",
        "# Calculate MSE, MAE, RMSE\n",
        "mse = mean_squared_error(y_test, y_pred)\n",
        "mae = mean_absolute_error(y_test, y_pred)\n",
        "rmse = np.sqrt(mse)\n",
        "\n",
        "print(f\"MSE: {mse}\")\n",
        "print(f\"MAE: {mae}\")\n",
        "print(f\"RMSE: {rmse}\")\n"
      ],
      "metadata": {
        "colab": {
          "base_uri": "https://localhost:8080/"
        },
        "id": "JkkAHbniDObW",
        "outputId": "b4a0f63a-7a3f-42cf-c0fe-1a14df93cd2e"
      },
      "execution_count": 2,
      "outputs": [
        {
          "output_type": "stream",
          "name": "stdout",
          "text": [
            "MSE: 0.375\n",
            "MAE: 0.5\n",
            "RMSE: 0.6123724356957945\n"
          ]
        }
      ]
    },
    {
      "cell_type": "markdown",
      "source": [
        "# Q 3. Check Linear Regression Assumptions"
      ],
      "metadata": {
        "id": "DTEnnwRwDYSQ"
      }
    },
    {
      "cell_type": "code",
      "source": [
        "\n",
        "import seaborn as sns\n",
        "import matplotlib.pyplot as plt\n",
        "import pandas as pd\n",
        "import numpy as np\n",
        "from sklearn.linear_model import LinearRegression\n",
        "\n",
        "# Generate synthetic data\n",
        "np.random.seed(42)\n",
        "X = np.random.rand(100, 1) * 10\n",
        "y = 2 * X.flatten() + np.random.randn(100) * 2\n",
        "\n",
        "# Fit linear regression model\n",
        "model = LinearRegression()\n",
        "model.fit(X, y)\n",
        "y_pred = model.predict(X)\n",
        "residuals = y - y_pred\n",
        "\n",
        "# Linearity\n",
        "plt.scatter(X, y, alpha=0.7)\n",
        "plt.plot(X, y_pred, color='red')\n",
        "plt.title(\"Linearity Check\")\n",
        "plt.xlabel(\"Feature\")\n",
        "plt.ylabel(\"Target\")\n",
        "plt.show()\n",
        "\n",
        "# Residuals plot for homoscedasticity\n",
        "plt.scatter(y_pred, residuals, alpha=0.7)\n",
        "plt.axhline(y=0, color='red', linestyle='--')\n",
        "plt.title(\"Homoscedasticity Check (Residuals)\")\n",
        "plt.xlabel(\"Predicted values\")\n",
        "plt.ylabel(\"Residuals\")\n",
        "plt.show()\n",
        "\n",
        "# Multicollinearity check (synthetic example)\n",
        "data = pd.DataFrame(np.hstack([X, y.reshape(-1, 1)]), columns=['Feature', 'Target'])\n",
        "sns.heatmap(data.corr(), annot=True, cmap='coolwarm')\n",
        "plt.title(\"Correlation Matrix\")\n",
        "plt.show()\n"
      ],
      "metadata": {
        "colab": {
          "base_uri": "https://localhost:8080/",
          "height": 1000
        },
        "id": "RMd4e_QRDWOx",
        "outputId": "76965d91-e7cf-4511-8595-798e4eece993"
      },
      "execution_count": 3,
      "outputs": [
        {
          "output_type": "display_data",
          "data": {
            "text/plain": [
              "<Figure size 640x480 with 1 Axes>"
            ],
            "image/png": "[encoded data removed]"
          },
          "metadata": {}
        },
        {
          "output_type": "display_data",
          "data": {
            "text/plain": [
              "<Figure size 640x480 with 1 Axes>"
            ],
            "image/png": "[encoded data removed]"
          },
          "metadata": {}
        },
        {
          "output_type": "display_data",
          "data": {
            "text/plain": [
              "<Figure size 640x480 with 2 Axes>"
            ],
            "image/png": "[encoded data removed]"
          },
          "metadata": {}
        }
      ]
    },
    {
      "cell_type": "markdown",
      "source": [
        "# q 4. ML Pipeline with Standardization and Linear Regression"
      ],
      "metadata": {
        "id": "NtvExa8gDfM8"
      }
    },
    {
      "cell_type": "code",
      "source": [
        "from sklearn.pipeline import Pipeline\n",
        "from sklearn.preprocessing import StandardScaler\n",
        "from sklearn.linear_model import LinearRegression\n",
        "from sklearn.model_selection import train_test_split\n",
        "from sklearn.metrics import r2_score\n",
        "\n",
        "# Generate synthetic data\n",
        "np.random.seed(42)\n",
        "X = np.random.rand(100, 3)\n",
        "y = 5 * X[:, 0] - 3 * X[:, 1] + 2 * X[:, 2] + np.random.randn(100)\n",
        "\n",
        "# Train-test split\n",
        "X_train, X_test, y_train, y_test = train_test_split(X, y, test_size=0.2, random_state=42)\n",
        "\n",
        "# Create pipeline\n",
        "pipeline = Pipeline([\n",
        "    ('scaler', StandardScaler()),\n",
        "    ('regressor', LinearRegression())\n",
        "])\n",
        "\n",
        "# Train model\n",
        "pipeline.fit(X_train, y_train)\n",
        "\n",
        "# Evaluate model\n",
        "y_pred = pipeline.predict(X_test)\n",
        "print(f\"R-squared score: {r2_score(y_test, y_pred)}\")\n"
      ],
      "metadata": {
        "colab": {
          "base_uri": "https://localhost:8080/"
        },
        "id": "JrFPmTo2DcYN",
        "outputId": "ac4264b0-1d2a-4370-b5e6-f8178787fbf2"
      },
      "execution_count": 4,
      "outputs": [
        {
          "output_type": "stream",
          "name": "stdout",
          "text": [
            "R-squared score: 0.6011730203452382\n"
          ]
        }
      ]
    },
    {
      "cell_type": "markdown",
      "source": [
        "# Q 5 Implement a simple linear regression model on a dataset and print the model's coefficients, intercept, and R-squared score"
      ],
      "metadata": {
        "id": "TizpSAjaDsnc"
      }
    },
    {
      "cell_type": "code",
      "source": [
        "# Coefficients, intercept, and R-squared score are printed here\n",
        "model = LinearRegression()\n",
        "model.fit(X_train[:, :1], y_train)  # Using only the first feature\n",
        "y_pred = model.predict(X_test[:, :1])\n",
        "\n",
        "print(f\"Coefficient: {model.coef_[0]}\")\n",
        "print(f\"Intercept: {model.intercept_}\")\n",
        "print(f\"R-squared score: {model.score(X_test[:, :1], y_test)}\")\n"
      ],
      "metadata": {
        "colab": {
          "base_uri": "https://localhost:8080/"
        },
        "id": "9DBoAwMwDmF6",
        "outputId": "b9284ff1-bb76-4566-d82b-58c037ef8cd3"
      },
      "execution_count": 5,
      "outputs": [
        {
          "output_type": "stream",
          "name": "stdout",
          "text": [
            "Coefficient: 4.681824538951497\n",
            "Intercept: -0.12899189118855015\n",
            "R-squared score: 0.3801728195836158\n"
          ]
        }
      ]
    },
    {
      "cell_type": "markdown",
      "source": [
        "# Q 6 Fit a simple linear regression model to the 'tips' dataset and print the slope and intercept of the regression line"
      ],
      "metadata": {
        "id": "1_3J-OboD3SA"
      }
    },
    {
      "cell_type": "code",
      "source": [
        "tips = sns.load_dataset(\"tips\")\n",
        "X = tips[['total_bill']]\n",
        "y = tips['tip']\n",
        "\n",
        "model = LinearRegression()\n",
        "model.fit(X, y)\n",
        "\n",
        "print(f\"Slope: {model.coef_[0]}\")\n",
        "print(f\"Intercept: {model.intercept_}\")\n"
      ],
      "metadata": {
        "colab": {
          "base_uri": "https://localhost:8080/"
        },
        "id": "lfXnSsoXDzpD",
        "outputId": "ea63f443-3cdc-48ce-9b56-8a9d50187dd4"
      },
      "execution_count": 6,
      "outputs": [
        {
          "output_type": "stream",
          "name": "stdout",
          "text": [
            "Slope: 0.10502451738435337\n",
            "Intercept: 0.9202696135546731\n"
          ]
        }
      ]
    },
    {
      "cell_type": "markdown",
      "source": [
        "# Q 7 Write a Python script that fits a linear regression model to a synthetic dataset with one feature. Use the model to predict new values and plot the data points along with the regression line"
      ],
      "metadata": {
        "id": "VvrarFcID_xz"
      }
    },
    {
      "cell_type": "code",
      "source": [
        "X = np.random.rand(100, 1) * 10\n",
        "y = 4 * X.flatten() + np.random.randn(100)\n",
        "\n",
        "model = LinearRegression()\n",
        "model.fit(X, y)\n",
        "y_pred = model.predict(X)\n",
        "\n",
        "plt.scatter(X, y, alpha=0.7)\n",
        "plt.plot(X, y_pred, color='red')\n",
        "plt.title(\"Regression Line\")\n",
        "plt.xlabel(\"Feature\")\n",
        "plt.ylabel(\"Target\")\n",
        "plt.show()\n"
      ],
      "metadata": {
        "colab": {
          "base_uri": "https://localhost:8080/",
          "height": 472
        },
        "id": "lVeWZI7xD7yy",
        "outputId": "9df77b03-700b-4696-f0c6-14ece805420b"
      },
      "execution_count": 7,
      "outputs": [
        {
          "output_type": "display_data",
          "data": {
            "text/plain": [
              "<Figure size 640x480 with 1 Axes>"
            ],
            "image/png": "[encoded data removed]"
          },
          "metadata": {}
        }
      ]
    },
    {
      "cell_type": "markdown",
      "source": [
        "# Q 8 Write a Python script that pickles a trained linear regression model and saves it to a file"
      ],
      "metadata": {
        "id": "8iZTAThDEKyx"
      }
    },
    {
      "cell_type": "code",
      "source": [
        "import pickle\n",
        "\n",
        "with open('linear_model.pkl', 'wb') as f:\n",
        "    pickle.dump(model, f)\n",
        "\n",
        "print(\"Model saved to 'linear_model.pkl'\")\n"
      ],
      "metadata": {
        "colab": {
          "base_uri": "https://localhost:8080/"
        },
        "id": "nS1DdPdEEGkF",
        "outputId": "644eb9eb-c748-479d-f980-4ae3bb8fba97"
      },
      "execution_count": 8,
      "outputs": [
        {
          "output_type": "stream",
          "name": "stdout",
          "text": [
            "Model saved to 'linear_model.pkl'\n"
          ]
        }
      ]
    },
    {
      "cell_type": "markdown",
      "source": [
        "# Q 9 Write a Python script that fits a polynomial regression model (degree 2) to a dataset and plots the regression curve"
      ],
      "metadata": {
        "id": "asnlCQF8ESeb"
      }
    },
    {
      "cell_type": "code",
      "source": [
        "from sklearn.preprocessing import PolynomialFeatures\n",
        "from sklearn.pipeline import make_pipeline\n",
        "\n",
        "# Generate data\n",
        "X = np.random.rand(100, 1) * 10\n",
        "y = 3 * X.flatten()**2 - 2 * X.flatten() + np.random.randn(100)\n",
        "\n",
        "# Fit polynomial regression\n",
        "poly_model = make_pipeline(PolynomialFeatures(degree=2), LinearRegression())\n",
        "poly_model.fit(X, y)\n",
        "y_pred = poly_model.predict(X)\n",
        "\n",
        "plt.scatter(X, y, alpha=0.7)\n",
        "plt.scatter(X, y_pred, color='red', s=10, label='Predictions')\n",
        "plt.title(\"Polynomial Regression\")\n",
        "plt.legend()\n",
        "plt.show()\n"
      ],
      "metadata": {
        "colab": {
          "base_uri": "https://localhost:8080/",
          "height": 452
        },
        "id": "CO0o_W45EO9T",
        "outputId": "53431b8e-0c4a-4330-891f-d0386b9de99d"
      },
      "execution_count": 9,
      "outputs": [
        {
          "output_type": "display_data",
          "data": {
            "text/plain": [
              "<Figure size 640x480 with 1 Axes>"
            ],
            "image/png": "[encoded data removed]"
          },
          "metadata": {}
        }
      ]
    },
    {
      "cell_type": "markdown",
      "source": [
        "# Q 10 Generate synthetic data for simple linear regression (use random values for X and y) and fit a linear regression model to the data. Print the model's coefficient and intercept"
      ],
      "metadata": {
        "id": "man7AkDyEbrn"
      }
    },
    {
      "cell_type": "code",
      "source": [
        "import numpy as np\n",
        "from sklearn.linear_model import LinearRegression\n",
        "\n",
        "# Generate synthetic data\n",
        "np.random.seed(42)\n",
        "X = np.random.rand(100, 1) * 10  # Feature\n",
        "y = 3 * X.flatten() + np.random.randn(100) * 2  # Target with some noise\n",
        "\n",
        "# Fit the linear regression model\n",
        "model = LinearRegression()\n",
        "model.fit(X, y)\n",
        "\n",
        "# Print coefficient and intercept\n",
        "print(f\"Coefficient: {model.coef_[0]}\")\n",
        "print(f\"Intercept: {model.intercept_}\")\n"
      ],
      "metadata": {
        "colab": {
          "base_uri": "https://localhost:8080/"
        },
        "id": "riMv8qUREWgI",
        "outputId": "21032f2a-6764-448f-e3ef-8fd838d497a9"
      },
      "execution_count": 10,
      "outputs": [
        {
          "output_type": "stream",
          "name": "stdout",
          "text": [
            "Coefficient: 2.9080453545753935\n",
            "Intercept: 0.4301923150934961\n"
          ]
        }
      ]
    },
    {
      "cell_type": "markdown",
      "source": [
        "# Q 11 Write a Python script that fits a polynomial regression model (degree 3) to a synthetic non-linear dataset and plots the curv"
      ],
      "metadata": {
        "id": "YgDd6o2zEwsC"
      }
    },
    {
      "cell_type": "code",
      "source": [
        "import matplotlib.pyplot as plt\n",
        "from sklearn.preprocessing import PolynomialFeatures\n",
        "from sklearn.pipeline import make_pipeline\n",
        "\n",
        "# Generate synthetic non-linear data\n",
        "X = np.random.rand(100, 1) * 10\n",
        "y = 2 * X.flatten()**3 - 5 * X.flatten()**2 + 3 * X.flatten() + np.random.randn(100) * 50\n",
        "\n",
        "# Fit a polynomial regression model (degree 3)\n",
        "poly_model = make_pipeline(PolynomialFeatures(degree=3), LinearRegression())\n",
        "poly_model.fit(X, y)\n",
        "y_pred = poly_model.predict(X)\n",
        "\n",
        "# Plot data and regression curve\n",
        "plt.scatter(X, y, alpha=0.6, label=\"Data points\")\n",
        "plt.plot(np.sort(X, axis=0), y_pred[np.argsort(X.flatten())], color='red', label=\"Regression curve\")\n",
        "plt.legend()\n",
        "plt.title(\"Polynomial Regression (Degree 3)\")\n",
        "plt.xlabel(\"Feature\")\n",
        "plt.ylabel(\"Target\")\n",
        "plt.show()\n"
      ],
      "metadata": {
        "colab": {
          "base_uri": "https://localhost:8080/",
          "height": 472
        },
        "id": "XcOsD0bVEqUs",
        "outputId": "09897cdf-db89-4765-c102-689288999272"
      },
      "execution_count": 11,
      "outputs": [
        {
          "output_type": "display_data",
          "data": {
            "text/plain": [
              "<Figure size 640x480 with 1 Axes>"
            ],
            "image/png": "[encoded data removed]"
          },
          "metadata": {}
        }
      ]
    },
    {
      "cell_type": "markdown",
      "source": [
        "# Q 12 Write a Python script that fits a simple linear regression model with two features and prints the model's coefficients, intercept, and R-squared score"
      ],
      "metadata": {
        "id": "nFr15PDhE4WL"
      }
    },
    {
      "cell_type": "code",
      "source": [
        "from sklearn.model_selection import train_test_split\n",
        "\n",
        "# Generate synthetic data\n",
        "X = np.random.rand(100, 2) * 10  # Two features\n",
        "y = 4 * X[:, 0] + 2 * X[:, 1] + np.random.randn(100) * 3  # Target with noise\n",
        "\n",
        "# Train-test split\n",
        "X_train, X_test, y_train, y_test = train_test_split(X, y, test_size=0.2, random_state=42)\n",
        "\n",
        "# Fit the linear regression model\n",
        "model = LinearRegression()\n",
        "model.fit(X_train, y_train)\n",
        "\n",
        "# Print coefficients, intercept, and R-squared score\n",
        "print(f\"Coefficients: {model.coef_}\")\n",
        "print(f\"Intercept: {model.intercept_}\")\n",
        "print(f\"R-squared score: {model.score(X_test, y_test)}\")\n"
      ],
      "metadata": {
        "colab": {
          "base_uri": "https://localhost:8080/"
        },
        "id": "uKv1A00-E1HJ",
        "outputId": "f070adb1-b6df-4462-b7a5-e602d88c31cc"
      },
      "execution_count": 12,
      "outputs": [
        {
          "output_type": "stream",
          "name": "stdout",
          "text": [
            "Coefficients: [4.08707566 1.99629075]\n",
            "Intercept: -0.6594141617436051\n",
            "R-squared score: 0.9378817100346619\n"
          ]
        }
      ]
    },
    {
      "cell_type": "markdown",
      "source": [
        "# Q 13 Write a Python script that generates a synthetic dataset, fits a linear regression model, and calculates the Mean Squared Error (MSE), Mean Absolute Error (MAE), and Root Mean Squared Error (RMSE)"
      ],
      "metadata": {
        "id": "HcZ6taJQFBQX"
      }
    },
    {
      "cell_type": "code",
      "source": [
        "from sklearn.model_selection import train_test_split\n",
        "\n",
        "# Generate synthetic data\n",
        "X = np.random.rand(100, 2) * 10  # Two features\n",
        "y = 4 * X[:, 0] + 2 * X[:, 1] + np.random.randn(100) * 3  # Target with noise\n",
        "\n",
        "# Train-test split\n",
        "X_train, X_test, y_train, y_test = train_test_split(X, y, test_size=0.2, random_state=42)\n",
        "\n",
        "# Fit the linear regression model\n",
        "model = LinearRegression()\n",
        "model.fit(X_train, y_train)\n",
        "\n",
        "# Print coefficients, intercept, and R-squared score\n",
        "print(f\"Coefficients: {model.coef_}\")\n",
        "print(f\"Intercept: {model.intercept_}\")\n",
        "print(f\"R-squared score: {model.score(X_test, y_test)}\")\n"
      ],
      "metadata": {
        "colab": {
          "base_uri": "https://localhost:8080/"
        },
        "id": "cS20v1NZE9rk",
        "outputId": "c3514736-3a5a-4e49-d46a-52907ec1e748"
      },
      "execution_count": 13,
      "outputs": [
        {
          "output_type": "stream",
          "name": "stdout",
          "text": [
            "Coefficients: [3.93123522 1.97480377]\n",
            "Intercept: 0.9548607397152971\n",
            "R-squared score: 0.961952755906053\n"
          ]
        }
      ]
    },
    {
      "cell_type": "markdown",
      "source": [
        "# q 14 Write a Python script that uses the Variance Inflation Factor (VIF) to check for multicollinearity in a dataset with multiple features"
      ],
      "metadata": {
        "id": "dDPyp3URFH76"
      }
    },
    {
      "cell_type": "code",
      "source": [
        "from sklearn.metrics import mean_squared_error, mean_absolute_error\n",
        "\n",
        "# Generate synthetic data\n",
        "X = np.random.rand(100, 1) * 10\n",
        "y = 5 * X.flatten() + np.random.randn(100) * 2\n",
        "\n",
        "# Fit the linear regression model\n",
        "model = LinearRegression()\n",
        "model.fit(X, y)\n",
        "y_pred = model.predict(X)\n",
        "\n",
        "# Calculate and print error metrics\n",
        "mse = mean_squared_error(y, y_pred)\n",
        "mae = mean_absolute_error(y, y_pred)\n",
        "rmse = np.sqrt(mse)\n",
        "\n",
        "print(f\"MSE: {mse}\")\n",
        "print(f\"MAE: {mae}\")\n",
        "print(f\"RMSE: {rmse}\")\n"
      ],
      "metadata": {
        "colab": {
          "base_uri": "https://localhost:8080/"
        },
        "id": "_7glLX15FE-q",
        "outputId": "6047c5c4-948a-4481-ed54-c3e61f8fb51e"
      },
      "execution_count": 14,
      "outputs": [
        {
          "output_type": "stream",
          "name": "stdout",
          "text": [
            "MSE: 3.478677558379289\n",
            "MAE: 1.4925579147678352\n",
            "RMSE: 1.8651213253778665\n"
          ]
        }
      ]
    },
    {
      "cell_type": "markdown",
      "source": [
        "# Q 15 Write a Python script that generates synthetic data for a polynomial relationship (degree 4), fits a polynomial regression model, and plots the regression curve"
      ],
      "metadata": {
        "id": "93_lkWoPFQHY"
      }
    },
    {
      "cell_type": "code",
      "source": [
        "import pandas as pd\n",
        "from statsmodels.stats.outliers_influence import variance_inflation_factor\n",
        "\n",
        "# Generate synthetic data\n",
        "np.random.seed(42)\n",
        "X = np.random.rand(100, 3)\n",
        "y = 2 * X[:, 0] + 3 * X[:, 1] + np.random.randn(100)\n",
        "\n",
        "# Create a DataFrame\n",
        "data = pd.DataFrame(X, columns=['Feature1', 'Feature2', 'Feature3'])\n",
        "\n",
        "# Calculate VIF\n",
        "vif_data = pd.DataFrame()\n",
        "vif_data['Feature'] = data.columns\n",
        "vif_data['VIF'] = [variance_inflation_factor(data.values, i) for i in range(data.shape[1])]\n",
        "\n",
        "print(vif_data)\n"
      ],
      "metadata": {
        "colab": {
          "base_uri": "https://localhost:8080/"
        },
        "id": "DrKDRlNSFNI8",
        "outputId": "bb3ddaa5-a084-4b2e-ca86-7d45a34f7d52"
      },
      "execution_count": 15,
      "outputs": [
        {
          "output_type": "stream",
          "name": "stdout",
          "text": [
            "    Feature       VIF\n",
            "0  Feature1  2.657195\n",
            "1  Feature2  2.803703\n",
            "2  Feature3  2.554971\n"
          ]
        }
      ]
    },
    {
      "cell_type": "markdown",
      "source": [
        "# Q 16\n",
        "Write a Python script that creates a machine learning pipeline with data standardization and a multiple linear regression model, and prints the R-squared score"
      ],
      "metadata": {
        "id": "iIqVDvxjFZsF"
      }
    },
    {
      "cell_type": "code",
      "source": [
        "from sklearn.preprocessing import StandardScaler\n",
        "from sklearn.pipeline import Pipeline\n",
        "\n",
        "# Generate synthetic data\n",
        "X = np.random.rand(100, 3)\n",
        "y = 5 * X[:, 0] - 3 * X[:, 1] + 2 * X[:, 2] + np.random.randn(100)\n",
        "\n",
        "# Create pipeline\n",
        "pipeline = Pipeline([\n",
        "    ('scaler', StandardScaler()),\n",
        "    ('regressor', LinearRegression())\n",
        "])\n",
        "\n",
        "# Fit pipeline\n",
        "pipeline.fit(X, y)\n",
        "print(f\"R-squared score: {pipeline.score(X, y)}\")\n"
      ],
      "metadata": {
        "colab": {
          "base_uri": "https://localhost:8080/"
        },
        "id": "3L90YxZ5FUfV",
        "outputId": "90bc4513-826a-4f7f-f30b-01fa34d09553"
      },
      "execution_count": 18,
      "outputs": [
        {
          "output_type": "stream",
          "name": "stdout",
          "text": [
            "R-squared score: 0.762900648096047\n"
          ]
        }
      ]
    },
    {
      "cell_type": "markdown",
      "source": [
        "# Q 17 Write a Python script that performs polynomial regression (degree 3) on a synthetic dataset and plots the regression curve"
      ],
      "metadata": {
        "id": "D8cWkf94Fq5R"
      }
    },
    {
      "cell_type": "code",
      "source": [
        "# Generate synthetic data\n",
        "X = np.random.rand(100, 1) * 10\n",
        "y = 2 * X.flatten()**3 + 3 * X.flatten() + np.random.randn(100) * 50\n",
        "\n",
        "# Fit a polynomial regression model (degree 3)\n",
        "poly_model = make_pipeline(PolynomialFeatures(degree=3), LinearRegression())\n",
        "poly_model.fit(X, y)\n",
        "y_pred = poly_model.predict(X)\n",
        "\n",
        "# Plot regression curve\n",
        "plt.scatter(X, y, alpha=0.6, label=\"Data points\")\n",
        "plt.plot(np.sort(X, axis=0), y_pred[np.argsort(X.flatten())], color='red', label=\"Regression curve\")\n",
        "plt.legend()\n",
        "plt.title(\"Polynomial Regression (Degree 3)\")\n",
        "plt.xlabel(\"Feature\")\n",
        "plt.ylabel(\"Target\")\n",
        "plt.show()\n"
      ],
      "metadata": {
        "colab": {
          "base_uri": "https://localhost:8080/",
          "height": 472
        },
        "id": "J_SqqztpFnZI",
        "outputId": "6836df8e-e2fa-4af8-fc28-dc98b72cd46b"
      },
      "execution_count": 19,
      "outputs": [
        {
          "output_type": "display_data",
          "data": {
            "text/plain": [
              "<Figure size 640x480 with 1 Axes>"
            ],
            "image/png": "[encoded data removed]"
          },
          "metadata": {}
        }
      ]
    },
    {
      "cell_type": "markdown",
      "source": [
        "# Q 18 Write a Python script that performs multiple linear regression on a synthetic dataset with 5 features. Print the R-squared score and model coefficients"
      ],
      "metadata": {
        "id": "U0Z9LmGIFyWo"
      }
    },
    {
      "cell_type": "code",
      "source": [
        "# Generate synthetic data\n",
        "X = np.random.rand(100, 5)\n",
        "y = 3 * X[:, 0] + 2 * X[:, 1] - X[:, 2] + 0.5 * X[:, 3] + np.random.randn(100)\n",
        "\n",
        "# Fit the linear regression model\n",
        "model = LinearRegression()\n",
        "model.fit(X, y)\n",
        "\n",
        "# Print coefficients and R-squared score\n",
        "print(f\"Coefficients: {model.coef_}\")\n",
        "print(f\"Intercept: {model.intercept_}\")\n",
        "print(f\"R-squared score: {model.score(X, y)}\")\n"
      ],
      "metadata": {
        "colab": {
          "base_uri": "https://localhost:8080/"
        },
        "id": "EBIZjgmxFuXG",
        "outputId": "20a9a3c8-211d-4ded-a431-149c95d49af1"
      },
      "execution_count": 20,
      "outputs": [
        {
          "output_type": "stream",
          "name": "stdout",
          "text": [
            "Coefficients: [ 2.93681203  2.53320948 -1.26337746  0.45388372 -0.1209223 ]\n",
            "Intercept: 0.034833423932996155\n",
            "R-squared score: 0.4777916689738876\n"
          ]
        }
      ]
    },
    {
      "cell_type": "markdown",
      "source": [
        "# Q 19 Write a Python script that generates synthetic data for linear regression, fits a model, and visualizes the data points along with the regression line."
      ],
      "metadata": {
        "id": "3I9PzBv9GKHE"
      }
    },
    {
      "cell_type": "code",
      "source": [
        "# Generate synthetic data\n",
        "X = np.random.rand(100, 1) * 10\n",
        "y = 4 * X.flatten() + np.random.randn(100) * 2\n",
        "\n",
        "# Fit the model\n",
        "model = LinearRegression()\n",
        "model.fit(X, y)\n",
        "y_pred = model.predict(X)\n",
        "\n",
        "# Plot data points and regression line\n",
        "plt.scatter(X, y, alpha=0.7, label=\"Data points\")\n",
        "plt.plot(X, y_pred, color='red', label=\"Regression line\")\n",
        "plt.legend()\n",
        "plt.title(\"Linear Regression\")\n",
        "plt.xlabel(\"Feature\")\n",
        "plt.ylabel(\"Target\")\n",
        "plt.show()\n"
      ],
      "metadata": {
        "colab": {
          "base_uri": "https://localhost:8080/",
          "height": 472
        },
        "id": "htvUvUWGGGMP",
        "outputId": "6f826722-10d4-4c62-a580-f9eb57ccf4a9"
      },
      "execution_count": 21,
      "outputs": [
        {
          "output_type": "display_data",
          "data": {
            "text/plain": [
              "<Figure size 640x480 with 1 Axes>"
            ],
            "image/png": "[encoded data removed]"
          },
          "metadata": {}
        }
      ]
    },
    {
      "cell_type": "markdown",
      "source": [
        "# Q 20 Create a synthetic dataset with 3 features and perform multiple linear regression. Print the model's Rsquared score and coefficients"
      ],
      "metadata": {
        "id": "8S6kU2WFGb9i"
      }
    },
    {
      "cell_type": "code",
      "source": [
        "import numpy as np\n",
        "from sklearn.linear_model import LinearRegression\n",
        "from sklearn.metrics import r2_score\n",
        "\n",
        "# Generate synthetic dataset\n",
        "np.random.seed(42)\n",
        "X = np.random.rand(100, 3)  # 3 features\n",
        "y = 3 * X[:, 0] + 2 * X[:, 1] - X[:, 2] + np.random.randn(100) * 0.5  # Target with noise\n",
        "\n",
        "# Fit the model\n",
        "model = LinearRegression()\n",
        "model.fit(X, y)\n",
        "\n",
        "# Print R-squared score and coefficients\n",
        "print(f\"R-squared score: {model.score(X, y)}\")\n",
        "print(f\"Coefficients: {model.coef_}\")\n",
        "print(f\"Intercept: {model.intercept_}\")\n"
      ],
      "metadata": {
        "colab": {
          "base_uri": "https://localhost:8080/"
        },
        "id": "m_gA3K_9GPvn",
        "outputId": "a5190b6f-9b83-4254-a7df-2e4a7fc792e4"
      },
      "execution_count": 22,
      "outputs": [
        {
          "output_type": "stream",
          "name": "stdout",
          "text": [
            "R-squared score: 0.8480349102206154\n",
            "Coefficients: [ 3.13900206  1.9211189  -0.71479712]\n",
            "Intercept: -0.1324927224211303\n"
          ]
        }
      ]
    },
    {
      "cell_type": "markdown",
      "source": [
        "# Q 21 Write a Python script to pickle a trained linear regression model, save it to a file, and load it back for prediction"
      ],
      "metadata": {
        "id": "ZDPNs4WKGk9V"
      }
    },
    {
      "cell_type": "code",
      "source": [
        "import pickle\n",
        "from sklearn.model_selection import train_test_split\n",
        "\n",
        "# Train-test split\n",
        "X_train, X_test, y_train, y_test = train_test_split(X, y, test_size=0.2, random_state=42)\n",
        "\n",
        "# Fit the model\n",
        "model = LinearRegression()\n",
        "model.fit(X_train, y_train)\n",
        "\n",
        "# Save the model\n",
        "with open(\"linear_model.pkl\", \"wb\") as file:\n",
        "    pickle.dump(model, file)\n",
        "\n",
        "print(\"Model saved to 'linear_model.pkl'\")\n",
        "\n",
        "# Load the model\n",
        "with open(\"linear_model.pkl\", \"rb\") as file:\n",
        "    loaded_model = pickle.load(file)\n",
        "\n",
        "# Predict using the loaded model\n",
        "y_pred = loaded_model.predict(X_test)\n",
        "print(f\"Loaded model R-squared score: {loaded_model.score(X_test, y_test)}\")\n"
      ],
      "metadata": {
        "colab": {
          "base_uri": "https://localhost:8080/"
        },
        "id": "46ZIUUDOGftc",
        "outputId": "ec7f585e-3ba4-4b8c-9ebc-14582078eec1"
      },
      "execution_count": 23,
      "outputs": [
        {
          "output_type": "stream",
          "name": "stdout",
          "text": [
            "Model saved to 'linear_model.pkl'\n",
            "Loaded model R-squared score: 0.7267741621294153\n"
          ]
        }
      ]
    },
    {
      "cell_type": "markdown",
      "source": [
        "# Q 22 Write a Python script to perform linear regression with categorical features using one-hot encoding. Use the Seaborn 'tips' dataset"
      ],
      "metadata": {
        "id": "0MC964eYGrwe"
      }
    },
    {
      "cell_type": "code",
      "source": [
        "import pandas as pd\n",
        "from sklearn.preprocessing import OneHotEncoder\n",
        "from sklearn.compose import ColumnTransformer\n",
        "from sklearn.pipeline import Pipeline\n",
        "\n",
        "# Load the 'tips' dataset\n",
        "tips = sns.load_dataset('tips')\n",
        "\n",
        "# Separate features and target\n",
        "X = tips[['total_bill', 'sex', 'smoker', 'day', 'time']]\n",
        "y = tips['tip']\n",
        "\n",
        "# Define the pipeline\n",
        "categorical_features = ['sex', 'smoker', 'day', 'time']\n",
        "preprocessor = ColumnTransformer(\n",
        "    transformers=[('cat', OneHotEncoder(drop='first'), categorical_features)],\n",
        "    remainder='passthrough'\n",
        ")\n",
        "\n",
        "pipeline = Pipeline([\n",
        "    ('preprocessor', preprocessor),\n",
        "    ('regressor', LinearRegression())\n",
        "])\n",
        "\n",
        "# Fit the model\n",
        "pipeline.fit(X, y)\n",
        "\n",
        "# Print coefficients\n",
        "print(f\"R-squared score: {pipeline.score(X, y)}\")\n"
      ],
      "metadata": {
        "colab": {
          "base_uri": "https://localhost:8080/"
        },
        "id": "qW3UncLrGo-r",
        "outputId": "0fde4c40-0fb3-4481-b926-e50405bd43be"
      },
      "execution_count": 24,
      "outputs": [
        {
          "output_type": "stream",
          "name": "stdout",
          "text": [
            "R-squared score: 0.4613641828591971\n"
          ]
        }
      ]
    },
    {
      "cell_type": "markdown",
      "source": [
        "# Q 23 Compare Ridge Regression with Linear Regression on a synthetic dataset and print the coefficients and Rsquared score"
      ],
      "metadata": {
        "id": "3LEC0h1PGygu"
      }
    },
    {
      "cell_type": "code",
      "source": [
        "from sklearn.linear_model import Ridge\n",
        "\n",
        "# Generate synthetic dataset\n",
        "np.random.seed(42)\n",
        "X = np.random.rand(100, 3)\n",
        "y = 5 * X[:, 0] - 3 * X[:, 1] + X[:, 2] + np.random.randn(100) * 0.5\n",
        "\n",
        "# Linear Regression\n",
        "lr_model = LinearRegression()\n",
        "lr_model.fit(X, y)\n",
        "print(f\"Linear Regression Coefficients: {lr_model.coef_}\")\n",
        "print(f\"Linear Regression R-squared: {lr_model.score(X, y)}\")\n",
        "\n",
        "# Ridge Regression\n",
        "ridge_model = Ridge(alpha=1.0)\n",
        "ridge_model.fit(X, y)\n",
        "print(f\"Ridge Regression Coefficients: {ridge_model.coef_}\")\n",
        "print(f\"Ridge Regression R-squared: {ridge_model.score(X, y)}\")\n"
      ],
      "metadata": {
        "colab": {
          "base_uri": "https://localhost:8080/"
        },
        "id": "sVrh81bUGvpf",
        "outputId": "3a1f0600-aa60-4bd2-d9ee-0adc50dcf7c0"
      },
      "execution_count": 25,
      "outputs": [
        {
          "output_type": "stream",
          "name": "stdout",
          "text": [
            "Linear Regression Coefficients: [ 5.13900206 -3.0788811   1.28520288]\n",
            "Linear Regression R-squared: 0.9274788434697193\n",
            "Ridge Regression Coefficients: [ 4.54310235 -2.76217337  1.10319265]\n",
            "Ridge Regression R-squared: 0.9155564024902682\n"
          ]
        }
      ]
    },
    {
      "cell_type": "markdown",
      "source": [
        "# Q 24 Write a Python script that uses cross-validation to evaluate a Linear Regression model on a synthetic datase"
      ],
      "metadata": {
        "id": "vEig9o2pG8cS"
      }
    },
    {
      "cell_type": "code",
      "source": [
        "from sklearn.model_selection import cross_val_score\n",
        "\n",
        "# Generate synthetic dataset\n",
        "X = np.random.rand(100, 3)\n",
        "y = 4 * X[:, 0] + 3 * X[:, 1] - 2 * X[:, 2] + np.random.randn(100) * 0.5\n",
        "\n",
        "# Perform cross-validation\n",
        "cv_scores = cross_val_score(LinearRegression(), X, y, cv=5, scoring='r2')\n",
        "print(f\"Cross-Validation R-squared Scores: {cv_scores}\")\n",
        "print(f\"Mean R-squared: {np.mean(cv_scores)}\")\n"
      ],
      "metadata": {
        "colab": {
          "base_uri": "https://localhost:8080/"
        },
        "id": "_wwO7ROPG5aq",
        "outputId": "638961ae-1356-4058-c8d5-a774f2a2038e"
      },
      "execution_count": 26,
      "outputs": [
        {
          "output_type": "stream",
          "name": "stdout",
          "text": [
            "Cross-Validation R-squared Scores: [0.90211742 0.94406252 0.94860699 0.87001804 0.86410485]\n",
            "Mean R-squared: 0.9057819641382684\n"
          ]
        }
      ]
    },
    {
      "cell_type": "markdown",
      "source": [
        "# Q 25 Write a Python script that compares polynomial regression models of different degrees and prints the Rsquared score for each"
      ],
      "metadata": {
        "id": "4ttUbELRHD0c"
      }
    },
    {
      "cell_type": "code",
      "source": [
        "from sklearn.preprocessing import PolynomialFeatures\n",
        "from sklearn.pipeline import make_pipeline\n",
        "\n",
        "# Generate synthetic dataset\n",
        "X = np.random.rand(100, 1) * 10\n",
        "y = 2 * X.flatten()**2 - 3 * X.flatten() + np.random.randn(100) * 5\n",
        "\n",
        "# Compare models of different degrees\n",
        "for degree in range(1, 6):\n",
        "    poly_model = make_pipeline(PolynomialFeatures(degree), LinearRegression())\n",
        "    poly_model.fit(X, y)\n",
        "    r2 = poly_model.score(X, y)\n",
        "    print(f\"Degree {degree}: R-squared = {r2}\")\n"
      ],
      "metadata": {
        "colab": {
          "base_uri": "https://localhost:8080/"
        },
        "id": "mWTOPvkxHAka",
        "outputId": "8ccfd20f-2653-421c-ea6a-d7f313e1165c"
      },
      "execution_count": 27,
      "outputs": [
        {
          "output_type": "stream",
          "name": "stdout",
          "text": [
            "Degree 1: R-squared = 0.9024642387997082\n",
            "Degree 2: R-squared = 0.9905418333555664\n",
            "Degree 3: R-squared = 0.9906554581938856\n",
            "Degree 4: R-squared = 0.9906903839739172\n",
            "Degree 5: R-squared = 0.9907075957843171\n"
          ]
        }
      ]
    },
    {
      "cell_type": "markdown",
      "source": [
        "# Q 26 Write a Python script that adds interaction terms to a linear regression model and prints the coefficients"
      ],
      "metadata": {
        "id": "1mZTdB_PHLMa"
      }
    },
    {
      "cell_type": "code",
      "source": [
        "from sklearn.preprocessing import PolynomialFeatures\n",
        "\n",
        "# Generate synthetic dataset\n",
        "X = np.random.rand(100, 2)\n",
        "y = 3 * X[:, 0] + 2 * X[:, 1] + 1.5 * X[:, 0] * X[:, 1] + np.random.randn(100) * 0.5\n",
        "\n",
        "# Add interaction terms\n",
        "poly = PolynomialFeatures(degree=2, interaction_only=True, include_bias=False)\n",
        "X_interaction = poly.fit_transform(X)\n",
        "\n",
        "# Fit the model\n",
        "model = LinearRegression()\n",
        "model.fit(X_interaction, y)\n",
        "\n",
        "# Print coefficients\n",
        "print(f\"Coefficients: {model.coef_}\")\n",
        "print(f\"Intercept: {model.intercept_}\")\n"
      ],
      "metadata": {
        "colab": {
          "base_uri": "https://localhost:8080/"
        },
        "id": "hWJ6yyvKHIPA",
        "outputId": "be42dd46-b602-4ad8-8cd1-ae6b9d8ba3a8"
      },
      "execution_count": 28,
      "outputs": [
        {
          "output_type": "stream",
          "name": "stdout",
          "text": [
            "Coefficients: [3.36557663 2.35418361 0.82262601]\n",
            "Intercept: -0.13671288288367034\n"
          ]
        }
      ]
    },
    {
      "cell_type": "code",
      "source": [],
      "metadata": {
        "id": "6b5LBuhEHO8e"
      },
      "execution_count": null,
      "outputs": []
    }
  ]
}