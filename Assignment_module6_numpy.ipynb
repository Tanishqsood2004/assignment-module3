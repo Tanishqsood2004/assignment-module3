{
  "nbformat": 4,
  "nbformat_minor": 0,
  "metadata": {
    "colab": {
      "provenance": []
    },
    "kernelspec": {
      "name": "python3",
      "display_name": "Python 3"
    },
    "language_info": {
      "name": "python"
    }
  },
  "cells": [
    {
      "cell_type": "markdown",
      "source": [
        "# NUMPY THEORATICAL ASSIGNMENT\n"
      ],
      "metadata": {
        "id": "Bx56ItMT0Zbr"
      }
    },
    {
      "cell_type": "markdown",
      "source": [
        "# Q 1  Explain the purpose and advantages of NumPy in scientific computing and data analysis. How does it\n",
        "enhance Python's capabilities for numerical operations?\n",
        "\n",
        "\n"
      ],
      "metadata": {
        "id": "QjXBnguL0t7a"
      }
    },
    {
      "cell_type": "markdown",
      "source": [
        "NumPy (Numerical Python) is a foundational library in Python for scientific computing and data analysis. It enhances Python's capabilities by providing efficient and powerful tools for numerical operations, which makes it essential for working with large datasets, mathematical computations, and multidimensional arrays. Here’s an overview of its purpose and advantages:\n",
        "\n",
        "Purpose of NumPy:\n",
        "Array Object (ndarray): The core feature of NumPy is the ndarray (N-dimensional array), a powerful multi-dimensional array that supports fast element-wise operations and efficient memory storage.\n",
        "Mathematical Operations: NumPy offers a wide range of mathematical functions to perform operations like linear algebra, statistics, and random number generation.\n",
        "Efficiency: NumPy is implemented in C, which allows for faster execution compared to standard Python lists and loops, especially in the case of large datasets.\n",
        "Foundation for Other Libraries: Many other scientific and data analysis libraries, such as Pandas, SciPy, and TensorFlow, rely on NumPy for its array-handling capabilities.\n",
        "Advantages of NumPy:\n",
        "Fast Computation:\n",
        "\n",
        "NumPy arrays are more efficient than Python lists due to their compact memory layout and lower overhead.\n",
        "Vectorized operations (i.e., operations on entire arrays rather than element-by-element) minimize the need for slow Python loops.\n",
        "Support for Multidimensional Arrays:\n",
        "\n",
        "NumPy supports N-dimensional arrays (e.g., 1D, 2D, 3D, etc.), which makes it easy to handle complex datasets like matrices, tensors, and grids of data.\n",
        "It provides built-in functions for reshaping, indexing, slicing, and broadcasting arrays efficiently.\n",
        "Memory Efficiency:\n",
        "\n",
        "NumPy uses contiguous blocks of memory for storing array data, leading to lower memory consumption.\n",
        "It can specify data types (e.g., int32, float64), allowing more control over memory usage.\n",
        "Mathematical Functions and Linear Algebra:\n",
        "\n",
        "It offers a large library of mathematical functions to perform complex computations such as matrix multiplication, Fourier transformations, and solving linear systems of equations.\n",
        "NumPy also supports element-wise operations, making it easier to apply functions across entire arrays.\n",
        "Integration with Other Tools:\n",
        "\n",
        "NumPy arrays are compatible with many other Python libraries used for data analysis, machine learning, and visualization, such as Pandas, Matplotlib, SciPy, and scikit-learn.\n",
        "Its data is also easily imported/exported in various formats like CSV, binary, etc.\n",
        "Broadcasting:\n",
        "\n",
        "NumPy allows operations on arrays of different shapes and sizes without explicitly creating new arrays. This technique, called broadcasting, makes operations on arrays more flexible and memory-efficient.\n",
        "Ease of Use:\n",
        "\n",
        "The syntax is simple and intuitive, making it easier to implement complex algorithms with fewer lines of code compared to native Python.\n",
        "How NumPy Enhances Python’s Capabilities:\n",
        "Performance Boost: NumPy operations are performed in compiled C code, providing a significant speed advantage over Python’s built-in functions for numerical computation.\n",
        "Handling Large Datasets: Python lists are not designed for high-performance computing, especially for large datasets, whereas NumPy arrays offer optimized performance for such cases.\n",
        "Seamless Operations on Arrays: NumPy introduces powerful array-manipulation functions that make numerical operations concise and expressive, avoiding cumbersome loops.\n",
        "Extensibility: It provides functionality for integrating Python with external code libraries written in C, C++, and Fortran, which is essential for high-performance computing.\n",
        "In summary, NumPy enhances Python by providing a fast, flexible, and efficient framework for numerical and scientific computing. It is a fundamental library for data analysis, machine learning, and numerical simulations.\n",
        "\n",
        "\n",
        "\n",
        "\n",
        "\n",
        "\n"
      ],
      "metadata": {
        "id": "HANiN82B1LUA"
      }
    },
    {
      "cell_type": "markdown",
      "source": [
        "# 2. Compare and contrast np.mean() and np.average() functions in NumPy. When would you use one over the\n",
        "other?"
      ],
      "metadata": {
        "id": "bfT_L7hO1TNe"
      }
    },
    {
      "cell_type": "markdown",
      "source": [
        "Both np.mean() and np.average() are used in NumPy to compute the average of elements in an array, but they have distinct functionalities and use cases. Here’s a comparison of the two:\n",
        "\n",
        "np.mean()\n",
        "Purpose: Computes the arithmetic mean (average) of array elements along a specified axis or for the entire array.\n",
        "Syntax: np.mean(array, axis=None, dtype=None)\n",
        "Weights: Does not support weighted averages. It calculates the simple mean by summing all the values and dividing by the total number of elements.\n",
        "Output: Returns the arithmetic mean (average) of the array.\n",
        "Example:"
      ],
      "metadata": {
        "id": "pStAWV5a1hRy"
      }
    },
    {
      "cell_type": "code",
      "execution_count": 1,
      "metadata": {
        "id": "jempK4Wz0Uwi"
      },
      "outputs": [],
      "source": [
        "import numpy as np\n",
        "\n",
        "arr = np.array([1, 2, 3, 4])\n",
        "mean_value = np.mean(arr)  # Output: 2.5\n"
      ]
    },
    {
      "cell_type": "markdown",
      "source": [
        "np.average()\n",
        "Purpose: Computes the weighted average of the array elements along a specified axis.\n",
        "Syntax: np.average(array, axis=None, weights=None, returned=False)\n",
        "Weights: Can compute a weighted average if a weights parameter is provided. If no weights are specified, it behaves like np.mean().\n",
        "Additional Features:\n",
        "Accepts a weights argument to assign importance to different elements in the array.\n",
        "If returned=True, it returns a tuple containing the average and the sum of the weights.\n",
        "Example:"
      ],
      "metadata": {
        "id": "i7n1hd3q1uCK"
      }
    },
    {
      "cell_type": "code",
      "source": [
        "arr = np.array([1, 2, 3, 4])\n",
        "weights = np.array([1, 2, 3, 4])\n",
        "weighted_avg = np.average(arr, weights=weights)  # Output: 3.0\n"
      ],
      "metadata": {
        "id": "iB4BusLQ1kVm"
      },
      "execution_count": 2,
      "outputs": []
    },
    {
      "cell_type": "markdown",
      "source": [
        "![image.png](data:image/png;base64,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)"
      ],
      "metadata": {
        "id": "VGr3W4B310QX"
      }
    },
    {
      "cell_type": "markdown",
      "source": [
        "When to Use One Over the Other:\n",
        "Use np.mean():\n",
        "\n",
        "When you need a simple arithmetic mean of the array elements.\n",
        "For standard cases where each value is equally important, and weights are not needed.\n",
        "Use np.average():\n",
        "\n",
        "When you want to calculate a weighted average and assign different importance to the elements of the array.\n",
        "If you need both the average and the sum of weights as the output.\n",
        "In summary:\n",
        "\n",
        "Use np.mean() for simple average calculations when weights are unnecessary.\n",
        "Use np.average() when you need a weighted average or want the flexibility to work with weights.\n",
        "\n",
        "\n",
        "\n",
        "\n",
        "\n"
      ],
      "metadata": {
        "id": "vM4if21j15aE"
      }
    },
    {
      "cell_type": "markdown",
      "source": [
        "# Q 3 3. Describe the methods for reversing a NumPy array along different axes. Provide examples for 1D and 2Darrays"
      ],
      "metadata": {
        "id": "fsLGy3LR2Qcm"
      }
    },
    {
      "cell_type": "markdown",
      "source": [
        "Reversing a NumPy array can be achieved in several ways depending on the axis along which you want to reverse the elements. The reversal can be performed for both 1D and 2D arrays along different axes.\n",
        "\n",
        "1D Array Reversal\n",
        "For 1D arrays, you can reverse the array by using slicing techniques."
      ],
      "metadata": {
        "id": "KhLzUUXk2c1p"
      }
    },
    {
      "cell_type": "code",
      "source": [
        "import numpy as np\n",
        "\n",
        "# Create a 1D array\n",
        "arr = np.array([1, 2, 3, 4, 5])\n",
        "\n",
        "# Reverse the array using slicing\n",
        "reversed_arr = arr[::-1]\n",
        "print(reversed_arr)\n",
        "# Output: [5 4 3 2 1]\n"
      ],
      "metadata": {
        "colab": {
          "base_uri": "https://localhost:8080/"
        },
        "id": "1_n9WSl11xFV",
        "outputId": "dae29bb1-06c5-44bd-c87d-b81962581004"
      },
      "execution_count": 3,
      "outputs": [
        {
          "output_type": "stream",
          "name": "stdout",
          "text": [
            "[5 4 3 2 1]\n"
          ]
        }
      ]
    },
    {
      "cell_type": "markdown",
      "source": [
        "2D Array Reversal\n",
        "For 2D arrays, you can reverse elements along different axes:\n",
        "\n",
        "Reverse along rows (axis 0): This reverses the order of the rows.\n",
        "Reverse along columns (axis 1): This reverses the order of the columns.\n",
        "Reverse the entire array: This reverses both rows and columns simultaneously.\n",
        "Example: Reverse a 2D Array"
      ],
      "metadata": {
        "id": "pPOblcb32iE6"
      }
    },
    {
      "cell_type": "code",
      "source": [
        "# Create a 2D array\n",
        "arr_2d = np.array([[1, 2, 3],\n",
        "                   [4, 5, 6],\n",
        "                   [7, 8, 9]])\n",
        "\n",
        "# Reverse the array along rows (axis 0)\n",
        "reverse_rows = arr_2d[::-1, :]\n",
        "print(reverse_rows)\n",
        "# Output:\n",
        "# [[7 8 9]\n",
        "#  [4 5 6]\n",
        "#  [1 2 3]]\n",
        "\n",
        "# Reverse the array along columns (axis 1)\n",
        "reverse_cols = arr_2d[:, ::-1]\n",
        "print(reverse_cols)\n",
        "# Output:\n",
        "# [[3 2 1]\n",
        "#  [6 5 4]\n",
        "#  [9 8 7]]\n",
        "\n",
        "# Reverse the entire 2D array (both axes)\n",
        "reverse_all = arr_2d[::-1, ::-1]\n",
        "print(reverse_all)\n",
        "# Output:\n",
        "# [[9 8 7]\n",
        "#  [6 5 4]\n",
        "#  [3 2 1]]\n"
      ],
      "metadata": {
        "colab": {
          "base_uri": "https://localhost:8080/"
        },
        "id": "G_YwzK6j2ft1",
        "outputId": "716581c5-9096-4c59-a174-ef54f95aab2f"
      },
      "execution_count": 4,
      "outputs": [
        {
          "output_type": "stream",
          "name": "stdout",
          "text": [
            "[[7 8 9]\n",
            " [4 5 6]\n",
            " [1 2 3]]\n",
            "[[3 2 1]\n",
            " [6 5 4]\n",
            " [9 8 7]]\n",
            "[[9 8 7]\n",
            " [6 5 4]\n",
            " [3 2 1]]\n"
          ]
        }
      ]
    },
    {
      "cell_type": "markdown",
      "source": [
        "Methods for Reversing Arrays:\n",
        "Slicing ([::-1]):\n",
        "\n",
        "This is the simplest and most common way to reverse arrays in NumPy. It uses negative step values to reverse the array.\n",
        "Syntax: array[::-1] for 1D arrays or array[::-1, ::-1] for 2D arrays.\n",
        "Using np.flip():\n",
        "\n",
        "NumPy provides the np.flip() function to reverse the order of elements along a specified axis.\n",
        "Syntax: np.flip(array, axis), where axis specifies the axis to reverse.\n",
        "Example:\n"
      ],
      "metadata": {
        "id": "BXfkJS7j2tyM"
      }
    },
    {
      "cell_type": "code",
      "source": [
        "# Reverse 1D array using np.flip()\n",
        "reversed_arr = np.flip(arr)\n",
        "print(reversed_arr)\n",
        "# Output: [5 4 3 2 1]\n",
        "\n",
        "# Reverse 2D array along rows using np.flip(axis=0)\n",
        "reverse_rows = np.flip(arr_2d, axis=0)\n",
        "print(reverse_rows)\n",
        "# Output:\n",
        "# [[7 8 9]\n",
        "#  [4 5 6]\n",
        "#  [1 2 3]]\n",
        "\n",
        "# Reverse 2D array along columns using np.flip(axis=1)\n",
        "reverse_cols = np.flip(arr_2d, axis=1)\n",
        "print(reverse_cols)\n",
        "# Output:\n",
        "# [[3 2 1]\n",
        "#  [6 5 4]\n",
        "#  [9 8 7]]\n"
      ],
      "metadata": {
        "colab": {
          "base_uri": "https://localhost:8080/"
        },
        "id": "SL3hsnh52nZ4",
        "outputId": "e502312f-ffb3-456e-ad9c-a54b905aa9d3"
      },
      "execution_count": 5,
      "outputs": [
        {
          "output_type": "stream",
          "name": "stdout",
          "text": [
            "[5 4 3 2 1]\n",
            "[[7 8 9]\n",
            " [4 5 6]\n",
            " [1 2 3]]\n",
            "[[3 2 1]\n",
            " [6 5 4]\n",
            " [9 8 7]]\n"
          ]
        }
      ]
    },
    {
      "cell_type": "markdown",
      "source": [
        "Slicing ([::-1]): The most straightforward and flexible method for reversing arrays along various axes.\n",
        "np.flip(): An alternative method that is more explicit and handles axis specification directly.\n",
        "You can choose between these methods depending on readability and specific needs."
      ],
      "metadata": {
        "id": "nES4mfW42yeS"
      }
    },
    {
      "cell_type": "markdown",
      "source": [
        "# Q 4 4. How can you determine the data type of elements in a NumPy array? Discuss the importance of data typesin memory management and performance."
      ],
      "metadata": {
        "id": "7lLBcZrd216B"
      }
    },
    {
      "cell_type": "markdown",
      "source": [
        "In NumPy, you can determine the data type of the elements in an array using the dtype attribute. Understanding and managing data types is crucial in NumPy as it directly impacts memory usage and performance.\n",
        "\n",
        "Determining the Data Type of Elements in a NumPy Array\n",
        "To find the data type of the elements in a NumPy array, you can use the following methods:\n",
        "\n",
        "Using dtype Attribute: The dtype attribute returns the data type of the elements in the array."
      ],
      "metadata": {
        "id": "Fhsc693j2_bj"
      }
    },
    {
      "cell_type": "code",
      "source": [
        "import numpy as np\n",
        "\n",
        "arr = np.array([1, 2, 3])\n",
        "print(arr.dtype)\n",
        "# Output: int64 (or another integer type depending on the system)\n"
      ],
      "metadata": {
        "colab": {
          "base_uri": "https://localhost:8080/"
        },
        "id": "YaItly0e2v2H",
        "outputId": "6908c9fb-72e0-4ad4-e650-1a9ec9de8de1"
      },
      "execution_count": 6,
      "outputs": [
        {
          "output_type": "stream",
          "name": "stdout",
          "text": [
            "int64\n"
          ]
        }
      ]
    },
    {
      "cell_type": "markdown",
      "source": [
        "Using type() Function: To determine the type of the entire array object itself, you can use the type() function. However, this won’t tell you the data type of the individual elements."
      ],
      "metadata": {
        "id": "RT4SBMz63ED3"
      }
    },
    {
      "cell_type": "code",
      "source": [
        "\n",
        "\n",
        "print(type(arr))\n",
        "# Output: <class 'numpy.ndarray'>\n"
      ],
      "metadata": {
        "colab": {
          "base_uri": "https://localhost:8080/"
        },
        "id": "Dd8BNbEx3B0z",
        "outputId": "68482dc8-b40c-4747-8eb9-9c406a772df6"
      },
      "execution_count": 7,
      "outputs": [
        {
          "output_type": "stream",
          "name": "stdout",
          "text": [
            "<class 'numpy.ndarray'>\n"
          ]
        }
      ]
    },
    {
      "cell_type": "markdown",
      "source": [
        "Using np.asarray() with dtype Argument: You can also explicitly check or set the data type when creating an array:"
      ],
      "metadata": {
        "id": "6ADDRB6V3J85"
      }
    },
    {
      "cell_type": "code",
      "source": [
        "arr_float = np.asarray([1, 2, 3], dtype=float)\n",
        "print(arr_float.dtype)\n",
        "# Output: float64\n"
      ],
      "metadata": {
        "colab": {
          "base_uri": "https://localhost:8080/"
        },
        "id": "YvHrK4013IBz",
        "outputId": "525fb1ad-1fcb-483a-e3a0-7975b9ddb594"
      },
      "execution_count": 8,
      "outputs": [
        {
          "output_type": "stream",
          "name": "stdout",
          "text": [
            "float64\n"
          ]
        }
      ]
    },
    {
      "cell_type": "markdown",
      "source": [
        "Importance of Data Types in Memory Management and Performance\n",
        "Memory Efficiency:\n",
        "\n",
        "NumPy arrays are more memory-efficient than Python lists because they use contiguous blocks of memory. The choice of data type (dtype) determines how much memory is allocated for each element.\n",
        "For example, an array of int8 (8-bit integer) uses less memory than an array of int64 (64-bit integer), but it has a smaller range of values.\n",
        "Efficient memory usage is important when working with large datasets, where choosing an appropriate data type can significantly reduce memory consumption.\n",
        "Example:"
      ],
      "metadata": {
        "id": "E-RDyWnB3NVn"
      }
    },
    {
      "cell_type": "code",
      "source": [
        "arr_int8 = np.array([1, 2, 3], dtype=np.int8)\n",
        "arr_int64 = np.array([1, 2, 3], dtype=np.int64)\n",
        "\n",
        "print(arr_int8.nbytes)  # Output: 3 bytes\n",
        "print(arr_int64.nbytes)  # Output: 24 bytes\n"
      ],
      "metadata": {
        "colab": {
          "base_uri": "https://localhost:8080/"
        },
        "id": "wiYw-N433LRP",
        "outputId": "3f0ea692-d2b9-4894-a062-6716c0d3350f"
      },
      "execution_count": 9,
      "outputs": [
        {
          "output_type": "stream",
          "name": "stdout",
          "text": [
            "3\n",
            "24\n"
          ]
        }
      ]
    },
    {
      "cell_type": "markdown",
      "source": [
        "Performance:\n",
        "\n",
        "Data types influence computation speed. Smaller data types (e.g., int8 or float32) allow faster processing, as the CPU can handle more data in a single operation due to reduced memory overhead.\n",
        "Conversely, larger data types (e.g., float64 or int64) might provide higher precision but at the cost of more memory and slower performance in certain computations.\n",
        "Example:"
      ],
      "metadata": {
        "id": "qgV1uDu-3Q7A"
      }
    },
    {
      "cell_type": "code",
      "source": [
        "arr_float32 = np.array([1.0, 2.0, 3.0], dtype=np.float32)\n",
        "arr_float64 = np.array([1.0, 2.0, 3.0], dtype=np.float64)\n",
        "\n",
        "# Performance may vary depending on the system, but in general, float32 arrays are processed faster than float64.\n"
      ],
      "metadata": {
        "id": "-JRwPE2e3O49"
      },
      "execution_count": 9,
      "outputs": []
    },
    {
      "cell_type": "markdown",
      "source": [
        "Data Integrity:\n",
        "\n",
        "Selecting the right data type ensures the integrity of the data. For instance, using an int8 data type (which has a range from -128 to 127) to store values larger than 127 will result in data loss or overflow errors.\n",
        "In numerical computations or machine learning models, using float32 instead of float64 might cause loss of precision in the results. Hence, the choice of data type should balance performance and precision needs.\n",
        "Compatibility with External Libraries:\n",
        "\n",
        "When interfacing with other libraries (e.g., machine learning libraries like TensorFlow or scikit-learn), the choice of data type becomes important to ensure compatibility and avoid unnecessary data conversion overheads.\n",
        "For example, TensorFlow often uses float32 as the default data type for performance reasons, so it’s efficient to match this in NumPy arrays if the data is being passed to TensorFlow.\n",
        "Summary:\n",
        "dtype attribute is used to check the data type of elements in a NumPy array.\n",
        "Memory Management: Proper selection of data types helps in optimizing memory usage, especially for large datasets.\n",
        "Performance: Smaller data types lead to faster computations but may reduce precision.\n",
        "Data Integrity: Using the correct data type prevents data loss and ensures accurate results.\n",
        "Compatibility: Matching data types with external libraries improves performance and reduces data conversion overhead.\n",
        "Understanding and carefully selecting data types in NumPy is crucial for managing large-scale computations efficiently.\n",
        "\n",
        "\n",
        "\n",
        "\n",
        "\n",
        "\n"
      ],
      "metadata": {
        "id": "KB--ufT53VwM"
      }
    },
    {
      "cell_type": "markdown",
      "source": [
        "# Q 5. Define ndarrays in NumPy and explain their key features. How do they differ from standard Python lists?"
      ],
      "metadata": {
        "id": "LPy9C1M03YyL"
      }
    },
    {
      "cell_type": "markdown",
      "source": [
        "In NumPy, ndarrays (N-dimensional arrays) are the core data structure used for representing collections of homogeneous data, enabling efficient numerical computations. These arrays support operations like slicing, indexing, and mathematical operations across multiple dimensions, making them a powerful alternative to Python lists for scientific computing.\n",
        "\n",
        "Definition of ndarray\n",
        "An ndarray is a multidimensional, homogeneous array (i.e., all elements must be of the same data type) used to store and operate on large datasets in an efficient manner.\n",
        "\n",
        "Key Features of ndarray:\n",
        "Homogeneous Data Type:\n",
        "\n",
        "All elements in an ndarray must be of the same data type (dtype), which can be specified during the array’s creation.\n",
        "This ensures consistency in memory allocation and efficient processing.\n",
        "Example:"
      ],
      "metadata": {
        "id": "B6RmS0X93gk6"
      }
    },
    {
      "cell_type": "code",
      "source": [
        "import numpy as np\n",
        "arr = np.array([1, 2, 3], dtype=np.int32)\n",
        "print(arr.dtype)  # Output: int32\n"
      ],
      "metadata": {
        "id": "x45ZwkiM3WHK"
      },
      "execution_count": 9,
      "outputs": []
    },
    {
      "cell_type": "markdown",
      "source": [
        "Multidimensional:\n",
        "\n",
        "An ndarray can have multiple dimensions (1D, 2D, 3D, etc.), allowing it to represent complex data structures like matrices, tensors, or higher-dimensional grids.\n",
        "The shape of the array can be accessed using the .shape attribute.\n"
      ],
      "metadata": {
        "id": "Uin4CC6P3lba"
      }
    },
    {
      "cell_type": "code",
      "source": [
        "arr_2d = np.array([[1, 2, 3], [4, 5, 6]])\n",
        "print(arr_2d.shape)  # Output: (2, 3)\n"
      ],
      "metadata": {
        "colab": {
          "base_uri": "https://localhost:8080/"
        },
        "id": "wNTISN0h3lyx",
        "outputId": "45836796-411a-49ba-a31f-222b3f2e3861"
      },
      "execution_count": 10,
      "outputs": [
        {
          "output_type": "stream",
          "name": "stdout",
          "text": [
            "(2, 3)\n"
          ]
        }
      ]
    },
    {
      "cell_type": "markdown",
      "source": [
        "Efficient Memory Usage:\n",
        "\n",
        "ndarrays are stored in contiguous blocks of memory, which allows for better cache utilization and minimizes overhead compared to Python lists.\n",
        "Memory usage is highly optimized, especially for large datasets"
      ],
      "metadata": {
        "id": "ORTa_2KZ3sIw"
      }
    },
    {
      "cell_type": "code",
      "source": [
        "arr = np.array([1, 2, 3], dtype=np.int32)\n",
        "print(arr.nbytes)  # Output: 12 (since each int32 uses 4 bytes, and there are 3 elements)\n"
      ],
      "metadata": {
        "colab": {
          "base_uri": "https://localhost:8080/"
        },
        "id": "yzFSWU0a3n6I",
        "outputId": "775b208c-ab07-4581-d409-697715de7385"
      },
      "execution_count": 11,
      "outputs": [
        {
          "output_type": "stream",
          "name": "stdout",
          "text": [
            "12\n"
          ]
        }
      ]
    },
    {
      "cell_type": "markdown",
      "source": [
        "Vectorized Operations:\n",
        "\n",
        "NumPy supports element-wise operations on ndarrays, which allows for fast, vectorized computation without the need for explicit loops.\n",
        "This boosts performance and simplifies code when performing operations like addition, subtraction, or multiplication on arrays.\n",
        "Example:"
      ],
      "metadata": {
        "id": "bic2Ai3a3wF2"
      }
    },
    {
      "cell_type": "code",
      "source": [
        "arr = np.array([1, 2, 3])\n",
        "result = arr * 2  # Multiply each element by 2\n",
        "print(result)  # Output: [2 4 6]\n"
      ],
      "metadata": {
        "colab": {
          "base_uri": "https://localhost:8080/"
        },
        "id": "vvfFI5uv3uEC",
        "outputId": "81cfca93-a3cd-4510-8901-aef413278e15"
      },
      "execution_count": 12,
      "outputs": [
        {
          "output_type": "stream",
          "name": "stdout",
          "text": [
            "[2 4 6]\n"
          ]
        }
      ]
    },
    {
      "cell_type": "markdown",
      "source": [
        "Broadcasting:\n",
        "\n",
        "Broadcasting is the ability of NumPy to apply operations to arrays of different shapes in a way that makes their shapes compatible for element-wise operations without creating unnecessary copies"
      ],
      "metadata": {
        "id": "yQNQMKl430JU"
      }
    },
    {
      "cell_type": "code",
      "source": [
        "arr = np.array([[1, 2, 3], [4, 5, 6]])\n",
        "scalar = 2\n",
        "result = arr + scalar  # Adds 2 to each element\n",
        "print(result)\n",
        "# Output:\n",
        "# [[3 4 5]\n",
        "#  [6 7 8]]\n"
      ],
      "metadata": {
        "id": "DWXiksf93xm_"
      },
      "execution_count": 12,
      "outputs": []
    },
    {
      "cell_type": "markdown",
      "source": [
        "Slicing and Indexing:\n",
        "\n",
        "Like Python lists, ndarrays can be sliced and indexed to access specific elements, rows, columns, or subarrays. Slicing is extremely fast because ndarrays use views (references) instead of copying data.\n",
        "Example:"
      ],
      "metadata": {
        "id": "Kt8yFA7N33kE"
      }
    },
    {
      "cell_type": "code",
      "source": [
        "arr = np.array([1, 2, 3, 4, 5])\n",
        "print(arr[1:4])  # Output: [2 3 4]\n"
      ],
      "metadata": {
        "colab": {
          "base_uri": "https://localhost:8080/"
        },
        "id": "uTf7o2E133rp",
        "outputId": "3c2ec7ee-7072-46d7-d1cc-cdc9d5ca96ab"
      },
      "execution_count": 13,
      "outputs": [
        {
          "output_type": "stream",
          "name": "stdout",
          "text": [
            "[2 3 4]\n"
          ]
        }
      ]
    },
    {
      "cell_type": "markdown",
      "source": [
        "Support for Mathematical Functions:\n",
        "\n",
        "NumPy offers a large number of mathematical functions (e.g., trigonometric, statistical, algebraic) that can be applied directly to ndarrays."
      ],
      "metadata": {
        "id": "G1HHp_i937x3"
      }
    },
    {
      "cell_type": "code",
      "source": [
        "arr = np.array([1, 2, 3, 4, 5])\n",
        "print(np.sqrt(arr))  # Output: [1.         1.41421356 1.73205081 2.         2.23606798]\n"
      ],
      "metadata": {
        "colab": {
          "base_uri": "https://localhost:8080/"
        },
        "id": "3xawqK8O35LO",
        "outputId": "eff61b9c-ae10-477d-d65e-409e8c631cbf"
      },
      "execution_count": 14,
      "outputs": [
        {
          "output_type": "stream",
          "name": "stdout",
          "text": [
            "[1.         1.41421356 1.73205081 2.         2.23606798]\n"
          ]
        }
      ]
    },
    {
      "cell_type": "markdown",
      "source": [
        "![image.png](data:image/png;base64,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)"
      ],
      "metadata": {
        "id": "3ZmIL_Ok4AT5"
      }
    },
    {
      "cell_type": "code",
      "source": [
        "# Example of Differences:\n",
        "#Memory Efficiency:\n",
        "import numpy as np\n",
        "# Creating a 1000-element array in NumPy\n",
        "arr = np.array([0] * 1000, dtype=np.int32)\n",
        "print(arr.nbytes)  # Output: 4000 bytes\n",
        "\n",
        "# Creating a 1000-element list in Python\n",
        "python_list = [0] * 1000\n",
        "print(python_list.__sizeof__())  # Output: much larger size due to overhead\n"
      ],
      "metadata": {
        "colab": {
          "base_uri": "https://localhost:8080/"
        },
        "id": "PCmpggsX39NE",
        "outputId": "2becaf12-ec5b-487f-a4b9-db4ca0f4a8ca"
      },
      "execution_count": 15,
      "outputs": [
        {
          "output_type": "stream",
          "name": "stdout",
          "text": [
            "4000\n",
            "8040\n"
          ]
        }
      ]
    },
    {
      "cell_type": "code",
      "source": [
        "# Performance:\n",
        "import numpy as np\n",
        "import time\n",
        "\n",
        "arr = np.array([1, 2, 3, 4, 5] * 1000000)\n",
        "start_time = time.time()\n",
        "arr = arr * 2  # Fast vectorized operation\n",
        "print(\"NumPy Time:\", time.time() - start_time)\n",
        "\n",
        "python_list = [1, 2, 3, 4, 5] * 1000000\n",
        "start_time = time.time()\n",
        "python_list = [x * 2 for x in python_list]  # Slower list comprehension\n",
        "print(\"List Time:\", time.time() - start_time)\n"
      ],
      "metadata": {
        "colab": {
          "base_uri": "https://localhost:8080/"
        },
        "id": "xee4LDjX4HNS",
        "outputId": "75a4e6be-9a50-4467-9e1d-9254d9e4b1e8"
      },
      "execution_count": 16,
      "outputs": [
        {
          "output_type": "stream",
          "name": "stdout",
          "text": [
            "NumPy Time: 0.025987863540649414\n",
            "List Time: 0.29599428176879883\n"
          ]
        }
      ]
    },
    {
      "cell_type": "markdown",
      "source": [
        "# Q 6 6. Analyze the performance benefits of NumPy arrays over Python lists for large-scale numerical operations.\n",
        "\n",
        "\n"
      ],
      "metadata": {
        "id": "vefzgD884kHK"
      }
    },
    {
      "cell_type": "markdown",
      "source": [
        "NumPy arrays (ndarrays) offer significant performance benefits over Python lists for large-scale numerical operations. These advantages arise due to the optimized memory structure, specialized functionality, and efficient computation techniques built into NumPy. Here's a detailed analysis of the performance benefits:\n",
        "\n",
        "1. Memory Efficiency\n",
        "Contiguous Memory Allocation:\n",
        "NumPy arrays are stored in contiguous blocks of memory, which allows for better cache utilization and reduces memory overhead. This is in contrast to Python lists, which store elements as references to objects, resulting in scattered memory allocation and more overhead.\n",
        "\n",
        "Impact: By using contiguous memory, NumPy reduces memory consumption and improves data access speeds, making it more efficient for large datasets."
      ],
      "metadata": {
        "id": "HhopSA1D4q1w"
      }
    },
    {
      "cell_type": "code",
      "source": [
        "import numpy as np\n",
        "\n",
        "# NumPy array takes less memory than Python list\n",
        "arr = np.array([1, 2, 3, 4, 5], dtype=np.int32)\n",
        "print(arr.nbytes)  # Output: 20 bytes\n",
        "\n",
        "# Equivalent Python list (5 integers) consumes more memory\n",
        "python_list = [1, 2, 3, 4, 5]\n",
        "print(python_list.__sizeof__())  # Output: larger than NumPy array due to object overhead\n"
      ],
      "metadata": {
        "colab": {
          "base_uri": "https://localhost:8080/"
        },
        "id": "Y-b_3rwO4LHw",
        "outputId": "a2f1a5a5-91b3-412a-8497-ae2451ff922c"
      },
      "execution_count": 17,
      "outputs": [
        {
          "output_type": "stream",
          "name": "stdout",
          "text": [
            "20\n",
            "88\n"
          ]
        }
      ]
    },
    {
      "cell_type": "markdown",
      "source": [
        "2. Vectorized Operations (No Loops)\n",
        "Element-wise Operations Without Loops:\n",
        "NumPy arrays allow for element-wise mathematical operations to be performed directly, without the need for explicit loops. This vectorization significantly boosts performance because the operations are executed in optimized C code under the hood.\n",
        "\n",
        "Impact: Vectorized operations reduce the overhead of loop iteration in Python, leading to faster computations, especially for large arrays.\n",
        "\n",
        "Example:\n"
      ],
      "metadata": {
        "id": "b8Rilf8P4vRg"
      }
    },
    {
      "cell_type": "code",
      "source": [
        "import time\n",
        "\n",
        "arr = np.array([1, 2, 3, 4, 5] * 1000000)\n",
        "start_time = time.time()\n",
        "arr = arr * 2  # Fast vectorized operation\n",
        "print(\"NumPy Time:\", time.time() - start_time)\n",
        "\n",
        "# Python list equivalent using list comprehension (slower)\n",
        "python_list = [1, 2, 3, 4, 5] * 1000000\n",
        "start_time = time.time()\n",
        "python_list = [x * 2 for x in python_list]  # Slower loop\n",
        "print(\"List Time:\", time.time() - start_time)\n"
      ],
      "metadata": {
        "colab": {
          "base_uri": "https://localhost:8080/"
        },
        "id": "DBX89MWB4sdU",
        "outputId": "54d70223-3e39-4852-8e0a-4c3f03738a43"
      },
      "execution_count": 18,
      "outputs": [
        {
          "output_type": "stream",
          "name": "stdout",
          "text": [
            "NumPy Time: 0.024487018585205078\n",
            "List Time: 0.27198338508605957\n"
          ]
        }
      ]
    },
    {
      "cell_type": "markdown",
      "source": [
        "Performance Difference:\n",
        "NumPy's internal vectorized operations are highly optimized for speed, outperforming Python’s for-loops or list comprehensions, especially for large datasets.\n",
        "3. Efficient Use of Data Types\n",
        "Fixed Data Types (dtype):\n",
        "NumPy arrays enforce homogeneous data types, meaning all elements must be of the same type (e.g., int32, float64). This leads to more efficient memory management and quicker access times since the interpreter does not need to check the type of each element during operations.\n",
        "\n",
        "Impact: The fixed data type ensures that operations are performed efficiently, with less memory overhead compared to Python lists, which can contain elements of different types, adding to the overhead."
      ],
      "metadata": {
        "id": "wIppwIjv4y7j"
      }
    },
    {
      "cell_type": "code",
      "source": [
        "# Memory size for different data types in NumPy\n",
        "arr_int32 = np.array([1, 2, 3], dtype=np.int32)\n",
        "arr_float64 = np.array([1, 2, 3], dtype=np.float64)\n",
        "\n",
        "print(arr_int32.nbytes)  # Output: 12 bytes (4 bytes per integer)\n",
        "print(arr_float64.nbytes)  # Output: 24 bytes (8 bytes per float)\n"
      ],
      "metadata": {
        "colab": {
          "base_uri": "https://localhost:8080/"
        },
        "id": "RcgYsUZA4wxe",
        "outputId": "0495c2e5-c0a3-40a7-9150-bec0b130c462"
      },
      "execution_count": 19,
      "outputs": [
        {
          "output_type": "stream",
          "name": "stdout",
          "text": [
            "12\n",
            "24\n"
          ]
        }
      ]
    },
    {
      "cell_type": "markdown",
      "source": [
        "4. Broadcasting Mechanism\n",
        "Automatic Broadcasting:\n",
        "NumPy supports broadcasting, a feature that allows arrays of different shapes to be combined in element-wise operations without copying the data or explicitly looping. This adds to the efficiency of mathematical operations on arrays of varying dimensions.\n",
        "\n",
        "Impact: Broadcasting eliminates the need for reshaping or replicating data manually, reducing both memory consumption and the time taken to perform the operation."
      ],
      "metadata": {
        "id": "CIpodIwY44la"
      }
    },
    {
      "cell_type": "code",
      "source": [
        "arr = np.array([[1, 2, 3], [4, 5, 6]])\n",
        "scalar = 2\n",
        "\n",
        "# Broadcasting the scalar across the 2D array\n",
        "result = arr + scalar  # Automatically adds scalar to each element\n",
        "print(result)\n",
        "# Output:\n",
        "# [[3 4 5]\n",
        "#  [6 7 8]]\n"
      ],
      "metadata": {
        "colab": {
          "base_uri": "https://localhost:8080/"
        },
        "id": "SNymOZr343Zk",
        "outputId": "8db2356d-92c8-4575-8497-e0fa40a87c2f"
      },
      "execution_count": 20,
      "outputs": [
        {
          "output_type": "stream",
          "name": "stdout",
          "text": [
            "[[3 4 5]\n",
            " [6 7 8]]\n"
          ]
        }
      ]
    },
    {
      "cell_type": "markdown",
      "source": [
        "Performance Difference:\n",
        "Broadcasting avoids the need for explicit loops or extra memory to reshape arrays, thus saving both time and space.\n",
        "5. Optimized Mathematical Functions\n",
        "Pre-built Mathematical Functions:\n",
        "NumPy offers a rich library of optimized mathematical functions (e.g., np.sum(), np.dot(), np.sqrt(), etc.) that are implemented in C or Fortran. These functions are much faster than their Python equivalents or custom implementations that use loops.\n",
        "\n",
        "Impact: Utilizing NumPy’s built-in functions leads to better performance for numerical computations, as these functions are optimized for speed and handle large datasets more efficiently."
      ],
      "metadata": {
        "id": "koggyCqB498k"
      }
    },
    {
      "cell_type": "code",
      "source": [
        "arr = np.array([1, 2, 3, 4, 5] * 1000000)\n",
        "\n",
        "# NumPy's built-in sum function (optimized)\n",
        "start_time = time.time()\n",
        "np_sum = np.sum(arr)\n",
        "print(\"NumPy Sum Time:\", time.time() - start_time)\n",
        "\n",
        "# Python sum function (slower)\n",
        "python_list = [1, 2, 3, 4, 5] * 1000000\n",
        "start_time = time.time()\n",
        "py_sum = sum(python_list)\n",
        "print(\"Python Sum Time:\", time.time() - start_time)\n"
      ],
      "metadata": {
        "colab": {
          "base_uri": "https://localhost:8080/"
        },
        "id": "02TI4mOg49O4",
        "outputId": "06eaf8d4-c197-46d3-de8f-c402169f4a5e"
      },
      "execution_count": 21,
      "outputs": [
        {
          "output_type": "stream",
          "name": "stdout",
          "text": [
            "NumPy Sum Time: 0.00887608528137207\n",
            "Python Sum Time: 0.05669140815734863\n"
          ]
        }
      ]
    },
    {
      "cell_type": "markdown",
      "source": [
        "6. Memory Views and Slicing\n",
        "Memory Views:\n",
        "When slicing NumPy arrays, the result is a \"view\" of the original array, meaning no new data is copied. In contrast, slicing a Python list creates a new list with copied data.\n",
        "\n",
        "Impact: This behavior reduces memory overhead and speeds up operations that involve subarrays or portions of data, especially when working with large arrays."
      ],
      "metadata": {
        "id": "qoenlksl5CIl"
      }
    },
    {
      "cell_type": "code",
      "source": [
        "arr = np.array([1, 2, 3, 4, 5])\n",
        "\n",
        "# Slicing does not create a new array, but a view in NumPy\n",
        "arr_slice = arr[1:3]\n",
        "arr_slice[0] = 99  # Modifying the slice affects the original array\n",
        "print(arr)  # Output: [1 99 3 4 5]\n"
      ],
      "metadata": {
        "colab": {
          "base_uri": "https://localhost:8080/"
        },
        "id": "9bzTXCvb4_Xp",
        "outputId": "d95cee68-5c07-4d06-88ce-48395c38f18e"
      },
      "execution_count": 22,
      "outputs": [
        {
          "output_type": "stream",
          "name": "stdout",
          "text": [
            "[ 1 99  3  4  5]\n"
          ]
        }
      ]
    },
    {
      "cell_type": "markdown",
      "source": [
        "7. Parallelized and SIMD Operations\n",
        "SIMD (Single Instruction, Multiple Data):\n",
        "NumPy operations are often optimized to take advantage of modern CPU features like SIMD (which processes multiple data points in parallel). This is especially beneficial for large datasets, where operations can be distributed across multiple CPU cores.\n",
        "\n",
        "Impact: Exploiting these low-level hardware features enhances performance in multi-core environments and makes NumPy much faster than standard Python lists for large-scale computations.\n",
        "\n",
        "Conclusion:\n",
        "NumPy arrays (ndarrays) offer several key performance advantages over Python lists, particularly for large-scale numerical operations:\n",
        "\n",
        "Memory efficiency: NumPy’s contiguous memory layout leads to lower memory consumption and faster data access.\n",
        "Vectorized operations: Eliminates the need for explicit loops, allowing for faster computations.\n",
        "Fixed data types: Homogeneous data types improve performance by optimizing memory and computation.\n",
        "Broadcasting: Enables efficient operations between arrays of different shapes without manual reshaping or copying.\n",
        "Optimized functions: NumPy’s built-in functions are highly optimized and outperform custom Python implementations.\n",
        "Memory views: Reduces memory overhead when slicing arrays.\n",
        "Overall, for tasks involving large-scale numerical data, NumPy arrays vastly outperform Python lists in terms of both speed and memory usage, making them the go-to choice for scientific computing and data analysis.\n",
        "\n",
        "\n",
        "\n",
        "\n",
        "\n",
        "\n"
      ],
      "metadata": {
        "id": "88NwpWkH5Hqg"
      }
    },
    {
      "cell_type": "markdown",
      "source": [
        "# Q 7 7. Compare vstack() and hstack() functions in NumPy. Provide examples demonstrating their usage and\n",
        "output."
      ],
      "metadata": {
        "id": "T4LXW8jI5alV"
      }
    },
    {
      "cell_type": "markdown",
      "source": [
        "In NumPy, the vstack() and hstack() functions are used to stack arrays vertically and horizontally, respectively. These functions are particularly useful when combining arrays along different axes.\n",
        "\n",
        "1. vstack() (Vertical Stacking)\n",
        "Description:\n",
        "\n",
        "vstack() stacks arrays vertically, i.e., along the row axis (axis 0).\n",
        "It requires the arrays to have the same number of columns but allows different numbers of rows.\n",
        "Usage:\n",
        "\n",
        "This function is commonly used to concatenate arrays one on top of the other, like stacking rows."
      ],
      "metadata": {
        "id": "rHC0Mzir5iXZ"
      }
    },
    {
      "cell_type": "code",
      "source": [
        "import numpy as np\n",
        "\n",
        "# Two 1D arrays\n",
        "arr1 = np.array([1, 2, 3])\n",
        "arr2 = np.array([4, 5, 6])\n",
        "\n",
        "# Vertically stack the 1D arrays\n",
        "result = np.vstack((arr1, arr2))\n",
        "print(result)\n"
      ],
      "metadata": {
        "colab": {
          "base_uri": "https://localhost:8080/"
        },
        "id": "GKd5MU255DzX",
        "outputId": "8378a9b2-77b4-43a6-dc84-eb63d95e8f13"
      },
      "execution_count": 23,
      "outputs": [
        {
          "output_type": "stream",
          "name": "stdout",
          "text": [
            "[[1 2 3]\n",
            " [4 5 6]]\n"
          ]
        }
      ]
    },
    {
      "cell_type": "markdown",
      "source": [
        "Here, vstack() combines the two 1D arrays vertically, creating a 2x3 matrix."
      ],
      "metadata": {
        "id": "HpY-B96U5nYT"
      }
    },
    {
      "cell_type": "code",
      "source": [
        "# 2D Example:\n",
        "arr1 = np.array([[1, 2, 3]])\n",
        "arr2 = np.array([[4, 5, 6]])\n",
        "\n",
        "# Vertically stack the 2D arrays\n",
        "result = np.vstack((arr1, arr2))\n",
        "print(result)\n"
      ],
      "metadata": {
        "colab": {
          "base_uri": "https://localhost:8080/"
        },
        "id": "2MAopPgu5kSx",
        "outputId": "cd5fe8a3-69f7-44ae-d1dc-008bd9937369"
      },
      "execution_count": 24,
      "outputs": [
        {
          "output_type": "stream",
          "name": "stdout",
          "text": [
            "[[1 2 3]\n",
            " [4 5 6]]\n"
          ]
        }
      ]
    },
    {
      "cell_type": "markdown",
      "source": [
        "In this case, the arrays are already 2D, and vstack() combines them along axis 0 (row-wise).\n",
        "\n",
        "2. hstack() (Horizontal Stacking)\n",
        "Description:\n",
        "\n",
        "hstack() stacks arrays horizontally, i.e., along the column axis (axis 1).\n",
        "It requires the arrays to have the same number of rows but allows different numbers of columns.\n",
        "Usage:\n",
        "\n",
        "This function is used to concatenate arrays side by side, like stacking columns together."
      ],
      "metadata": {
        "id": "4bLRjE-T5vKc"
      }
    },
    {
      "cell_type": "code",
      "source": [
        "arr1 = np.array([1, 2, 3])\n",
        "arr2 = np.array([4, 5, 6])\n",
        "\n",
        "# Horizontally stack the 1D arrays\n",
        "result = np.hstack((arr1, arr2))\n",
        "print(result)\n"
      ],
      "metadata": {
        "colab": {
          "base_uri": "https://localhost:8080/"
        },
        "id": "vB0YHmgQ5swp",
        "outputId": "b8189b54-64b1-403e-ad31-9c11f8867f39"
      },
      "execution_count": 25,
      "outputs": [
        {
          "output_type": "stream",
          "name": "stdout",
          "text": [
            "[1 2 3 4 5 6]\n"
          ]
        }
      ]
    },
    {
      "cell_type": "markdown",
      "source": [
        "In the case of 1D arrays, hstack() concatenates them into a single 1D array."
      ],
      "metadata": {
        "id": "vauZrqz750Yy"
      }
    },
    {
      "cell_type": "code",
      "source": [
        "#2D Example:\n",
        "arr1 = np.array([[1], [2], [3]])\n",
        "arr2 = np.array([[4], [5], [6]])\n",
        "\n",
        "# Horizontally stack the 2D arrays\n",
        "result = np.hstack((arr1, arr2))\n",
        "print(result)\n"
      ],
      "metadata": {
        "colab": {
          "base_uri": "https://localhost:8080/"
        },
        "id": "IiveVB5_5xI4",
        "outputId": "cede85f1-ef4a-4655-9f37-50d5216cbb48"
      },
      "execution_count": 26,
      "outputs": [
        {
          "output_type": "stream",
          "name": "stdout",
          "text": [
            "[[1 4]\n",
            " [2 5]\n",
            " [3 6]]\n"
          ]
        }
      ]
    },
    {
      "cell_type": "markdown",
      "source": [
        "![image.png](data:image/png;base64,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)"
      ],
      "metadata": {
        "id": "UtJAf_AP58Rg"
      }
    },
    {
      "cell_type": "markdown",
      "source": [
        "Conclusion:\n",
        "Use vstack() when you want to stack arrays vertically (row-wise).\n",
        "Use hstack() when you want to stack arrays horizontally (column-wise).\n",
        "Both functions are powerful for reshaping and concatenating arrays in different dimensions, providing flexibility when working with multidimensional data."
      ],
      "metadata": {
        "id": "Xi35XbmF6Il9"
      }
    },
    {
      "cell_type": "markdown",
      "source": [
        "# Q 8 8. Explain the differences between fliplr() and flipud() methods in NumPy, including their effects on various\n",
        "array dimensions."
      ],
      "metadata": {
        "id": "rUy4nX1A6mfc"
      }
    },
    {
      "cell_type": "markdown",
      "source": [
        "In NumPy, the fliplr() and flipud() functions are used to reverse the elements of arrays along specific axes. They are commonly used to flip arrays in a horizontal or vertical direction.\n",
        "\n",
        "1. fliplr() (Flip Left-Right)\n",
        "Description:\n",
        "fliplr() flips an array horizontally, meaning it reverses the order of the columns while keeping the rows intact.\n",
        "It works on 2D arrays or higher-dimensional arrays with at least two dimensions. For arrays with more than two dimensions, it flips the array along the second axis (axis 1).\n",
        "Effect:\n",
        "The function swaps the first column with the last, the second with the second-to-last, and so on, while keeping the rows unchanged."
      ],
      "metadata": {
        "id": "AaWoCG_f60hQ"
      }
    },
    {
      "cell_type": "code",
      "source": [
        "import numpy as np\n",
        "\n",
        "arr = np.array([[1, 2, 3],\n",
        "                [4, 5, 6],\n",
        "                [7, 8, 9]])\n",
        "\n",
        "# Flip the array left-right\n",
        "result = np.fliplr(arr)\n",
        "print(result)\n"
      ],
      "metadata": {
        "colab": {
          "base_uri": "https://localhost:8080/"
        },
        "id": "gDS_D_6I55jC",
        "outputId": "ab6c54f7-948a-46e3-f713-5c052150be10"
      },
      "execution_count": 27,
      "outputs": [
        {
          "output_type": "stream",
          "name": "stdout",
          "text": [
            "[[3 2 1]\n",
            " [6 5 4]\n",
            " [9 8 7]]\n"
          ]
        }
      ]
    },
    {
      "cell_type": "markdown",
      "source": [
        "In this case, the columns of the array are reversed, but the rows remain the same.\n",
        "\n",
        "Higher-Dimensional Example:"
      ],
      "metadata": {
        "id": "G434lbE665ZU"
      }
    },
    {
      "cell_type": "code",
      "source": [
        "arr_3d = np.array([[[1, 2], [3, 4]],\n",
        "                   [[5, 6], [7, 8]]])\n",
        "\n",
        "result = np.fliplr(arr_3d)\n",
        "print(result)\n"
      ],
      "metadata": {
        "colab": {
          "base_uri": "https://localhost:8080/"
        },
        "id": "StbA2oaY62NE",
        "outputId": "9447faab-a26f-45ea-b2ee-69e9d67e7beb"
      },
      "execution_count": 28,
      "outputs": [
        {
          "output_type": "stream",
          "name": "stdout",
          "text": [
            "[[[3 4]\n",
            "  [1 2]]\n",
            "\n",
            " [[7 8]\n",
            "  [5 6]]]\n"
          ]
        }
      ]
    },
    {
      "cell_type": "markdown",
      "source": [
        "Here, the second axis (axis 1) of the 3D array is flipped, reversing the order of the subarrays along that axis.\n",
        "\n",
        "2. flipud() (Flip Up-Down)\n",
        "Description:\n",
        "\n",
        "flipud() flips an array vertically, meaning it reverses the order of the rows while keeping the columns intact.\n",
        "It works on 2D arrays or higher-dimensional arrays with at least two dimensions. For arrays with more than two dimensions, it flips the array along the first axis (axis 0).\n",
        "Effect:\n",
        "\n",
        "The function swaps the first row with the last, the second row with the second-to-last, and so on, while keeping the columns unchanged.\n",
        "Example:"
      ],
      "metadata": {
        "id": "fgifqqbQ69Nd"
      }
    },
    {
      "cell_type": "code",
      "source": [
        "arr = np.array([[1, 2, 3],\n",
        "                [4, 5, 6],\n",
        "                [7, 8, 9]])\n",
        "\n",
        "# Flip the array up-down\n",
        "result = np.flipud(arr)\n",
        "print(result)\n"
      ],
      "metadata": {
        "colab": {
          "base_uri": "https://localhost:8080/"
        },
        "id": "zGhgtVL867I6",
        "outputId": "b19fab8d-c244-415d-b331-d992d59b87d2"
      },
      "execution_count": 29,
      "outputs": [
        {
          "output_type": "stream",
          "name": "stdout",
          "text": [
            "[[7 8 9]\n",
            " [4 5 6]\n",
            " [1 2 3]]\n"
          ]
        }
      ]
    },
    {
      "cell_type": "markdown",
      "source": [
        "Here, the rows of the array are reversed, but the columns remain the same.\n",
        "\n",
        "Higher-Dimensional Example:"
      ],
      "metadata": {
        "id": "oGRtCHfx7BTK"
      }
    },
    {
      "cell_type": "code",
      "source": [
        "arr_3d = np.array([[[1, 2], [3, 4]],\n",
        "                   [[5, 6], [7, 8]]])\n",
        "\n",
        "result = np.flipud(arr_3d)\n",
        "print(result)\n"
      ],
      "metadata": {
        "colab": {
          "base_uri": "https://localhost:8080/"
        },
        "id": "qaL7T3PR6-z_",
        "outputId": "da6eb73a-d468-41de-8d62-25d4d3e03bd8"
      },
      "execution_count": 30,
      "outputs": [
        {
          "output_type": "stream",
          "name": "stdout",
          "text": [
            "[[[5 6]\n",
            "  [7 8]]\n",
            "\n",
            " [[1 2]\n",
            "  [3 4]]]\n"
          ]
        }
      ]
    },
    {
      "cell_type": "markdown",
      "source": [
        "![image.png](data:image/png;base64,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)"
      ],
      "metadata": {
        "id": "17giPoj17F5C"
      }
    },
    {
      "cell_type": "markdown",
      "source": [
        "Conclusion:\n",
        "Use fliplr() when you need to flip an array horizontally (i.e., reverse the order of the columns).\n",
        "Use flipud() when you need to flip an array vertically (i.e., reverse the order of the rows).\n",
        "These functions are useful for data manipulation and transforming arrays for specific visualization or processing tasks"
      ],
      "metadata": {
        "id": "g6Bhc-wX7JKI"
      }
    },
    {
      "cell_type": "markdown",
      "source": [
        "# Q 9 9. Discuss the functionality of the array_split() method in NumPy. How does it handle uneven splits?"
      ],
      "metadata": {
        "id": "9bPlTZRf7PAX"
      }
    },
    {
      "cell_type": "markdown",
      "source": [
        "The array_split() method in NumPy is used to divide an array into multiple sub-arrays. It is particularly useful when you need to split an array into a specific number of sub-arrays, even when the number of elements in the array is not evenly divisible by the desired number of splits.\n",
        "\n",
        "Key Features of array_split()\n",
        "Uneven Splits: Unlike split(), which raises an error if the array cannot be evenly divided, array_split() handles uneven splits gracefully. If the array size is not divisible by the number of splits, the resulting sub-arrays will differ in size, with some having one more element than others.\n",
        "\n",
        "Axis Parameter: You can specify the axis along which to split the array. By default, the splitting happens along axis 0 (rows for 2D arrays).\n",
        "\n",
        "Syntax"
      ],
      "metadata": {
        "id": "nWAP8isu7TJH"
      }
    },
    {
      "cell_type": "code",
      "source": [
        "#numpy.array_split(array, indices_or_sections, axis=0)\n"
      ],
      "metadata": {
        "id": "Jgg7INOm7C33"
      },
      "execution_count": 32,
      "outputs": []
    },
    {
      "cell_type": "markdown",
      "source": [
        "array: The array to be split.\n",
        "indices_or_sections: This specifies either the number of sub-arrays or the indices at which to split the array.\n",
        "axis: The axis along which to split the array (default is 0).\n",
        "Example: Splitting Evenly\n",
        "When the array can be split evenly, the behavior is similar to the split() function."
      ],
      "metadata": {
        "id": "FYH28wUD7Yi7"
      }
    },
    {
      "cell_type": "code",
      "source": [
        "import numpy as np\n",
        "\n",
        "# Create a 1D array\n",
        "arr = np.array([1, 2, 3, 4, 5, 6])\n",
        "\n",
        "# Split into 3 equal parts\n",
        "result = np.array_split(arr, 3)\n",
        "print(result)\n"
      ],
      "metadata": {
        "colab": {
          "base_uri": "https://localhost:8080/"
        },
        "id": "N-T5Gwhf7U4k",
        "outputId": "bcbb7206-128e-4d1d-d3d7-892c33f8b976"
      },
      "execution_count": 33,
      "outputs": [
        {
          "output_type": "stream",
          "name": "stdout",
          "text": [
            "[array([1, 2]), array([3, 4]), array([5, 6])]\n"
          ]
        }
      ]
    },
    {
      "cell_type": "markdown",
      "source": [
        "Here, the array is divided into three equal sub-arrays.\n",
        "\n",
        "Example: Handling Uneven Splits\n",
        "When the array cannot be divided evenly, array_split() distributes the extra elements across the first few sub-arrays."
      ],
      "metadata": {
        "id": "5Lcq3mhQ7cZ9"
      }
    },
    {
      "cell_type": "code",
      "source": [
        "arr = np.array([1, 2, 3, 4, 5, 6, 7])\n",
        "\n",
        "# Split into 3 parts (unevenly)\n",
        "result = np.array_split(arr, 3)\n",
        "print(result)\n"
      ],
      "metadata": {
        "colab": {
          "base_uri": "https://localhost:8080/"
        },
        "id": "vvNT_gFG7aY0",
        "outputId": "24323c82-ad80-42f3-a5a6-6dad60b81a80"
      },
      "execution_count": 34,
      "outputs": [
        {
          "output_type": "stream",
          "name": "stdout",
          "text": [
            "[array([1, 2, 3]), array([4, 5]), array([6, 7])]\n"
          ]
        }
      ]
    },
    {
      "cell_type": "markdown",
      "source": [
        "arr = np.array([1, 2, 3, 4, 5, 6, 7])\n",
        "\n",
        "# Split into 3 parts (unevenly)\n",
        "result = np.array_split(arr, 3)\n",
        "print(result)\n"
      ],
      "metadata": {
        "id": "MN_WhQnY7hOg"
      }
    },
    {
      "cell_type": "code",
      "source": [
        "arr = np.array([[1, 2, 3, 4],\n",
        "                [5, 6, 7, 8]])\n",
        "\n",
        "# Split into 3 parts along columns (axis=1)\n",
        "result = np.array_split(arr, 3, axis=1)\n",
        "print(result)\n"
      ],
      "metadata": {
        "colab": {
          "base_uri": "https://localhost:8080/"
        },
        "id": "YB8eqYTO7eSo",
        "outputId": "b672e477-5f60-40b3-a32d-f2e9e939ebf1"
      },
      "execution_count": 35,
      "outputs": [
        {
          "output_type": "stream",
          "name": "stdout",
          "text": [
            "[array([[1, 2],\n",
            "       [5, 6]]), array([[3],\n",
            "       [7]]), array([[4],\n",
            "       [8]])]\n"
          ]
        }
      ]
    },
    {
      "cell_type": "markdown",
      "source": [
        "Here, the 2D array is split into 3 sub-arrays along the columns (axis 1), resulting in uneven splits where the last array has fewer columns.\n",
        "\n",
        "Comparison with split()\n",
        "array_split() allows uneven splits by distributing extra elements across the sub-arrays.\n",
        "split() requires that the number of elements be divisible by the number of sections; otherwise, it raises an error.\n",
        "Example of split() causing an error:"
      ],
      "metadata": {
        "id": "ZnPCWa687kyt"
      }
    },
    {
      "cell_type": "code",
      "source": [
        "#arr = np.array([1, 2, 3, 4, 5, 6, 7])\n",
        "\n",
        "# Using split will cause an error because 7 elements cannot be evenly split into 3 parts\n",
        "#result = np.split(arr, 3)  # Raises ValueError\n"
      ],
      "metadata": {
        "id": "nlULrkH87ixZ"
      },
      "execution_count": 37,
      "outputs": []
    },
    {
      "cell_type": "markdown",
      "source": [
        "Conclusion:\n",
        "array_split() is a flexible function that allows you to split arrays into a specified number of sub-arrays, handling uneven splits by distributing the remainder across the first few sub-arrays.\n",
        "It works on arrays of any dimension and allows control over which axis to split along, making it versatile for various use cases in data analysis and manipulation."
      ],
      "metadata": {
        "id": "cj2En1nS7qFI"
      }
    },
    {
      "cell_type": "markdown",
      "source": [
        "# Q 10 10. Explain the concepts of vectorization and broadcasting in NumPy. How do they contribute to efficient array\n",
        "operations?\n"
      ],
      "metadata": {
        "id": "aRi-OG397wP3"
      }
    },
    {
      "cell_type": "markdown",
      "source": [
        "Vectorization and broadcasting are two fundamental concepts in NumPy that contribute to the efficiency and speed of array operations, particularly for scientific computing and data analysis. They allow NumPy to handle large arrays without the need for explicit loops, making computations faster and more efficient.\n",
        "\n",
        "1. Vectorization\n",
        "Definition:\n",
        "\n",
        "Vectorization refers to the process of performing operations on entire arrays (or vectors) of data at once, instead of iterating through individual elements. In NumPy, this is achieved by applying operations directly to arrays rather than using explicit Python loops.\n",
        "How it works:\n",
        "\n",
        "Operations like addition, subtraction, multiplication, or other element-wise operations can be performed on arrays directly. NumPy internally uses highly optimized C and Fortran libraries, which allow these operations to be executed much faster than in pure Python loops.\n",
        "Benefits:\n",
        "\n",
        "Speed: Vectorized operations are significantly faster because they eliminate the overhead of Python loops.\n",
        "Code simplicity: It allows writing more concise and readable code, as you can perform complex operations in a single line.\n",
        "Efficiency: NumPy’s underlying implementation uses low-level optimizations like SIMD (Single Instruction, Multiple Data), making operations more efficient.\n",
        "Example of Vectorization:\n",
        "Without vectorization (using a Python loop)"
      ],
      "metadata": {
        "id": "9KEencGs71A5"
      }
    },
    {
      "cell_type": "code",
      "source": [
        "import numpy as np\n",
        "\n",
        "arr = np.array([1, 2, 3, 4])\n",
        "result = np.zeros_like(arr)\n",
        "\n",
        "# Loop-based element-wise addition\n",
        "for i in range(len(arr)):\n",
        "    result[i] = arr[i] + 2\n",
        "\n",
        "print(result)  # Output: [3 4 5 6]\n"
      ],
      "metadata": {
        "colab": {
          "base_uri": "https://localhost:8080/"
        },
        "id": "Eaq1koeP7mNf",
        "outputId": "5e70d4bc-dd33-40fb-b5a4-595aa4eef16b"
      },
      "execution_count": 38,
      "outputs": [
        {
          "output_type": "stream",
          "name": "stdout",
          "text": [
            "[3 4 5 6]\n"
          ]
        }
      ]
    },
    {
      "cell_type": "markdown",
      "source": [
        "With vectorization (NumPy's built-in operations):"
      ],
      "metadata": {
        "id": "zYrUqEOV768b"
      }
    },
    {
      "cell_type": "code",
      "source": [
        "# Vectorized element-wise addition\n",
        "result = arr + 2\n",
        "print(result)  # Output: [3 4 5 6]\n"
      ],
      "metadata": {
        "colab": {
          "base_uri": "https://localhost:8080/"
        },
        "id": "L7FFepl-72us",
        "outputId": "4ba35db5-8355-46d3-b89c-8da490ff8950"
      },
      "execution_count": 39,
      "outputs": [
        {
          "output_type": "stream",
          "name": "stdout",
          "text": [
            "[3 4 5 6]\n"
          ]
        }
      ]
    },
    {
      "cell_type": "markdown",
      "source": [
        "In the vectorized version, the addition operation is applied directly to the array, eliminating the need for an explicit loop.\n",
        "\n",
        "2. Broadcasting\n",
        "Definition:\n",
        "\n",
        "Broadcasting is a mechanism that allows NumPy to perform element-wise operations on arrays of different shapes, without explicitly resizing or replicating the smaller array. It automatically \"broadcasts\" the smaller array over the larger one so that the shapes are compatible for element-wise operations.\n",
        "How it works:\n",
        "\n",
        "NumPy tries to make arrays with different shapes compatible by expanding the smaller array along its dimensions to match the shape of the larger array.\n",
        "It follows a set of broadcasting rules:\n",
        "If the arrays have different numbers of dimensions, the smaller array is padded with ones on its left side.\n",
        "Arrays are compatible when, for each dimension, the sizes are either the same or one of them is 1.\n",
        "If an array has a dimension of size 1, it is stretched to match the corresponding dimension of the other array.\n",
        "Benefits:\n",
        "\n",
        "Memory efficiency: Broadcasting avoids making multiple copies of data and thus reduces memory usage.\n",
        "Performance: It allows operations on arrays of different shapes without needing explicit loops or reshaping, which enhances computational efficiency.\n",
        "Example of Broadcasting:\n",
        "Let’s say you want to add a scalar value to each element in a 2D array."
      ],
      "metadata": {
        "id": "3Am46tlz8BRF"
      }
    },
    {
      "cell_type": "code",
      "source": [
        "arr = np.array([[1, 2, 3],\n",
        "                [4, 5, 6]])\n",
        "\n",
        "# Broadcasting a scalar (1D array) to a 2D array\n",
        "result = arr + 10\n",
        "print(result)\n"
      ],
      "metadata": {
        "colab": {
          "base_uri": "https://localhost:8080/"
        },
        "id": "cenb1kUd78Xi",
        "outputId": "5a13676d-0eab-439b-94cb-6155dcb7ee46"
      },
      "execution_count": 40,
      "outputs": [
        {
          "output_type": "stream",
          "name": "stdout",
          "text": [
            "[[11 12 13]\n",
            " [14 15 16]]\n"
          ]
        }
      ]
    },
    {
      "cell_type": "markdown",
      "source": [
        "In this example, the scalar 10 is \"broadcast\" across the entire array arr, allowing element-wise addition without reshaping or replicating the scalar.\n",
        "\n",
        "Example: Broadcasting Arrays of Different Shapes"
      ],
      "metadata": {
        "id": "8YlI_UUL8FWM"
      }
    },
    {
      "cell_type": "code",
      "source": [
        "arr1 = np.array([[1, 2, 3],\n",
        "                 [4, 5, 6]])\n",
        "\n",
        "arr2 = np.array([10, 20, 30])\n",
        "\n",
        "# Broadcasting arr2 across the rows of arr1\n",
        "result = arr1 + arr2\n",
        "print(result)\n"
      ],
      "metadata": {
        "colab": {
          "base_uri": "https://localhost:8080/"
        },
        "id": "aSSQZqSg8DIG",
        "outputId": "4f1d2551-147a-4cb8-ae11-206dde6fd8f9"
      },
      "execution_count": 41,
      "outputs": [
        {
          "output_type": "stream",
          "name": "stdout",
          "text": [
            "[[11 22 33]\n",
            " [14 25 36]]\n"
          ]
        }
      ]
    },
    {
      "cell_type": "markdown",
      "source": [
        "Here, arr2 is a 1D array with shape (3,), and arr1 is a 2D array with shape (2, 3). Broadcasting allows arr2 to be treated as if it were replicated along each row of arr1, enabling element-wise addition."
      ],
      "metadata": {
        "id": "SKsrx13S8JSC"
      }
    },
    {
      "cell_type": "markdown",
      "source": [
        "![image.png](data:image/png;base64,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)"
      ],
      "metadata": {
        "id": "s2bPRhwA8Mzs"
      }
    },
    {
      "cell_type": "markdown",
      "source": [
        "Performance Impact:\n",
        "Vectorization allows NumPy to execute operations much faster because loops are written in compiled languages (C/Fortran), while Python loops are slower due to being interpreted.\n",
        "Broadcasting reduces memory overhead and speeds up operations by avoiding unnecessary copying of data.\n",
        "Conclusion:\n",
        "Vectorization and broadcasting are core principles that make NumPy highly efficient for numerical operations. They allow operations on large datasets to be expressed in simple, compact code while leveraging powerful optimizations at the hardware level.\n",
        "Together, they contribute to the speed and scalability of scientific computing in Python, making NumPy a vital tool for data analysis, machine learning, and other computational tasks.\n",
        "\n",
        "\n",
        "\n",
        "\n",
        "\n"
      ],
      "metadata": {
        "id": "CWZbx6WC8Pxu"
      }
    },
    {
      "cell_type": "markdown",
      "source": [
        "# ** Practical Questions:**\n",
        "\n",
        "\n",
        "\n"
      ],
      "metadata": {
        "id": "D0qNzqGG8cOY"
      }
    },
    {
      "cell_type": "markdown",
      "source": [
        "# Q 1. Create a 3x3 NumPy array with random integers between 1 and 100. Then, interchange its rows and columns."
      ],
      "metadata": {
        "id": "MWLKCZdZQ3TX"
      }
    },
    {
      "cell_type": "code",
      "source": [
        "import numpy as np\n",
        "\n",
        "# Create a 3x3 NumPy array with random integers between 1 and 100\n",
        "random_array = np.random.randint(1, 101, size=(3, 3))\n",
        "print(\"Original Array:\")\n",
        "print(random_array)\n",
        "\n",
        "# Interchange (transpose) the rows and columns\n",
        "interchanged_array = random_array.T\n",
        "print(\"\\nInterchanged (Transposed) Array:\")\n",
        "print(interchanged_array)\n"
      ],
      "metadata": {
        "colab": {
          "base_uri": "https://localhost:8080/"
        },
        "id": "65lbHKej8Gyj",
        "outputId": "4979fac5-1d3b-4ae5-d7d6-696b09c698fb"
      },
      "execution_count": 1,
      "outputs": [
        {
          "output_type": "stream",
          "name": "stdout",
          "text": [
            "Original Array:\n",
            "[[62 31 82]\n",
            " [65  2 79]\n",
            " [23 92 64]]\n",
            "\n",
            "Interchanged (Transposed) Array:\n",
            "[[62 65 23]\n",
            " [31  2 92]\n",
            " [82 79 64]]\n"
          ]
        }
      ]
    },
    {
      "cell_type": "markdown",
      "source": [
        "# Q 2. Generate a 1D NumPy array with 10 elements. Reshape it into a 2x5 array, then into a 5x2 array"
      ],
      "metadata": {
        "id": "ieFEW1X-RN0p"
      }
    },
    {
      "cell_type": "code",
      "source": [
        "import numpy as np\n",
        "\n",
        "# Generate a 1D NumPy array with 10 elements\n",
        "one_d_array = np.arange(10)\n",
        "\n",
        "# Display the original 1D array\n",
        "print(\"Original 1D Array:\")\n",
        "print(one_d_array)\n",
        "\n",
        "# Reshape it into a 2x5 array\n",
        "array_2x5 = one_d_array.reshape(2, 5)\n",
        "\n",
        "# Display the reshaped 2x5 array\n",
        "print(\"\\nReshaped to 2x5 Array:\")\n",
        "print(array_2x5)\n",
        "\n",
        "# Reshape it into a 5x2 array\n",
        "array_5x2 = one_d_array.reshape(5, 2)\n",
        "\n",
        "# Display the reshaped 5x2 array\n",
        "print(\"\\nReshaped to 5x2 Array:\")\n",
        "print(array_5x2)\n"
      ],
      "metadata": {
        "colab": {
          "base_uri": "https://localhost:8080/"
        },
        "id": "FLpfWqCKRF6l",
        "outputId": "9490d0dc-bb38-43dc-e5c5-658cd6766b47"
      },
      "execution_count": 2,
      "outputs": [
        {
          "output_type": "stream",
          "name": "stdout",
          "text": [
            "Original 1D Array:\n",
            "[0 1 2 3 4 5 6 7 8 9]\n",
            "\n",
            "Reshaped to 2x5 Array:\n",
            "[[0 1 2 3 4]\n",
            " [5 6 7 8 9]]\n",
            "\n",
            "Reshaped to 5x2 Array:\n",
            "[[0 1]\n",
            " [2 3]\n",
            " [4 5]\n",
            " [6 7]\n",
            " [8 9]]\n"
          ]
        }
      ]
    },
    {
      "cell_type": "markdown",
      "source": [
        "# Q 3. Create a 4x4 NumPy array with random float values. Add a border of zeros around it, resulting in a 6x6 array"
      ],
      "metadata": {
        "id": "kxHXLtHbRkTX"
      }
    },
    {
      "cell_type": "code",
      "source": [
        "import numpy as np\n",
        "\n",
        "# Create a 4x4 NumPy array with random float values\n",
        "original_array = np.random.rand(4, 4)\n",
        "\n",
        "# Add a border of zeros around it\n",
        "bordered_array = np.pad(original_array, pad_width=1, mode='constant', constant_values=0)\n",
        "\n",
        "# Display the results\n",
        "print(\"Original 4x4 Array:\")\n",
        "print(original_array)\n",
        "print(\"\\n6x6 Array with Border of Zeros:\")\n",
        "print(bordered_array)\n"
      ],
      "metadata": {
        "colab": {
          "base_uri": "https://localhost:8080/"
        },
        "id": "Uh9jk6tNRhOX",
        "outputId": "e52b9475-4b8a-4a59-8f11-2078455a5cc4"
      },
      "execution_count": 3,
      "outputs": [
        {
          "output_type": "stream",
          "name": "stdout",
          "text": [
            "Original 4x4 Array:\n",
            "[[0.66935315 0.29515012 0.86286831 0.67287068]\n",
            " [0.74631329 0.6683214  0.18391524 0.7846439 ]\n",
            " [0.43396555 0.36754104 0.85983921 0.84444785]\n",
            " [0.84906287 0.56650855 0.47201391 0.64968327]]\n",
            "\n",
            "6x6 Array with Border of Zeros:\n",
            "[[0.         0.         0.         0.         0.         0.        ]\n",
            " [0.         0.66935315 0.29515012 0.86286831 0.67287068 0.        ]\n",
            " [0.         0.74631329 0.6683214  0.18391524 0.7846439  0.        ]\n",
            " [0.         0.43396555 0.36754104 0.85983921 0.84444785 0.        ]\n",
            " [0.         0.84906287 0.56650855 0.47201391 0.64968327 0.        ]\n",
            " [0.         0.         0.         0.         0.         0.        ]]\n"
          ]
        }
      ]
    },
    {
      "cell_type": "markdown",
      "source": [
        "# Q 4 4. Using NumPy, create an array of integers from 10 to 60 with a step of 5"
      ],
      "metadata": {
        "id": "evNlbSkjRxGH"
      }
    },
    {
      "cell_type": "code",
      "source": [
        "import numpy as np\n",
        "\n",
        "# Create the array\n",
        "array = np.arange(10, 61, 5)\n",
        "print(array)\n"
      ],
      "metadata": {
        "colab": {
          "base_uri": "https://localhost:8080/"
        },
        "id": "k9oVGKV-RtAV",
        "outputId": "9c72597a-94a5-4867-924f-2dfff9c26e4b"
      },
      "execution_count": 4,
      "outputs": [
        {
          "output_type": "stream",
          "name": "stdout",
          "text": [
            "[10 15 20 25 30 35 40 45 50 55 60]\n"
          ]
        }
      ]
    },
    {
      "cell_type": "markdown",
      "source": [
        "# Q 5 5. Create a NumPy array of strings ['python', 'numpy', 'pandas']. Apply different case transformations\n",
        "(uppercase, lowercase, title case, etc.) to each element."
      ],
      "metadata": {
        "id": "-c65S4e3SFa2"
      }
    },
    {
      "cell_type": "code",
      "source": [
        "import numpy as np\n",
        "\n",
        "# Create the array of strings\n",
        "string_array = np.array(['python', 'numpy', 'pandas'])\n",
        "\n",
        "# Apply different case transformations\n",
        "uppercase_array = np.char.upper(string_array)\n",
        "lowercase_array = np.char.lower(string_array)\n",
        "titlecase_array = np.char.title(string_array)\n",
        "\n",
        "# Print the results\n",
        "print(\"Original Array:\", string_array)\n",
        "print(\"Uppercase Array:\", uppercase_array)\n",
        "print(\"Lowercase Array:\", lowercase_array)\n",
        "print(\"Titlecase Array:\", titlecase_array)\n"
      ],
      "metadata": {
        "colab": {
          "base_uri": "https://localhost:8080/"
        },
        "id": "icVoLSifSDDP",
        "outputId": "9da54eff-997c-46a4-dc9d-08a40e84cb1e"
      },
      "execution_count": 5,
      "outputs": [
        {
          "output_type": "stream",
          "name": "stdout",
          "text": [
            "Original Array: ['python' 'numpy' 'pandas']\n",
            "Uppercase Array: ['PYTHON' 'NUMPY' 'PANDAS']\n",
            "Lowercase Array: ['python' 'numpy' 'pandas']\n",
            "Titlecase Array: ['Python' 'Numpy' 'Pandas']\n"
          ]
        }
      ]
    },
    {
      "cell_type": "markdown",
      "source": [
        "# Q 6. Generate a NumPy array of words. Insert a space between each character of every word in the array."
      ],
      "metadata": {
        "id": "Llvf6UMpSMtA"
      }
    },
    {
      "cell_type": "code",
      "source": [
        "import numpy as np\n",
        "\n",
        "# Create the array of words\n",
        "words_array = np.array(['hello', 'world', 'numpy', 'python'])\n",
        "\n",
        "# Insert a space between each character of every word\n",
        "spaced_array = np.char.join(' ', words_array)\n",
        "\n",
        "# Print the result\n",
        "print(\"Original Array:\", words_array)\n",
        "print(\"Array with Spaces:\", spaced_array)\n"
      ],
      "metadata": {
        "colab": {
          "base_uri": "https://localhost:8080/"
        },
        "id": "RahXMAZTSKL-",
        "outputId": "6e782075-eab6-448b-d1d0-b6981aafdb78"
      },
      "execution_count": 6,
      "outputs": [
        {
          "output_type": "stream",
          "name": "stdout",
          "text": [
            "Original Array: ['hello' 'world' 'numpy' 'python']\n",
            "Array with Spaces: ['h e l l o' 'w o r l d' 'n u m p y' 'p y t h o n']\n"
          ]
        }
      ]
    },
    {
      "cell_type": "markdown",
      "source": [
        "# Q  7. Create two 2D NumPy arrays and perform element-wise addition, subtraction, multiplication, and division."
      ],
      "metadata": {
        "id": "FGQEvXb5SbBY"
      }
    },
    {
      "cell_type": "code",
      "source": [
        "import numpy as np\n",
        "\n",
        "# Create two 2D NumPy arrays\n",
        "array1 = np.array([[1, 2, 3], [4, 5, 6]])\n",
        "array2 = np.array([[7, 8, 9], [10, 11, 12]])\n",
        "\n",
        "# Perform element-wise addition\n",
        "addition_result = array1 + array2\n",
        "\n",
        "# Perform element-wise subtraction\n",
        "subtraction_result = array1 - array2\n",
        "\n",
        "# Perform element-wise multiplication\n",
        "multiplication_result = array1 * array2\n",
        "\n",
        "# Perform element-wise division\n",
        "division_result = array1 / array2\n",
        "\n",
        "# Print the results\n",
        "print(\"Array 1:\\n\", array1)\n",
        "print(\"Array 2:\\n\", array2)\n",
        "print(\"Element-wise Addition:\\n\", addition_result)\n",
        "print(\"Element-wise Subtraction:\\n\", subtraction_result)\n",
        "print(\"Element-wise Multiplication:\\n\", multiplication_result)\n",
        "print(\"Element-wise Division:\\n\", division_result)\n"
      ],
      "metadata": {
        "colab": {
          "base_uri": "https://localhost:8080/"
        },
        "id": "UCLU2-W3SUwG",
        "outputId": "d69613ce-0e6e-4508-fc26-f13c02591d96"
      },
      "execution_count": 7,
      "outputs": [
        {
          "output_type": "stream",
          "name": "stdout",
          "text": [
            "Array 1:\n",
            " [[1 2 3]\n",
            " [4 5 6]]\n",
            "Array 2:\n",
            " [[ 7  8  9]\n",
            " [10 11 12]]\n",
            "Element-wise Addition:\n",
            " [[ 8 10 12]\n",
            " [14 16 18]]\n",
            "Element-wise Subtraction:\n",
            " [[-6 -6 -6]\n",
            " [-6 -6 -6]]\n",
            "Element-wise Multiplication:\n",
            " [[ 7 16 27]\n",
            " [40 55 72]]\n",
            "Element-wise Division:\n",
            " [[0.14285714 0.25       0.33333333]\n",
            " [0.4        0.45454545 0.5       ]]\n"
          ]
        }
      ]
    },
    {
      "cell_type": "markdown",
      "source": [
        "# Q 8. Use NumPy to create a 5x5 identity matrix, then extract its diagonal elements."
      ],
      "metadata": {
        "id": "geUf2QjkSnsT"
      }
    },
    {
      "cell_type": "code",
      "source": [
        "import numpy as np\n",
        "\n",
        "# Create a 5x5 identity matrix\n",
        "identity_matrix = np.eye(5)\n",
        "\n",
        "# Extract the diagonal elements\n",
        "diagonal_elements = np.diagonal(identity_matrix)\n",
        "\n",
        "# Print the results\n",
        "print(\"5x5 Identity Matrix:\\n\", identity_matrix)\n",
        "print(\"Diagonal Elements:\", diagonal_elements)\n"
      ],
      "metadata": {
        "colab": {
          "base_uri": "https://localhost:8080/"
        },
        "id": "26fr8tomSjQ4",
        "outputId": "1b469087-94ff-4e9e-a4af-76c1f475ee40"
      },
      "execution_count": 8,
      "outputs": [
        {
          "output_type": "stream",
          "name": "stdout",
          "text": [
            "5x5 Identity Matrix:\n",
            " [[1. 0. 0. 0. 0.]\n",
            " [0. 1. 0. 0. 0.]\n",
            " [0. 0. 1. 0. 0.]\n",
            " [0. 0. 0. 1. 0.]\n",
            " [0. 0. 0. 0. 1.]]\n",
            "Diagonal Elements: [1. 1. 1. 1. 1.]\n"
          ]
        }
      ]
    },
    {
      "cell_type": "markdown",
      "source": [
        "# Q 9. Generate a NumPy array of 100 random integers between 0 and 1000. Find and display all prime numbers in\n",
        "this array."
      ],
      "metadata": {
        "id": "IsubgRpgS1U-"
      }
    },
    {
      "cell_type": "code",
      "source": [
        "import numpy as np\n",
        "\n",
        "# Generate an array of 100 random integers between 0 and 1000\n",
        "random_integers = np.random.randint(0, 1001, size=100)\n",
        "\n",
        "# Function to check if a number is prime\n",
        "def is_prime(num):\n",
        "    if num < 2:\n",
        "        return False\n",
        "    for i in range(2, int(num**0.5) + 1):\n",
        "        if num % i == 0:\n",
        "            return False\n",
        "    return True\n",
        "\n",
        "# Find all prime numbers in the array\n",
        "prime_numbers = [num for num in random_integers if is_prime(num)]\n",
        "\n",
        "# Print the results\n",
        "print(\"Random Integers:\\n\", random_integers)\n",
        "print(\"Prime Numbers in the Array:\", prime_numbers)\n"
      ],
      "metadata": {
        "colab": {
          "base_uri": "https://localhost:8080/"
        },
        "id": "ducGEsraSxsB",
        "outputId": "96e3a575-6f21-4690-e862-0942b16969bb"
      },
      "execution_count": 9,
      "outputs": [
        {
          "output_type": "stream",
          "name": "stdout",
          "text": [
            "Random Integers:\n",
            " [940 800 991 345 101 901 728 662 285 937 447 551 563 232 449  37 565 114\n",
            " 132 669 712 643 439  41  43 165 208 350 155 231 468 932 853 561 837 874\n",
            " 222 117 106 205 191 773 146 180 862 804 719 252 966 230 801 608 344 391\n",
            " 638 778  37 646  74 167 850 268 906 881 141   4 871 326 431 960 927 617\n",
            " 296 624 647 492 435  91 381 917 660 287 454 357 110 113 462 680 773 234\n",
            " 720  24 410 509 176 407 332 967 367 898]\n",
            "Prime Numbers in the Array: [991, 101, 937, 563, 449, 37, 643, 439, 41, 43, 853, 191, 773, 719, 37, 167, 881, 431, 617, 647, 113, 773, 509, 967, 367]\n"
          ]
        }
      ]
    },
    {
      "cell_type": "markdown",
      "source": [
        "# Q 10 10. Create a NumPy array representing daily temperatures for a month. Calculate and display the weekly\n",
        "averages."
      ],
      "metadata": {
        "id": "se86dQtMTEtM"
      }
    },
    {
      "cell_type": "code",
      "source": [
        "import numpy as np\n",
        "\n",
        "# Create a NumPy array representing daily temperatures for a month (30 days)\n",
        "# For example, let's generate random temperatures between 15 and 30 degrees Celsius\n",
        "daily_temperatures = np.random.randint(15, 31, size=30)\n",
        "\n",
        "# Calculate weekly averages (5 weeks)\n",
        "# We can use np.mean on segments of the array, but first, we can pad it if we want full weeks\n",
        "num_weeks = 5  # This will give us 5 weeks of data (4 full weeks and 2 extra days)\n",
        "padded_temperatures = np.pad(daily_temperatures, (0, 7 - (len(daily_temperatures) % 7)), 'constant', constant_values=0)\n",
        "\n",
        "# Reshape to 5 weeks (4 full weeks and the last week may have fewer days)\n",
        "weekly_temperatures = padded_temperatures.reshape(-1, 7)\n",
        "\n",
        "# Calculate the weekly averages\n",
        "weekly_averages = np.mean(weekly_temperatures, axis=1)\n",
        "\n",
        "# Print the results\n",
        "print(\"Daily Temperatures for a Month:\", daily_temperatures)\n",
        "print(\"Weekly Averages:\", weekly_averages)\n"
      ],
      "metadata": {
        "colab": {
          "base_uri": "https://localhost:8080/"
        },
        "id": "6tXx0cjDS_ZE",
        "outputId": "aa3d65b7-3b51-46e3-c427-b61dc47a4198"
      },
      "execution_count": 11,
      "outputs": [
        {
          "output_type": "stream",
          "name": "stdout",
          "text": [
            "Daily Temperatures for a Month: [16 20 18 21 16 17 24 22 24 23 17 18 26 16 15 28 18 17 25 24 22 16 28 29\n",
            " 16 24 20 16 15 29]\n",
            "Weekly Averages: [18.85714286 20.85714286 21.28571429 21.28571429  6.28571429]\n"
          ]
        }
      ]
    },
    {
      "cell_type": "code",
      "source": [],
      "metadata": {
        "id": "Xzj5hGjPTMb-"
      },
      "execution_count": null,
      "outputs": []
    }
  ]
}