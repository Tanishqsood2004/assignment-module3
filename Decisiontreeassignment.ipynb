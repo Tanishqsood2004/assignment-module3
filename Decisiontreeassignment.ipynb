{
  "nbformat": 4,
  "nbformat_minor": 0,
  "metadata": {
    "colab": {
      "provenance": []
    },
    "kernelspec": {
      "name": "python3",
      "display_name": "Python 3"
    },
    "language_info": {
      "name": "python"
    }
  },
  "cells": [
    {
      "cell_type": "markdown",
      "source": [
        "# Assignment decision tree\n"
      ],
      "metadata": {
        "id": "jpv7dE4hGcaW"
      }
    },
    {
      "cell_type": "markdown",
      "source": [
        "# Q 1  What is a Decision Tree, and how does it work?"
      ],
      "metadata": {
        "id": "V6ftSmEtGlGG"
      }
    },
    {
      "cell_type": "markdown",
      "source": [
        "\n",
        "A Decision Tree is a supervised learning algorithm used for both classification and regression tasks. It represents decisions and their possible consequences in a tree-like structure with nodes:\n",
        "\n",
        "Root Node: The starting point, representing the entire dataset.\n",
        "Internal Nodes: Represent decision rules based on feature values.\n",
        "Leaf Nodes: Represent the final prediction/classification.\n",
        "How it works:\n",
        "\n",
        "The algorithm selects the best feature to split the dataset using a criterion like Gini Impurity or Entropy.\n",
        "The dataset is divided into subsets based on this feature.\n",
        "This process is repeated recursively until a stopping criterion is met (e.g., no further information gain, reaching max depth).\n",
        "Predictions are made based on the majority class (classification) or mean value (regression) at the leaf nodes."
      ],
      "metadata": {
        "id": "6aAGYeYvGhXy"
      }
    },
    {
      "cell_type": "markdown",
      "source": [
        "# Q 2. What are impurity measures in Decision Trees?"
      ],
      "metadata": {
        "id": "3uk9mrFMG0eU"
      }
    },
    {
      "cell_type": "markdown",
      "source": [
        "\n",
        "Impurity measures indicate how mixed the classes are in a node. The two most common impurity measures are:\n",
        "\n",
        "Gini Impurity: Measures the probability of incorrectly classifying a randomly chosen element.\n",
        "Entropy: Measures the level of disorder or randomness in a dataset.\n",
        "A lower impurity means the node is more \"pure,\" leading to better classification."
      ],
      "metadata": {
        "id": "IgSb0TyGGyaK"
      }
    },
    {
      "cell_type": "markdown",
      "source": [
        "# Q 3. What is the mathematical formula for Gini Impurity?"
      ],
      "metadata": {
        "id": "20M9FA0CHkuR"
      }
    },
    {
      "cell_type": "markdown",
      "source": [
        "\n",
        "The Gini Impurity for a node is calculated as:\n",
        "\n",
        "𝐺\n",
        "𝑖\n",
        "𝑛\n",
        "𝑖\n",
        "=\n",
        "1\n",
        "−\n",
        "∑\n",
        "𝑖\n",
        "=\n",
        "1\n",
        "𝐶\n",
        "𝑝\n",
        "𝑖\n",
        "2\n",
        "Gini=1−\n",
        "i=1\n",
        "∑\n",
        "C\n",
        "​\n",
        " p\n",
        "i\n",
        "2\n",
        "​\n",
        "\n",
        "where:\n",
        "\n",
        "𝐶\n",
        "C is the total number of classes,\n",
        "𝑝\n",
        "𝑖\n",
        "p\n",
        "i\n",
        "​\n",
        "  is the proportion of samples belonging to class\n",
        "𝑖\n",
        "i.\n",
        "For a binary classification (\n",
        "𝐶\n",
        "=\n",
        "2\n",
        "C=2):\n",
        "\n",
        "𝐺\n",
        "𝑖\n",
        "𝑛\n",
        "𝑖\n",
        "=\n",
        "1\n",
        "−\n",
        "(\n",
        "𝑝\n",
        "1\n",
        "2\n",
        "+\n",
        "𝑝\n",
        "2\n",
        "2\n",
        ")\n",
        "Gini=1−(p\n",
        "1\n",
        "2\n",
        "​\n",
        " +p\n",
        "2\n",
        "2\n",
        "​\n",
        " )\n",
        "If a node is pure (only one class), Gini Impurity is 0; if it’s equally mixed, it’s 0.5 for binary classification."
      ],
      "metadata": {
        "id": "LcL0Uzv7HiHf"
      }
    },
    {
      "cell_type": "markdown",
      "source": [
        "# Q 4 4. What is the mathematical formula for Entropy?\n",
        "The Entropy of a node is calculated as:\n",
        "\n",
        "𝐸\n",
        "𝑛\n",
        "𝑡\n",
        "𝑟\n",
        "𝑜\n",
        "𝑝\n",
        "𝑦\n",
        "=\n",
        "−\n",
        "∑\n",
        "𝑖\n",
        "=\n",
        "1\n",
        "𝐶\n",
        "𝑝\n",
        "𝑖\n",
        "log\n",
        "⁡\n",
        "2\n",
        "(\n",
        "𝑝\n",
        "𝑖\n",
        ")\n",
        "Entropy=−\n",
        "i=1\n",
        "∑\n",
        "C\n",
        "​\n",
        " p\n",
        "i\n",
        "​\n",
        " log\n",
        "2\n",
        "​\n",
        " (p\n",
        "i\n",
        "​\n",
        " )\n",
        "where:\n",
        "\n",
        "𝐶\n",
        "C is the number of classes,\n",
        "𝑝\n",
        "𝑖\n",
        "p\n",
        "i\n",
        "​\n",
        "  is the proportion of instances in class\n",
        "𝑖\n",
        "i.\n",
        "Entropy is 0 for a pure node and log₂(C) for a perfectly impure node."
      ],
      "metadata": {
        "id": "oPaOyG3xH6d2"
      }
    },
    {
      "cell_type": "markdown",
      "source": [
        "# Q 5 5. What is Information Gain, and how is it used in Decision Trees?"
      ],
      "metadata": {
        "id": "s0C4lrY-IFmT"
      }
    },
    {
      "cell_type": "markdown",
      "source": [
        "\n",
        "Information Gain (IG) measures how much uncertainty (entropy) is reduced by splitting a dataset based on a feature. It is given by:\n",
        "\n",
        "𝐼\n",
        "𝐺\n",
        "=\n",
        "𝐸\n",
        "𝑛\n",
        "𝑡\n",
        "𝑟\n",
        "𝑜\n",
        "𝑝\n",
        "𝑦\n",
        "(\n",
        "𝑝\n",
        "𝑎\n",
        "𝑟\n",
        "𝑒\n",
        "𝑛\n",
        "𝑡\n",
        ")\n",
        "−\n",
        "∑\n",
        "𝑗\n",
        "=\n",
        "1\n",
        "𝑘\n",
        "𝑁\n",
        "𝑗\n",
        "𝑁\n",
        "×\n",
        "𝐸\n",
        "𝑛\n",
        "𝑡\n",
        "𝑟\n",
        "𝑜\n",
        "𝑝\n",
        "𝑦\n",
        "(\n",
        "𝑐\n",
        "ℎ\n",
        "𝑖\n",
        "𝑙\n",
        "𝑑\n",
        "𝑗\n",
        ")\n",
        "IG=Entropy(parent)−\n",
        "j=1\n",
        "∑\n",
        "k\n",
        "​\n",
        "  \n",
        "N\n",
        "N\n",
        "j\n",
        "​\n",
        "\n",
        "​\n",
        " ×Entropy(child\n",
        "j\n",
        "​\n",
        " )\n",
        "where:\n",
        "\n",
        "𝑁\n",
        "N is the total number of samples,\n",
        "𝑁\n",
        "𝑗\n",
        "N\n",
        "j\n",
        "​\n",
        "  is the number of samples in child node\n",
        "𝑗\n",
        "j.\n",
        "The feature with the highest IG is chosen for splitting the node."
      ],
      "metadata": {
        "id": "bimtKoViIC9H"
      }
    },
    {
      "cell_type": "markdown",
      "source": [
        "# 6. What is the difference between Gini Impurity and Entropy?"
      ],
      "metadata": {
        "id": "iGIefCk2IUMJ"
      }
    },
    {
      "cell_type": "markdown",
      "source": [
        "![image.png](data:image/png;base64,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)"
      ],
      "metadata": {
        "id": "e8s7FNMcIYvI"
      }
    },
    {
      "cell_type": "markdown",
      "source": [
        "# Q 7. What is the mathematical explanation behind Decision Trees?\n",
        "Mathematically, a Decision Tree constructs a function\n",
        "𝑓\n",
        ":\n",
        "𝑋\n",
        "→\n",
        "𝑌\n",
        "f:X→Y that maps input features (\n",
        "𝑋\n",
        "X) to target values (\n",
        "𝑌\n",
        "Y).\n",
        "The process involves:\n",
        "\n",
        "Finding the best split using impurity measures.\n",
        "Recursive partitioning of the data into child nodes.\n",
        "Stopping criteria like reaching max depth or pure nodes.\n",
        "Prediction function:\n",
        "Classification:\n",
        "𝑦\n",
        "=\n",
        "arg\n",
        "⁡\n",
        "max\n",
        "⁡\n",
        "(\n",
        "𝑝\n",
        "𝑖\n",
        ")\n",
        "y=argmax(p\n",
        "i\n",
        "​\n",
        " ) (most frequent class).\n",
        "Regression:\n",
        "𝑦\n",
        "=\n",
        "mean\n",
        "(\n",
        "𝑦\n",
        "𝑖\n",
        ")\n",
        "y=mean(y\n",
        "i\n",
        "​\n",
        " ) (average of leaf node values)."
      ],
      "metadata": {
        "id": "c3csFxagInw_"
      }
    },
    {
      "cell_type": "markdown",
      "source": [
        "# Q 8. What is Pre-Pruning in Decision Trees?\n",
        "Pre-pruning stops tree growth early to prevent overfitting using conditions like:\n",
        "\n",
        "Maximum depth of the tree.\n",
        "Minimum samples required for a split.\n",
        "Minimum information gain threshold.\n",
        "It prevents the tree from becoming too complex but may lead to underfittin"
      ],
      "metadata": {
        "id": "sv5ya4wSIwfL"
      }
    },
    {
      "cell_type": "markdown",
      "source": [
        "# Q 9. What is Post-Pruning in Decision Trees?\n",
        "Post-pruning allows the tree to grow fully and then removes branches that do not improve generalization. Common methods:\n",
        "\n",
        "Reduced Error Pruning: Prune branches that do not improve accuracy on validation data.\n",
        "Cost Complexity Pruning: Uses a penalty term to remove less significant branches.\n",
        "It balances overfitting and underfitting better than pre-pruning."
      ],
      "metadata": {
        "id": "B-o35_13I9tp"
      }
    },
    {
      "cell_type": "markdown",
      "source": [
        "# Q 10 10. What is the difference between Pre-Pruning and Post-Pruning?"
      ],
      "metadata": {
        "id": "XCw2Y9BwJEPr"
      }
    },
    {
      "cell_type": "markdown",
      "source": [
        "![image.png](data:image/png;base64,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)"
      ],
      "metadata": {
        "id": "7nZMnnDUJIyB"
      }
    },
    {
      "cell_type": "markdown",
      "source": [
        "# Q 11 11. What is a Decision Tree Regressor?\n",
        "A Decision Tree Regressor is used for regression tasks where the target is continuous. Instead of class labels, the tree predicts the mean (or weighted mean) of target values in a leaf node."
      ],
      "metadata": {
        "id": "hywSw-Y6JNxJ"
      }
    },
    {
      "cell_type": "markdown",
      "source": [
        "# Q 12. What are the advantages and disadvantages of Decision Trees?\n",
        "Advantages\n",
        "✅ Easy to interpret and visualize.\n",
        "✅ Handles both numerical and categorical data.\n",
        "✅ Requires minimal preprocessing.\n",
        "✅ Can model complex relationships.\n",
        "\n",
        "Disadvantages\n",
        "❌ Prone to overfitting (especially deep trees).\n",
        "❌ Sensitive to small data changes.\n",
        "❌ Greedy nature may not find the best global split."
      ],
      "metadata": {
        "id": "eljnruDHJYF1"
      }
    },
    {
      "cell_type": "markdown",
      "source": [
        "# Q 13 13. How does a Decision Tree handle missing values?\n",
        "Uses surrogate splits, choosing an alternative feature when the main splitting feature is missing.\n",
        "\n",
        "Assigns missing values based on the majority class (for classification) or mean value (for regression).\n",
        "\n",
        "Uses probabilistic splitting based on observed frequencies.\n"
      ],
      "metadata": {
        "id": "jKMQph3RJhBS"
      }
    },
    {
      "cell_type": "markdown",
      "source": [
        "# Q 14 14. How does a Decision Tree handle categorical features?\n",
        "\n",
        "If categories are ordinal, they are treated as numerical values.\n",
        "\n",
        "If categorical, it performs one-hot encoding or finds the best split based on impurity reduction.\n",
        "\n",
        "Some implementations (e.g., CART) use binary splits, while others (e.g., ID3) handle multiway splits directly."
      ],
      "metadata": {
        "id": "qLkmzM4yJp4p"
      }
    },
    {
      "cell_type": "markdown",
      "source": [
        "# **bold text** Q 15. What are some real-world applications of Decision Trees?\n",
        "Medical Diagnosis: Identifying diseases based on symptoms.\n",
        "Fraud Detection: Detecting fraudulent transactions in banking.\n",
        "Customer Segmentation: Classifying customers based on behavior.\n",
        "Spam Filtering: Identifying spam emails.\n",
        "Stock Market Analysis: Predicting stock price movements."
      ],
      "metadata": {
        "id": "aVdHdQHzJxJ5"
      }
    },
    {
      "cell_type": "markdown",
      "source": [
        "# Q 16 Train a Decision Tree Classifier on the Iris dataset and print model accurac"
      ],
      "metadata": {
        "id": "gMYqe3loLutw"
      }
    },
    {
      "cell_type": "code",
      "execution_count": 1,
      "metadata": {
        "colab": {
          "base_uri": "https://localhost:8080/"
        },
        "id": "Wvo_MM1sGRMC",
        "outputId": "5d422050-0640-4062-981b-6cde68cac5e8"
      },
      "outputs": [
        {
          "output_type": "stream",
          "name": "stdout",
          "text": [
            "Accuracy: 1.0\n"
          ]
        }
      ],
      "source": [
        "from sklearn.datasets import load_iris\n",
        "from sklearn.tree import DecisionTreeClassifier\n",
        "from sklearn.model_selection import train_test_split\n",
        "from sklearn.metrics import accuracy_score\n",
        "\n",
        "iris=load_iris()\n",
        "X_train,X_test,y_train,y_test=train_test_split(iris.data,iris.target,test_size=0.2,random_state=42\n",
        "                                              )\n",
        "clf=DecisionTreeClassifier()\n",
        "clf.fit(X_train,y_train)\n",
        "y_pred=clf.predict(X_test)\n",
        "print(\"Accuracy:\",accuracy_score(y_test,y_pred))"
      ]
    },
    {
      "cell_type": "markdown",
      "source": [
        "# Q 17  Train a Decision Tree Classifier using Gini Impurity and print feature importances"
      ],
      "metadata": {
        "id": "UV20v7ODNsQY"
      }
    },
    {
      "cell_type": "code",
      "source": [
        "clf = DecisionTreeClassifier(criterion='gini')\n",
        "clf.fit(X_train, y_train)\n",
        "\n",
        "print(\"Feature Importances:\", clf.feature_importances_)\n"
      ],
      "metadata": {
        "colab": {
          "base_uri": "https://localhost:8080/"
        },
        "id": "dhI1yA3sNIYM",
        "outputId": "85ed9d53-5b7d-49e2-94e4-c3ae3ecd77ef"
      },
      "execution_count": 2,
      "outputs": [
        {
          "output_type": "stream",
          "name": "stdout",
          "text": [
            "Feature Importances: [0.         0.01667014 0.90614339 0.07718647]\n"
          ]
        }
      ]
    },
    {
      "cell_type": "markdown",
      "source": [
        "# Q 18 3. Train a Decision Tree Classifier using Entropy and print model accuracy"
      ],
      "metadata": {
        "id": "lsMh0XXHOJIL"
      }
    },
    {
      "cell_type": "code",
      "source": [
        "clf = DecisionTreeClassifier(criterion='entropy')\n",
        "clf.fit(X_train, y_train)\n",
        "\n",
        "y_pred = clf.predict(X_test)\n",
        "print(\"Accuracy:\", accuracy_score(y_test, y_pred))\n"
      ],
      "metadata": {
        "colab": {
          "base_uri": "https://localhost:8080/"
        },
        "id": "dSLqX1nbOAbB",
        "outputId": "9e39ac67-eb8d-4c7a-b6d6-73bc136e643b"
      },
      "execution_count": 3,
      "outputs": [
        {
          "output_type": "stream",
          "name": "stdout",
          "text": [
            "Accuracy: 1.0\n"
          ]
        }
      ]
    },
    {
      "cell_type": "markdown",
      "source": [
        "# Q 19  Train a Decision Tree Regressor on a housing dataset and evaluate using Mean Squared Error (MSE)"
      ],
      "metadata": {
        "id": "OMBu7GQDOOXo"
      }
    },
    {
      "cell_type": "code",
      "source": [
        "from sklearn.datasets import fetch_california_housing\n",
        "from sklearn.tree import DecisionTreeRegressor\n",
        "from sklearn.metrics import mean_squared_error\n",
        "\n",
        "housing = fetch_california_housing()\n",
        "X_train, X_test, y_train, y_test = train_test_split(housing.data, housing.target, test_size=0.2, random_state=42)\n",
        "\n",
        "regressor = DecisionTreeRegressor()\n",
        "regressor.fit(X_train, y_train)\n",
        "\n",
        "y_pred = regressor.predict(X_test)\n",
        "print(\"Mean Squared Error:\", mean_squared_error(y_test, y_pred))\n"
      ],
      "metadata": {
        "colab": {
          "base_uri": "https://localhost:8080/"
        },
        "id": "F73GWeAnOMoW",
        "outputId": "663218e4-364c-4101-d9f1-5a986b41924e"
      },
      "execution_count": 4,
      "outputs": [
        {
          "output_type": "stream",
          "name": "stdout",
          "text": [
            "Mean Squared Error: 0.510863456331468\n"
          ]
        }
      ]
    },
    {
      "cell_type": "markdown",
      "source": [
        "# Q 20  Train a Decision Tree Classifier and visualize the tree using graphviz"
      ],
      "metadata": {
        "id": "LN5JFK_XOXQG"
      }
    },
    {
      "cell_type": "code",
      "source": [
        "from sklearn.tree import export_graphviz\n",
        "import graphviz\n",
        "\n",
        "dot_data = export_graphviz(clf, out_file=None, feature_names=iris.feature_names, class_names=iris.target_names, filled=True)\n",
        "graph = graphviz.Source(dot_data)\n",
        "graph.render(\"decision_tree\")  # Saves the tree as a file\n",
        "graph.view()\n"
      ],
      "metadata": {
        "colab": {
          "base_uri": "https://localhost:8080/",
          "height": 36
        },
        "id": "L89dulvsOTU9",
        "outputId": "ea559b0e-1648-4a9b-a3ed-29c435ffea7d"
      },
      "execution_count": 5,
      "outputs": [
        {
          "output_type": "execute_result",
          "data": {
            "text/plain": [
              "'decision_tree.pdf'"
            ],
            "application/vnd.google.colaboratory.intrinsic+json": {
              "type": "string"
            }
          },
          "metadata": {},
          "execution_count": 5
        }
      ]
    },
    {
      "cell_type": "markdown",
      "source": [
        "# Q 21 6. Train a Decision Tree Classifier with max depth of 3 and compare accuracy with a fully grown tree"
      ],
      "metadata": {
        "id": "WfVNo4wIOibc"
      }
    },
    {
      "cell_type": "code",
      "source": [
        "clf_limited = DecisionTreeClassifier(max_depth=3)\n",
        "clf_limited.fit(X_train, y_train)\n",
        "y_pred_limited = clf_limited.predict(X_test)\n",
        "\n",
        "print(\"Accuracy (max_depth=3):\", accuracy_score(y_test, y_pred_limited))\n",
        "print(\"Accuracy (fully grown):\", accuracy_score(y_test, clf.predict(X_test)))\n"
      ],
      "metadata": {
        "colab": {
          "base_uri": "https://localhost:8080/",
          "height": 356
        },
        "id": "eKRn5XDSOaxV",
        "outputId": "b9e2bcf8-54d1-4d41-9f33-f4fd9b8f8ae1"
      },
      "execution_count": 6,
      "outputs": [
        {
          "output_type": "error",
          "ename": "ValueError",
          "evalue": "Unknown label type: continuous. Maybe you are trying to fit a classifier, which expects discrete classes on a regression target with continuous values.",
          "traceback": [
            "\u001b[0;31m---------------------------------------------------------------------------\u001b[0m",
            "\u001b[0;31mValueError\u001b[0m                                Traceback (most recent call last)",
            "\u001b[0;32m<ipython-input-6-3144d66ddd4d>\u001b[0m in \u001b[0;36m<cell line: 0>\u001b[0;34m()\u001b[0m\n\u001b[1;32m      1\u001b[0m \u001b[0mclf_limited\u001b[0m \u001b[0;34m=\u001b[0m \u001b[0mDecisionTreeClassifier\u001b[0m\u001b[0;34m(\u001b[0m\u001b[0mmax_depth\u001b[0m\u001b[0;34m=\u001b[0m\u001b[0;36m3\u001b[0m\u001b[0;34m)\u001b[0m\u001b[0;34m\u001b[0m\u001b[0;34m\u001b[0m\u001b[0m\n\u001b[0;32m----> 2\u001b[0;31m \u001b[0mclf_limited\u001b[0m\u001b[0;34m.\u001b[0m\u001b[0mfit\u001b[0m\u001b[0;34m(\u001b[0m\u001b[0mX_train\u001b[0m\u001b[0;34m,\u001b[0m \u001b[0my_train\u001b[0m\u001b[0;34m)\u001b[0m\u001b[0;34m\u001b[0m\u001b[0;34m\u001b[0m\u001b[0m\n\u001b[0m\u001b[1;32m      3\u001b[0m \u001b[0my_pred_limited\u001b[0m \u001b[0;34m=\u001b[0m \u001b[0mclf_limited\u001b[0m\u001b[0;34m.\u001b[0m\u001b[0mpredict\u001b[0m\u001b[0;34m(\u001b[0m\u001b[0mX_test\u001b[0m\u001b[0;34m)\u001b[0m\u001b[0;34m\u001b[0m\u001b[0;34m\u001b[0m\u001b[0m\n\u001b[1;32m      4\u001b[0m \u001b[0;34m\u001b[0m\u001b[0m\n\u001b[1;32m      5\u001b[0m \u001b[0mprint\u001b[0m\u001b[0;34m(\u001b[0m\u001b[0;34m\"Accuracy (max_depth=3):\"\u001b[0m\u001b[0;34m,\u001b[0m \u001b[0maccuracy_score\u001b[0m\u001b[0;34m(\u001b[0m\u001b[0my_test\u001b[0m\u001b[0;34m,\u001b[0m \u001b[0my_pred_limited\u001b[0m\u001b[0;34m)\u001b[0m\u001b[0;34m)\u001b[0m\u001b[0;34m\u001b[0m\u001b[0;34m\u001b[0m\u001b[0m\n",
            "\u001b[0;32m/usr/local/lib/python3.11/dist-packages/sklearn/base.py\u001b[0m in \u001b[0;36mwrapper\u001b[0;34m(estimator, *args, **kwargs)\u001b[0m\n\u001b[1;32m   1387\u001b[0m                 )\n\u001b[1;32m   1388\u001b[0m             ):\n\u001b[0;32m-> 1389\u001b[0;31m                 \u001b[0;32mreturn\u001b[0m \u001b[0mfit_method\u001b[0m\u001b[0;34m(\u001b[0m\u001b[0mestimator\u001b[0m\u001b[0;34m,\u001b[0m \u001b[0;34m*\u001b[0m\u001b[0margs\u001b[0m\u001b[0;34m,\u001b[0m \u001b[0;34m**\u001b[0m\u001b[0mkwargs\u001b[0m\u001b[0;34m)\u001b[0m\u001b[0;34m\u001b[0m\u001b[0;34m\u001b[0m\u001b[0m\n\u001b[0m\u001b[1;32m   1390\u001b[0m \u001b[0;34m\u001b[0m\u001b[0m\n\u001b[1;32m   1391\u001b[0m         \u001b[0;32mreturn\u001b[0m \u001b[0mwrapper\u001b[0m\u001b[0;34m\u001b[0m\u001b[0;34m\u001b[0m\u001b[0m\n",
            "\u001b[0;32m/usr/local/lib/python3.11/dist-packages/sklearn/tree/_classes.py\u001b[0m in \u001b[0;36mfit\u001b[0;34m(self, X, y, sample_weight, check_input)\u001b[0m\n\u001b[1;32m   1022\u001b[0m         \"\"\"\n\u001b[1;32m   1023\u001b[0m \u001b[0;34m\u001b[0m\u001b[0m\n\u001b[0;32m-> 1024\u001b[0;31m         super()._fit(\n\u001b[0m\u001b[1;32m   1025\u001b[0m             \u001b[0mX\u001b[0m\u001b[0;34m,\u001b[0m\u001b[0;34m\u001b[0m\u001b[0;34m\u001b[0m\u001b[0m\n\u001b[1;32m   1026\u001b[0m             \u001b[0my\u001b[0m\u001b[0;34m,\u001b[0m\u001b[0;34m\u001b[0m\u001b[0;34m\u001b[0m\u001b[0m\n",
            "\u001b[0;32m/usr/local/lib/python3.11/dist-packages/sklearn/tree/_classes.py\u001b[0m in \u001b[0;36m_fit\u001b[0;34m(self, X, y, sample_weight, check_input, missing_values_in_feature_mask)\u001b[0m\n\u001b[1;32m    292\u001b[0m \u001b[0;34m\u001b[0m\u001b[0m\n\u001b[1;32m    293\u001b[0m         \u001b[0;32mif\u001b[0m \u001b[0mis_classification\u001b[0m\u001b[0;34m:\u001b[0m\u001b[0;34m\u001b[0m\u001b[0;34m\u001b[0m\u001b[0m\n\u001b[0;32m--> 294\u001b[0;31m             \u001b[0mcheck_classification_targets\u001b[0m\u001b[0;34m(\u001b[0m\u001b[0my\u001b[0m\u001b[0;34m)\u001b[0m\u001b[0;34m\u001b[0m\u001b[0;34m\u001b[0m\u001b[0m\n\u001b[0m\u001b[1;32m    295\u001b[0m             \u001b[0my\u001b[0m \u001b[0;34m=\u001b[0m \u001b[0mnp\u001b[0m\u001b[0;34m.\u001b[0m\u001b[0mcopy\u001b[0m\u001b[0;34m(\u001b[0m\u001b[0my\u001b[0m\u001b[0;34m)\u001b[0m\u001b[0;34m\u001b[0m\u001b[0;34m\u001b[0m\u001b[0m\n\u001b[1;32m    296\u001b[0m \u001b[0;34m\u001b[0m\u001b[0m\n",
            "\u001b[0;32m/usr/local/lib/python3.11/dist-packages/sklearn/utils/multiclass.py\u001b[0m in \u001b[0;36mcheck_classification_targets\u001b[0;34m(y)\u001b[0m\n\u001b[1;32m    220\u001b[0m         \u001b[0;34m\"multilabel-sequences\"\u001b[0m\u001b[0;34m,\u001b[0m\u001b[0;34m\u001b[0m\u001b[0;34m\u001b[0m\u001b[0m\n\u001b[1;32m    221\u001b[0m     ]:\n\u001b[0;32m--> 222\u001b[0;31m         raise ValueError(\n\u001b[0m\u001b[1;32m    223\u001b[0m             \u001b[0;34mf\"Unknown label type: {y_type}. Maybe you are trying to fit a \"\u001b[0m\u001b[0;34m\u001b[0m\u001b[0;34m\u001b[0m\u001b[0m\n\u001b[1;32m    224\u001b[0m             \u001b[0;34m\"classifier, which expects discrete classes on a \"\u001b[0m\u001b[0;34m\u001b[0m\u001b[0;34m\u001b[0m\u001b[0m\n",
            "\u001b[0;31mValueError\u001b[0m: Unknown label type: continuous. Maybe you are trying to fit a classifier, which expects discrete classes on a regression target with continuous values."
          ]
        }
      ]
    },
    {
      "cell_type": "markdown",
      "source": [
        "# Q 22 7. Train a Decision Tree Classifier using min_samples_split=5 and compare accuracy"
      ],
      "metadata": {
        "id": "NcJhxXa0Our5"
      }
    },
    {
      "cell_type": "code",
      "source": [
        "from sklearn.datasets import load_iris\n",
        "from sklearn.tree import DecisionTreeClassifier\n",
        "from sklearn.model_selection import train_test_split\n",
        "from sklearn.metrics import accuracy_score\n",
        "\n",
        "# Load dataset\n",
        "iris = load_iris()\n",
        "X_train, X_test, y_train, y_test = train_test_split(iris.data, iris.target, test_size=0.2, random_state=42)\n",
        "\n",
        "# Train Decision Tree with min_samples_split=5\n",
        "clf_split = DecisionTreeClassifier(min_samples_split=5, random_state=42)\n",
        "clf_split.fit(X_train, y_train)\n",
        "y_pred_split = clf_split.predict(X_test)\n",
        "\n",
        "# Train a default Decision Tree\n",
        "clf_default = DecisionTreeClassifier(random_state=42)\n",
        "clf_default.fit(X_train, y_train)\n",
        "y_pred_default = clf_default.predict(X_test)\n",
        "\n",
        "# Print accuracies\n",
        "print(\"Accuracy with min_samples_split=5:\", accuracy_score(y_test, y_pred_split))\n",
        "print(\"Accuracy with default tree:\", accuracy_score(y_test, y_pred_default))\n"
      ],
      "metadata": {
        "colab": {
          "base_uri": "https://localhost:8080/"
        },
        "id": "HA1AUzRIOnbF",
        "outputId": "367cdad1-2b09-488f-b1be-b7e9dd564e80"
      },
      "execution_count": 9,
      "outputs": [
        {
          "output_type": "stream",
          "name": "stdout",
          "text": [
            "Accuracy with min_samples_split=5: 1.0\n",
            "Accuracy with default tree: 1.0\n"
          ]
        }
      ]
    },
    {
      "cell_type": "markdown",
      "source": [
        "# Q 23 8. Apply feature scaling before training a Decision Tree Classifier and compare accuracy"
      ],
      "metadata": {
        "id": "N2CAjw3QO6m4"
      }
    },
    {
      "cell_type": "code",
      "source": [
        "from sklearn.datasets import load_iris\n",
        "from sklearn.model_selection import train_test_split\n",
        "from sklearn.preprocessing import StandardScaler\n",
        "from sklearn.tree import DecisionTreeClassifier\n",
        "from sklearn.metrics import accuracy_score\n",
        "\n",
        "# Load the Iris dataset\n",
        "iris = load_iris()\n",
        "X, y = iris.data, iris.target\n",
        "\n",
        "# Split the data into training and testing sets\n",
        "X_train, X_test, y_train, y_test = train_test_split(\n",
        "    X, y, test_size=0.2, random_state=42\n",
        ")\n",
        "\n",
        "# --- Without Feature Scaling ---\n",
        "clf_unscaled = DecisionTreeClassifier(random_state=42)\n",
        "clf_unscaled.fit(X_train, y_train)\n",
        "y_pred_unscaled = clf_unscaled.predict(X_test)\n",
        "accuracy_unscaled = accuracy_score(y_test, y_pred_unscaled)\n",
        "\n",
        "# --- With Feature Scaling ---\n",
        "scaler = StandardScaler()\n",
        "X_train_scaled = scaler.fit_transform(X_train)\n",
        "X_test_scaled = scaler.transform(X_test)\n",
        "\n",
        "clf_scaled = DecisionTreeClassifier(random_state=42)\n",
        "clf_scaled.fit(X_train_scaled, y_train)\n",
        "y_pred_scaled = clf_scaled.predict(X_test_scaled)\n",
        "accuracy_scaled = accuracy_score(y_test, y_pred_scaled)\n",
        "\n",
        "# Print out the results\n",
        "print(\"Accuracy without scaling:\", accuracy_unscaled)\n",
        "print(\"Accuracy with scaling:\", accuracy_scaled)\n"
      ],
      "metadata": {
        "colab": {
          "base_uri": "https://localhost:8080/"
        },
        "id": "094ke20GOxRa",
        "outputId": "6199defa-fe2b-4585-c20a-c98adfcdf410"
      },
      "execution_count": 10,
      "outputs": [
        {
          "output_type": "stream",
          "name": "stdout",
          "text": [
            "Accuracy without scaling: 1.0\n",
            "Accuracy with scaling: 1.0\n"
          ]
        }
      ]
    },
    {
      "cell_type": "markdown",
      "source": [
        "# Q 24 9. Train a Decision Tree Classifier using One-vs-Rest (OvR) strategy"
      ],
      "metadata": {
        "id": "uA6WI0kfP2nf"
      }
    },
    {
      "cell_type": "code",
      "source": [
        "from sklearn.multiclass import OneVsRestClassifier\n",
        "\n",
        "ovr_clf = OneVsRestClassifier(DecisionTreeClassifier())\n",
        "ovr_clf.fit(X_train, y_train)\n",
        "\n",
        "print(\"Accuracy (OvR strategy):\", accuracy_score(y_test, ovr_clf.predict(X_test)))\n"
      ],
      "metadata": {
        "colab": {
          "base_uri": "https://localhost:8080/"
        },
        "id": "UCg2Zw0JO9VR",
        "outputId": "d84f888d-dbb6-453a-944d-5d91e53433f8"
      },
      "execution_count": 11,
      "outputs": [
        {
          "output_type": "stream",
          "name": "stdout",
          "text": [
            "Accuracy (OvR strategy): 1.0\n"
          ]
        }
      ]
    },
    {
      "cell_type": "markdown",
      "source": [
        "# Q 25 10. Train a Decision Tree Classifier and display feature importance scores"
      ],
      "metadata": {
        "id": "8T2Z-dLlQA09"
      }
    },
    {
      "cell_type": "code",
      "source": [
        "from sklearn.datasets import load_iris\n",
        "from sklearn.tree import DecisionTreeClassifier\n",
        "from sklearn.model_selection import train_test_split\n",
        "\n",
        "# Load the Iris dataset\n",
        "iris = load_iris()\n",
        "X = iris.data\n",
        "y = iris.target\n",
        "\n",
        "# Split the dataset into training and testing sets (80% train, 20% test)\n",
        "X_train, X_test, y_train, y_test = train_test_split(\n",
        "    X, y, test_size=0.2, random_state=42\n",
        ")\n",
        "\n",
        "# Train the Decision Tree Classifier\n",
        "clf = DecisionTreeClassifier(random_state=42)\n",
        "clf.fit(X_train, y_train)\n",
        "\n",
        "# Get the feature importance scores from the trained model\n",
        "importances = clf.feature_importances_\n",
        "\n",
        "# Display the feature importance scores alongside the feature names\n",
        "print(\"Feature Importance Scores:\")\n",
        "for feature_name, importance in zip(iris.feature_names, importances):\n",
        "    print(f\"{feature_name}: {importance:.4f}\")\n"
      ],
      "metadata": {
        "colab": {
          "base_uri": "https://localhost:8080/"
        },
        "id": "AyXPammKP6Aj",
        "outputId": "c0a83310-fce3-4c84-f206-c5558a587e20"
      },
      "execution_count": 13,
      "outputs": [
        {
          "output_type": "stream",
          "name": "stdout",
          "text": [
            "Feature Importance Scores:\n",
            "sepal length (cm): 0.0000\n",
            "sepal width (cm): 0.0167\n",
            "petal length (cm): 0.9061\n",
            "petal width (cm): 0.0772\n"
          ]
        }
      ]
    },
    {
      "cell_type": "markdown",
      "source": [
        "# Q 26 11. Train a Decision Tree Regressor with max_depth=5 and compare performance with unrestricted tree"
      ],
      "metadata": {
        "id": "2bhYAczvQRRf"
      }
    },
    {
      "cell_type": "code",
      "source": [
        "from sklearn.datasets import fetch_california_housing\n",
        "from sklearn.tree import DecisionTreeRegressor\n",
        "from sklearn.model_selection import train_test_split\n",
        "from sklearn.metrics import mean_squared_error\n",
        "\n",
        "# Load the California Housing dataset\n",
        "housing = fetch_california_housing()\n",
        "X = housing.data\n",
        "y = housing.target\n",
        "\n",
        "# Split the data into training and testing sets (80% train, 20% test)\n",
        "X_train, X_test, y_train, y_test = train_test_split(\n",
        "    X, y, test_size=0.2, random_state=42\n",
        ")\n",
        "\n",
        "# --- Fully grown (unrestricted) Decision Tree Regressor ---\n",
        "regressor_full = DecisionTreeRegressor(random_state=42)\n",
        "regressor_full.fit(X_train, y_train)\n",
        "y_pred_full = regressor_full.predict(X_test)\n",
        "mse_full = mean_squared_error(y_test, y_pred_full)\n",
        "\n",
        "# --- Decision Tree Regressor with max_depth=5 ---\n",
        "regressor_limited = DecisionTreeRegressor(max_depth=5, random_state=42)\n",
        "regressor_limited.fit(X_train, y_train)\n",
        "y_pred_limited = regressor_limited.predict(X_test)\n",
        "mse_limited = mean_squared_error(y_test, y_pred_limited)\n",
        "\n",
        "# Print the Mean Squared Error for both models\n",
        "print(\"MSE (fully grown tree):\", mse_full)\n",
        "print(\"MSE (max_depth=5):\", mse_limited)\n"
      ],
      "metadata": {
        "colab": {
          "base_uri": "https://localhost:8080/"
        },
        "id": "ES4ulP2aQEW4",
        "outputId": "28adc485-717e-408e-cfe3-5499de39d149"
      },
      "execution_count": 15,
      "outputs": [
        {
          "output_type": "stream",
          "name": "stdout",
          "text": [
            "MSE (fully grown tree): 0.495235205629094\n",
            "MSE (max_depth=5): 0.5245146178314735\n"
          ]
        }
      ]
    },
    {
      "cell_type": "markdown",
      "source": [
        "# Q 27 12. Train a Decision Tree Classifier, apply Cost Complexity Pruning (CCP), and visualize effect"
      ],
      "metadata": {
        "id": "JX5lv2zSQ3Qz"
      }
    },
    {
      "cell_type": "code",
      "source": [
        "import matplotlib.pyplot as plt\n",
        "from sklearn.datasets import load_iris\n",
        "from sklearn.model_selection import train_test_split\n",
        "from sklearn.tree import DecisionTreeClassifier\n",
        "\n",
        "# Load the Iris dataset (a classification dataset with discrete labels)\n",
        "iris = load_iris()\n",
        "X, y = iris.data, iris.target\n",
        "\n",
        "# Split the dataset into training and testing sets\n",
        "X_train, X_test, y_train, y_test = train_test_split(\n",
        "    X, y, test_size=0.2, random_state=42\n",
        ")\n",
        "\n",
        "# Train an initial (unpruned) Decision Tree Classifier\n",
        "clf = DecisionTreeClassifier(random_state=42)\n",
        "clf.fit(X_train, y_train)\n",
        "\n",
        "# Compute the cost complexity pruning path\n",
        "# This returns effective alphas and the corresponding total impurity of the subtree at that alpha\n",
        "path = clf.cost_complexity_pruning_path(X_train, y_train)\n",
        "ccp_alphas = path.ccp_alphas[:-1]  # Exclude the maximum alpha that prunes the tree to a root node\n",
        "\n",
        "# Train pruned trees for each value of ccp_alpha and record their accuracy on the test set\n",
        "accuracies = []\n",
        "for ccp_alpha in ccp_alphas:\n",
        "    clf_pruned = DecisionTreeClassifier(random_state=42, ccp_alpha=ccp_alpha)\n",
        "    clf_pruned.fit(X_train, y_train)\n",
        "    acc = clf_pruned.score(X_test, y_test)\n",
        "    accuracies.append(acc)\n",
        "\n",
        "# Visualize the effect of CCP alpha on test accuracy\n",
        "plt.figure(figsize=(10, 6))\n",
        "plt.plot(ccp_alphas, accuracies, marker='o', drawstyle=\"steps-post\")\n",
        "plt.xlabel(\"ccp_alpha\")\n",
        "plt.ylabel(\"Test Accuracy\")\n",
        "plt.title(\"Effect of Cost Complexity Pruning on Accuracy\")\n",
        "plt.show()\n"
      ],
      "metadata": {
        "colab": {
          "base_uri": "https://localhost:8080/",
          "height": 564
        },
        "id": "nQyZ4y9EQabm",
        "outputId": "9e4eebed-f9f0-46d7-dce2-b700cfdddbc6"
      },
      "execution_count": 17,
      "outputs": [
        {
          "output_type": "display_data",
          "data": {
            "text/plain": [
              "<Figure size 1000x600 with 1 Axes>"
            ],
            "image/png": "[encoded data removed]"
          },
          "metadata": {}
        }
      ]
    },
    {
      "cell_type": "markdown",
      "source": [
        "# Q 28 13. Train a Decision Tree Classifier and evaluate using Precision, Recall, and F1-Score"
      ],
      "metadata": {
        "id": "thyLbG9lRKve"
      }
    },
    {
      "cell_type": "code",
      "source": [
        "from sklearn.metrics import classification_report\n",
        "\n",
        "y_pred = clf.predict(X_test)\n",
        "print(classification_report(y_test, y_pred))\n"
      ],
      "metadata": {
        "colab": {
          "base_uri": "https://localhost:8080/"
        },
        "id": "_LmzarggQ7sS",
        "outputId": "7f1f6fd5-04b4-4007-b3b2-19b29fc4b48d"
      },
      "execution_count": 18,
      "outputs": [
        {
          "output_type": "stream",
          "name": "stdout",
          "text": [
            "              precision    recall  f1-score   support\n",
            "\n",
            "           0       1.00      1.00      1.00        10\n",
            "           1       1.00      1.00      1.00         9\n",
            "           2       1.00      1.00      1.00        11\n",
            "\n",
            "    accuracy                           1.00        30\n",
            "   macro avg       1.00      1.00      1.00        30\n",
            "weighted avg       1.00      1.00      1.00        30\n",
            "\n"
          ]
        }
      ]
    },
    {
      "cell_type": "markdown",
      "source": [
        "# Q 29 . Train a Decision Tree Classifier and visualize the confusion matrix using seaborn"
      ],
      "metadata": {
        "id": "Vcx5xuxlRQY3"
      }
    },
    {
      "cell_type": "code",
      "source": [
        "import seaborn as sns\n",
        "from sklearn.metrics import confusion_matrix\n",
        "import matplotlib.pyplot as plt\n",
        "\n",
        "cm = confusion_matrix(y_test, y_pred)\n",
        "sns.heatmap(cm, annot=True, fmt=\"d\", cmap=\"Blues\", xticklabels=iris.target_names, yticklabels=iris.target_names)\n",
        "plt.xlabel(\"Predicted\")\n",
        "plt.ylabel(\"Actual\")\n",
        "plt.title(\"Confusion Matrix\")\n",
        "plt.show()\n"
      ],
      "metadata": {
        "colab": {
          "base_uri": "https://localhost:8080/",
          "height": 472
        },
        "id": "VZWiK4s6ROtp",
        "outputId": "e181bc76-54c1-491e-a4d1-a2c8d5d9fc9b"
      },
      "execution_count": 19,
      "outputs": [
        {
          "output_type": "display_data",
          "data": {
            "text/plain": [
              "<Figure size 640x480 with 2 Axes>"
            ],
            "image/png": "[encoded data removed]"
          },
          "metadata": {}
        }
      ]
    },
    {
      "cell_type": "markdown",
      "source": [
        "# Q 30  Train a Decision Tree Classifier and use GridSearchCV to find optimal hyperparameters"
      ],
      "metadata": {
        "id": "vNp8nq6vSH8E"
      }
    },
    {
      "cell_type": "code",
      "source": [
        "from sklearn.model_selection import GridSearchCV\n",
        "\n",
        "param_grid = {\n",
        "    \"max_depth\": [3, 5, 10, None],\n",
        "    \"min_samples_split\": [2, 5, 10]\n",
        "}\n",
        "\n",
        "grid_search = GridSearchCV(DecisionTreeClassifier(), param_grid, cv=5)\n",
        "grid_search.fit(X_train, y_train)\n",
        "\n",
        "print(\"Best Parameters:\", grid_search.best_params_)\n",
        "print(\"Best Accuracy:\", grid_search.best_score_)\n"
      ],
      "metadata": {
        "colab": {
          "base_uri": "https://localhost:8080/",
          "height": 211
        },
        "id": "7UiKeo8cRU2F",
        "outputId": "4007fc37-8a38-4f76-ea81-aa94e8f40e0a"
      },
      "execution_count": 1,
      "outputs": [
        {
          "output_type": "error",
          "ename": "NameError",
          "evalue": "name 'DecisionTreeClassifier' is not defined",
          "traceback": [
            "\u001b[0;31m---------------------------------------------------------------------------\u001b[0m",
            "\u001b[0;31mNameError\u001b[0m                                 Traceback (most recent call last)",
            "\u001b[0;32m<ipython-input-1-cc92af908a9a>\u001b[0m in \u001b[0;36m<cell line: 0>\u001b[0;34m()\u001b[0m\n\u001b[1;32m      6\u001b[0m }\n\u001b[1;32m      7\u001b[0m \u001b[0;34m\u001b[0m\u001b[0m\n\u001b[0;32m----> 8\u001b[0;31m \u001b[0mgrid_search\u001b[0m \u001b[0;34m=\u001b[0m \u001b[0mGridSearchCV\u001b[0m\u001b[0;34m(\u001b[0m\u001b[0mDecisionTreeClassifier\u001b[0m\u001b[0;34m(\u001b[0m\u001b[0;34m)\u001b[0m\u001b[0;34m,\u001b[0m \u001b[0mparam_grid\u001b[0m\u001b[0;34m,\u001b[0m \u001b[0mcv\u001b[0m\u001b[0;34m=\u001b[0m\u001b[0;36m5\u001b[0m\u001b[0;34m)\u001b[0m\u001b[0;34m\u001b[0m\u001b[0;34m\u001b[0m\u001b[0m\n\u001b[0m\u001b[1;32m      9\u001b[0m \u001b[0mgrid_search\u001b[0m\u001b[0;34m.\u001b[0m\u001b[0mfit\u001b[0m\u001b[0;34m(\u001b[0m\u001b[0mX_train\u001b[0m\u001b[0;34m,\u001b[0m \u001b[0my_train\u001b[0m\u001b[0;34m)\u001b[0m\u001b[0;34m\u001b[0m\u001b[0;34m\u001b[0m\u001b[0m\n\u001b[1;32m     10\u001b[0m \u001b[0;34m\u001b[0m\u001b[0m\n",
            "\u001b[0;31mNameError\u001b[0m: name 'DecisionTreeClassifier' is not defined"
          ]
        }
      ]
    },
    {
      "cell_type": "code",
      "source": [],
      "metadata": {
        "id": "iFVp7bDbADkx"
      },
      "execution_count": null,
      "outputs": []
    }
  ]
}